{
 "cells": [
  {
   "cell_type": "code",
   "execution_count": null,
   "metadata": {},
   "outputs": [],
   "source": [
    "%matplotlib inline\n",
    "import matplotlib.pyplot as plt\n",
    "import numpy as np\n",
    "import pandas as pd\n",
    "\n",
    "calendar_details = pd.read_csv('../notes/CourseProject/data/calendar_detail.csv',names = ['listing_id','date','available','price'],skiprows=1)\n",
    "listings_detail=pd.read_csv('../notes/CourseProject/data/listings_detail.csv',names=['id','listing_url','scrape_id','last_scraped','name','summary','space','description','experiences_offered','neighborhood_overview','notes','transit','access','interaction','house_rules','thumbnail_url','medium_url','picture_url','xl_picture_url','host_id','host_url','host_name','host_since','host_location','host_about','host_response_time','host_response_rate','host_acceptance_rate','host_is_superhost','host_thumbnail_url','host_picture_url','host_neighbourhood','host_listings_count','host_total_listings_count','host_verifications','host_has_profile_pic','host_identity_verified','street','neighbourhood','neighbourhood_cleansed','neighbourhood_group_cleansed','city','state','zipcode','market','smart_location','country_code','country','latitude','longitude','is_location_exact','property_type','room_type','accommodates','bathrooms','bedrooms','beds','bed_type','amenities','square_feet','price','weekly_price','monthly_price','security_deposit','cleaning_fee','guests_included','extra_people','minimum_nights','maximum_nights','calendar_updated','has_availability','availability_30','availability_60','availability_90','availability_365','calendar_last_scraped','number_of_reviews','first_review','last_review','review_scores_rating','review_scores_accuracy','review_scores_cleanliness','review_scores_checkin','review_scores_communication','review_scores_location','review_scores_value','requires_license','license','jurisdiction_names','instant_bookable','is_business_travel_ready','cancellation_policy','require_guest_profile_picture','require_guest_phone_verification','calculated_host_listings_count','reviews_per_month'],skiprows=1)\n",
    "neighbourhoods = pd.read_csv('../notes/CourseProject/data/neighbourhoods.csv',names = ['neighbourhood_group','neighbourhood'],skiprows=1)\n",
    "crime = pd.read_csv('../notes/CourseProject/data/NYPD_Arrests_Data__Historic_.csv',names = ['arrest_key','arrest_date','pd_cd','pd_desc','ky_cd','ofns_desc','law_code','law_cat_cd','arrest_boro','arrest_precinct','jurisdiction_code','age_group','perp_sex','perp_race','x_coord_cd','y_coord_cd','latitude','longitude'],skiprows=1)\n",
    "\n",
    "# I think the remaining datasets below are redundant since the same information is already in the detailed datasets above\n",
    "neighbourhoods = pd.read_csv('../notes/CourseProject/data/neighbourhoods.csv',names = ['neighbourhood_group','neighbourhood'],skiprows=1)\n",
    "listings_summary = pd.read_csv('../notes/CourseProject/data/listings_summary.csv',names = ['id','name','host_id','host_name','neighbourhood_group','neighbourhood','latitude','longitude','room_type','price','minimum_nights','number_of_reviews','last_review','reviews_per_month','calculated_host_listings_count','availability_365'],skiprows=1)\n",
    "reviews_summary = pd.read_csv('../notes/CourseProject/data/reviews_summary.csv',names = ['listing_id','date'],skiprows=1)\n"
   ]
  }
 ],
 "metadata": {
  "kernelspec": {
   "display_name": "Python 3",
   "language": "python",
   "name": "python3"
  },
  "language_info": {
   "codemirror_mode": {
    "name": "ipython",
    "version": 3
   },
   "file_extension": ".py",
   "mimetype": "text/x-python",
   "name": "python",
   "nbconvert_exporter": "python",
   "pygments_lexer": "ipython3",
   "version": "3.7.3"
  },
  "toc": {
   "base_numbering": 1,
   "nav_menu": {},
   "number_sections": true,
   "sideBar": true,
   "skip_h1_title": true,
   "title_cell": "Table of Contents",
   "title_sidebar": "Contents",
   "toc_cell": false,
   "toc_position": {},
   "toc_section_display": true,
   "toc_window_display": false
  }
 },
 "nbformat": 4,
 "nbformat_minor": 2
}
