{
 "cells": [
  {
   "cell_type": "code",
   "execution_count": null,
   "metadata": {},
   "outputs": [],
   "source": [
    "%matplotlib inline\n",
    "import matplotlib.pyplot as plt\n",
    "import numpy as np\n",
    "import pandas as pd\n",
    "\n",
    "ld = '../CourseProject/data/listings_detail.xlsx' \n",
    "listing_details = pd.read_excel(ld, index_col=0)\n",
    "cd = '../CourseProject/data/calendar_detail.xlsx' \n",
    "calendar_details = pd.read_excel(cd, index_col=0)\n",
    "n = '../CourseProject/data/neighbourhoods.xlsx' \n",
    "neighbourhoods = pd.read_excel(n, index_col=0)\n",
    "c = '../CourseProject/data/NYPD_Arrests_Data__Historic_.xlsx' \n",
    "crime = pd.read_excel(c, index_col=0)"
   ]
  }
 ],
 "metadata": {
  "kernelspec": {
   "display_name": "Python 3",
   "language": "python",
   "name": "python3"
  },
  "language_info": {
   "codemirror_mode": {
    "name": "ipython",
    "version": 3
   },
   "file_extension": ".py",
   "mimetype": "text/x-python",
   "name": "python",
   "nbconvert_exporter": "python",
   "pygments_lexer": "ipython3",
   "version": "3.7.3"
  },
  "toc": {
   "base_numbering": 1,
   "nav_menu": {},
   "number_sections": true,
   "sideBar": true,
   "skip_h1_title": true,
   "title_cell": "Table of Contents",
   "title_sidebar": "Contents",
   "toc_cell": false,
   "toc_position": {},
   "toc_section_display": true,
   "toc_window_display": false
  }
 },
 "nbformat": 4,
 "nbformat_minor": 2
}
