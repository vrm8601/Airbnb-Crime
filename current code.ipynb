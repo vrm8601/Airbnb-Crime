{
 "cells": [
  {
   "cell_type": "markdown",
   "metadata": {},
   "source": [
    "https://www.kaggle.com/geowiz34/maps-of-nyc-airbnbs-with-python\n",
    "https://www.kaggle.com/nidaguler/eda-and-data-visualization-ny-airbnb\n",
    "https://www.kaggle.com/aamodgarg1994/deep-learning"
   ]
  },
  {
   "cell_type": "markdown",
   "metadata": {},
   "source": [
    "### Read in Data"
   ]
  },
  {
   "cell_type": "code",
   "execution_count": 1,
   "metadata": {},
   "outputs": [],
   "source": [
    "%matplotlib inline\n",
    "import matplotlib.pyplot as plt\n",
    "import matplotlib as mpl\n",
    "import numpy as np\n",
    "import pandas as pd\n",
    "import geopandas as gpd\n",
    "import seaborn as sns\n",
    "import researchpy as rp\n",
    "\n",
    "from descartes.patch import PolygonPatch\n",
    "from mpl_toolkits.mplot3d import Axes3D\n",
    "from matplotlib.collections import PolyCollection\n",
    "from matplotlib.collections import PatchCollection"
   ]
  },
  {
   "cell_type": "code",
   "execution_count": 2,
   "metadata": {},
   "outputs": [],
   "source": [
    "listings_detail = pd.read_excel('../CourseProject/data/listings_detail.xlsx', index_col=0)\n",
    "calendar_detail = pd.read_excel('../CourseProject/data/calendar_detail.xlsx' , index_col=0)\n",
    "neighbourhoods = pd.read_excel('../CourseProject/data/neighbourhoods.xlsx', index_col=0)\n",
    "reviews = pd.read_excel('../CourseProject/data/reviews_detail.xlsx', index_col=0)\n",
    "crime = pd.read_excel('../CourseProject/data/NYPD_Arrests_Data__Historic_.xlsx', index_col=0)\n",
    "nbgeo = gpd.read_file('../CourseProject/data/neighbourhoods.geojson')\n",
    "ls=pd.read_csv('../CourseProject/data/listings_summary.csv', index_col=0)"
   ]
  },
  {
   "cell_type": "code",
   "execution_count": 121,
   "metadata": {},
   "outputs": [],
   "source": [
    "listings_detail = pd.read_excel('../CourseProject/data/listings_detail.xlsx', index_col=0)\n",
    "calendar_detail = pd.read_excel('../CourseProject/data/calendar_detail.xlsx' , index_col=0)\n",
    "ls=pd.read_csv('../CourseProject/data/listings_summary.csv', index_col=0)"
   ]
  },
  {
   "cell_type": "code",
   "execution_count": 21,
   "metadata": {},
   "outputs": [],
   "source": [
    "calendar_detail = pd.read_excel('../CourseProject/data/calendar_detail.xlsx' , index_col=0)"
   ]
  },
  {
   "cell_type": "markdown",
   "metadata": {},
   "source": [
    "### Data Cleaning\n",
    "There are many missing values which either need to be removed or estimated so that they do not affect our results"
   ]
  },
  {
   "cell_type": "code",
   "execution_count": 7,
   "metadata": {},
   "outputs": [
    {
     "name": "stdout",
     "output_type": "stream",
     "text": [
      "Number of records: 44317\n"
     ]
    }
   ],
   "source": [
    "#How many records we start with\n",
    "print(f'Number of records: {listings_detail.count()[0]}')"
   ]
  },
  {
   "cell_type": "code",
   "execution_count": 87,
   "metadata": {},
   "outputs": [
    {
     "data": {
      "text/plain": [
       "name                                28\n",
       "host_id                              0\n",
       "host_name                          232\n",
       "neighbourhood_group                  0\n",
       "neighbourhood                        0\n",
       "latitude                             0\n",
       "longitude                            0\n",
       "room_type                            0\n",
       "price                                0\n",
       "minimum_nights                       0\n",
       "number_of_reviews                    0\n",
       "last_review                       9440\n",
       "reviews_per_month                 9474\n",
       "calculated_host_listings_count       0\n",
       "availability_365                     0\n",
       "dtype: int64"
      ]
     },
     "execution_count": 87,
     "metadata": {},
     "output_type": "execute_result"
    }
   ],
   "source": [
    "#What is missing in listing summary?\n",
    "ls.isna().sum()"
   ]
  },
  {
   "cell_type": "markdown",
   "metadata": {},
   "source": [
    "No values that are essential to our analysis are missing in listing summary"
   ]
  },
  {
   "cell_type": "code",
   "execution_count": 100,
   "metadata": {
    "scrolled": true
   },
   "outputs": [
    {
     "data": {
      "text/plain": [
       "listing_url                         0    \n",
       "scrape_id                           0    \n",
       "last_scraped                        0    \n",
       "name                                39   \n",
       "summary                             1523 \n",
       "space                               14514\n",
       "description                         29   \n",
       "experiences_offered                 0    \n",
       "neighborhood_overview               18720\n",
       "notes                               28229\n",
       "transit                             16986\n",
       "access                              19127\n",
       "interaction                         19965\n",
       "house_rules                         19208\n",
       "thumbnail_url                       3305 \n",
       "medium_url                          3305 \n",
       "picture_url                         0    \n",
       "xl_picture_url                      3305 \n",
       "host_id                             0    \n",
       "host_url                            0    \n",
       "host_name                           232  \n",
       "host_since                          232  \n",
       "host_location                       406  \n",
       "host_about                          17224\n",
       "host_response_time                  13679\n",
       "host_response_rate                  13679\n",
       "host_acceptance_rate                44317\n",
       "host_is_superhost                   232  \n",
       "host_thumbnail_url                  232  \n",
       "host_picture_url                    232  \n",
       "                                   ...   \n",
       "has_availability                    0    \n",
       "availability_30                     0    \n",
       "availability_60                     0    \n",
       "availability_90                     0    \n",
       "availability_365                    0    \n",
       "calendar_last_scraped               0    \n",
       "number_of_reviews                   0    \n",
       "first_review                        9474 \n",
       "last_review                         9440 \n",
       "review_scores_rating                10099\n",
       "review_scores_accuracy              10177\n",
       "review_scores_cleanliness           10146\n",
       "review_scores_checkin               10273\n",
       "review_scores_communication         10174\n",
       "review_scores_location              10292\n",
       "review_scores_value                 10296\n",
       "requires_license                    0    \n",
       "license                             44317\n",
       "jurisdiction_names                  44310\n",
       "instant_bookable                    0    \n",
       "is_business_travel_ready            0    \n",
       "cancellation_policy                 0    \n",
       "require_guest_profile_picture       0    \n",
       "require_guest_phone_verification    0    \n",
       "calculated_host_listings_count      0    \n",
       "reviews_per_month                   9474 \n",
       "Unnamed: 96                         44317\n",
       "Unnamed: 97                         44317\n",
       "Unnamed: 98                         44317\n",
       "Unnamed: 99                         44315\n",
       "Length: 99, dtype: int64"
      ]
     },
     "execution_count": 100,
     "metadata": {},
     "output_type": "execute_result"
    }
   ],
   "source": [
    "#What is missing in listing details?\n",
    "listings_detail.isna().sum()"
   ]
  },
  {
   "cell_type": "markdown",
   "metadata": {},
   "source": [
    "There are many missing values in the listing details dataset which we need to either estimate or eliminate. We estimate the missing reviews per month by using the median values. Then we also want to remove records that do not have a room and that are \"free\". "
   ]
  },
  {
   "cell_type": "code",
   "execution_count": 23,
   "metadata": {},
   "outputs": [],
   "source": [
    "#Fix NaN in review per month \n",
    "\n",
    "#Estimate attempt:\n",
    "#Use to fill in missing values with median\n",
    "def impute_median(series):\n",
    "    return series.fillna(series.median())\n",
    "\n",
    "listings_detail.loc['reviews_per_month']=listings_detail[\"reviews_per_month\"].transform(impute_median)\n",
    "\n",
    "\n",
    "#Remove records that do not have a room to offer\n",
    "listings_detail=listings_detail[listings_detail['room_type'] != 0]\n",
    "\n",
    "#Remove records that are \"free\"\n",
    "listings_detail=listings_detail[listings_detail['price']!=0]"
   ]
  },
  {
   "cell_type": "code",
   "execution_count": 24,
   "metadata": {},
   "outputs": [
    {
     "name": "stdout",
     "output_type": "stream",
     "text": [
      "Number of records after cleaning: 44267\n"
     ]
    }
   ],
   "source": [
    "#How many records we have now\n",
    "print(f'Number of records after cleaning: {listings_detail.count()[0]}')"
   ]
  },
  {
   "cell_type": "markdown",
   "metadata": {},
   "source": [
    "<b> Issue: \n",
    "Some prices are extremely high, there are 44 with prices over 2000 per night. Some of these really are the prices but it seems like some are priced at $10,000 even though that is not the actual price and they are not available at all. We may need to go through each URL and see which ones are really that expensive and which should be taken out. "
   ]
  },
  {
   "cell_type": "markdown",
   "metadata": {},
   "source": [
    "listings_detail[listings_detail.price>2000][:5]"
   ]
  },
  {
   "cell_type": "markdown",
   "metadata": {},
   "source": [
    "<b> Issue: Do we need to define more areas than just the Boroughs? If we use the neighbourhoods then there is an overwhelming amoung of areas (202), would it be reasonable to focus on large main areas such as China Town, Upper East,...?"
   ]
  },
  {
   "cell_type": "markdown",
   "metadata": {},
   "source": [
    "### EDA "
   ]
  },
  {
   "cell_type": "code",
   "execution_count": 41,
   "metadata": {},
   "outputs": [
    {
     "data": {
      "text/plain": [
       "203"
      ]
     },
     "execution_count": 41,
     "metadata": {},
     "output_type": "execute_result"
    }
   ],
   "source": [
    "#there's 202 unique neighborhoods - do we want to reduce this? how?\n",
    "listings_detail['neighbourhood'].nunique()"
   ]
  },
  {
   "cell_type": "code",
   "execution_count": 35,
   "metadata": {},
   "outputs": [
    {
     "name": "stdout",
     "output_type": "stream",
     "text": [
      "2017-10-02 00:00:00\n",
      "2018-10-02 00:00:00\n"
     ]
    }
   ],
   "source": [
    "print(cdmergels.date.min())\n",
    "print(cdmergels.date.max())"
   ]
  },
  {
   "cell_type": "markdown",
   "metadata": {},
   "source": [
    "Our data is from October 2, 2017 to October 2, 2018"
   ]
  },
  {
   "cell_type": "markdown",
   "metadata": {},
   "source": [
    "### <b> Question 1: </b>\n",
    "Is there a difference in the price, popularity, and ratings for different areas? Do additional research to learn why."
   ]
  },
  {
   "cell_type": "markdown",
   "metadata": {},
   "source": [
    "#### Price"
   ]
  },
  {
   "cell_type": "code",
   "execution_count": 38,
   "metadata": {},
   "outputs": [
    {
     "name": "stdout",
     "output_type": "stream",
     "text": [
      "\n",
      "\n"
     ]
    },
    {
     "data": {
      "text/html": [
       "<div>\n",
       "<style scoped>\n",
       "    .dataframe tbody tr th:only-of-type {\n",
       "        vertical-align: middle;\n",
       "    }\n",
       "\n",
       "    .dataframe tbody tr th {\n",
       "        vertical-align: top;\n",
       "    }\n",
       "\n",
       "    .dataframe thead th {\n",
       "        text-align: right;\n",
       "    }\n",
       "</style>\n",
       "<table border=\"1\" class=\"dataframe\">\n",
       "  <thead>\n",
       "    <tr style=\"text-align: right;\">\n",
       "      <th></th>\n",
       "      <th>Variable</th>\n",
       "      <th>N</th>\n",
       "      <th>Mean</th>\n",
       "      <th>SD</th>\n",
       "      <th>SE</th>\n",
       "      <th>95% Conf.</th>\n",
       "      <th>Interval</th>\n",
       "    </tr>\n",
       "  </thead>\n",
       "  <tbody>\n",
       "    <tr>\n",
       "      <th>0</th>\n",
       "      <td>price</td>\n",
       "      <td>44317.0</td>\n",
       "      <td>147.675948</td>\n",
       "      <td>209.138888</td>\n",
       "      <td>0.993458</td>\n",
       "      <td>145.728753</td>\n",
       "      <td>149.623144</td>\n",
       "    </tr>\n",
       "  </tbody>\n",
       "</table>\n",
       "</div>"
      ],
      "text/plain": [
       "  Variable        N        Mean          SD        SE   95% Conf.    Interval\n",
       "0    price  44317.0  147.675948  209.138888  0.993458  145.728753  149.623144"
      ]
     },
     "execution_count": 38,
     "metadata": {},
     "output_type": "execute_result"
    }
   ],
   "source": [
    "rp.summary_cont(ls['price'])"
   ]
  },
  {
   "cell_type": "markdown",
   "metadata": {},
   "source": [
    "That gives us data by whole, but we really are interested in the data by neighbourhood"
   ]
  },
  {
   "cell_type": "code",
   "execution_count": 39,
   "metadata": {},
   "outputs": [
    {
     "name": "stdout",
     "output_type": "stream",
     "text": [
      "\n",
      "\n"
     ]
    },
    {
     "data": {
      "text/html": [
       "<div>\n",
       "<style scoped>\n",
       "    .dataframe tbody tr th:only-of-type {\n",
       "        vertical-align: middle;\n",
       "    }\n",
       "\n",
       "    .dataframe tbody tr th {\n",
       "        vertical-align: top;\n",
       "    }\n",
       "\n",
       "    .dataframe thead th {\n",
       "        text-align: right;\n",
       "    }\n",
       "</style>\n",
       "<table border=\"1\" class=\"dataframe\">\n",
       "  <thead>\n",
       "    <tr style=\"text-align: right;\">\n",
       "      <th></th>\n",
       "      <th>N</th>\n",
       "      <th>Mean</th>\n",
       "      <th>SD</th>\n",
       "      <th>SE</th>\n",
       "      <th>95% Conf.</th>\n",
       "      <th>Interval</th>\n",
       "    </tr>\n",
       "    <tr>\n",
       "      <th>neighbourhood_group</th>\n",
       "      <th></th>\n",
       "      <th></th>\n",
       "      <th></th>\n",
       "      <th></th>\n",
       "      <th></th>\n",
       "      <th></th>\n",
       "    </tr>\n",
       "  </thead>\n",
       "  <tbody>\n",
       "    <tr>\n",
       "      <th>Bronx</th>\n",
       "      <td>791</td>\n",
       "      <td>88.910240</td>\n",
       "      <td>147.269875</td>\n",
       "      <td>5.236314</td>\n",
       "      <td>78.640571</td>\n",
       "      <td>99.179909</td>\n",
       "    </tr>\n",
       "    <tr>\n",
       "      <th>Brooklyn</th>\n",
       "      <td>18470</td>\n",
       "      <td>120.701624</td>\n",
       "      <td>178.882444</td>\n",
       "      <td>1.316238</td>\n",
       "      <td>118.121729</td>\n",
       "      <td>123.281520</td>\n",
       "    </tr>\n",
       "    <tr>\n",
       "      <th>Manhattan</th>\n",
       "      <td>20370</td>\n",
       "      <td>185.082867</td>\n",
       "      <td>233.717036</td>\n",
       "      <td>1.637551</td>\n",
       "      <td>181.873188</td>\n",
       "      <td>188.292546</td>\n",
       "    </tr>\n",
       "    <tr>\n",
       "      <th>Queens</th>\n",
       "      <td>4392</td>\n",
       "      <td>99.620674</td>\n",
       "      <td>174.882615</td>\n",
       "      <td>2.638855</td>\n",
       "      <td>94.447930</td>\n",
       "      <td>104.793418</td>\n",
       "    </tr>\n",
       "    <tr>\n",
       "      <th>Staten Island</th>\n",
       "      <td>294</td>\n",
       "      <td>126.517007</td>\n",
       "      <td>311.045103</td>\n",
       "      <td>18.140519</td>\n",
       "      <td>90.900967</td>\n",
       "      <td>162.133047</td>\n",
       "    </tr>\n",
       "  </tbody>\n",
       "</table>\n",
       "</div>"
      ],
      "text/plain": [
       "                         N        Mean          SD         SE   95% Conf.  \\\n",
       "neighbourhood_group                                                         \n",
       "Bronx                  791   88.910240  147.269875   5.236314   78.640571   \n",
       "Brooklyn             18470  120.701624  178.882444   1.316238  118.121729   \n",
       "Manhattan            20370  185.082867  233.717036   1.637551  181.873188   \n",
       "Queens                4392   99.620674  174.882615   2.638855   94.447930   \n",
       "Staten Island          294  126.517007  311.045103  18.140519   90.900967   \n",
       "\n",
       "                       Interval  \n",
       "neighbourhood_group              \n",
       "Bronx                 99.179909  \n",
       "Brooklyn             123.281520  \n",
       "Manhattan            188.292546  \n",
       "Queens               104.793418  \n",
       "Staten Island        162.133047  "
      ]
     },
     "execution_count": 39,
     "metadata": {},
     "output_type": "execute_result"
    }
   ],
   "source": [
    "rp.summary_cont(ls['price'].groupby(ls['neighbourhood_group']))"
   ]
  },
  {
   "cell_type": "markdown",
   "metadata": {},
   "source": [
    "Slightly different summary below"
   ]
  },
  {
   "cell_type": "code",
   "execution_count": 132,
   "metadata": {},
   "outputs": [
    {
     "data": {
      "text/html": [
       "<div>\n",
       "<style scoped>\n",
       "    .dataframe tbody tr th:only-of-type {\n",
       "        vertical-align: middle;\n",
       "    }\n",
       "\n",
       "    .dataframe tbody tr th {\n",
       "        vertical-align: top;\n",
       "    }\n",
       "\n",
       "    .dataframe thead th {\n",
       "        text-align: right;\n",
       "    }\n",
       "</style>\n",
       "<table border=\"1\" class=\"dataframe\">\n",
       "  <thead>\n",
       "    <tr style=\"text-align: right;\">\n",
       "      <th></th>\n",
       "      <th>count</th>\n",
       "      <th>mean</th>\n",
       "      <th>std</th>\n",
       "      <th>min</th>\n",
       "      <th>25%</th>\n",
       "      <th>50%</th>\n",
       "      <th>75%</th>\n",
       "      <th>max</th>\n",
       "    </tr>\n",
       "    <tr>\n",
       "      <th>neighbourhood_group</th>\n",
       "      <th></th>\n",
       "      <th></th>\n",
       "      <th></th>\n",
       "      <th></th>\n",
       "      <th></th>\n",
       "      <th></th>\n",
       "      <th></th>\n",
       "      <th></th>\n",
       "    </tr>\n",
       "  </thead>\n",
       "  <tbody>\n",
       "    <tr>\n",
       "      <th>Bronx</th>\n",
       "      <td>791.0</td>\n",
       "      <td>88.910240</td>\n",
       "      <td>147.269875</td>\n",
       "      <td>0.0</td>\n",
       "      <td>47.0</td>\n",
       "      <td>65.0</td>\n",
       "      <td>90.0</td>\n",
       "      <td>2500.0</td>\n",
       "    </tr>\n",
       "    <tr>\n",
       "      <th>Brooklyn</th>\n",
       "      <td>18470.0</td>\n",
       "      <td>120.701624</td>\n",
       "      <td>178.882444</td>\n",
       "      <td>0.0</td>\n",
       "      <td>60.0</td>\n",
       "      <td>90.0</td>\n",
       "      <td>147.0</td>\n",
       "      <td>10000.0</td>\n",
       "    </tr>\n",
       "    <tr>\n",
       "      <th>Manhattan</th>\n",
       "      <td>20370.0</td>\n",
       "      <td>185.082867</td>\n",
       "      <td>233.717036</td>\n",
       "      <td>0.0</td>\n",
       "      <td>90.0</td>\n",
       "      <td>140.0</td>\n",
       "      <td>200.0</td>\n",
       "      <td>9999.0</td>\n",
       "    </tr>\n",
       "    <tr>\n",
       "      <th>Queens</th>\n",
       "      <td>4392.0</td>\n",
       "      <td>99.620674</td>\n",
       "      <td>174.882615</td>\n",
       "      <td>0.0</td>\n",
       "      <td>55.0</td>\n",
       "      <td>75.0</td>\n",
       "      <td>110.0</td>\n",
       "      <td>10000.0</td>\n",
       "    </tr>\n",
       "    <tr>\n",
       "      <th>Staten Island</th>\n",
       "      <td>294.0</td>\n",
       "      <td>126.517007</td>\n",
       "      <td>311.045103</td>\n",
       "      <td>0.0</td>\n",
       "      <td>52.0</td>\n",
       "      <td>80.0</td>\n",
       "      <td>120.0</td>\n",
       "      <td>5000.0</td>\n",
       "    </tr>\n",
       "  </tbody>\n",
       "</table>\n",
       "</div>"
      ],
      "text/plain": [
       "                       count        mean         std  min   25%    50%    75%  \\\n",
       "neighbourhood_group                                                             \n",
       "Bronx                791.0    88.910240   147.269875  0.0  47.0  65.0   90.0    \n",
       "Brooklyn             18470.0  120.701624  178.882444  0.0  60.0  90.0   147.0   \n",
       "Manhattan            20370.0  185.082867  233.717036  0.0  90.0  140.0  200.0   \n",
       "Queens               4392.0   99.620674   174.882615  0.0  55.0  75.0   110.0   \n",
       "Staten Island        294.0    126.517007  311.045103  0.0  52.0  80.0   120.0   \n",
       "\n",
       "                         max  \n",
       "neighbourhood_group           \n",
       "Bronx                2500.0   \n",
       "Brooklyn             10000.0  \n",
       "Manhattan            9999.0   \n",
       "Queens               10000.0  \n",
       "Staten Island        5000.0   "
      ]
     },
     "execution_count": 132,
     "metadata": {},
     "output_type": "execute_result"
    }
   ],
   "source": [
    "ls.price.groupby(ls['neighbourhood_group']).describe()"
   ]
  },
  {
   "cell_type": "code",
   "execution_count": 92,
   "metadata": {},
   "outputs": [
    {
     "data": {
      "image/png": "iVBORw0KGgoAAAANSUhEUgAAAXoAAAF1CAYAAADm9iFFAAAABHNCSVQICAgIfAhkiAAAAAlwSFlzAAALEgAACxIB0t1+/AAAADl0RVh0U29mdHdhcmUAbWF0cGxvdGxpYiB2ZXJzaW9uIDMuMC4zLCBodHRwOi8vbWF0cGxvdGxpYi5vcmcvnQurowAAGoZJREFUeJzt3XmcZGV97/HPVwYMKIs6LSGCDhLEINExTtBcg+KOK2DcJl5FJUFzQ7yam7xCkpuouXJdIuHGEM1FxZFEiAsYUTFKDIob0WEVxAUQZWSEUZS4BcP4yx/naSnaXma6qunxmc/79apXn/Oc7fdUV33r1FOnulNVSJL6dYflLkCStLQMeknqnEEvSZ0z6CWpcwa9JHXOoJekzhn00jYgyd8l+bPlrkN9itfRa1uQ5KPAA4Cfr6qbl7mcsbX+PAS4BfgP4Dzgd6tq43LWpe2TZ/RadklWAYcABTxliY6xYin2u4Bjq+rOwH2APYATZ1spyQ63a1Xa7hj02hY8FzgfWAccNd2Y5CFJvjEahEmOTHJpm75DkuOSXJXkW0nemeSubdmqJJXk6CRfA/61tb+r7fOmJOclud/Ivu+W5H1J/j3JZ5O8MsknRpbfN8k5SW5M8sUkz9iSzlXVjcAZwEFtP+uSvDHJ2Um+Dzyitb1y5FiHJ7m41XJVksNa++5J3pJkY5Kvtxp9odC8DHptC54LvL3dHpdkT4CqOh/4PvDIkXV/EzitTb8YOAJ4OPALwLeBv52x74cDvwQ8rs1/ENgfuDtwYTvmtL9tx/t5hhec0RedOwHntGPfHVgLvGH0hWIuSVYCvwFcNKMfxwO7Ap+Ysf7BwKnAHzK8E3gYcE1b/DaG4aBfBB4IPBb4rYVq0Hauqrx5W7Yb8OvAfwIr2/wXgJeOLH8lcEqb3pUhiO/V5q8AHjWy7l5tXyuAVQxDQfee59h7tHV2B3Zo2x4w49ifaNPPBD4+Y/v/D7xsjn1/FPgB8B3g6wwvKFNt2Trg1BnrrwNeObLfE2fZ557AzcDOI21rgXOX+/fobdu+Lce4pTTqKODDVfXNNn9aaztxZP5TSX4HeCpwYVV9tS27F/CeJD8e2d9mhkCcdu30RBviOB54OjAFTG+3EtiZ4QXi2tm2bcd6cJLvjLStAP5+nr69uKrePMeya+doB9gHOHuW9nsBOwIbk0y33WGBfUkGvZZPkp2BZwA7JPlGa74jsEeSB1TVJVX1+SRfBR7PbYdtYAi4F1TVJ2fZ96o2OXpZ2W8ChwOPZhgK2Z1huCfAJoYhkb2BL7X195lxrI9V1WMW1dmfNt/lbtcC+83RfjPDu59bJlSHtgOO0Ws5HcFwBn4gsLrdfgn4OMO4/bTTGMbjHwa8a6T974Djk9wLIMlUksPnOd6uDEH5LWAX4P9OL6iqzcCZwMuT7JLkvjNqeD9wnyTPSbJju/1qkl9aRL8X8hbg+Uke1T5wvkeS+9ZwaeaHgROS7NaW7Zfk4UtQgzpi0Gs5HQW8taq+VlXfmL4BJwHPHrkk8nTgUOBfR4Z4AP4aOAv4cJLvMly58+B5jncq8FWGMfPPt/VHHctwlv8NhiGZ0xleGKiq7zJ88Pks4Lq2zmsY3oFMVFV9Bng+w/DVTcDHGIZtYHjx2anV/23g3QyfTUhz8gtT0hySvIbhC1xHLbiytA3zjF5q2nXy98/gYOBo4D3LXZc0Lj+MlW61K8NwzS8ANwAnAO9d1oqkCXDoRpI659CNJHXOoJekzm0TY/QrV66sVatWLXcZkvQz5YILLvhmVU0ttN42EfSrVq1i/fr1y12GJP1Mad8aX5BDN5LUOYNekjpn0EtS5wx6SeqcQS9JnTPoJalzBr0kdc6gl6TOGfSS1DmDXpI6Z9BLUucMeknqnEEvSZ3bJv56pbQYq477wHKXMDHXvPqJy12COuYZvSR1zqCXpM4Z9JLUOYNekjpn0EtS5wx6SeqcQS9JnTPoJalzBr0kdc6gl6TOGfSS1DmDXpI6Z9BLUucWDPokpyS5IcllI23vSHJxu12T5OLWvirJD0eW/d1SFi9JWtiW/JnidcBJwKnTDVX1zOnpJCcAN42sf1VVrZ5UgZKk8SwY9FV1XpJVsy1LEuAZwCMnW5YkaVLGHaM/BLi+qr480rZvkouSfCzJIXNtmOSYJOuTrN+0adOYZUiS5jJu0K8FTh+Z3wjcs6oeCPw+cFqS3WbbsKpOrqo1VbVmampqzDIkSXNZdNAnWQE8FXjHdFtV3VxV32rTFwBXAfcZt0hJ0uKNc0b/aOALVbVhuiHJVJId2vS9gf2Bq8crUZI0ji25vPJ04NPAAUk2JDm6LXoWtx22AXgYcGmSS4B3Ay+qqhsnWbAkaetsyVU3a+dof94sbWcAZ4xfliRpUvxmrCR1zqCXpM4Z9JLUOYNekjpn0EtS5wx6SeqcQS9JnTPoJalzBr0kdc6gl6TOGfSS1DmDXpI6Z9BLUucMeknqnEEvSZ0z6CWpcwa9JHXOoJekzhn0ktQ5g16SOmfQS1LnDHpJ6pxBL0mdM+glqXMGvSR1zqCXpM4Z9JLUOYNekjpn0EtS5wx6SeqcQS9JnTPoJalzBr0kdW7BoE9ySpIbklw20vbyJF9PcnG7PWFk2R8nuTLJF5M8bqkKlyRtmS05o18HHDZL+4lVtbrdzgZIciDwLOB+bZs3JNlhUsVKkrbegkFfVecBN27h/g4H/rGqbq6qrwBXAgePUZ8kaUzjjNEfm+TSNrRzl9Z2D+DakXU2tLafkuSYJOuTrN+0adMYZUiS5rPYoH8jsB+wGtgInNDaM8u6NdsOqurkqlpTVWumpqYWWYYkaSGLCvqqur6qNlfVj4E3cevwzAZgn5FV9wauG69ESdI4FhX0SfYamT0SmL4i5yzgWUnumGRfYH/gM+OVKEkax4qFVkhyOnAosDLJBuBlwKFJVjMMy1wDvBCgqi5P8k7g88AtwO9W1ealKV2StCUWDPqqWjtL81vmWf944PhxipIkTY7fjJWkzhn0ktQ5g16SOmfQS1LnDHpJ6pxBL0mdM+glqXMGvSR1zqCXpM4Z9JLUOYNekjpn0EtS5wx6SeqcQS9JnTPoJalzBr0kdc6gl6TOGfSS1DmDXpI6Z9BLUucMeknqnEEvSZ0z6CWpcwa9JHXOoJekzhn0ktQ5g16SOmfQS1LnDHpJ6pxBL0mdM+glqXMGvSR1zqCXpM6tWGiFJKcATwJuqKqDWttfAk8GfgRcBTy/qr6TZBVwBfDFtvn5VfWiJahb0nZs1XEfWO4SJuaaVz9xyY+xJWf064DDZrSdAxxUVfcHvgT88ciyq6pqdbsZ8pK0zBYM+qo6D7hxRtuHq+qWNns+sPcS1CZJmoBJjNG/APjgyPy+SS5K8rEkh8y1UZJjkqxPsn7Tpk0TKEOSNJuxgj7JnwK3AG9vTRuBe1bVA4HfB05Lstts21bVyVW1pqrWTE1NjVOGJGkeiw76JEcxfEj77KoqgKq6uaq+1aYvYPig9j6TKFSStDiLCvokhwF/BDylqn4w0j6VZIc2fW9gf+DqSRQqSVqcLbm88nTgUGBlkg3AyxiusrkjcE4SuPUyyocBf5HkFmAz8KKqunHWHUuSbhcLBn1VrZ2l+S1zrHsGcMa4RUmSJsdvxkpS5xY8o9e2zW8ISlqIZ/SS1DmDXpI6Z9BLUucMeknqnEEvSZ0z6CWpcwa9JHXOoJekzhn0ktQ5g16SOmfQS1LnDHpJ6pxBL0mdM+glqXMGvSR1zqCXpM4Z9JLUOYNekjpn0EtS5wx6SeqcQS9JnTPoJalzBr0kdc6gl6TOGfSS1DmDXpI6Z9BLUucMeknqnEEvSZ0z6CWpcwa9JHVui4I+ySlJbkhy2UjbXZOck+TL7eddWnuSvD7JlUkuTfIrS1W8JGlhW3pGvw44bEbbccBHqmp/4CNtHuDxwP7tdgzwxvHLlCQt1hYFfVWdB9w4o/lw4G1t+m3AESPtp9bgfGCPJHtNolhJ0tYbZ4x+z6raCNB+3r213wO4dmS9Da3tNpIck2R9kvWbNm0aowxJ0nxWLME+M0tb/VRD1cnAyQBr1qz5qeWS5rfquA8sdwkTcc2rn7jcJXRvnDP666eHZNrPG1r7BmCfkfX2Bq4b4ziSpDGME/RnAUe16aOA9460P7ddffMQ4KbpIR5J0u1vi4ZukpwOHAqsTLIBeBnwauCdSY4GvgY8va1+NvAE4ErgB8DzJ1yzJGkrbFHQV9XaORY9apZ1C/jdcYqSJE2O34yVpM4Z9JLUOYNekjpn0EtS5wx6SeqcQS9JnTPoJalzBr0kdc6gl6TOGfSS1DmDXpI6Z9BLUucMeknq3FL8h6nbnf9pR5Lm5hm9JHXOoJekzhn0ktQ5g16SOmfQS1LnDHpJ6pxBL0mdM+glqXMGvSR1zqCXpM4Z9JLUOYNekjpn0EtS5wx6SeqcQS9JnTPoJalzBr0kdc6gl6TOLfpfCSY5AHjHSNO9gT8H9gB+G9jU2v+kqs5edIWSpLEsOuir6ovAaoAkOwBfB94DPB84sapeN5EKJUljmdTQzaOAq6rqqxPanyRpQiYV9M8CTh+ZPzbJpUlOSXKXCR1DkrQIYwd9kp2ApwDvak1vBPZjGNbZCJwwx3bHJFmfZP2mTZtmW0WSNAGTOKN/PHBhVV0PUFXXV9Xmqvox8Cbg4Nk2qqqTq2pNVa2ZmpqaQBmSpNlMIujXMjJsk2SvkWVHApdN4BiSpEVa9FU3AEl2AR4DvHCk+bVJVgMFXDNjmSTpdjZW0FfVD4C7zWh7zlgVSZImym/GSlLnDHpJ6pxBL0mdM+glqXMGvSR1zqCXpM4Z9JLUOYNekjpn0EtS5wx6SeqcQS9JnTPoJalzBr0kdc6gl6TOGfSS1DmDXpI6Z9BLUucMeknqnEEvSZ0z6CWpcwa9JHXOoJekzhn0ktQ5g16SOmfQS1LnDHpJ6pxBL0mdM+glqXMGvSR1zqCXpM4Z9JLUOYNekjpn0EtS51aMu4Mk1wDfBTYDt1TVmiR3Bd4BrAKuAZ5RVd8e91iSpK03qTP6R1TV6qpa0+aPAz5SVfsDH2nzkqRlsFRDN4cDb2vTbwOOWKLjSJIWMImgL+DDSS5Ickxr27OqNgK0n3efwHEkSYsw9hg98NCqui7J3YFzknxhSzZqLwrHANzznvecQBmSpNmMfUZfVde1nzcA7wEOBq5PshdA+3nDLNudXFVrqmrN1NTUuGVIkuYwVtAnuVOSXaengccClwFnAUe11Y4C3jvOcSRJizfu0M2ewHuSTO/rtKr65ySfBd6Z5Gjga8DTxzyOJGmRxgr6qroaeMAs7d8CHjXOviVJk+E3YyWpcwa9JHXOoJekzhn0ktQ5g16SOmfQS1LnDHpJ6pxBL0mdM+glqXMGvSR1zqCXpM4Z9JLUOYNekjpn0EtS5wx6SeqcQS9JnTPoJalzBr0kdc6gl6TOGfSS1DmDXpI6Z9BLUucMeknqnEEvSZ0z6CWpcwa9JHXOoJekzhn0ktQ5g16SOmfQS1LnDHpJ6pxBL0mdM+glqXOLDvok+yQ5N8kVSS5P8j9b+8uTfD3Jxe32hMmVK0naWivG2PYW4H9V1YVJdgUuSHJOW3ZiVb1u/PIkSeNadNBX1UZgY5v+bpIrgHtMqjBJ0mRMZIw+ySrggcC/taZjk1ya5JQkd5nEMSRJizN20Ce5M3AG8JKq+nfgjcB+wGqGM/4T5tjumCTrk6zftGnTuGVIkuYwVtAn2ZEh5N9eVWcCVNX1VbW5qn4MvAk4eLZtq+rkqlpTVWumpqbGKUOSNI9xrroJ8Bbgiqr6q5H2vUZWOxK4bPHlSZLGNc5VNw8FngN8LsnFre1PgLVJVgMFXAO8cKwKJUljGeeqm08AmWXR2YsvR5I0aX4zVpI6Z9BLUucMeknqnEEvSZ0z6CWpcwa9JHXOoJekzhn0ktQ5g16SOmfQS1LnDHpJ6pxBL0mdM+glqXMGvSR1zqCXpM4Z9JLUOYNekjpn0EtS5wx6SeqcQS9JnTPoJalzBr0kdc6gl6TOGfSS1DmDXpI6Z9BLUucMeknqnEEvSZ0z6CWpcwa9JHXOoJekzhn0ktQ5g16SOrdkQZ/ksCRfTHJlkuOW6jiSpPktSdAn2QH4W+DxwIHA2iQHLsWxJEnzW6oz+oOBK6vq6qr6EfCPwOFLdCxJ0jyWKujvAVw7Mr+htUmSbmepqsnvNHk68Liq+q02/xzg4Kr6vZF1jgGOabMHAF+ceCGTtRL45nIXsUy2577D9t3/7bnvsO33/15VNbXQSiuW6OAbgH1G5vcGrhtdoapOBk5eouNPXJL1VbVmuetYDttz32H77v/23Hfop/9LNXTzWWD/JPsm2Ql4FnDWEh1LkjSPJTmjr6pbkhwLfAjYATilqi5fimNJkua3VEM3VNXZwNlLtf9l8DMzzLQEtue+w/bd/+2579BJ/5fkw1hJ0rbDP4EgSZ3b7oI+yeYkFye5JMmFSf7bctc0SUvVvySrklw2S/uhSd4/iWMsoqZK8vcj8yuSbBqnniTf28r1Dx29j5Mcsa18CzzJ3knem+TLSa5OclKSOy53XVsjyZ8muTzJpe1x/eDW/pIku2zB9lu03hbWMu9jfa7nyFIca2ttd0EP/LCqVlfVA4A/Bl41c4X2Jxx+VvXev1HfBw5KsnObfwzw9du5hkOB0RfTIxj+7MeyShLgTOCfqmp/YH9gZ+C1y1rYVkjya8CTgF+pqvsDj+bWL2K+BNiSAN/S9bq2PQb9qN2Ab8NPXkHPTXIa8LnW9vtJLmu3l7S2VUmuSPKmdqbx4SQ7t7PJzyY5tK33qiTHL1O/pm11/+ZrH1l+7yQXJfnVkbY7tDPHqZH5K5OsTLIuyeuTfKqdWT5tgn38IPDENr0WOH2kpoPbMS9qPw9o7c9LcmaSf2413yb8khzf3hGdn2TP1vbkJP/W9vUvSfZMsgp4EfDSdrb5cOApwF+2+f2S/HZ7XFyS5Izps8slvk8AHgn8R1W9FaCqNgMvBZ6b5NgkJ4309/0jj9vHJvl0ezf4riR3bu0PSvKxJBck+VCSvVr7R5O8JslnknwpySGt/X6t7eJ2Nr7/IvqwF/DNqrq59eGbVXVdkhcDvwCcm+Tcdrw3JlnfnpOvaG2zrTdX/65J8orW/rkk952vsCQPb327uD0mdp2xfFWSj7f9/eSddXsefjTJu5N8Icnbk6QtO6y1fQJ46iLur7lV1XZ1AzYDFwNfAG4CHtTaD2U4Q9y3zT+IIRDvBNwZuBx4ILAKuAVY3dZ7J/Df2/T9gCsYziwvAnb6GezffP2+jOFbzBeN9P9Q4P1t+mXAS9r0Y4Ez2vQ64F0MJxYHMvwdpEn09XvA/YF3Az/X+j1az27Aijb96JF6ngdcDezetvsqsE9bVsCT2/Rrgf/dpu/CrRcv/BZwQpt+OfAHIzWtA542Mn+3kelXAr+3lPfJyLFeDJw4S/tFDGe5J420vb/dbyuB84A7tfY/Av4c2BH4FDDV2p/JcMk0wEdH7osnAP/Spv8GeHab3gnYeRF9uHP7nX4JeAPw8JFl1wArR+bv2n7u0Gq6/8z15urfyHrTv5v/Abx5lnpGH1vvAx46UucK2nOkte0C/Fyb3h9YP7KPmxi+RHoH4NPArzM8Dq9t64YhV94/qcfDkl1euQ37YVWthp+8NTw1yUFt2Weq6itt+teB91TV99u6ZwKHMHzx6ytVdXFb7wKGXzBVdXmGMeP3Ab9Wwx90u72N27/M0X4WMAW8F/iNmv17Eae05f8PeAHw1pFl/1RVPwY+P32WPAlVdWk7s17LT1/OuzvwtnY2WQyBNe0jVXUTQJLPA/dieKL9iCH4YPjdPqZN7w28o53J7gR8hS1zUJJXAnswBMKHRpYtyX3ShKHPs7XP5SEMLzqfbCeZOzEE0QHAQcA5rX0HYOPIdme2nz95LrTt/jTJ3sCZVfXlre1AVX0vyYMYHn+PYLj/j6uqdbOs/owMf1ZlBcM7gQOBS7ewf7P1Y6Ez6k8Cf5Xk7Qz929D2OW1H4KQkqxlOvu4zsuwzVbUBIMnFDPfZ9xhy5cut/R+49U/EjG27Hrqpqk8zvMpP/62I748snu8JcfPI9GZu+32EXwa+A0z6ibvVFtm/+fp9E0MYPnSO410LXJ/kkcCDGYZVpo3eZ/MdYzHOAl7HyLBN83+Ac6vqIODJDGdNs9Uz+jv8z2qnXjPa/4bhLPiXgRfO2Nd81gHHtu1eMU8Nk75PLgdu89X9JLsxPC6/xW2f+9M1BTinhs94VlfVgVV1dGu/fKT9l6vqsbP04yf3V1WdxjCM9UPgQ+0xsdWqanNVfbSqXgYcC/zGzHWS7Av8AfCoGsbyP8Dsv5+5+jdnP+ap69UM7+x2Bs6fZajnpcD1wAMYfg87zXKcmcdasmvdt+ugb7+cHRge+DOdBxyRZJckdwKOBD6+wP6eCtwNeBjw+iR7TLjkrbLI/s3X7x8xfNj43CS/Ocdh3wz8A/DOGsaFbw+nAH9RVZ+b0b47t344+7wxjzG6r6NG2r8L7DrP/K7AxiQ7As8es4at8RFglyTPhZ98AH8CcBLDu5HVGT5H2Yfhz4oDnA88NMkvtm12SXIfhj84ONXeIZJkxyT3m+/gSe4NXF1Vr2d4Ib7/1nYgyQEzxvZXMwyzwW3v590YTmJuau+MHj+yzeh6c/VvqyXZr6o+V1WvAdYDM4N+d2Bje8f2HIbn4Xy+AOybZL82v3Yxdc1lewz6nac/RAHeARw1WyBV1YUMZ2OfAf6NYczuorl2mmQl8Grg6Kr6EsMT6q+XoP6FjNW/hfrdhnSexPAB5Gz/Y+AshiGKt86ybElU1Yaqmu2+fi3wqiSfZOEn2kJeDrwryce57V8zfB9wZLvPD2H43wt/2D6g2w/4M4b78RyGJ/Ptor0rORJ4WpIvM7zY/7iqjmcYdvgKw2cxrwMubNtsYnhBPD3JpQzBeN82BPk04DVJLmEYN1/ost1nApe1x+F9gVMX0Y07Mwy9fb7VcyDD7wGGb6x+MMm5VXUJw2cPlzO86H9yZB+j683av0XUBfCSDBcrXMLwruWDM5a/ATgqyfkMwzbfn7mDUVX1HwxDNR9oH8Z+db71t5bfjNVEJVnD8CHgIctdi27Vrvo4HXhqVV2w3PXo9mXQa2Iy/G/g32G42uITy12PpIFBL0md2x7H6CVpu2LQS1LnDHpJ6pxBL0mdM+glqXMGvSR17r8AW70xm0/Aq9QAAAAASUVORK5CYII=\n",
      "text/plain": [
       "<Figure size 432x432 with 1 Axes>"
      ]
     },
     "metadata": {
      "needs_background": "light"
     },
     "output_type": "display_data"
    }
   ],
   "source": [
    "# Price\n",
    "price_group = ls[[\"neighbourhood_group\",\"price\"]].groupby([\"neighbourhood_group\"]).price.mean()\n",
    "plt.figure(figsize = (6,6))\n",
    "plt.bar(range(len(price_group.values)),price_group.values)\n",
    "plt.xticks(range(len(price_group.values)),list(price_group.index))\n",
    "plt.title(\"Average Price\");"
   ]
  },
  {
   "cell_type": "markdown",
   "metadata": {},
   "source": [
    "It seems like Airbnb's in Manhattan are the most expensive overall in comparison to the other neighborhood groups. Staten Island and Brooklyn are the next most expensive with Staten Island seeming to be just slightly more expensive. Then Queens and finally the Bronx is the least expensive on average, however, it is pretty close to the other three group overall. "
   ]
  },
  {
   "cell_type": "code",
   "execution_count": 91,
   "metadata": {},
   "outputs": [
    {
     "data": {
      "image/png": "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\n",
      "text/plain": [
       "<Figure size 432x432 with 2 Axes>"
      ]
     },
     "metadata": {
      "needs_background": "light"
     },
     "output_type": "display_data"
    }
   ],
   "source": [
    "# Price Geometry Distribution \n",
    "\n",
    "prices = listings_detail[[\"neighbourhood\",\"price\",\"reviews_per_month\"]].groupby([\"neighbourhood\"]).price.mean()\n",
    "priceMap = dict(prices)\n",
    "\n",
    "max_ = max(priceMap.values())\n",
    "min_ = min(priceMap.values())\n",
    "def norm_transform(price):\n",
    "    return (price-min_)/( 250 - min_)#Hard Coding Truncature Here at 250 USD here to see a more meaningful result\n",
    "\n",
    "###############SET UP LIMITS#########################\n",
    "mp = nbgeo.geometry.loc[101]\n",
    "cm = plt.get_cmap('YlOrRd')\n",
    "fig = plt.figure(figsize=(6,6))\n",
    "ax = fig.add_subplot(111)\n",
    "minx, miny, maxx, maxy = mp.bounds\n",
    "w, h = maxx - minx, maxy - miny\n",
    "ax.set_xlim(minx - 20 * w, maxx + 5 * w)\n",
    "ax.set_ylim(miny - 10 * h, maxy + 8 * h)\n",
    "ax.set_aspect(1)\n",
    "\n",
    "###############ADD NEIGHBOURS#########################\n",
    "for i in range(len(nbgeo.geometry)):\n",
    "    patches = []\n",
    "    mp = nbgeo.geometry.loc[i]\n",
    "    nb = nbgeo.neighbourhood.loc[i]\n",
    "    try:\n",
    "        price = priceMap[nb]\n",
    "    except:\n",
    "        continue\n",
    "    for idx, p in enumerate(mp):\n",
    "        colour = cm(norm_transform(price))\n",
    "        patches.append(PolygonPatch(p, fc=colour, ec='#555555', lw=0.2, alpha=1., zorder=1))\n",
    "        ax.add_collection(PatchCollection(patches, match_original=True))\n",
    "\n",
    "###############DRAW##################################\n",
    "ax.set_xticks([])\n",
    "ax.set_yticks([])\n",
    "plt.title(\"Price Distributions\")\n",
    "plt.tight_layout()\n",
    "##NOTE that the price values are normalized \n",
    "ax  = fig.add_axes([1,0.11,0.05,0.78])\n",
    "norm = mpl.colors.Normalize(vmin=0,vmax=2)\n",
    "cb1  = mpl.colorbar.ColorbarBase(ax,cmap=cm,norm=norm,orientation='vertical')\n",
    "\n",
    "plt.show()"
   ]
  },
  {
   "cell_type": "markdown",
   "metadata": {},
   "source": [
    "#### Popularity\n",
    "We are defining popularity in terms of availibilty, meaning more popular airbnb's have less availability and less popular ones have more"
   ]
  },
  {
   "cell_type": "code",
   "execution_count": 3,
   "metadata": {},
   "outputs": [],
   "source": [
    "#Change t and f to 1 and 0 \n",
    "calendar_detail.available=calendar_detail.available.map(dict(t=1, f=0))"
   ]
  },
  {
   "cell_type": "code",
   "execution_count": 4,
   "metadata": {},
   "outputs": [],
   "source": [
    "#Merge calendar details with listing details by listing_id to get the neighborhood group of each listing\n",
    "cdmergels=pd.merge(calendar_detail, ls, left_on='listing_id', right_index=True, how='left')"
   ]
  },
  {
   "cell_type": "code",
   "execution_count": 71,
   "metadata": {},
   "outputs": [
    {
     "data": {
      "text/plain": [
       "neighbourhood_group\n",
       "Bronx             10981\n",
       "Brooklyn         252356\n",
       "Manhattan        261394\n",
       "Queens            43330\n",
       "Staten Island      7211\n",
       "Name: available, dtype: int64"
      ]
     },
     "execution_count": 71,
     "metadata": {},
     "output_type": "execute_result"
    }
   ],
   "source": [
    "cdmergels['available'].groupby(cdmergels['neighbourhood_group']).sum()\n",
    "#Number of availibilities by neighborhood - higher means less popular"
   ]
  },
  {
   "cell_type": "code",
   "execution_count": 94,
   "metadata": {},
   "outputs": [
    {
     "data": {
      "image/png": "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\n",
      "text/plain": [
       "<Figure size 432x432 with 1 Axes>"
      ]
     },
     "metadata": {
      "needs_background": "light"
     },
     "output_type": "display_data"
    }
   ],
   "source": [
    "# Total Availability\n",
    "avail_group = cdmergels[[\"neighbourhood_group\",\"available\"]].groupby([\"neighbourhood_group\"]).available.sum()\n",
    "plt.figure(figsize = (6,6))\n",
    "plt.bar(range(len(avail_group.values)),avail_group.values)\n",
    "plt.xticks(range(len(avail_group.values)),list(avail_group.index))\n",
    "plt.title(\"Total Availability\");"
   ]
  },
  {
   "cell_type": "markdown",
   "metadata": {},
   "source": [
    "This can be misleading since there are way more Airbnbs in general in Manhattan and Brooklyn, so there will therefore be more available rooms. Maybe we can make this relative to the amount of Airbnb's there are so that we get an average available days per Airbnb by neighborhood."
   ]
  },
  {
   "cell_type": "code",
   "execution_count": 95,
   "metadata": {},
   "outputs": [
    {
     "data": {
      "image/png": "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\n",
      "text/plain": [
       "<Figure size 432x432 with 1 Axes>"
      ]
     },
     "metadata": {
      "needs_background": "light"
     },
     "output_type": "display_data"
    }
   ],
   "source": [
    "# Average Availability\n",
    "avail_group = (cdmergels[[\"neighbourhood_group\",\"available\"]].groupby([\"neighbourhood_group\"]).available.sum())/(ls['host_id'].groupby(ls['neighbourhood_group']).count())\n",
    "plt.figure(figsize = (6,6))\n",
    "plt.bar(range(len(avail_group.values)),avail_group.values)\n",
    "plt.xticks(range(len(avail_group.values)),list(avail_group.index))\n",
    "plt.title(\"Average Availability per Neighborhood Group\");"
   ]
  },
  {
   "cell_type": "markdown",
   "metadata": {},
   "source": [
    "This plot paints a much different picture which is much more accurate. For the amount of Airbnb's there are in Staten Island, they are on average more available than any other neighbourhood group. This is the availability relative to the amount of Airbnb's in the area. The Bronx, Brooklyn, and Manhattan have VERY similar averages which is interesting. Queens seems to be the more popular since it has the least availability."
   ]
  },
  {
   "cell_type": "markdown",
   "metadata": {},
   "source": [
    "I used the values below to check that the average was calculated properly which it was. It is the amount of available days per neighbourhood group divided by the total number of Airbnbs in each neighborhood group - to get the average amount of available days per Airbnb within each neighborhood group (borough)"
   ]
  },
  {
   "cell_type": "markdown",
   "metadata": {},
   "source": [
    "<b> Don't these values seem low? Only 13 days available per year on average for each Airbnb does not seem right"
   ]
  },
  {
   "cell_type": "code",
   "execution_count": 78,
   "metadata": {},
   "outputs": [
    {
     "data": {
      "text/plain": [
       "neighbourhood_group\n",
       "Bronx            13.882427\n",
       "Brooklyn         13.663021\n",
       "Manhattan        12.832302\n",
       "Queens            9.865665\n",
       "Staten Island    24.527211\n",
       "dtype: float64"
      ]
     },
     "execution_count": 78,
     "metadata": {},
     "output_type": "execute_result"
    }
   ],
   "source": [
    "avail_group #Used this to check that this is the amount of available days for each neighborhood group \n",
    "            #divided by the amount of Airbnbs per ng - it's correct."
   ]
  },
  {
   "cell_type": "markdown",
   "metadata": {},
   "source": [
    "##### Are there times when no Airbnbs are available or extremely limited and on what dates does this occur?"
   ]
  },
  {
   "cell_type": "code",
   "execution_count": 31,
   "metadata": {},
   "outputs": [
    {
     "data": {
      "text/plain": [
       "date\n",
       "2017-10-02    190\n",
       "2017-10-07    309\n",
       "2017-10-06    331\n",
       "2017-10-03    397\n",
       "2017-10-05    401\n",
       "2017-10-04    435\n",
       "2017-10-08    467\n",
       "2017-10-13    559\n",
       "2017-10-14    569\n",
       "2017-10-09    593\n",
       "Name: available, dtype: int64"
      ]
     },
     "execution_count": 31,
     "metadata": {},
     "output_type": "execute_result"
    }
   ],
   "source": [
    "cdmergels.available.groupby(cdmergels.date).sum().sort_values()[:10]"
   ]
  },
  {
   "cell_type": "markdown",
   "metadata": {},
   "source": [
    "There are no times when there are no Airbnbs available but the dates when the fewest are available are October 10, October 7, October 6, October 3, and October 5, 2017 "
   ]
  },
  {
   "cell_type": "code",
   "execution_count": 32,
   "metadata": {},
   "outputs": [
    {
     "data": {
      "text/plain": [
       "date\n",
       "2018-03-20    1849\n",
       "2018-03-22    1846\n",
       "2018-03-21    1845\n",
       "2018-03-19    1843\n",
       "2018-03-23    1843\n",
       "2018-03-17    1839\n",
       "2018-03-18    1838\n",
       "2018-03-25    1834\n",
       "2018-03-24    1832\n",
       "2018-03-15    1831\n",
       "Name: available, dtype: int64"
      ]
     },
     "execution_count": 32,
     "metadata": {},
     "output_type": "execute_result"
    }
   ],
   "source": [
    "cdmergels.available.groupby(cdmergels.date).sum().sort_values(ascending=False)[:10]"
   ]
  },
  {
   "cell_type": "markdown",
   "metadata": {},
   "source": [
    "The dates with the greatest number of Airbnb's available are around March 20th, 2018"
   ]
  },
  {
   "cell_type": "markdown",
   "metadata": {},
   "source": [
    "#### Reviews"
   ]
  },
  {
   "cell_type": "code",
   "execution_count": 21,
   "metadata": {},
   "outputs": [],
   "source": [
    "pd.set_option('display.max_colwidth', -1)"
   ]
  },
  {
   "cell_type": "code",
   "execution_count": 133,
   "metadata": {},
   "outputs": [
    {
     "data": {
      "text/plain": [
       "801784"
      ]
     },
     "execution_count": 133,
     "metadata": {},
     "output_type": "execute_result"
    }
   ],
   "source": [
    "len(reviews.index)"
   ]
  },
  {
   "cell_type": "markdown",
   "metadata": {},
   "source": [
    "There are 801,784 reviews total. First we will try to extract as many positive comments as possible. However, we may not account for all of them since there are so many different positive words that can be included in the comments. Also, some comments have some positive feedback and some negative feeback as well. In these cases, the feedback is overall positive but a few issues or problems are pointed out. Since many that I looked over seem to be mostly postive than negative, we first search for negative comments from ones that are not found as positive. However, then the number of negative comments was extremely small compared to the number of positive ones. Instead, we ended up just defined positive comments as those that included at least one of the positive words in the regular expression below and then negative comments were ones that contained at least one of the negative words. So some comments were counted as both positive and negative if they had both positive and negative words included in the comment."
   ]
  },
  {
   "cell_type": "code",
   "execution_count": 3,
   "metadata": {},
   "outputs": [],
   "source": [
    "reviews['goodcomments'] = reviews['comments'].str.contains('good|great|wonderful|love|nice|loved|prompt|awesome|easy|lovely|accommodating|neat|perfect|would_recommend|terrific|fantastic|responsive|kind|pleasure|pleasant|ideal|convenient|beautiful|clean|enjoy|easily_accesible|friendly|welcoming|quiet|helpful|comf|best|reasonable|priva|communicative|appreciate|modern|value|thank|decent|cool|worth|amazing', case=False)"
   ]
  },
  {
   "cell_type": "code",
   "execution_count": 4,
   "metadata": {},
   "outputs": [
    {
     "data": {
      "text/plain": [
       "696965"
      ]
     },
     "execution_count": 4,
     "metadata": {},
     "output_type": "execute_result"
    }
   ],
   "source": [
    "len(reviews[reviews['goodcomments']==True])"
   ]
  },
  {
   "cell_type": "markdown",
   "metadata": {},
   "source": [
    "683,888 reviews are considered \"positive\" by our definition, meaning it contains at least one of the words above. This is not a perfect approach and it is not guarenteed that all of these comments are positive but that is what we are assuming. Next, we try to find reviews that are considered negative, meaning they contain at least one of the negative words in the regular expression below.It's also important to note  that there are many cases where the review is in a different language or a default review of \"The host canceled this reservation. This is an automated posting.\" We don't want those to be considered negative since they may not be. In these cases, we don't want these comments to be considered positive or negative. I'm not sure how we could delete those comments. "
   ]
  },
  {
   "cell_type": "code",
   "execution_count": 16,
   "metadata": {},
   "outputs": [],
   "source": [
    "reviews['badcomments']=reviews['comments'].str.contains('messy|dirty|expensive|loud|nois|bugs|warning|bad|awful|refund|disappoint|terrible|shame|unhappy|unhelpful|annoy|disgusting|\"not recommend\"|',case=False)"
   ]
  },
  {
   "cell_type": "code",
   "execution_count": 49,
   "metadata": {},
   "outputs": [
    {
     "data": {
      "text/plain": [
       "53358"
      ]
     },
     "execution_count": 49,
     "metadata": {},
     "output_type": "execute_result"
    }
   ],
   "source": [
    "len(reviews[reviews['badcomments']==True])"
   ]
  },
  {
   "cell_type": "code",
   "execution_count": 50,
   "metadata": {},
   "outputs": [
    {
     "data": {
      "text/plain": [
       "750323"
      ]
     },
     "execution_count": 50,
     "metadata": {},
     "output_type": "execute_result"
    }
   ],
   "source": [
    "len(reviews[reviews['goodcomments']==True])+len(reviews[reviews['badcomments']==True])"
   ]
  },
  {
   "cell_type": "markdown",
   "metadata": {},
   "source": [
    "So we've only accounted for _____750323___ (may change) out of the 801784 reviews total. We may still need to try to find out the number of reviews that are automated or in a different language to see how many we have missed. "
   ]
  },
  {
   "cell_type": "code",
   "execution_count": 51,
   "metadata": {},
   "outputs": [],
   "source": [
    "reviewsmergels=pd.merge(reviews, ls, left_index=True, right_index=True, how='left')"
   ]
  },
  {
   "cell_type": "code",
   "execution_count": 33,
   "metadata": {},
   "outputs": [
    {
     "data": {
      "text/plain": [
       "neighbourhood_group\n",
       "Bronx            11747 \n",
       "Brooklyn         282276\n",
       "Manhattan        321962\n",
       "Queens           75699 \n",
       "Staten Island    5281  \n",
       "Name: goodcomments, dtype: int64"
      ]
     },
     "execution_count": 33,
     "metadata": {},
     "output_type": "execute_result"
    }
   ],
   "source": [
    "reviewsmergels['goodcomments'].groupby(reviewsmergels['neighbourhood_group']).sum()"
   ]
  },
  {
   "cell_type": "code",
   "execution_count": 29,
   "metadata": {},
   "outputs": [
    {
     "data": {
      "text/plain": [
       "neighbourhood_group\n",
       "Bronx            753  \n",
       "Brooklyn         19243\n",
       "Manhattan        28237\n",
       "Queens           4768 \n",
       "Staten Island    357  \n",
       "Name: badcomments, dtype: int64"
      ]
     },
     "execution_count": 29,
     "metadata": {},
     "output_type": "execute_result"
    }
   ],
   "source": [
    "reviewsmergels['badcomments'].groupby(reviewsmergels['neighbourhood_group']).sum()"
   ]
  },
  {
   "cell_type": "code",
   "execution_count": 216,
   "metadata": {},
   "outputs": [
    {
     "data": {
      "image/png": "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\n",
      "text/plain": [
       "<Figure size 792x432 with 1 Axes>"
      ]
     },
     "metadata": {
      "needs_background": "light"
     },
     "output_type": "display_data"
    }
   ],
   "source": [
    "fig, ax = plt.subplots(figsize=(11,6))\n",
    "\n",
    "x=range(len(y))\n",
    "x1=[0.4,1.4,2.4,3.4,4.4]\n",
    "\n",
    "y=reviewsmergels['goodcomments'].groupby(reviewsmergels['neighbourhood_group']).sum()\n",
    "z=reviewsmergels['badcomments'].groupby(reviewsmergels['neighbourhood_group']).sum()\n",
    "\n",
    "ax=plt.subplot(121)\n",
    "ax.bar(x,y,color='b',width=0.4,align='center')\n",
    "ax.bar(x1,z,color='r',width=0.4,align='center')\n",
    "plt.xlabel('Boroughs')\n",
    "plt.xticks((0,1,2,3,4),['Bronx','Brooklyn','Manhattan','Queens','Staten Island'])\n",
    "plt.ylabel('Number of Reviews')\n",
    "plt.title('Number of Negative and Positive Reviews by Borough')\n",
    "ax.autoscale(tight=True)\n",
    "##Need to add legend if we want to use this graph\n",
    "\n",
    "plt.show()"
   ]
  },
  {
   "cell_type": "markdown",
   "metadata": {},
   "source": [
    "Since there is such a small amount of negative reviews compared to positive, this is a terrible graph to compare the two. However, it does get the point across that there appears to be hardly any negative reviews compared to positive ones. In the next graph we plot the two separately, so we can see the distributions of the negative reviews as well as the positive reviews for each borough. It is important to note that the range of the y-axis scales are very different."
   ]
  },
  {
   "cell_type": "code",
   "execution_count": 47,
   "metadata": {},
   "outputs": [
    {
     "data": {
      "image/png": "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\n",
      "text/plain": [
       "<Figure size 864x432 with 2 Axes>"
      ]
     },
     "metadata": {
      "needs_background": "light"
     },
     "output_type": "display_data"
    }
   ],
   "source": [
    "fig, ax = plt.subplots(figsize=(12,6))\n",
    "x=range(len(y))\n",
    "x1=[0.4,1.4,2.4,3.4,4.4]\n",
    "y=reviewsmergels['goodcomments'].groupby(reviewsmergels['neighbourhood_group']).sum()\n",
    "z=reviewsmergels['badcomments'].groupby(reviewsmergels['neighbourhood_group']).sum()\n",
    "ax=plt.subplot(121)\n",
    "ax.bar(x,y,color='b',width=0.4,align='center')\n",
    "plt.xlabel('Boroughs')\n",
    "plt.xticks((0,1,2,3,4),['Bronx','Brooklyn','Manhattan','Queens','Staten Island'])\n",
    "plt.ylabel('Number of Reviews')\n",
    "plt.title('Number of Positive Reviews by Borough')\n",
    "\n",
    "ax=plt.subplot(122)\n",
    "ax.bar(x,z,color='r',width=0.4,align='center')\n",
    "plt.xlabel('Boroughs')\n",
    "plt.xticks((0,1,2,3,4),['Bronx','Brooklyn','Manhattan','Queens','Staten Island'])\n",
    "plt.ylabel('Number of Reviews')\n",
    "plt.title('Number of Negative Reviews by Borough')\n",
    "\n",
    "\n",
    "plt.show()"
   ]
  },
  {
   "cell_type": "markdown",
   "metadata": {},
   "source": [
    "We should probably find the average number of positive/negative reviews per borough like we did before with the availability. Since obviously Manhattan and Brooklyn are likely to have the most reviews since they have the most Airbnbs. "
   ]
  },
  {
   "cell_type": "code",
   "execution_count": 97,
   "metadata": {},
   "outputs": [
    {
     "data": {
      "text/plain": [
       "neighbourhood_group\n",
       "Bronx            14.850822\n",
       "Brooklyn         15.282945\n",
       "Manhattan        15.805695\n",
       "Queens           17.235656\n",
       "Staten Island    17.962585\n",
       "dtype: float64"
      ]
     },
     "execution_count": 97,
     "metadata": {},
     "output_type": "execute_result"
    }
   ],
   "source": [
    "reviewsmergels['goodcomments'].groupby(reviewsmergels['neighbourhood_group']).sum()/(ls['host_id'].groupby(ls['neighbourhood_group']).count())"
   ]
  },
  {
   "cell_type": "code",
   "execution_count": 38,
   "metadata": {},
   "outputs": [
    {
     "data": {
      "text/plain": [
       "neighbourhood_group\n",
       "Bronx            0.951960\n",
       "Brooklyn         1.041852\n",
       "Manhattan        1.386205\n",
       "Queens           1.085610\n",
       "Staten Island    1.214286\n",
       "dtype: float64"
      ]
     },
     "execution_count": 38,
     "metadata": {},
     "output_type": "execute_result"
    }
   ],
   "source": [
    "reviewsmergels['badcomments'].groupby(reviewsmergels['neighbourhood_group']).sum()/(ls['host_id'].groupby(ls['neighbourhood_group']).count())"
   ]
  },
  {
   "cell_type": "code",
   "execution_count": 68,
   "metadata": {},
   "outputs": [
    {
     "data": {
      "image/png": "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\n",
      "text/plain": [
       "<Figure size 864x432 with 1 Axes>"
      ]
     },
     "metadata": {
      "needs_background": "light"
     },
     "output_type": "display_data"
    }
   ],
   "source": [
    "fig, ax = plt.subplots(figsize=(12,6))\n",
    "\n",
    "x=[.2,1.2,2.2,3.2,4.2]\n",
    "x1=[0.6,1.6,2.6,3.6,4.6]\n",
    "y=reviewsmergels['goodcomments'].groupby(reviewsmergels['neighbourhood_group']).sum()/(ls['host_id'].groupby(ls['neighbourhood_group']).count())\n",
    "z=reviewsmergels['badcomments'].groupby(reviewsmergels['neighbourhood_group']).sum()/(ls['host_id'].groupby(ls['neighbourhood_group']).count())\n",
    "\n",
    "ax=plt.subplot(121)\n",
    "ax.bar(x,y,color='b',width=0.4,align='center',label='Positive Reviews')\n",
    "ax.bar(x1,z,color='r',width=0.4,align='center',label='Negative Reviews')\n",
    "plt.xlabel('Boroughs')\n",
    "plt.xticks((0.4,1.4,2.4,3.4,4.4),['Bronx','Brooklyn','Manhattan','Queens','Staten Island'])\n",
    "plt.ylabel('Number of Reviews')\n",
    "plt.title('Number of Negative and Positive Reviews by Borough')\n",
    "plt.xlim(-.3,5)\n",
    "##Need to add legend if we want to use this graph\n",
    "leg=ax.legend()\n",
    "plt.show()"
   ]
  },
  {
   "cell_type": "markdown",
   "metadata": {},
   "source": [
    "Or if we want to plot the two separately to get a better sense of the distribution of negative comments:"
   ]
  },
  {
   "cell_type": "code",
   "execution_count": 76,
   "metadata": {},
   "outputs": [
    {
     "data": {
      "image/png": "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\n",
      "text/plain": [
       "<Figure size 864x432 with 2 Axes>"
      ]
     },
     "metadata": {
      "needs_background": "light"
     },
     "output_type": "display_data"
    }
   ],
   "source": [
    "fig, ax = plt.subplots(figsize=(12,6))\n",
    "\n",
    "y=reviewsmergels['goodcomments'].groupby(reviewsmergels['neighbourhood_group']).sum()/(ls['host_id'].groupby(ls['neighbourhood_group']).count())\n",
    "z=reviewsmergels['badcomments'].groupby(reviewsmergels['neighbourhood_group']).sum()/(ls['host_id'].groupby(ls['neighbourhood_group']).count())\n",
    "x=range(len(y))\n",
    "\n",
    "ax=plt.subplot(121)\n",
    "ax.bar(x,y,color='b',width=0.4,align='center')\n",
    "plt.xlabel('Boroughs',weight='bold')\n",
    "plt.xticks((0,1,2,3,4),['Bronx','Brooklyn','Manhattan','Queens','Staten Island'])\n",
    "plt.ylabel('Number of Reviews')\n",
    "plt.title('Number of Positive Reviews by Borough')\n",
    "\n",
    "ax=plt.subplot(122)\n",
    "ax.bar(x,z,color='r',width=0.4,align='center')\n",
    "plt.xlabel('Boroughs',weight='bold')\n",
    "plt.xticks((0,1,2,3,4),['Bronx','Brooklyn','Manhattan','Queens','Staten Island'])\n",
    "plt.ylabel('Number of Reviews')\n",
    "plt.title('Number of Negative Reviews by Borough')\n",
    "\n",
    "\n",
    "plt.show()"
   ]
  },
  {
   "cell_type": "code",
   "execution_count": 78,
   "metadata": {},
   "outputs": [],
   "source": [
    "pd.reset_option(\"^display\")"
   ]
  },
  {
   "cell_type": "markdown",
   "metadata": {},
   "source": [
    "<b> Issue: There may be reviews not accounted for. We need to figure out how to filter out the ones in a different language and the automated ones to try to see how many have been left out. However, even still, there are some comments that are counted for as both positive and negative so I'm not sure how we can do this. "
   ]
  },
  {
   "cell_type": "markdown",
   "metadata": {},
   "source": [
    "\n",
    "### Question 2: \n",
    "Do factors such as number of cancellation policy, instant bookable, house rules, amenities, access (entire apartment vs private room), room type (private vs shared), transit, or number of guests significantly impact whether or not an Airbnb is booked?\n",
    "\n"
   ]
  },
  {
   "cell_type": "markdown",
   "metadata": {},
   "source": [
    "#### Cancellation Policy"
   ]
  },
  {
   "cell_type": "markdown",
   "metadata": {},
   "source": [
    "First we need to merge our merged dataset (of calendar details and listings summary) with listing details to get all of the information we need"
   ]
  },
  {
   "cell_type": "code",
   "execution_count": 17,
   "metadata": {},
   "outputs": [],
   "source": [
    "calendar_detail.available=calendar_detail.available.map(dict(t=1, f=0))"
   ]
  },
  {
   "cell_type": "code",
   "execution_count": 19,
   "metadata": {},
   "outputs": [],
   "source": [
    "cdmergeldls['availability']=(cdmergeldls.available.groupby(cdmergeldls.index).sum())/365"
   ]
  },
  {
   "cell_type": "markdown",
   "metadata": {},
   "source": [
    "<b> THIS IS ALREADY A VARIABLE: availabilty_365"
   ]
  },
  {
   "cell_type": "code",
   "execution_count": 3,
   "metadata": {},
   "outputs": [],
   "source": [
    "#Run this cell if kernel is restarted and want all merged data sets so far\n",
    "\n",
    "cdmergels=pd.merge(calendar_detail, ls, left_on='listing_id', right_index=True, how='left')\n",
    "ld=listings_detail[['price','transit','access','house_rules','property_type','room_type','accommodates','beds','bathrooms','bedrooms','instant_bookable','cancellation_policy']]\n",
    "cdmergeldls=pd.merge(cdmergels, ld, left_on='listing_id', right_index=True, how='left')\n"
   ]
  },
  {
   "cell_type": "code",
   "execution_count": 4,
   "metadata": {},
   "outputs": [],
   "source": [
    "#Just get features we are interested in before merge\n",
    "ld=listings_detail[['price','transit','access','house_rules','property_type','room_type','accommodates','beds','bathrooms','bedrooms','instant_bookable','cancellation_policy']]"
   ]
  },
  {
   "cell_type": "code",
   "execution_count": 6,
   "metadata": {},
   "outputs": [],
   "source": [
    "#Need to merge with the dataset that is calendar details merged with listings summary since the listings details \n",
    "#does not have the boroughs (neighbourhood_group)\n",
    "cdmergeldls=pd.merge(cdmergels, ld, left_on='listing_id', right_index=True, how='left')"
   ]
  },
  {
   "cell_type": "code",
   "execution_count": 5,
   "metadata": {},
   "outputs": [
    {
     "data": {
      "text/html": [
       "<div>\n",
       "<style scoped>\n",
       "    .dataframe tbody tr th:only-of-type {\n",
       "        vertical-align: middle;\n",
       "    }\n",
       "\n",
       "    .dataframe tbody tr th {\n",
       "        vertical-align: top;\n",
       "    }\n",
       "\n",
       "    .dataframe thead th {\n",
       "        text-align: right;\n",
       "    }\n",
       "</style>\n",
       "<table border=\"1\" class=\"dataframe\">\n",
       "  <thead>\n",
       "    <tr style=\"text-align: right;\">\n",
       "      <th></th>\n",
       "      <th>price_x</th>\n",
       "      <th>host_id</th>\n",
       "      <th>latitude</th>\n",
       "      <th>longitude</th>\n",
       "      <th>price_y</th>\n",
       "      <th>minimum_nights</th>\n",
       "      <th>number_of_reviews</th>\n",
       "      <th>reviews_per_month</th>\n",
       "      <th>calculated_host_listings_count</th>\n",
       "      <th>availability_365</th>\n",
       "      <th>price</th>\n",
       "      <th>accommodates</th>\n",
       "      <th>beds</th>\n",
       "      <th>bathrooms</th>\n",
       "      <th>bedrooms</th>\n",
       "    </tr>\n",
       "  </thead>\n",
       "  <tbody>\n",
       "    <tr>\n",
       "      <th>price_x</th>\n",
       "      <td>1.000000</td>\n",
       "      <td>-0.047947</td>\n",
       "      <td>0.021366</td>\n",
       "      <td>-0.184137</td>\n",
       "      <td>0.977260</td>\n",
       "      <td>-0.023561</td>\n",
       "      <td>-0.073716</td>\n",
       "      <td>-0.064556</td>\n",
       "      <td>0.067763</td>\n",
       "      <td>0.050314</td>\n",
       "      <td>0.977260</td>\n",
       "      <td>0.427839</td>\n",
       "      <td>0.373016</td>\n",
       "      <td>0.401696</td>\n",
       "      <td>0.412429</td>\n",
       "    </tr>\n",
       "    <tr>\n",
       "      <th>host_id</th>\n",
       "      <td>-0.047947</td>\n",
       "      <td>1.000000</td>\n",
       "      <td>0.016587</td>\n",
       "      <td>0.015717</td>\n",
       "      <td>-0.018396</td>\n",
       "      <td>-0.035071</td>\n",
       "      <td>-0.086915</td>\n",
       "      <td>0.019981</td>\n",
       "      <td>-0.108917</td>\n",
       "      <td>-0.079646</td>\n",
       "      <td>-0.018396</td>\n",
       "      <td>-0.054819</td>\n",
       "      <td>-0.048062</td>\n",
       "      <td>-0.021097</td>\n",
       "      <td>-0.033419</td>\n",
       "    </tr>\n",
       "    <tr>\n",
       "      <th>latitude</th>\n",
       "      <td>0.021366</td>\n",
       "      <td>0.016587</td>\n",
       "      <td>1.000000</td>\n",
       "      <td>0.190047</td>\n",
       "      <td>0.025315</td>\n",
       "      <td>0.008291</td>\n",
       "      <td>0.038317</td>\n",
       "      <td>0.024808</td>\n",
       "      <td>-0.005915</td>\n",
       "      <td>0.011958</td>\n",
       "      <td>0.025315</td>\n",
       "      <td>-0.090468</td>\n",
       "      <td>-0.090678</td>\n",
       "      <td>-0.079148</td>\n",
       "      <td>-0.113937</td>\n",
       "    </tr>\n",
       "    <tr>\n",
       "      <th>longitude</th>\n",
       "      <td>-0.184137</td>\n",
       "      <td>0.015717</td>\n",
       "      <td>0.190047</td>\n",
       "      <td>1.000000</td>\n",
       "      <td>-0.197531</td>\n",
       "      <td>-0.011778</td>\n",
       "      <td>0.003863</td>\n",
       "      <td>0.012526</td>\n",
       "      <td>0.119211</td>\n",
       "      <td>0.098446</td>\n",
       "      <td>-0.197531</td>\n",
       "      <td>0.000513</td>\n",
       "      <td>0.017625</td>\n",
       "      <td>-0.049917</td>\n",
       "      <td>-0.003620</td>\n",
       "    </tr>\n",
       "    <tr>\n",
       "      <th>price_y</th>\n",
       "      <td>0.977260</td>\n",
       "      <td>-0.018396</td>\n",
       "      <td>0.025315</td>\n",
       "      <td>-0.197531</td>\n",
       "      <td>1.000000</td>\n",
       "      <td>-0.017162</td>\n",
       "      <td>-0.080374</td>\n",
       "      <td>-0.066591</td>\n",
       "      <td>0.036160</td>\n",
       "      <td>0.015957</td>\n",
       "      <td>1.000000</td>\n",
       "      <td>0.420488</td>\n",
       "      <td>0.384980</td>\n",
       "      <td>0.400832</td>\n",
       "      <td>0.399427</td>\n",
       "    </tr>\n",
       "    <tr>\n",
       "      <th>minimum_nights</th>\n",
       "      <td>-0.023561</td>\n",
       "      <td>-0.035071</td>\n",
       "      <td>0.008291</td>\n",
       "      <td>-0.011778</td>\n",
       "      <td>-0.017162</td>\n",
       "      <td>1.000000</td>\n",
       "      <td>-0.110471</td>\n",
       "      <td>-0.108307</td>\n",
       "      <td>-0.017046</td>\n",
       "      <td>-0.020619</td>\n",
       "      <td>-0.017162</td>\n",
       "      <td>-0.022869</td>\n",
       "      <td>-0.016431</td>\n",
       "      <td>-0.018531</td>\n",
       "      <td>0.004532</td>\n",
       "    </tr>\n",
       "    <tr>\n",
       "      <th>number_of_reviews</th>\n",
       "      <td>-0.073716</td>\n",
       "      <td>-0.086915</td>\n",
       "      <td>0.038317</td>\n",
       "      <td>0.003863</td>\n",
       "      <td>-0.080374</td>\n",
       "      <td>-0.110471</td>\n",
       "      <td>1.000000</td>\n",
       "      <td>0.843931</td>\n",
       "      <td>-0.019877</td>\n",
       "      <td>0.209516</td>\n",
       "      <td>-0.080374</td>\n",
       "      <td>0.078648</td>\n",
       "      <td>0.046271</td>\n",
       "      <td>-0.047655</td>\n",
       "      <td>-0.029500</td>\n",
       "    </tr>\n",
       "    <tr>\n",
       "      <th>reviews_per_month</th>\n",
       "      <td>-0.064556</td>\n",
       "      <td>0.019981</td>\n",
       "      <td>0.024808</td>\n",
       "      <td>0.012526</td>\n",
       "      <td>-0.066591</td>\n",
       "      <td>-0.108307</td>\n",
       "      <td>0.843931</td>\n",
       "      <td>1.000000</td>\n",
       "      <td>-0.034938</td>\n",
       "      <td>0.155976</td>\n",
       "      <td>-0.066591</td>\n",
       "      <td>0.052057</td>\n",
       "      <td>0.036546</td>\n",
       "      <td>-0.038933</td>\n",
       "      <td>-0.021378</td>\n",
       "    </tr>\n",
       "    <tr>\n",
       "      <th>calculated_host_listings_count</th>\n",
       "      <td>0.067763</td>\n",
       "      <td>-0.108917</td>\n",
       "      <td>-0.005915</td>\n",
       "      <td>0.119211</td>\n",
       "      <td>0.036160</td>\n",
       "      <td>-0.017046</td>\n",
       "      <td>-0.019877</td>\n",
       "      <td>-0.034938</td>\n",
       "      <td>1.000000</td>\n",
       "      <td>0.208076</td>\n",
       "      <td>0.036160</td>\n",
       "      <td>0.073152</td>\n",
       "      <td>0.040518</td>\n",
       "      <td>0.019873</td>\n",
       "      <td>-0.038243</td>\n",
       "    </tr>\n",
       "    <tr>\n",
       "      <th>availability_365</th>\n",
       "      <td>0.050314</td>\n",
       "      <td>-0.079646</td>\n",
       "      <td>0.011958</td>\n",
       "      <td>0.098446</td>\n",
       "      <td>0.015957</td>\n",
       "      <td>-0.020619</td>\n",
       "      <td>0.209516</td>\n",
       "      <td>0.155976</td>\n",
       "      <td>0.208076</td>\n",
       "      <td>1.000000</td>\n",
       "      <td>0.015957</td>\n",
       "      <td>0.069202</td>\n",
       "      <td>0.076760</td>\n",
       "      <td>0.023488</td>\n",
       "      <td>0.027631</td>\n",
       "    </tr>\n",
       "    <tr>\n",
       "      <th>price</th>\n",
       "      <td>0.977260</td>\n",
       "      <td>-0.018396</td>\n",
       "      <td>0.025315</td>\n",
       "      <td>-0.197531</td>\n",
       "      <td>1.000000</td>\n",
       "      <td>-0.017162</td>\n",
       "      <td>-0.080374</td>\n",
       "      <td>-0.066591</td>\n",
       "      <td>0.036160</td>\n",
       "      <td>0.015957</td>\n",
       "      <td>1.000000</td>\n",
       "      <td>0.420488</td>\n",
       "      <td>0.384980</td>\n",
       "      <td>0.400832</td>\n",
       "      <td>0.399427</td>\n",
       "    </tr>\n",
       "    <tr>\n",
       "      <th>accommodates</th>\n",
       "      <td>0.427839</td>\n",
       "      <td>-0.054819</td>\n",
       "      <td>-0.090468</td>\n",
       "      <td>0.000513</td>\n",
       "      <td>0.420488</td>\n",
       "      <td>-0.022869</td>\n",
       "      <td>0.078648</td>\n",
       "      <td>0.052057</td>\n",
       "      <td>0.073152</td>\n",
       "      <td>0.069202</td>\n",
       "      <td>0.420488</td>\n",
       "      <td>1.000000</td>\n",
       "      <td>0.823116</td>\n",
       "      <td>0.461731</td>\n",
       "      <td>0.723892</td>\n",
       "    </tr>\n",
       "    <tr>\n",
       "      <th>beds</th>\n",
       "      <td>0.373016</td>\n",
       "      <td>-0.048062</td>\n",
       "      <td>-0.090678</td>\n",
       "      <td>0.017625</td>\n",
       "      <td>0.384980</td>\n",
       "      <td>-0.016431</td>\n",
       "      <td>0.046271</td>\n",
       "      <td>0.036546</td>\n",
       "      <td>0.040518</td>\n",
       "      <td>0.076760</td>\n",
       "      <td>0.384980</td>\n",
       "      <td>0.823116</td>\n",
       "      <td>1.000000</td>\n",
       "      <td>0.490224</td>\n",
       "      <td>0.731054</td>\n",
       "    </tr>\n",
       "    <tr>\n",
       "      <th>bathrooms</th>\n",
       "      <td>0.401696</td>\n",
       "      <td>-0.021097</td>\n",
       "      <td>-0.079148</td>\n",
       "      <td>-0.049917</td>\n",
       "      <td>0.400832</td>\n",
       "      <td>-0.018531</td>\n",
       "      <td>-0.047655</td>\n",
       "      <td>-0.038933</td>\n",
       "      <td>0.019873</td>\n",
       "      <td>0.023488</td>\n",
       "      <td>0.400832</td>\n",
       "      <td>0.461731</td>\n",
       "      <td>0.490224</td>\n",
       "      <td>1.000000</td>\n",
       "      <td>0.535181</td>\n",
       "    </tr>\n",
       "    <tr>\n",
       "      <th>bedrooms</th>\n",
       "      <td>0.412429</td>\n",
       "      <td>-0.033419</td>\n",
       "      <td>-0.113937</td>\n",
       "      <td>-0.003620</td>\n",
       "      <td>0.399427</td>\n",
       "      <td>0.004532</td>\n",
       "      <td>-0.029500</td>\n",
       "      <td>-0.021378</td>\n",
       "      <td>-0.038243</td>\n",
       "      <td>0.027631</td>\n",
       "      <td>0.399427</td>\n",
       "      <td>0.723892</td>\n",
       "      <td>0.731054</td>\n",
       "      <td>0.535181</td>\n",
       "      <td>1.000000</td>\n",
       "    </tr>\n",
       "  </tbody>\n",
       "</table>\n",
       "</div>"
      ],
      "text/plain": [
       "                                 price_x   host_id  latitude  longitude  \\\n",
       "price_x                         1.000000 -0.047947  0.021366  -0.184137   \n",
       "host_id                        -0.047947  1.000000  0.016587   0.015717   \n",
       "latitude                        0.021366  0.016587  1.000000   0.190047   \n",
       "longitude                      -0.184137  0.015717  0.190047   1.000000   \n",
       "price_y                         0.977260 -0.018396  0.025315  -0.197531   \n",
       "minimum_nights                 -0.023561 -0.035071  0.008291  -0.011778   \n",
       "number_of_reviews              -0.073716 -0.086915  0.038317   0.003863   \n",
       "reviews_per_month              -0.064556  0.019981  0.024808   0.012526   \n",
       "calculated_host_listings_count  0.067763 -0.108917 -0.005915   0.119211   \n",
       "availability_365                0.050314 -0.079646  0.011958   0.098446   \n",
       "price                           0.977260 -0.018396  0.025315  -0.197531   \n",
       "accommodates                    0.427839 -0.054819 -0.090468   0.000513   \n",
       "beds                            0.373016 -0.048062 -0.090678   0.017625   \n",
       "bathrooms                       0.401696 -0.021097 -0.079148  -0.049917   \n",
       "bedrooms                        0.412429 -0.033419 -0.113937  -0.003620   \n",
       "\n",
       "                                 price_y  minimum_nights  number_of_reviews  \\\n",
       "price_x                         0.977260       -0.023561          -0.073716   \n",
       "host_id                        -0.018396       -0.035071          -0.086915   \n",
       "latitude                        0.025315        0.008291           0.038317   \n",
       "longitude                      -0.197531       -0.011778           0.003863   \n",
       "price_y                         1.000000       -0.017162          -0.080374   \n",
       "minimum_nights                 -0.017162        1.000000          -0.110471   \n",
       "number_of_reviews              -0.080374       -0.110471           1.000000   \n",
       "reviews_per_month              -0.066591       -0.108307           0.843931   \n",
       "calculated_host_listings_count  0.036160       -0.017046          -0.019877   \n",
       "availability_365                0.015957       -0.020619           0.209516   \n",
       "price                           1.000000       -0.017162          -0.080374   \n",
       "accommodates                    0.420488       -0.022869           0.078648   \n",
       "beds                            0.384980       -0.016431           0.046271   \n",
       "bathrooms                       0.400832       -0.018531          -0.047655   \n",
       "bedrooms                        0.399427        0.004532          -0.029500   \n",
       "\n",
       "                                reviews_per_month  \\\n",
       "price_x                                 -0.064556   \n",
       "host_id                                  0.019981   \n",
       "latitude                                 0.024808   \n",
       "longitude                                0.012526   \n",
       "price_y                                 -0.066591   \n",
       "minimum_nights                          -0.108307   \n",
       "number_of_reviews                        0.843931   \n",
       "reviews_per_month                        1.000000   \n",
       "calculated_host_listings_count          -0.034938   \n",
       "availability_365                         0.155976   \n",
       "price                                   -0.066591   \n",
       "accommodates                             0.052057   \n",
       "beds                                     0.036546   \n",
       "bathrooms                               -0.038933   \n",
       "bedrooms                                -0.021378   \n",
       "\n",
       "                                calculated_host_listings_count  \\\n",
       "price_x                                               0.067763   \n",
       "host_id                                              -0.108917   \n",
       "latitude                                             -0.005915   \n",
       "longitude                                             0.119211   \n",
       "price_y                                               0.036160   \n",
       "minimum_nights                                       -0.017046   \n",
       "number_of_reviews                                    -0.019877   \n",
       "reviews_per_month                                    -0.034938   \n",
       "calculated_host_listings_count                        1.000000   \n",
       "availability_365                                      0.208076   \n",
       "price                                                 0.036160   \n",
       "accommodates                                          0.073152   \n",
       "beds                                                  0.040518   \n",
       "bathrooms                                             0.019873   \n",
       "bedrooms                                             -0.038243   \n",
       "\n",
       "                                availability_365     price  accommodates  \\\n",
       "price_x                                 0.050314  0.977260      0.427839   \n",
       "host_id                                -0.079646 -0.018396     -0.054819   \n",
       "latitude                                0.011958  0.025315     -0.090468   \n",
       "longitude                               0.098446 -0.197531      0.000513   \n",
       "price_y                                 0.015957  1.000000      0.420488   \n",
       "minimum_nights                         -0.020619 -0.017162     -0.022869   \n",
       "number_of_reviews                       0.209516 -0.080374      0.078648   \n",
       "reviews_per_month                       0.155976 -0.066591      0.052057   \n",
       "calculated_host_listings_count          0.208076  0.036160      0.073152   \n",
       "availability_365                        1.000000  0.015957      0.069202   \n",
       "price                                   0.015957  1.000000      0.420488   \n",
       "accommodates                            0.069202  0.420488      1.000000   \n",
       "beds                                    0.076760  0.384980      0.823116   \n",
       "bathrooms                               0.023488  0.400832      0.461731   \n",
       "bedrooms                                0.027631  0.399427      0.723892   \n",
       "\n",
       "                                    beds  bathrooms  bedrooms  \n",
       "price_x                         0.373016   0.401696  0.412429  \n",
       "host_id                        -0.048062  -0.021097 -0.033419  \n",
       "latitude                       -0.090678  -0.079148 -0.113937  \n",
       "longitude                       0.017625  -0.049917 -0.003620  \n",
       "price_y                         0.384980   0.400832  0.399427  \n",
       "minimum_nights                 -0.016431  -0.018531  0.004532  \n",
       "number_of_reviews               0.046271  -0.047655 -0.029500  \n",
       "reviews_per_month               0.036546  -0.038933 -0.021378  \n",
       "calculated_host_listings_count  0.040518   0.019873 -0.038243  \n",
       "availability_365                0.076760   0.023488  0.027631  \n",
       "price                           0.384980   0.400832  0.399427  \n",
       "accommodates                    0.823116   0.461731  0.723892  \n",
       "beds                            1.000000   0.490224  0.731054  \n",
       "bathrooms                       0.490224   1.000000  0.535181  \n",
       "bedrooms                        0.731054   0.535181  1.000000  "
      ]
     },
     "execution_count": 5,
     "metadata": {},
     "output_type": "execute_result"
    }
   ],
   "source": [
    "cdmergeldls.corr()"
   ]
  },
  {
   "cell_type": "markdown",
   "metadata": {},
   "source": [
    "It might make sense to create an availability variable that is the percentage of the time that an Airbnb is available. A higher value would mean an Airbnb is less popular, since it is more available and vice versa. This way I think we can test the correlation between certain features and availability. "
   ]
  },
  {
   "cell_type": "markdown",
   "metadata": {},
   "source": [
    "<b> Issue: There are some that have 0 availability for over a year and I don't think this is because they are booked I think they are no longer or at least temporarily not offering their Airbnb. "
   ]
  },
  {
   "cell_type": "code",
   "execution_count": 20,
   "metadata": {},
   "outputs": [],
   "source": [
    "cdmergeldls['availability']=(cdmergeldls.available.groupby(cdmergeldls.index).sum())/365"
   ]
  },
  {
   "cell_type": "code",
   "execution_count": 21,
   "metadata": {},
   "outputs": [
    {
     "data": {
      "text/plain": [
       "cancellation_policy  neighbourhood_group\n",
       "flexible             Bronx                    1460\n",
       "                     Brooklyn                36135\n",
       "                     Manhattan               40150\n",
       "                     Queens                   8395\n",
       "                     Staten Island            1095\n",
       "moderate             Bronx                    1825\n",
       "                     Brooklyn               117460\n",
       "                     Manhattan              117530\n",
       "                     Queens                  12410\n",
       "                     Staten Island            1825\n",
       "strict               Bronx                    9125\n",
       "                     Brooklyn               305140\n",
       "                     Manhattan              345290\n",
       "                     Queens                  43435\n",
       "                     Staten Island            5475\n",
       "super_strict_30      Brooklyn                  365\n",
       "                     Manhattan                1460\n",
       "Name: cancellation_policy, dtype: int64"
      ]
     },
     "execution_count": 21,
     "metadata": {},
     "output_type": "execute_result"
    }
   ],
   "source": [
    "cdmergeldls.cancellation_policy.groupby([cdmergeldls['cancellation_policy'],cdmergeldls['neighbourhood_group']]).size()"
   ]
  },
  {
   "cell_type": "code",
   "execution_count": 7,
   "metadata": {},
   "outputs": [
    {
     "data": {
      "text/plain": [
       "<matplotlib.axes._subplots.AxesSubplot at 0x7ff9a77c83c8>"
      ]
     },
     "execution_count": 7,
     "metadata": {},
     "output_type": "execute_result"
    },
    {
     "data": {
      "image/png": "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\n",
      "text/plain": [
       "<Figure size 432x288 with 1 Axes>"
      ]
     },
     "metadata": {
      "needs_background": "light"
     },
     "output_type": "display_data"
    }
   ],
   "source": [
    "sns.countplot(cdmergeldls[\"cancellation_policy\"], hue=cdmergeldls['neighbourhood_group'] ) "
   ]
  },
  {
   "cell_type": "markdown",
   "metadata": {},
   "source": [
    "Now we need to see how this may or may not affect availability or price - how???"
   ]
  },
  {
   "cell_type": "markdown",
   "metadata": {},
   "source": [
    "Should we make cancellation policy numeric, with 1 representing flexible, 2 moderate, 3 strict, and 4 very strict?"
   ]
  },
  {
   "cell_type": "code",
   "execution_count": 12,
   "metadata": {},
   "outputs": [
    {
     "data": {
      "image/png": "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\n",
      "text/plain": [
       "<Figure size 432x288 with 1 Axes>"
      ]
     },
     "metadata": {},
     "output_type": "display_data"
    }
   ],
   "source": [
    "import seaborn as sns\n",
    "sns.set(style=\"whitegrid\")\n",
    "ax = sns.boxplot(x=\"neighbourhood_group\",y='availability',data=cdmergeldls)"
   ]
  },
  {
   "cell_type": "code",
   "execution_count": 20,
   "metadata": {},
   "outputs": [
    {
     "data": {
      "text/plain": [
       "listing_id\n",
       "2515      0.0\n",
       "2515      0.0\n",
       "2515      0.0\n",
       "2515      0.0\n",
       "2515      0.0\n",
       "2515      0.0\n",
       "2515      0.0\n",
       "2515      0.0\n",
       "2515      0.0\n",
       "2515      0.0\n",
       "2515      0.0\n",
       "2515      0.0\n",
       "2515      0.0\n",
       "2515      0.0\n",
       "2515      0.0\n",
       "2515      0.0\n",
       "2515      0.0\n",
       "2515      0.0\n",
       "2515      0.0\n",
       "2515      0.0\n",
       "2515      0.0\n",
       "2515      0.0\n",
       "2515      0.0\n",
       "2515      0.0\n",
       "2515      0.0\n",
       "2515      0.0\n",
       "2515      0.0\n",
       "2515      0.0\n",
       "2515      0.0\n",
       "2515      0.0\n",
       "         ... \n",
       "933129    0.0\n",
       "933129    0.0\n",
       "933129    0.0\n",
       "933129    0.0\n",
       "933129    0.0\n",
       "933129    0.0\n",
       "933129    0.0\n",
       "933129    0.0\n",
       "933129    0.0\n",
       "933129    0.0\n",
       "933129    0.0\n",
       "933129    0.0\n",
       "933129    0.0\n",
       "933129    0.0\n",
       "933129    0.0\n",
       "933129    0.0\n",
       "933129    0.0\n",
       "933129    0.0\n",
       "933129    0.0\n",
       "933129    0.0\n",
       "933129    0.0\n",
       "933129    0.0\n",
       "933129    0.0\n",
       "933129    0.0\n",
       "933129    0.0\n",
       "933129    0.0\n",
       "933129    0.0\n",
       "933129    0.0\n",
       "933129    0.0\n",
       "933129    0.0\n",
       "Name: availability, Length: 1048575, dtype: float64"
      ]
     },
     "execution_count": 20,
     "metadata": {},
     "output_type": "execute_result"
    }
   ],
   "source": [
    "cdmergeldls.availability"
   ]
  },
  {
   "cell_type": "markdown",
   "metadata": {},
   "source": [
    "### Question 3: \n",
    "How important are reviews and how much do they affect whether or not an Airbnb gets booked?"
   ]
  },
  {
   "cell_type": "markdown",
   "metadata": {},
   "source": [
    "### Question 5:\n",
    "What hosts are busiest? Why?"
   ]
  },
  {
   "cell_type": "markdown",
   "metadata": {},
   "source": [
    "### Visualize Data on Map\n",
    "- What areas are most popular? why?"
   ]
  },
  {
   "cell_type": "markdown",
   "metadata": {},
   "source": [
    "#### Number of Airbnbs by Neighbourhood"
   ]
  },
  {
   "cell_type": "code",
   "execution_count": 89,
   "metadata": {},
   "outputs": [
    {
     "data": {
      "text/plain": [
       "neighbourhood_group\n",
       "Bronx              791\n",
       "Brooklyn         18470\n",
       "Manhattan        20370\n",
       "Queens            4392\n",
       "Staten Island      294\n",
       "Name: host_id, dtype: int64"
      ]
     },
     "execution_count": 89,
     "metadata": {},
     "output_type": "execute_result"
    }
   ],
   "source": [
    "#Use host id since there are no missing - meaning we get every record when counting\n",
    "ls['host_id'].groupby(ls['neighbourhood_group']).count()"
   ]
  },
  {
   "cell_type": "code",
   "execution_count": 88,
   "metadata": {},
   "outputs": [
    {
     "data": {
      "image/png": "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\n",
      "text/plain": [
       "<Figure size 432x432 with 1 Axes>"
      ]
     },
     "metadata": {
      "needs_background": "light"
     },
     "output_type": "display_data"
    }
   ],
   "source": [
    "#https://www.kaggle.com/darkrubiks/nyc-airbnb-exploratory-analysis\n",
    "#Amount of Airbnbs by borough\n",
    "plt.figure(figsize=(6,6))\n",
    "ax = sns.countplot(ls[\"neighbourhood_group\"], palette=\"plasma\" ) \n",
    "plt.title('Number of Airbnb\\'s by Borough',color = 'k',fontsize = 15)"
   ]
  },
  {
   "cell_type": "code",
   "execution_count": 122,
   "metadata": {},
   "outputs": [
    {
     "data": {
      "image/png": "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\n",
      "text/plain": [
       "<Figure size 432x432 with 1 Axes>"
      ]
     },
     "metadata": {},
     "output_type": "display_data"
    }
   ],
   "source": [
    "labels = ls.neighbourhood_group.value_counts().index\n",
    "colors = ['lime','blue','teal','cyan','green']\n",
    "explode = [0,0,0,0,0]\n",
    "sizes = ls.neighbourhood_group.value_counts().values\n",
    "\n",
    "plt.figure(0,figsize = (6,6))\n",
    "plt.pie(sizes, explode=explode, labels=labels, colors=colors, autopct='%1.1f%%')\n",
    "plt.title('Airbnb According to Neighbourhood Group',color = 'k',fontsize = 15)\n",
    "plt.show()"
   ]
  },
  {
   "cell_type": "code",
   "execution_count": 6,
   "metadata": {},
   "outputs": [
    {
     "ename": "NameError",
     "evalue": "name 'cities' is not defined",
     "output_type": "error",
     "traceback": [
      "\u001b[0;31m---------------------------------------------------------------------------\u001b[0m",
      "\u001b[0;31mNameError\u001b[0m                                 Traceback (most recent call last)",
      "\u001b[0;32m<ipython-input-6-09a5e4b543ea>\u001b[0m in \u001b[0;36m<module>\u001b[0;34m\u001b[0m\n\u001b[1;32m      1\u001b[0m \u001b[0;31m# Extract the data we're interested in\u001b[0m\u001b[0;34m\u001b[0m\u001b[0;34m\u001b[0m\u001b[0;34m\u001b[0m\u001b[0m\n\u001b[0;32m----> 2\u001b[0;31m \u001b[0mlat\u001b[0m \u001b[0;34m=\u001b[0m \u001b[0mcities\u001b[0m\u001b[0;34m[\u001b[0m\u001b[0;34m'latd'\u001b[0m\u001b[0;34m]\u001b[0m\u001b[0;34m.\u001b[0m\u001b[0mvalues\u001b[0m\u001b[0;34m\u001b[0m\u001b[0;34m\u001b[0m\u001b[0m\n\u001b[0m\u001b[1;32m      3\u001b[0m \u001b[0mlon\u001b[0m \u001b[0;34m=\u001b[0m \u001b[0mcities\u001b[0m\u001b[0;34m[\u001b[0m\u001b[0;34m'longd'\u001b[0m\u001b[0;34m]\u001b[0m\u001b[0;34m.\u001b[0m\u001b[0mvalues\u001b[0m\u001b[0;34m\u001b[0m\u001b[0;34m\u001b[0m\u001b[0m\n\u001b[1;32m      4\u001b[0m \u001b[0mpopulation\u001b[0m \u001b[0;34m=\u001b[0m \u001b[0mcities\u001b[0m\u001b[0;34m[\u001b[0m\u001b[0;34m'population_total'\u001b[0m\u001b[0;34m]\u001b[0m\u001b[0;34m.\u001b[0m\u001b[0mvalues\u001b[0m\u001b[0;34m\u001b[0m\u001b[0;34m\u001b[0m\u001b[0m\n\u001b[1;32m      5\u001b[0m \u001b[0marea\u001b[0m \u001b[0;34m=\u001b[0m \u001b[0mcities\u001b[0m\u001b[0;34m[\u001b[0m\u001b[0;34m'area_total_km2'\u001b[0m\u001b[0;34m]\u001b[0m\u001b[0;34m.\u001b[0m\u001b[0mvalues\u001b[0m\u001b[0;34m\u001b[0m\u001b[0;34m\u001b[0m\u001b[0m\n",
      "\u001b[0;31mNameError\u001b[0m: name 'cities' is not defined"
     ]
    }
   ],
   "source": [
    "# Extract the data we're interested in\n",
    "lat = cities['latd'].values\n",
    "lon = cities['longd'].values\n",
    "population = cities['population_total'].values\n",
    "area = cities['area_total_km2'].values"
   ]
  },
  {
   "cell_type": "code",
   "execution_count": 28,
   "metadata": {
    "scrolled": true
   },
   "outputs": [
    {
     "data": {
      "text/plain": [
       "<cartopy.mpl.feature_artist.FeatureArtist at 0x7f72f9698e48>"
      ]
     },
     "execution_count": 28,
     "metadata": {},
     "output_type": "execute_result"
    },
    {
     "data": {
      "image/png": "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
