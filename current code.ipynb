{
 "cells": [
  {
   "cell_type": "markdown",
   "metadata": {},
   "source": [
    "### Read in Data"
   ]
  },
  {
   "cell_type": "code",
   "execution_count": 2,
   "metadata": {},
   "outputs": [],
   "source": [
    "%matplotlib inline\n",
    "import matplotlib.pyplot as plt\n",
    "import matplotlib as mpl\n",
    "import numpy as np\n",
    "import pandas as pd\n",
    "import geopandas as gpd\n",
    "import seaborn as sns\n",
    "import researchpy as rp\n",
    "\n",
    "from descartes.patch import PolygonPatch\n",
    "from mpl_toolkits.mplot3d import Axes3D\n",
    "from matplotlib.collections import PolyCollection\n",
    "from matplotlib.collections import PatchCollection"
   ]
  },
  {
   "cell_type": "code",
   "execution_count": 3,
   "metadata": {},
   "outputs": [],
   "source": [
    "listings_detail = pd.read_excel('../CourseProject/data/listings_detail.xlsx', index_col=0)\n",
    "calendar_detail = pd.read_excel('../CourseProject/data/calendar_detail.xlsx' , index_col=0)\n",
    "neighbourhoods = pd.read_excel('../CourseProject/data/neighbourhoods.xlsx', index_col=0)\n",
    "reviews = pd.read_excel('../CourseProject/data/reviews_detail.xlsx', index_col=0)\n",
    "crime = pd.read_excel('../CourseProject/data/NYPD_Arrests_Data__Historic_.xlsx', index_col=0)\n",
    "nbgeo = gpd.read_file('../CourseProject/data/neighbourhoods.geojson')\n",
    "ls=pd.read_csv('../CourseProject/data/listings_summary.csv', index_col=0)"
   ]
  },
  {
   "cell_type": "markdown",
   "metadata": {},
   "source": [
    "### Data Cleaning\n",
    "There are many missing values which either need to be removed or estimated so that they do not affect our results"
   ]
  },
  {
   "cell_type": "code",
   "execution_count": 2,
   "metadata": {},
   "outputs": [
    {
     "name": "stdout",
     "output_type": "stream",
     "text": [
      "Number of records: 44317\n"
     ]
    }
   ],
   "source": [
    "#How many records we start with\n",
    "print(f'Number of records: {listings_detail.count()[0]}')"
   ]
  },
  {
   "cell_type": "code",
   "execution_count": 87,
   "metadata": {},
   "outputs": [
    {
     "data": {
      "text/plain": [
       "name                                28\n",
       "host_id                              0\n",
       "host_name                          232\n",
       "neighbourhood_group                  0\n",
       "neighbourhood                        0\n",
       "latitude                             0\n",
       "longitude                            0\n",
       "room_type                            0\n",
       "price                                0\n",
       "minimum_nights                       0\n",
       "number_of_reviews                    0\n",
       "last_review                       9440\n",
       "reviews_per_month                 9474\n",
       "calculated_host_listings_count       0\n",
       "availability_365                     0\n",
       "dtype: int64"
      ]
     },
     "execution_count": 87,
     "metadata": {},
     "output_type": "execute_result"
    }
   ],
   "source": [
    "#What is missing?\n",
    "ls.isna().sum()"
   ]
  },
  {
   "cell_type": "code",
   "execution_count": 91,
   "metadata": {
    "scrolled": true
   },
   "outputs": [
    {
     "data": {
      "text/plain": [
       "listing_url                             1\n",
       "scrape_id                               1\n",
       "last_scraped                            1\n",
       "name                                   40\n",
       "summary                              1521\n",
       "space                               14501\n",
       "description                            30\n",
       "experiences_offered                     1\n",
       "neighborhood_overview               18695\n",
       "notes                               28202\n",
       "transit                             16963\n",
       "access                              19105\n",
       "interaction                         19941\n",
       "house_rules                         19177\n",
       "thumbnail_url                        3306\n",
       "medium_url                           3306\n",
       "picture_url                             1\n",
       "xl_picture_url                       3306\n",
       "host_id                                 1\n",
       "host_url                                1\n",
       "host_name                             232\n",
       "host_since                            232\n",
       "host_location                         405\n",
       "host_about                          17207\n",
       "host_response_time                  13678\n",
       "host_response_rate                  13678\n",
       "host_acceptance_rate                44268\n",
       "host_is_superhost                     232\n",
       "host_thumbnail_url                    232\n",
       "host_picture_url                      232\n",
       "                                    ...  \n",
       "has_availability                        1\n",
       "availability_30                         1\n",
       "availability_60                         1\n",
       "availability_90                         1\n",
       "availability_365                        1\n",
       "calendar_last_scraped                   1\n",
       "number_of_reviews                       1\n",
       "first_review                         9450\n",
       "last_review                          9416\n",
       "review_scores_rating                10074\n",
       "review_scores_accuracy              10152\n",
       "review_scores_cleanliness           10121\n",
       "review_scores_checkin               10248\n",
       "review_scores_communication         10149\n",
       "review_scores_location              10267\n",
       "review_scores_value                 10271\n",
       "requires_license                        1\n",
       "license                             44268\n",
       "jurisdiction_names                  44261\n",
       "instant_bookable                        1\n",
       "is_business_travel_ready                1\n",
       "cancellation_policy                     1\n",
       "require_guest_profile_picture           1\n",
       "require_guest_phone_verification        1\n",
       "calculated_host_listings_count          1\n",
       "reviews_per_month                    9449\n",
       "Unnamed: 96                         44268\n",
       "Unnamed: 97                         44268\n",
       "Unnamed: 98                         44268\n",
       "Unnamed: 99                         44266\n",
       "Length: 99, dtype: int64"
      ]
     },
     "execution_count": 91,
     "metadata": {},
     "output_type": "execute_result"
    }
   ],
   "source": [
    "#What is missing?\n",
    "listings_detail.isna().sum()"
   ]
  },
  {
   "cell_type": "code",
   "execution_count": 23,
   "metadata": {},
   "outputs": [],
   "source": [
    "#Fix NaN in review per month \n",
    "\n",
    "#Estimate attempt:\n",
    "#Use to fill in missing values with median\n",
    "def impute_median(series):\n",
    "    return series.fillna(series.median())\n",
    "\n",
    "listings_detail.loc['reviews_per_month']=listings_detail[\"reviews_per_month\"].transform(impute_median)\n",
    "\n",
    "\n",
    "#Remove records that do not have a room to offer\n",
    "listings_detail=listings_detail[listings_detail['room_type'] != 0]\n",
    "\n",
    "#Remove records that are \"free\"\n",
    "listings_detail=listings_detail[listings_detail['price']!=0]"
   ]
  },
  {
   "cell_type": "code",
   "execution_count": 24,
   "metadata": {},
   "outputs": [
    {
     "name": "stdout",
     "output_type": "stream",
     "text": [
      "Number of records after cleaning: 44267\n"
     ]
    }
   ],
   "source": [
    "#How many records we have now\n",
    "print(f'Number of records after cleaning: {listings_detail.count()[0]}')"
   ]
  },
  {
   "cell_type": "markdown",
   "metadata": {},
   "source": [
    "### EDA "
   ]
  },
  {
   "cell_type": "code",
   "execution_count": 41,
   "metadata": {},
   "outputs": [
    {
     "data": {
      "text/plain": [
       "203"
      ]
     },
     "execution_count": 41,
     "metadata": {},
     "output_type": "execute_result"
    }
   ],
   "source": [
    "#there's 202 unique neighborhoods - do we want to reduce this? how?\n",
    "listings_detail['neighbourhood'].nunique()"
   ]
  },
  {
   "cell_type": "code",
   "execution_count": 32,
   "metadata": {
    "scrolled": false
   },
   "outputs": [
    {
     "data": {
      "text/html": [
       "<div>\n",
       "<style scoped>\n",
       "    .dataframe tbody tr th:only-of-type {\n",
       "        vertical-align: middle;\n",
       "    }\n",
       "\n",
       "    .dataframe tbody tr th {\n",
       "        vertical-align: top;\n",
       "    }\n",
       "\n",
       "    .dataframe thead th {\n",
       "        text-align: right;\n",
       "    }\n",
       "</style>\n",
       "<table border=\"1\" class=\"dataframe\">\n",
       "  <thead>\n",
       "    <tr style=\"text-align: right;\">\n",
       "      <th></th>\n",
       "      <th>name</th>\n",
       "      <th>host_id</th>\n",
       "      <th>host_name</th>\n",
       "      <th>neighbourhood_group</th>\n",
       "      <th>neighbourhood</th>\n",
       "      <th>latitude</th>\n",
       "      <th>longitude</th>\n",
       "      <th>room_type</th>\n",
       "      <th>price</th>\n",
       "      <th>minimum_nights</th>\n",
       "      <th>number_of_reviews</th>\n",
       "      <th>last_review</th>\n",
       "      <th>reviews_per_month</th>\n",
       "      <th>calculated_host_listings_count</th>\n",
       "      <th>availability_365</th>\n",
       "    </tr>\n",
       "    <tr>\n",
       "      <th>id</th>\n",
       "      <th></th>\n",
       "      <th></th>\n",
       "      <th></th>\n",
       "      <th></th>\n",
       "      <th></th>\n",
       "      <th></th>\n",
       "      <th></th>\n",
       "      <th></th>\n",
       "      <th></th>\n",
       "      <th></th>\n",
       "      <th></th>\n",
       "      <th></th>\n",
       "      <th></th>\n",
       "      <th></th>\n",
       "      <th></th>\n",
       "    </tr>\n",
       "  </thead>\n",
       "  <tbody>\n",
       "    <tr>\n",
       "      <th>18461891</th>\n",
       "      <td>Bright, comfortable 1B studio near everything!</td>\n",
       "      <td>916092</td>\n",
       "      <td>Connie Mae</td>\n",
       "      <td>Queens</td>\n",
       "      <td>Ditmars Steinway</td>\n",
       "      <td>40.774142</td>\n",
       "      <td>-73.916246</td>\n",
       "      <td>Entire home/apt</td>\n",
       "      <td>110</td>\n",
       "      <td>6</td>\n",
       "      <td>0</td>\n",
       "      <td>NaN</td>\n",
       "      <td>NaN</td>\n",
       "      <td>1</td>\n",
       "      <td>0</td>\n",
       "    </tr>\n",
       "    <tr>\n",
       "      <th>20702398</th>\n",
       "      <td>Quiet house on City Island</td>\n",
       "      <td>1457680</td>\n",
       "      <td>James</td>\n",
       "      <td>Bronx</td>\n",
       "      <td>City Island</td>\n",
       "      <td>40.849191</td>\n",
       "      <td>-73.786509</td>\n",
       "      <td>Private room</td>\n",
       "      <td>50</td>\n",
       "      <td>1</td>\n",
       "      <td>2</td>\n",
       "      <td>2017-10-01</td>\n",
       "      <td>2.00</td>\n",
       "      <td>1</td>\n",
       "      <td>169</td>\n",
       "    </tr>\n",
       "    <tr>\n",
       "      <th>6627449</th>\n",
       "      <td>Large 1 BDRM in Great location</td>\n",
       "      <td>13886510</td>\n",
       "      <td>Arlene</td>\n",
       "      <td>Bronx</td>\n",
       "      <td>City Island</td>\n",
       "      <td>40.849775</td>\n",
       "      <td>-73.786609</td>\n",
       "      <td>Entire home/apt</td>\n",
       "      <td>125</td>\n",
       "      <td>3</td>\n",
       "      <td>21</td>\n",
       "      <td>2017-09-26</td>\n",
       "      <td>0.77</td>\n",
       "      <td>1</td>\n",
       "      <td>363</td>\n",
       "    </tr>\n",
       "    <tr>\n",
       "      <th>19949243</th>\n",
       "      <td>Stay aboard  a sailboat</td>\n",
       "      <td>1149260</td>\n",
       "      <td>MoMo</td>\n",
       "      <td>Bronx</td>\n",
       "      <td>City Island</td>\n",
       "      <td>40.848838</td>\n",
       "      <td>-73.782276</td>\n",
       "      <td>Entire home/apt</td>\n",
       "      <td>100</td>\n",
       "      <td>3</td>\n",
       "      <td>0</td>\n",
       "      <td>NaN</td>\n",
       "      <td>NaN</td>\n",
       "      <td>1</td>\n",
       "      <td>90</td>\n",
       "    </tr>\n",
       "    <tr>\n",
       "      <th>1886820</th>\n",
       "      <td>Quaint City Island Community.</td>\n",
       "      <td>9815788</td>\n",
       "      <td>Steve</td>\n",
       "      <td>Bronx</td>\n",
       "      <td>City Island</td>\n",
       "      <td>40.841144</td>\n",
       "      <td>-73.783052</td>\n",
       "      <td>Entire home/apt</td>\n",
       "      <td>300</td>\n",
       "      <td>7</td>\n",
       "      <td>0</td>\n",
       "      <td>NaN</td>\n",
       "      <td>NaN</td>\n",
       "      <td>1</td>\n",
       "      <td>365</td>\n",
       "    </tr>\n",
       "  </tbody>\n",
       "</table>\n",
       "</div>"
      ],
      "text/plain": [
       "                                                    name   host_id  \\\n",
       "id                                                                   \n",
       "18461891  Bright, comfortable 1B studio near everything!    916092   \n",
       "20702398                      Quiet house on City Island   1457680   \n",
       "6627449                   Large 1 BDRM in Great location  13886510   \n",
       "19949243                         Stay aboard  a sailboat   1149260   \n",
       "1886820                   Quaint City Island Community.    9815788   \n",
       "\n",
       "           host_name neighbourhood_group     neighbourhood   latitude  \\\n",
       "id                                                                      \n",
       "18461891  Connie Mae              Queens  Ditmars Steinway  40.774142   \n",
       "20702398       James               Bronx       City Island  40.849191   \n",
       "6627449       Arlene               Bronx       City Island  40.849775   \n",
       "19949243        MoMo               Bronx       City Island  40.848838   \n",
       "1886820        Steve               Bronx       City Island  40.841144   \n",
       "\n",
       "          longitude        room_type  price  minimum_nights  \\\n",
       "id                                                            \n",
       "18461891 -73.916246  Entire home/apt    110               6   \n",
       "20702398 -73.786509     Private room     50               1   \n",
       "6627449  -73.786609  Entire home/apt    125               3   \n",
       "19949243 -73.782276  Entire home/apt    100               3   \n",
       "1886820  -73.783052  Entire home/apt    300               7   \n",
       "\n",
       "          number_of_reviews last_review  reviews_per_month  \\\n",
       "id                                                           \n",
       "18461891                  0         NaN                NaN   \n",
       "20702398                  2  2017-10-01               2.00   \n",
       "6627449                  21  2017-09-26               0.77   \n",
       "19949243                  0         NaN                NaN   \n",
       "1886820                   0         NaN                NaN   \n",
       "\n",
       "          calculated_host_listings_count  availability_365  \n",
       "id                                                          \n",
       "18461891                               1                 0  \n",
       "20702398                               1               169  \n",
       "6627449                                1               363  \n",
       "19949243                               1                90  \n",
       "1886820                                1               365  "
      ]
     },
     "execution_count": 32,
     "metadata": {},
     "output_type": "execute_result"
    }
   ],
   "source": [
    "ls=pd.read_csv('../CourseProject/data/listings_summary.csv', index_col=0)\n",
    "ls.head()"
   ]
  },
  {
   "cell_type": "markdown",
   "metadata": {},
   "source": [
    "### <b> Question 1: </b>\n",
    "Is there a difference in the cost, popularity, and ratings for different areas? Do additional research to learn why."
   ]
  },
  {
   "cell_type": "markdown",
   "metadata": {},
   "source": [
    "#### Price"
   ]
  },
  {
   "cell_type": "code",
   "execution_count": 38,
   "metadata": {},
   "outputs": [
    {
     "name": "stdout",
     "output_type": "stream",
     "text": [
      "\n",
      "\n"
     ]
    },
    {
     "data": {
      "text/html": [
       "<div>\n",
       "<style scoped>\n",
       "    .dataframe tbody tr th:only-of-type {\n",
       "        vertical-align: middle;\n",
       "    }\n",
       "\n",
       "    .dataframe tbody tr th {\n",
       "        vertical-align: top;\n",
       "    }\n",
       "\n",
       "    .dataframe thead th {\n",
       "        text-align: right;\n",
       "    }\n",
       "</style>\n",
       "<table border=\"1\" class=\"dataframe\">\n",
       "  <thead>\n",
       "    <tr style=\"text-align: right;\">\n",
       "      <th></th>\n",
       "      <th>Variable</th>\n",
       "      <th>N</th>\n",
       "      <th>Mean</th>\n",
       "      <th>SD</th>\n",
       "      <th>SE</th>\n",
       "      <th>95% Conf.</th>\n",
       "      <th>Interval</th>\n",
       "    </tr>\n",
       "  </thead>\n",
       "  <tbody>\n",
       "    <tr>\n",
       "      <th>0</th>\n",
       "      <td>price</td>\n",
       "      <td>44317.0</td>\n",
       "      <td>147.675948</td>\n",
       "      <td>209.138888</td>\n",
       "      <td>0.993458</td>\n",
       "      <td>145.728753</td>\n",
       "      <td>149.623144</td>\n",
       "    </tr>\n",
       "  </tbody>\n",
       "</table>\n",
       "</div>"
      ],
      "text/plain": [
       "  Variable        N        Mean          SD        SE   95% Conf.    Interval\n",
       "0    price  44317.0  147.675948  209.138888  0.993458  145.728753  149.623144"
      ]
     },
     "execution_count": 38,
     "metadata": {},
     "output_type": "execute_result"
    }
   ],
   "source": [
    "rp.summary_cont(ls['price'])"
   ]
  },
  {
   "cell_type": "markdown",
   "metadata": {},
   "source": [
    "That gives us data by whole, but we really are interested in the data by neighbourhood"
   ]
  },
  {
   "cell_type": "code",
   "execution_count": 39,
   "metadata": {},
   "outputs": [
    {
     "name": "stdout",
     "output_type": "stream",
     "text": [
      "\n",
      "\n"
     ]
    },
    {
     "data": {
      "text/html": [
       "<div>\n",
       "<style scoped>\n",
       "    .dataframe tbody tr th:only-of-type {\n",
       "        vertical-align: middle;\n",
       "    }\n",
       "\n",
       "    .dataframe tbody tr th {\n",
       "        vertical-align: top;\n",
       "    }\n",
       "\n",
       "    .dataframe thead th {\n",
       "        text-align: right;\n",
       "    }\n",
       "</style>\n",
       "<table border=\"1\" class=\"dataframe\">\n",
       "  <thead>\n",
       "    <tr style=\"text-align: right;\">\n",
       "      <th></th>\n",
       "      <th>N</th>\n",
       "      <th>Mean</th>\n",
       "      <th>SD</th>\n",
       "      <th>SE</th>\n",
       "      <th>95% Conf.</th>\n",
       "      <th>Interval</th>\n",
       "    </tr>\n",
       "    <tr>\n",
       "      <th>neighbourhood_group</th>\n",
       "      <th></th>\n",
       "      <th></th>\n",
       "      <th></th>\n",
       "      <th></th>\n",
       "      <th></th>\n",
       "      <th></th>\n",
       "    </tr>\n",
       "  </thead>\n",
       "  <tbody>\n",
       "    <tr>\n",
       "      <th>Bronx</th>\n",
       "      <td>791</td>\n",
       "      <td>88.910240</td>\n",
       "      <td>147.269875</td>\n",
       "      <td>5.236314</td>\n",
       "      <td>78.640571</td>\n",
       "      <td>99.179909</td>\n",
       "    </tr>\n",
       "    <tr>\n",
       "      <th>Brooklyn</th>\n",
       "      <td>18470</td>\n",
       "      <td>120.701624</td>\n",
       "      <td>178.882444</td>\n",
       "      <td>1.316238</td>\n",
       "      <td>118.121729</td>\n",
       "      <td>123.281520</td>\n",
       "    </tr>\n",
       "    <tr>\n",
       "      <th>Manhattan</th>\n",
       "      <td>20370</td>\n",
       "      <td>185.082867</td>\n",
       "      <td>233.717036</td>\n",
       "      <td>1.637551</td>\n",
       "      <td>181.873188</td>\n",
       "      <td>188.292546</td>\n",
       "    </tr>\n",
       "    <tr>\n",
       "      <th>Queens</th>\n",
       "      <td>4392</td>\n",
       "      <td>99.620674</td>\n",
       "      <td>174.882615</td>\n",
       "      <td>2.638855</td>\n",
       "      <td>94.447930</td>\n",
       "      <td>104.793418</td>\n",
       "    </tr>\n",
       "    <tr>\n",
       "      <th>Staten Island</th>\n",
       "      <td>294</td>\n",
       "      <td>126.517007</td>\n",
       "      <td>311.045103</td>\n",
       "      <td>18.140519</td>\n",
       "      <td>90.900967</td>\n",
       "      <td>162.133047</td>\n",
       "    </tr>\n",
       "  </tbody>\n",
       "</table>\n",
       "</div>"
      ],
      "text/plain": [
       "                         N        Mean          SD         SE   95% Conf.  \\\n",
       "neighbourhood_group                                                         \n",
       "Bronx                  791   88.910240  147.269875   5.236314   78.640571   \n",
       "Brooklyn             18470  120.701624  178.882444   1.316238  118.121729   \n",
       "Manhattan            20370  185.082867  233.717036   1.637551  181.873188   \n",
       "Queens                4392   99.620674  174.882615   2.638855   94.447930   \n",
       "Staten Island          294  126.517007  311.045103  18.140519   90.900967   \n",
       "\n",
       "                       Interval  \n",
       "neighbourhood_group              \n",
       "Bronx                 99.179909  \n",
       "Brooklyn             123.281520  \n",
       "Manhattan            188.292546  \n",
       "Queens               104.793418  \n",
       "Staten Island        162.133047  "
      ]
     },
     "execution_count": 39,
     "metadata": {},
     "output_type": "execute_result"
    }
   ],
   "source": [
    "rp.summary_cont(ls['price'].groupby(ls['neighbourhood_group']))"
   ]
  },
  {
   "cell_type": "code",
   "execution_count": 92,
   "metadata": {},
   "outputs": [
    {
     "data": {
      "image/png": "[encoded data removed]",
      "text/plain": [
       "<Figure size 432x432 with 1 Axes>"
      ]
     },
     "metadata": {
      "needs_background": "light"
     },
     "output_type": "display_data"
    }
   ],
   "source": [
    "# Price\n",
    "price_group = ls[[\"neighbourhood_group\",\"price\"]].groupby([\"neighbourhood_group\"]).price.mean()\n",
    "plt.figure(figsize = (6,6))\n",
    "plt.bar(range(len(price_group.values)),price_group.values)\n",
    "plt.xticks(range(len(price_group.values)),list(price_group.index))\n",
    "plt.title(\"Average Price\");"
   ]
  },
  {
   "cell_type": "markdown",
   "metadata": {},
   "source": [
    "It seems like Airbnb's in Manhattan are the most expensive overall in comparison to the other neighborhood groups. Staten Island and Brooklyn are the next most expensive with Staten Island seeming to be just slightly more expensive. Then Queens and finally the Bronx is the least expensive on average, however, it is pretty close to the other three group overall. "
   ]
  },
  {
   "cell_type": "code",
   "execution_count": 91,
   "metadata": {},
   "outputs": [
    {
     "data": {
      "image/png": "[encoded data removed]",
      "text/plain": [
       "<Figure size 432x432 with 2 Axes>"
      ]
     },
     "metadata": {
      "needs_background": "light"
     },
     "output_type": "display_data"
    }
   ],
   "source": [
    "# Price Geometry Distribution \n",
    "\n",
    "prices = listings_detail[[\"neighbourhood\",\"price\",\"reviews_per_month\"]].groupby([\"neighbourhood\"]).price.mean()\n",
    "priceMap = dict(prices)\n",
    "\n",
    "max_ = max(priceMap.values())\n",
    "min_ = min(priceMap.values())\n",
    "def norm_transform(price):\n",
    "    return (price-min_)/( 250 - min_)#Hard Coding Truncature Here at 250 USD here to see a more meaningful result\n",
    "\n",
    "###############SET UP LIMITS#########################\n",
    "mp = nbgeo.geometry.loc[101]\n",
    "cm = plt.get_cmap('YlOrRd')\n",
    "fig = plt.figure(figsize=(6,6))\n",
    "ax = fig.add_subplot(111)\n",
    "minx, miny, maxx, maxy = mp.bounds\n",
    "w, h = maxx - minx, maxy - miny\n",
    "ax.set_xlim(minx - 20 * w, maxx + 5 * w)\n",
    "ax.set_ylim(miny - 10 * h, maxy + 8 * h)\n",
    "ax.set_aspect(1)\n",
    "\n",
    "###############ADD NEIGHBOURS#########################\n",
    "for i in range(len(nbgeo.geometry)):\n",
    "    patches = []\n",
    "    mp = nbgeo.geometry.loc[i]\n",
    "    nb = nbgeo.neighbourhood.loc[i]\n",
    "    try:\n",
    "        price = priceMap[nb]\n",
    "    except:\n",
    "        continue\n",
    "    for idx, p in enumerate(mp):\n",
    "        colour = cm(norm_transform(price))\n",
    "        patches.append(PolygonPatch(p, fc=colour, ec='#555555', lw=0.2, alpha=1., zorder=1))\n",
    "        ax.add_collection(PatchCollection(patches, match_original=True))\n",
    "\n",
    "###############DRAW##################################\n",
    "ax.set_xticks([])\n",
    "ax.set_yticks([])\n",
    "plt.title(\"Price Distributions\")\n",
    "plt.tight_layout()\n",
    "##!!!!!! need to get color bar values correct\n",
    "ax  = fig.add_axes([1,0.11,0.05,0.78])\n",
    "norm = mpl.colors.Normalize(vmin=0,vmax=2)\n",
    "cb1  = mpl.colorbar.ColorbarBase(ax,cmap=cm,norm=norm,orientation='vertical')\n",
    "\n",
    "plt.show()"
   ]
  },
  {
   "cell_type": "markdown",
   "metadata": {},
   "source": [
    "#### Popularity\n",
    "We are defining popularity in terms of availibilty, meaning more popular airbnb's have less availability and less popular ones have more"
   ]
  },
  {
   "cell_type": "code",
   "execution_count": 38,
   "metadata": {},
   "outputs": [],
   "source": [
    "#Change t and f to 1 and 0 \n",
    "calendar_detail.available=calendar_detail.available.map(dict(t=1, f=0))"
   ]
  },
  {
   "cell_type": "code",
   "execution_count": 93,
   "metadata": {},
   "outputs": [],
   "source": [
    "#Merge calendar details with listing details by listing_id to get the neighborhood group of each listing\n",
    "cdmergels=pd.merge(calendar_detail, ls, left_on='listing_id', right_index=True, how='left')"
   ]
  },
  {
   "cell_type": "code",
   "execution_count": 71,
   "metadata": {},
   "outputs": [
    {
     "data": {
      "text/plain": [
       "neighbourhood_group\n",
       "Bronx             10981\n",
       "Brooklyn         252356\n",
       "Manhattan        261394\n",
       "Queens            43330\n",
       "Staten Island      7211\n",
       "Name: available, dtype: int64"
      ]
     },
     "execution_count": 71,
     "metadata": {},
     "output_type": "execute_result"
    }
   ],
   "source": [
    "cdmergels['available'].groupby(cdmergels['neighbourhood_group']).sum()\n",
    "#Number of availibilities by neighborhood - higher means less popular"
   ]
  },
  {
   "cell_type": "code",
   "execution_count": 94,
   "metadata": {},
   "outputs": [
    {
     "data": {
      "image/png": "[encoded data removed]",
      "text/plain": [
       "<Figure size 432x432 with 1 Axes>"
      ]
     },
     "metadata": {
      "needs_background": "light"
     },
     "output_type": "display_data"
    }
   ],
   "source": [
    "# Total Availability\n",
    "avail_group = cdmergels[[\"neighbourhood_group\",\"available\"]].groupby([\"neighbourhood_group\"]).available.sum()\n",
    "plt.figure(figsize = (6,6))\n",
    "plt.bar(range(len(avail_group.values)),avail_group.values)\n",
    "plt.xticks(range(len(avail_group.values)),list(avail_group.index))\n",
    "plt.title(\"Total Availability\");"
   ]
  },
  {
   "cell_type": "markdown",
   "metadata": {},
   "source": [
    "This can be misleading since there are way more Airbnbs in general in Manhattan and Brooklyn, so there will therefore be more available rooms. Maybe we can make this relative to the amount of Airbnb's there are so that we get an average available days per Airbnb by neighborhood."
   ]
  },
  {
   "cell_type": "code",
   "execution_count": 95,
   "metadata": {},
   "outputs": [
    {
     "data": {
      "image/png": "[encoded data removed]",
      "text/plain": [
       "<Figure size 432x432 with 1 Axes>"
      ]
     },
     "metadata": {
      "needs_background": "light"
     },
     "output_type": "display_data"
    }
   ],
   "source": [
    "# Average Availability\n",
    "avail_group = (cdmergels[[\"neighbourhood_group\",\"available\"]].groupby([\"neighbourhood_group\"]).available.sum())/(ls['host_id'].groupby(ls['neighbourhood_group']).count())\n",
    "plt.figure(figsize = (6,6))\n",
    "plt.bar(range(len(avail_group.values)),avail_group.values)\n",
    "plt.xticks(range(len(avail_group.values)),list(avail_group.index))\n",
    "plt.title(\"Average Availability per Neighborhood Group\");"
   ]
  },
  {
   "cell_type": "markdown",
   "metadata": {},
   "source": [
    "This plot paints a much different picture which is much more accurate. For the amount of Airbnb's there are in Staten Island, they are on average more available than any other neighbourhood group. This is the availability relative to the amount of Airbnb's in the area. The Bronx, Brooklyn, and Manhattan have VERY similar averages which is interesting. Queens seems to be the more popular since it has the least availability."
   ]
  },
  {
   "cell_type": "markdown",
   "metadata": {},
   "source": [
    "I used the values below to check that the average was calculated properly which it was. It is the amount of available days per neighbourhood group divided by the total number of Airbnbs in each neighborhood group - to get the average amount of available days per Airbnb within each neighborhood group (borough)"
   ]
  },
  {
   "cell_type": "code",
   "execution_count": 78,
   "metadata": {},
   "outputs": [
    {
     "data": {
      "text/plain": [
       "neighbourhood_group\n",
       "Bronx            13.882427\n",
       "Brooklyn         13.663021\n",
       "Manhattan        12.832302\n",
       "Queens            9.865665\n",
       "Staten Island    24.527211\n",
       "dtype: float64"
      ]
     },
     "execution_count": 78,
     "metadata": {},
     "output_type": "execute_result"
    }
   ],
   "source": [
    "avail_group #Used this to check that this is the amount of available days for each neighborhood group \n",
    "            #divided by the amount of Airbnbs per ng - it's correct."
   ]
  },
  {
   "cell_type": "code",
   "execution_count": null,
   "metadata": {},
   "outputs": [],
   "source": []
  },
  {
   "cell_type": "markdown",
   "metadata": {},
   "source": [
    "### Question 2: \n",
    "Do factors such as number of minimum nights, cancellation policy, instant bookable, and house rules affect the popularity of an Airbnb?"
   ]
  },
  {
   "cell_type": "markdown",
   "metadata": {},
   "source": [
    "### Question 3: \n",
    "How important are reviews and how much do they affect whether or not an Airbnb gets booked?"
   ]
  },
  {
   "cell_type": "markdown",
   "metadata": {},
   "source": [
    "### Question 4: \n",
    "Do amenities, access (entire apartment vs private room), room type (private vs shared), transit, or number of guests significantly impact whether or not an Airbnb is booked?"
   ]
  },
  {
   "cell_type": "markdown",
   "metadata": {},
   "source": [
    "### Visualize Data on Map\n",
    "- What areas are most popular? why?"
   ]
  },
  {
   "cell_type": "markdown",
   "metadata": {},
   "source": [
    "#### Number of Airbnbs by Neighbourhood"
   ]
  },
  {
   "cell_type": "code",
   "execution_count": 89,
   "metadata": {},
   "outputs": [
    {
     "data": {
      "text/plain": [
       "neighbourhood_group\n",
       "Bronx              791\n",
       "Brooklyn         18470\n",
       "Manhattan        20370\n",
       "Queens            4392\n",
       "Staten Island      294\n",
       "Name: host_id, dtype: int64"
      ]
     },
     "execution_count": 89,
     "metadata": {},
     "output_type": "execute_result"
    }
   ],
   "source": [
    "#Use host id since there are no missing - meaning we get every record when counting\n",
    "ls['host_id'].groupby(ls['neighbourhood_group']).count()"
   ]
  },
  {
   "cell_type": "code",
   "execution_count": 88,
   "metadata": {},
   "outputs": [
    {
     "data": {
      "image/png": "[encoded data removed]",
      "text/plain": [
       "<Figure size 432x432 with 1 Axes>"
      ]
     },
     "metadata": {
      "needs_background": "light"
     },
     "output_type": "display_data"
    }
   ],
   "source": [
    "#https://www.kaggle.com/darkrubiks/nyc-airbnb-exploratory-analysis\n",
    "#Amount of Airbnbs by borough\n",
    "plt.figure(figsize=(6,6))\n",
    "ax = sns.countplot(ls[\"neighbourhood_group\"], palette=\"plasma\" ) "
   ]
  },
  {
   "cell_type": "code",
   "execution_count": 87,
   "metadata": {},
   "outputs": [
    {
     "data": {
      "image/png": "[encoded data removed]",
      "text/plain": [
       "<Figure size 504x504 with 1 Axes>"
      ]
     },
     "metadata": {},
     "output_type": "display_data"
    }
   ],
   "source": [
    "labels = ls.neighbourhood_group.value_counts().index\n",
    "colors = ['lime','blue','teal','cyan','green']\n",
    "explode = [0,0,0,0,0]\n",
    "sizes = ls.neighbourhood_group.value_counts().values\n",
    "\n",
    "plt.figure(0,figsize = (7,7))\n",
    "plt.pie(sizes, explode=explode, labels=labels, colors=colors, autopct='%1.1f%%')\n",
    "plt.title('Airbnb According to Neighbourhood Group',color = 'k',fontsize = 15)\n",
    "plt.show()"
   ]
  },
  {
   "cell_type": "code",
   "execution_count": null,
   "metadata": {},
   "outputs": [],
   "source": []
  },
  {
   "cell_type": "markdown",
   "metadata": {},
   "source": [
    "Things to explore later"
   ]
  },
  {
   "cell_type": "code",
   "execution_count": 86,
   "metadata": {},
   "outputs": [],
   "source": [
    "ld=listing_details[['guests_included','extra_people','minimum_nights','listing_url','house_rules','cancellation_policy','instant_bookable','amenities','price','weekly_price','monthly_price','room_type','neighbourhood','reviews_per_month','longitude','latitude']]"
   ]
  },
  {
   "cell_type": "code",
   "execution_count": 27,
   "metadata": {},
   "outputs": [],
   "source": [
    "import seaborn as sns\n",
    "import matplotlib.pyplot as plt\n",
    "sns.set(style=\"ticks\", color_codes=True)"
   ]
  },
  {
   "cell_type": "code",
   "execution_count": 42,
   "metadata": {},
   "outputs": [
    {
     "data": {
      "text/plain": [
       "<seaborn.axisgrid.FacetGrid at 0x7f9528e40f60>"
      ]
     },
     "execution_count": 42,
     "metadata": {},
     "output_type": "execute_result"
    },
    {
     "data": {
      "image/png": "[encoded data removed]",
      "text/plain": [
       "<Figure size 360x360 with 1 Axes>"
      ]
     },
     "metadata": {
      "needs_background": "light"
     },
     "output_type": "display_data"
    }
   ],
   "source": [
    "g=sns.catplot(x = \"neighbourhood\", y = \"price\", data=ls)\n",
    "g.set_xticklabels(rotation=30)\n",
    "#sns.set(rc={'figure.figsize':(40,20)})\n"
   ]
  },
  {
   "cell_type": "code",
   "execution_count": null,
   "metadata": {},
   "outputs": [],
   "source": []
  }
 ],
 "metadata": {
  "kernelspec": {
   "display_name": "Python 3",
   "language": "python",
   "name": "python3"
  },
  "language_info": {
   "codemirror_mode": {
    "name": "ipython",
    "version": 3
   },
   "file_extension": ".py",
   "mimetype": "text/x-python",
   "name": "python",
   "nbconvert_exporter": "python",
   "pygments_lexer": "ipython3",
   "version": "3.7.3"
  },
  "toc": {
   "base_numbering": 1,
   "nav_menu": {},
   "number_sections": true,
   "sideBar": true,
   "skip_h1_title": true,
   "title_cell": "Table of Contents",
   "title_sidebar": "Contents",
   "toc_cell": false,
   "toc_position": {},
   "toc_section_display": true,
   "toc_window_display": false
  }
 },
 "nbformat": 4,
 "nbformat_minor": 2
}
