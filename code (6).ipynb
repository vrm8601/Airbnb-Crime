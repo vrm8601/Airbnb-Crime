{
 "cells": [
  {
   "cell_type": "markdown",
   "metadata": {},
   "source": [
    "https://www.kaggle.com/geowiz34/maps-of-nyc-airbnbs-with-python\n",
    "https://www.kaggle.com/nidaguler/eda-and-data-visualization-ny-airbnb\n",
    "https://www.kaggle.com/aamodgarg1994/deep-learning"
   ]
  },
  {
   "cell_type": "markdown",
   "metadata": {},
   "source": [
    "### Read in Data"
   ]
  },
  {
   "cell_type": "code",
   "execution_count": 123,
   "metadata": {},
   "outputs": [],
   "source": [
    "%matplotlib inline\n",
    "import matplotlib.pyplot as plt\n",
    "import matplotlib as mpl\n",
    "import numpy as np\n",
    "import pandas as pd\n",
    "import geopandas as gpd\n",
    "import seaborn as sns\n",
    "import researchpy as rp\n",
    "\n",
    "from descartes.patch import PolygonPatch\n",
    "from mpl_toolkits.mplot3d import Axes3D\n",
    "from matplotlib.collections import PolyCollection\n",
    "from matplotlib.collections import PatchCollection"
   ]
  },
  {
   "cell_type": "code",
   "execution_count": 2,
   "metadata": {},
   "outputs": [],
   "source": [
    "listings_detail = pd.read_excel('../CourseProject/data/listings_detail.xlsx', index_col=0)\n",
    "calendar_detail = pd.read_excel('../CourseProject/data/calendar_detail.xlsx' , index_col=0)\n",
    "neighbourhoods = pd.read_excel('../CourseProject/data/neighbourhoods.xlsx', index_col=0)\n",
    "reviews = pd.read_excel('../CourseProject/data/reviews_detail.xlsx', index_col=0)\n",
    "crime = pd.read_excel('../CourseProject/data/NYPD_Arrests_Data__Historic_.xlsx', index_col=0)\n",
    "nbgeo = gpd.read_file('../CourseProject/data/neighbourhoods.geojson')\n",
    "ls=pd.read_csv('../CourseProject/data/listings_summary.csv', index_col=0)"
   ]
  },
  {
   "cell_type": "markdown",
   "metadata": {},
   "source": [
    "### Data Cleaning\n",
    "There are many missing values which either need to be removed or estimated so that they do not affect our results"
   ]
  },
  {
   "cell_type": "code",
   "execution_count": 2,
   "metadata": {},
   "outputs": [
    {
     "name": "stdout",
     "output_type": "stream",
     "text": [
      "Number of records: 44317\n"
     ]
    }
   ],
   "source": [
    "#How many records we start with\n",
    "print(f'Number of records: {listings_detail.count()[0]}')"
   ]
  },
  {
   "cell_type": "code",
   "execution_count": 87,
   "metadata": {},
   "outputs": [
    {
     "data": {
      "text/plain": [
       "name                                28\n",
       "host_id                              0\n",
       "host_name                          232\n",
       "neighbourhood_group                  0\n",
       "neighbourhood                        0\n",
       "latitude                             0\n",
       "longitude                            0\n",
       "room_type                            0\n",
       "price                                0\n",
       "minimum_nights                       0\n",
       "number_of_reviews                    0\n",
       "last_review                       9440\n",
       "reviews_per_month                 9474\n",
       "calculated_host_listings_count       0\n",
       "availability_365                     0\n",
       "dtype: int64"
      ]
     },
     "execution_count": 87,
     "metadata": {},
     "output_type": "execute_result"
    }
   ],
   "source": [
    "#What is missing in listing summary?\n",
    "ls.isna().sum()"
   ]
  },
  {
   "cell_type": "markdown",
   "metadata": {},
   "source": [
    "No values that are essential to our analysis are missing in listing summary"
   ]
  },
  {
   "cell_type": "code",
   "execution_count": 100,
   "metadata": {
    "scrolled": true
   },
   "outputs": [
    {
     "data": {
      "text/plain": [
       "listing_url                         0    \n",
       "scrape_id                           0    \n",
       "last_scraped                        0    \n",
       "name                                39   \n",
       "summary                             1523 \n",
       "space                               14514\n",
       "description                         29   \n",
       "experiences_offered                 0    \n",
       "neighborhood_overview               18720\n",
       "notes                               28229\n",
       "transit                             16986\n",
       "access                              19127\n",
       "interaction                         19965\n",
       "house_rules                         19208\n",
       "thumbnail_url                       3305 \n",
       "medium_url                          3305 \n",
       "picture_url                         0    \n",
       "xl_picture_url                      3305 \n",
       "host_id                             0    \n",
       "host_url                            0    \n",
       "host_name                           232  \n",
       "host_since                          232  \n",
       "host_location                       406  \n",
       "host_about                          17224\n",
       "host_response_time                  13679\n",
       "host_response_rate                  13679\n",
       "host_acceptance_rate                44317\n",
       "host_is_superhost                   232  \n",
       "host_thumbnail_url                  232  \n",
       "host_picture_url                    232  \n",
       "                                   ...   \n",
       "has_availability                    0    \n",
       "availability_30                     0    \n",
       "availability_60                     0    \n",
       "availability_90                     0    \n",
       "availability_365                    0    \n",
       "calendar_last_scraped               0    \n",
       "number_of_reviews                   0    \n",
       "first_review                        9474 \n",
       "last_review                         9440 \n",
       "review_scores_rating                10099\n",
       "review_scores_accuracy              10177\n",
       "review_scores_cleanliness           10146\n",
       "review_scores_checkin               10273\n",
       "review_scores_communication         10174\n",
       "review_scores_location              10292\n",
       "review_scores_value                 10296\n",
       "requires_license                    0    \n",
       "license                             44317\n",
       "jurisdiction_names                  44310\n",
       "instant_bookable                    0    \n",
       "is_business_travel_ready            0    \n",
       "cancellation_policy                 0    \n",
       "require_guest_profile_picture       0    \n",
       "require_guest_phone_verification    0    \n",
       "calculated_host_listings_count      0    \n",
       "reviews_per_month                   9474 \n",
       "Unnamed: 96                         44317\n",
       "Unnamed: 97                         44317\n",
       "Unnamed: 98                         44317\n",
       "Unnamed: 99                         44315\n",
       "Length: 99, dtype: int64"
      ]
     },
     "execution_count": 100,
     "metadata": {},
     "output_type": "execute_result"
    }
   ],
   "source": [
    "#What is missing in listing details?\n",
    "listings_detail.isna().sum()"
   ]
  },
  {
   "cell_type": "markdown",
   "metadata": {},
   "source": [
    "There are many missing values in the listing details dataset which we need to either estimate or eliminate. We estimate the missing reviews per month by using the median values. Then we also want to remove records that do not have a room and that are \"free\". "
   ]
  },
  {
   "cell_type": "code",
   "execution_count": 23,
   "metadata": {},
   "outputs": [],
   "source": [
    "#Fix NaN in review per month \n",
    "\n",
    "#Estimate attempt:\n",
    "#Use to fill in missing values with median\n",
    "def impute_median(series):\n",
    "    return series.fillna(series.median())\n",
    "\n",
    "listings_detail.loc['reviews_per_month']=listings_detail[\"reviews_per_month\"].transform(impute_median)\n",
    "\n",
    "\n",
    "#Remove records that do not have a room to offer\n",
    "listings_detail=listings_detail[listings_detail['room_type'] != 0]\n",
    "\n",
    "#Remove records that are \"free\"\n",
    "listings_detail=listings_detail[listings_detail['price']!=0]"
   ]
  },
  {
   "cell_type": "code",
   "execution_count": 24,
   "metadata": {},
   "outputs": [
    {
     "name": "stdout",
     "output_type": "stream",
     "text": [
      "Number of records after cleaning: 44267\n"
     ]
    }
   ],
   "source": [
    "#How many records we have now\n",
    "print(f'Number of records after cleaning: {listings_detail.count()[0]}')"
   ]
  },
  {
   "cell_type": "markdown",
   "metadata": {},
   "source": [
    "<b> Issue: \n",
    "Some prices are extremely high, there are 44 with prices over 2000 per night. Some of these really are the prices but it seems like some are priced at $10,000 even though that is not the actual price and they are not available at all. We may need to go through each URL and see which ones are really that expensive and which should be taken out. "
   ]
  },
  {
   "cell_type": "markdown",
   "metadata": {},
   "source": [
    "listings_detail[listings_detail.price>2000][:5]"
   ]
  },
  {
   "cell_type": "markdown",
   "metadata": {},
   "source": [
    "<b> Issue: Do we need to define more areas than just the Boroughs? If we use the neighbourhoods then there is an overwhelming amoung of areas (202), would it be reasonable to focus on large main areas such as China Town, Upper East,...?"
   ]
  },
  {
   "cell_type": "markdown",
   "metadata": {},
   "source": [
    "### EDA "
   ]
  },
  {
   "cell_type": "code",
   "execution_count": 41,
   "metadata": {},
   "outputs": [
    {
     "data": {
      "text/plain": [
       "203"
      ]
     },
     "execution_count": 41,
     "metadata": {},
     "output_type": "execute_result"
    }
   ],
   "source": [
    "#there's 202 unique neighborhoods - do we want to reduce this? how?\n",
    "listings_detail['neighbourhood'].nunique()"
   ]
  },
  {
   "cell_type": "code",
   "execution_count": 35,
   "metadata": {},
   "outputs": [
    {
     "name": "stdout",
     "output_type": "stream",
     "text": [
      "2017-10-02 00:00:00\n",
      "2018-10-02 00:00:00\n"
     ]
    }
   ],
   "source": [
    "print(cdmergels.date.min())\n",
    "print(cdmergels.date.max())"
   ]
  },
  {
   "cell_type": "markdown",
   "metadata": {},
   "source": [
    "Our data is from October 2, 2017 to October 2, 2018"
   ]
  },
  {
   "cell_type": "markdown",
   "metadata": {},
   "source": [
    "### <b> Question 1: </b>\n",
    "Is there a difference in the price, popularity, and ratings for different areas? Do additional research to learn why."
   ]
  },
  {
   "cell_type": "markdown",
   "metadata": {},
   "source": [
    "#### Price"
   ]
  },
  {
   "cell_type": "code",
   "execution_count": 38,
   "metadata": {},
   "outputs": [
    {
     "name": "stdout",
     "output_type": "stream",
     "text": [
      "\n",
      "\n"
     ]
    },
    {
     "data": {
      "text/html": [
       "<div>\n",
       "<style scoped>\n",
       "    .dataframe tbody tr th:only-of-type {\n",
       "        vertical-align: middle;\n",
       "    }\n",
       "\n",
       "    .dataframe tbody tr th {\n",
       "        vertical-align: top;\n",
       "    }\n",
       "\n",
       "    .dataframe thead th {\n",
       "        text-align: right;\n",
       "    }\n",
       "</style>\n",
       "<table border=\"1\" class=\"dataframe\">\n",
       "  <thead>\n",
       "    <tr style=\"text-align: right;\">\n",
       "      <th></th>\n",
       "      <th>Variable</th>\n",
       "      <th>N</th>\n",
       "      <th>Mean</th>\n",
       "      <th>SD</th>\n",
       "      <th>SE</th>\n",
       "      <th>95% Conf.</th>\n",
       "      <th>Interval</th>\n",
       "    </tr>\n",
       "  </thead>\n",
       "  <tbody>\n",
       "    <tr>\n",
       "      <th>0</th>\n",
       "      <td>price</td>\n",
       "      <td>44317.0</td>\n",
       "      <td>147.675948</td>\n",
       "      <td>209.138888</td>\n",
       "      <td>0.993458</td>\n",
       "      <td>145.728753</td>\n",
       "      <td>149.623144</td>\n",
       "    </tr>\n",
       "  </tbody>\n",
       "</table>\n",
       "</div>"
      ],
      "text/plain": [
       "  Variable        N        Mean          SD        SE   95% Conf.    Interval\n",
       "0    price  44317.0  147.675948  209.138888  0.993458  145.728753  149.623144"
      ]
     },
     "execution_count": 38,
     "metadata": {},
     "output_type": "execute_result"
    }
   ],
   "source": [
    "rp.summary_cont(ls['price'])"
   ]
  },
  {
   "cell_type": "markdown",
   "metadata": {},
   "source": [
    "That gives us data by whole, but we really are interested in the data by neighbourhood"
   ]
  },
  {
   "cell_type": "code",
   "execution_count": 39,
   "metadata": {},
   "outputs": [
    {
     "name": "stdout",
     "output_type": "stream",
     "text": [
      "\n",
      "\n"
     ]
    },
    {
     "data": {
      "text/html": [
       "<div>\n",
       "<style scoped>\n",
       "    .dataframe tbody tr th:only-of-type {\n",
       "        vertical-align: middle;\n",
       "    }\n",
       "\n",
       "    .dataframe tbody tr th {\n",
       "        vertical-align: top;\n",
       "    }\n",
       "\n",
       "    .dataframe thead th {\n",
       "        text-align: right;\n",
       "    }\n",
       "</style>\n",
       "<table border=\"1\" class=\"dataframe\">\n",
       "  <thead>\n",
       "    <tr style=\"text-align: right;\">\n",
       "      <th></th>\n",
       "      <th>N</th>\n",
       "      <th>Mean</th>\n",
       "      <th>SD</th>\n",
       "      <th>SE</th>\n",
       "      <th>95% Conf.</th>\n",
       "      <th>Interval</th>\n",
       "    </tr>\n",
       "    <tr>\n",
       "      <th>neighbourhood_group</th>\n",
       "      <th></th>\n",
       "      <th></th>\n",
       "      <th></th>\n",
       "      <th></th>\n",
       "      <th></th>\n",
       "      <th></th>\n",
       "    </tr>\n",
       "  </thead>\n",
       "  <tbody>\n",
       "    <tr>\n",
       "      <th>Bronx</th>\n",
       "      <td>791</td>\n",
       "      <td>88.910240</td>\n",
       "      <td>147.269875</td>\n",
       "      <td>5.236314</td>\n",
       "      <td>78.640571</td>\n",
       "      <td>99.179909</td>\n",
       "    </tr>\n",
       "    <tr>\n",
       "      <th>Brooklyn</th>\n",
       "      <td>18470</td>\n",
       "      <td>120.701624</td>\n",
       "      <td>178.882444</td>\n",
       "      <td>1.316238</td>\n",
       "      <td>118.121729</td>\n",
       "      <td>123.281520</td>\n",
       "    </tr>\n",
       "    <tr>\n",
       "      <th>Manhattan</th>\n",
       "      <td>20370</td>\n",
       "      <td>185.082867</td>\n",
       "      <td>233.717036</td>\n",
       "      <td>1.637551</td>\n",
       "      <td>181.873188</td>\n",
       "      <td>188.292546</td>\n",
       "    </tr>\n",
       "    <tr>\n",
       "      <th>Queens</th>\n",
       "      <td>4392</td>\n",
       "      <td>99.620674</td>\n",
       "      <td>174.882615</td>\n",
       "      <td>2.638855</td>\n",
       "      <td>94.447930</td>\n",
       "      <td>104.793418</td>\n",
       "    </tr>\n",
       "    <tr>\n",
       "      <th>Staten Island</th>\n",
       "      <td>294</td>\n",
       "      <td>126.517007</td>\n",
       "      <td>311.045103</td>\n",
       "      <td>18.140519</td>\n",
       "      <td>90.900967</td>\n",
       "      <td>162.133047</td>\n",
       "    </tr>\n",
       "  </tbody>\n",
       "</table>\n",
       "</div>"
      ],
      "text/plain": [
       "                         N        Mean          SD         SE   95% Conf.  \\\n",
       "neighbourhood_group                                                         \n",
       "Bronx                  791   88.910240  147.269875   5.236314   78.640571   \n",
       "Brooklyn             18470  120.701624  178.882444   1.316238  118.121729   \n",
       "Manhattan            20370  185.082867  233.717036   1.637551  181.873188   \n",
       "Queens                4392   99.620674  174.882615   2.638855   94.447930   \n",
       "Staten Island          294  126.517007  311.045103  18.140519   90.900967   \n",
       "\n",
       "                       Interval  \n",
       "neighbourhood_group              \n",
       "Bronx                 99.179909  \n",
       "Brooklyn             123.281520  \n",
       "Manhattan            188.292546  \n",
       "Queens               104.793418  \n",
       "Staten Island        162.133047  "
      ]
     },
     "execution_count": 39,
     "metadata": {},
     "output_type": "execute_result"
    }
   ],
   "source": [
    "rp.summary_cont(ls['price'].groupby(ls['neighbourhood_group']))"
   ]
  },
  {
   "cell_type": "markdown",
   "metadata": {},
   "source": [
    "Slightly different summary below"
   ]
  },
  {
   "cell_type": "code",
   "execution_count": 132,
   "metadata": {},
   "outputs": [
    {
     "data": {
      "text/html": [
       "<div>\n",
       "<style scoped>\n",
       "    .dataframe tbody tr th:only-of-type {\n",
       "        vertical-align: middle;\n",
       "    }\n",
       "\n",
       "    .dataframe tbody tr th {\n",
       "        vertical-align: top;\n",
       "    }\n",
       "\n",
       "    .dataframe thead th {\n",
       "        text-align: right;\n",
       "    }\n",
       "</style>\n",
       "<table border=\"1\" class=\"dataframe\">\n",
       "  <thead>\n",
       "    <tr style=\"text-align: right;\">\n",
       "      <th></th>\n",
       "      <th>count</th>\n",
       "      <th>mean</th>\n",
       "      <th>std</th>\n",
       "      <th>min</th>\n",
       "      <th>25%</th>\n",
       "      <th>50%</th>\n",
       "      <th>75%</th>\n",
       "      <th>max</th>\n",
       "    </tr>\n",
       "    <tr>\n",
       "      <th>neighbourhood_group</th>\n",
       "      <th></th>\n",
       "      <th></th>\n",
       "      <th></th>\n",
       "      <th></th>\n",
       "      <th></th>\n",
       "      <th></th>\n",
       "      <th></th>\n",
       "      <th></th>\n",
       "    </tr>\n",
       "  </thead>\n",
       "  <tbody>\n",
       "    <tr>\n",
       "      <th>Bronx</th>\n",
       "      <td>791.0</td>\n",
       "      <td>88.910240</td>\n",
       "      <td>147.269875</td>\n",
       "      <td>0.0</td>\n",
       "      <td>47.0</td>\n",
       "      <td>65.0</td>\n",
       "      <td>90.0</td>\n",
       "      <td>2500.0</td>\n",
       "    </tr>\n",
       "    <tr>\n",
       "      <th>Brooklyn</th>\n",
       "      <td>18470.0</td>\n",
       "      <td>120.701624</td>\n",
       "      <td>178.882444</td>\n",
       "      <td>0.0</td>\n",
       "      <td>60.0</td>\n",
       "      <td>90.0</td>\n",
       "      <td>147.0</td>\n",
       "      <td>10000.0</td>\n",
       "    </tr>\n",
       "    <tr>\n",
       "      <th>Manhattan</th>\n",
       "      <td>20370.0</td>\n",
       "      <td>185.082867</td>\n",
       "      <td>233.717036</td>\n",
       "      <td>0.0</td>\n",
       "      <td>90.0</td>\n",
       "      <td>140.0</td>\n",
       "      <td>200.0</td>\n",
       "      <td>9999.0</td>\n",
       "    </tr>\n",
       "    <tr>\n",
       "      <th>Queens</th>\n",
       "      <td>4392.0</td>\n",
       "      <td>99.620674</td>\n",
       "      <td>174.882615</td>\n",
       "      <td>0.0</td>\n",
       "      <td>55.0</td>\n",
       "      <td>75.0</td>\n",
       "      <td>110.0</td>\n",
       "      <td>10000.0</td>\n",
       "    </tr>\n",
       "    <tr>\n",
       "      <th>Staten Island</th>\n",
       "      <td>294.0</td>\n",
       "      <td>126.517007</td>\n",
       "      <td>311.045103</td>\n",
       "      <td>0.0</td>\n",
       "      <td>52.0</td>\n",
       "      <td>80.0</td>\n",
       "      <td>120.0</td>\n",
       "      <td>5000.0</td>\n",
       "    </tr>\n",
       "  </tbody>\n",
       "</table>\n",
       "</div>"
      ],
      "text/plain": [
       "                       count        mean         std  min   25%    50%    75%  \\\n",
       "neighbourhood_group                                                             \n",
       "Bronx                791.0    88.910240   147.269875  0.0  47.0  65.0   90.0    \n",
       "Brooklyn             18470.0  120.701624  178.882444  0.0  60.0  90.0   147.0   \n",
       "Manhattan            20370.0  185.082867  233.717036  0.0  90.0  140.0  200.0   \n",
       "Queens               4392.0   99.620674   174.882615  0.0  55.0  75.0   110.0   \n",
       "Staten Island        294.0    126.517007  311.045103  0.0  52.0  80.0   120.0   \n",
       "\n",
       "                         max  \n",
       "neighbourhood_group           \n",
       "Bronx                2500.0   \n",
       "Brooklyn             10000.0  \n",
       "Manhattan            9999.0   \n",
       "Queens               10000.0  \n",
       "Staten Island        5000.0   "
      ]
     },
     "execution_count": 132,
     "metadata": {},
     "output_type": "execute_result"
    }
   ],
   "source": [
    "ls.price.groupby(ls['neighbourhood_group']).describe()"
   ]
  },
  {
   "cell_type": "code",
   "execution_count": 92,
   "metadata": {},
   "outputs": [
    {
     "data": {
      "image/png": "[encoded data removed]",
      "text/plain": [
       "<Figure size 432x432 with 1 Axes>"
      ]
     },
     "metadata": {
      "needs_background": "light"
     },
     "output_type": "display_data"
    }
   ],
   "source": [
    "# Price\n",
    "price_group = ls[[\"neighbourhood_group\",\"price\"]].groupby([\"neighbourhood_group\"]).price.mean()\n",
    "plt.figure(figsize = (6,6))\n",
    "plt.bar(range(len(price_group.values)),price_group.values)\n",
    "plt.xticks(range(len(price_group.values)),list(price_group.index))\n",
    "plt.title(\"Average Price\");"
   ]
  },
  {
   "cell_type": "markdown",
   "metadata": {},
   "source": [
    "It seems like Airbnb's in Manhattan are the most expensive overall in comparison to the other neighborhood groups. Staten Island and Brooklyn are the next most expensive with Staten Island seeming to be just slightly more expensive. Then Queens and finally the Bronx is the least expensive on average, however, it is pretty close to the other three group overall. "
   ]
  },
  {
   "cell_type": "code",
   "execution_count": 91,
   "metadata": {},
   "outputs": [
    {
     "data": {
      "image/png": "[encoded data removed]",
      "text/plain": [
       "<Figure size 432x432 with 2 Axes>"
      ]
     },
     "metadata": {
      "needs_background": "light"
     },
     "output_type": "display_data"
    }
   ],
   "source": [
    "# Price Geometry Distribution \n",
    "\n",
    "prices = listings_detail[[\"neighbourhood\",\"price\",\"reviews_per_month\"]].groupby([\"neighbourhood\"]).price.mean()\n",
    "priceMap = dict(prices)\n",
    "\n",
    "max_ = max(priceMap.values())\n",
    "min_ = min(priceMap.values())\n",
    "def norm_transform(price):\n",
    "    return (price-min_)/( 250 - min_)#Hard Coding Truncature Here at 250 USD here to see a more meaningful result\n",
    "\n",
    "###############SET UP LIMITS#########################\n",
    "mp = nbgeo.geometry.loc[101]\n",
    "cm = plt.get_cmap('YlOrRd')\n",
    "fig = plt.figure(figsize=(6,6))\n",
    "ax = fig.add_subplot(111)\n",
    "minx, miny, maxx, maxy = mp.bounds\n",
    "w, h = maxx - minx, maxy - miny\n",
    "ax.set_xlim(minx - 20 * w, maxx + 5 * w)\n",
    "ax.set_ylim(miny - 10 * h, maxy + 8 * h)\n",
    "ax.set_aspect(1)\n",
    "\n",
    "###############ADD NEIGHBOURS#########################\n",
    "for i in range(len(nbgeo.geometry)):\n",
    "    patches = []\n",
    "    mp = nbgeo.geometry.loc[i]\n",
    "    nb = nbgeo.neighbourhood.loc[i]\n",
    "    try:\n",
    "        price = priceMap[nb]\n",
    "    except:\n",
    "        continue\n",
    "    for idx, p in enumerate(mp):\n",
    "        colour = cm(norm_transform(price))\n",
    "        patches.append(PolygonPatch(p, fc=colour, ec='#555555', lw=0.2, alpha=1., zorder=1))\n",
    "        ax.add_collection(PatchCollection(patches, match_original=True))\n",
    "\n",
    "###############DRAW##################################\n",
    "ax.set_xticks([])\n",
    "ax.set_yticks([])\n",
    "plt.title(\"Price Distributions\")\n",
    "plt.tight_layout()\n",
    "##NOTE that the price values are normalized \n",
    "ax  = fig.add_axes([1,0.11,0.05,0.78])\n",
    "norm = mpl.colors.Normalize(vmin=0,vmax=2)\n",
    "cb1  = mpl.colorbar.ColorbarBase(ax,cmap=cm,norm=norm,orientation='vertical')\n",
    "\n",
    "plt.show()"
   ]
  },
  {
   "cell_type": "markdown",
   "metadata": {},
   "source": [
    "#### Popularity\n",
    "We are defining popularity in terms of availibilty, meaning more popular airbnb's have less availability and less popular ones have more"
   ]
  },
  {
   "cell_type": "code",
   "execution_count": 71,
   "metadata": {},
   "outputs": [],
   "source": [
    "#Change t and f to 1 and 0 \n",
    "calendar_detail.available=calendar_detail.available.map(dict(t=1, f=0))"
   ]
  },
  {
   "cell_type": "code",
   "execution_count": 72,
   "metadata": {},
   "outputs": [],
   "source": [
    "#Merge calendar details with listing details by listing_id to get the neighborhood group of each listing\n",
    "cdmergels=pd.merge(calendar_detail, ls, left_on='listing_id', right_index=True, how='left')"
   ]
  },
  {
   "cell_type": "code",
   "execution_count": 71,
   "metadata": {},
   "outputs": [
    {
     "data": {
      "text/plain": [
       "neighbourhood_group\n",
       "Bronx             10981\n",
       "Brooklyn         252356\n",
       "Manhattan        261394\n",
       "Queens            43330\n",
       "Staten Island      7211\n",
       "Name: available, dtype: int64"
      ]
     },
     "execution_count": 71,
     "metadata": {},
     "output_type": "execute_result"
    }
   ],
   "source": [
    "cdmergels['available'].groupby(cdmergels['neighbourhood_group']).sum()\n",
    "#Number of availibilities by neighborhood - higher means less popular"
   ]
  },
  {
   "cell_type": "code",
   "execution_count": 94,
   "metadata": {},
   "outputs": [
    {
     "data": {
      "image/png": "[encoded data removed]",
      "text/plain": [
       "<Figure size 432x432 with 1 Axes>"
      ]
     },
     "metadata": {
      "needs_background": "light"
     },
     "output_type": "display_data"
    }
   ],
   "source": [
    "# Total Availability\n",
    "avail_group = cdmergels[[\"neighbourhood_group\",\"available\"]].groupby([\"neighbourhood_group\"]).available.sum()\n",
    "plt.figure(figsize = (6,6))\n",
    "plt.bar(range(len(avail_group.values)),avail_group.values)\n",
    "plt.xticks(range(len(avail_group.values)),list(avail_group.index))\n",
    "plt.title(\"Total Availability\");"
   ]
  },
  {
   "cell_type": "markdown",
   "metadata": {},
   "source": [
    "This can be misleading since there are way more Airbnbs in general in Manhattan and Brooklyn, so there will therefore be more available rooms. Maybe we can make this relative to the amount of Airbnb's there are so that we get an average available days per Airbnb by neighborhood."
   ]
  },
  {
   "cell_type": "code",
   "execution_count": 95,
   "metadata": {},
   "outputs": [
    {
     "data": {
      "image/png": "[encoded data removed]",
      "text/plain": [
       "<Figure size 432x432 with 1 Axes>"
      ]
     },
     "metadata": {
      "needs_background": "light"
     },
     "output_type": "display_data"
    }
   ],
   "source": [
    "# Average Availability\n",
    "avail_group = (cdmergels[[\"neighbourhood_group\",\"available\"]].groupby([\"neighbourhood_group\"]).available.sum())/(ls['host_id'].groupby(ls['neighbourhood_group']).count())\n",
    "plt.figure(figsize = (6,6))\n",
    "plt.bar(range(len(avail_group.values)),avail_group.values)\n",
    "plt.xticks(range(len(avail_group.values)),list(avail_group.index))\n",
    "plt.title(\"Average Availability per Neighborhood Group\");"
   ]
  },
  {
   "cell_type": "markdown",
   "metadata": {},
   "source": [
    "This plot paints a much different picture which is much more accurate. For the amount of Airbnb's there are in Staten Island, they are on average more available than any other neighbourhood group. This is the availability relative to the amount of Airbnb's in the area. The Bronx, Brooklyn, and Manhattan have VERY similar averages which is interesting. Queens seems to be the more popular since it has the least availability."
   ]
  },
  {
   "cell_type": "markdown",
   "metadata": {},
   "source": [
    "I used the values below to check that the average was calculated properly which it was. It is the amount of available days per neighbourhood group divided by the total number of Airbnbs in each neighborhood group - to get the average amount of available days per Airbnb within each neighborhood group (borough)"
   ]
  },
  {
   "cell_type": "code",
   "execution_count": 78,
   "metadata": {},
   "outputs": [
    {
     "data": {
      "text/plain": [
       "neighbourhood_group\n",
       "Bronx            13.882427\n",
       "Brooklyn         13.663021\n",
       "Manhattan        12.832302\n",
       "Queens            9.865665\n",
       "Staten Island    24.527211\n",
       "dtype: float64"
      ]
     },
     "execution_count": 78,
     "metadata": {},
     "output_type": "execute_result"
    }
   ],
   "source": [
    "avail_group #Used this to check that this is the amount of available days for each neighborhood group \n",
    "            #divided by the amount of Airbnbs per ng - it's correct."
   ]
  },
  {
   "cell_type": "markdown",
   "metadata": {},
   "source": [
    "##### Are there times when no Airbnbs are available or extremely limited and on what dates does this occur?"
   ]
  },
  {
   "cell_type": "code",
   "execution_count": 31,
   "metadata": {},
   "outputs": [
    {
     "data": {
      "text/plain": [
       "date\n",
       "2017-10-02    190\n",
       "2017-10-07    309\n",
       "2017-10-06    331\n",
       "2017-10-03    397\n",
       "2017-10-05    401\n",
       "2017-10-04    435\n",
       "2017-10-08    467\n",
       "2017-10-13    559\n",
       "2017-10-14    569\n",
       "2017-10-09    593\n",
       "Name: available, dtype: int64"
      ]
     },
     "execution_count": 31,
     "metadata": {},
     "output_type": "execute_result"
    }
   ],
   "source": [
    "cdmergels.available.groupby(cdmergels.date).sum().sort_values()[:10]"
   ]
  },
  {
   "cell_type": "markdown",
   "metadata": {},
   "source": [
    "There are no times when there are no Airbnbs available but the dates when the fewest are available are October 10, October 7, October 6, October 3, and October 5, 2017 "
   ]
  },
  {
   "cell_type": "code",
   "execution_count": 32,
   "metadata": {},
   "outputs": [
    {
     "data": {
      "text/plain": [
       "date\n",
       "2018-03-20    1849\n",
       "2018-03-22    1846\n",
       "2018-03-21    1845\n",
       "2018-03-19    1843\n",
       "2018-03-23    1843\n",
       "2018-03-17    1839\n",
       "2018-03-18    1838\n",
       "2018-03-25    1834\n",
       "2018-03-24    1832\n",
       "2018-03-15    1831\n",
       "Name: available, dtype: int64"
      ]
     },
     "execution_count": 32,
     "metadata": {},
     "output_type": "execute_result"
    }
   ],
   "source": [
    "cdmergels.available.groupby(cdmergels.date).sum().sort_values(ascending=False)[:10]"
   ]
  },
  {
   "cell_type": "markdown",
   "metadata": {},
   "source": [
    "The dates with the greatest number of Airbnb's available are around March 20th, 2018"
   ]
  },
  {
   "cell_type": "markdown",
   "metadata": {},
   "source": [
    "#### Reviews"
   ]
  },
  {
   "cell_type": "code",
   "execution_count": 21,
   "metadata": {},
   "outputs": [],
   "source": [
    "pd.set_option('display.max_colwidth', -1)"
   ]
  },
  {
   "cell_type": "code",
   "execution_count": 133,
   "metadata": {},
   "outputs": [
    {
     "data": {
      "text/plain": [
       "801784"
      ]
     },
     "execution_count": 133,
     "metadata": {},
     "output_type": "execute_result"
    }
   ],
   "source": [
    "len(reviews.index)"
   ]
  },
  {
   "cell_type": "markdown",
   "metadata": {},
   "source": [
    "There are 801,784 reviews total. First we will try to extract as many positive comments as possible. However, we may not account for all of them since there are so many different positive words that can be included in the comments. Also, some comments have some positive feedback and some negative feeback as well. In these cases, the feedback is overall positive but a few issues or problems are pointed out. Since many that I looked over seem to be mostly postive than negative, we first search for negative comments from ones that are not found as positive. However, then the number of negative comments was extremely small compared to the number of positive ones. Instead, we ended up just defined positive comments as those that included at least one of the positive words in the regular expression below and then negative comments were ones that contained at least one of the negative words. So some comments were counted as both positive and negative if they had both positive and negative words included in the comment."
   ]
  },
  {
   "cell_type": "code",
   "execution_count": 3,
   "metadata": {},
   "outputs": [],
   "source": [
    "reviews['goodcomments'] = reviews['comments'].str.contains('good|great|wonderful|love|nice|loved|prompt|awesome|easy|lovely|accommodating|neat|perfect|would_recommend|terrific|fantastic|responsive|kind|pleasure|pleasant|ideal|convenient|beautiful|clean|enjoy|easily_accesible|friendly|welcoming|quiet|helpful|comf|best|reasonable|priva|communicative|appreciate|modern|value|thank|decent|cool|worth|amazing', case=False)"
   ]
  },
  {
   "cell_type": "code",
   "execution_count": 4,
   "metadata": {},
   "outputs": [
    {
     "data": {
      "text/plain": [
       "696965"
      ]
     },
     "execution_count": 4,
     "metadata": {},
     "output_type": "execute_result"
    }
   ],
   "source": [
    "len(reviews[reviews['goodcomments']==True])"
   ]
  },
  {
   "cell_type": "markdown",
   "metadata": {},
   "source": [
    "683,888 reviews are considered \"positive\" by our definition, meaning it contains at least one of the words above. This is not a perfect approach and it is not guarenteed that all of these comments are positive but that is what we are assuming. Next, we try to find reviews that are considered negative, meaning they contain at least one of the negative words in the regular expression below.It's also important to note  that there are many cases where the review is in a different language or a default review of \"The host canceled this reservation. This is an automated posting.\" We don't want those to be considered negative since they may not be. In these cases, we don't want these comments to be considered positive or negative. I'm not sure how we could delete those comments. "
   ]
  },
  {
   "cell_type": "code",
   "execution_count": 16,
   "metadata": {},
   "outputs": [],
   "source": [
    "reviews['badcomments']=reviews['comments'].str.contains('messy|dirty|expensive|loud|nois|bugs|warning|bad|awful|refund|disappoint|terrible|shame|unhappy|unhelpful|annoy|disgusting|\"not recommend\"|',case=False)"
   ]
  },
  {
   "cell_type": "code",
   "execution_count": 22,
   "metadata": {},
   "outputs": [
    {
     "data": {
      "text/html": [
       "<div>\n",
       "<style scoped>\n",
       "    .dataframe tbody tr th:only-of-type {\n",
       "        vertical-align: middle;\n",
       "    }\n",
       "\n",
       "    .dataframe tbody tr th {\n",
       "        vertical-align: top;\n",
       "    }\n",
       "\n",
       "    .dataframe thead th {\n",
       "        text-align: right;\n",
       "    }\n",
       "</style>\n",
       "<table border=\"1\" class=\"dataframe\">\n",
       "  <thead>\n",
       "    <tr style=\"text-align: right;\">\n",
       "      <th></th>\n",
       "      <th>id</th>\n",
       "      <th>date</th>\n",
       "      <th>reviewer_id</th>\n",
       "      <th>reviewer_name</th>\n",
       "      <th>comments</th>\n",
       "      <th>goodcomments</th>\n",
       "      <th>badcomments</th>\n",
       "    </tr>\n",
       "    <tr>\n",
       "      <th>listing_id</th>\n",
       "      <th></th>\n",
       "      <th></th>\n",
       "      <th></th>\n",
       "      <th></th>\n",
       "      <th></th>\n",
       "      <th></th>\n",
       "      <th></th>\n",
       "    </tr>\n",
       "  </thead>\n",
       "  <tbody>\n",
       "    <tr>\n",
       "      <th>9452127</th>\n",
       "      <td>59446510</td>\n",
       "      <td>2016-01-10</td>\n",
       "      <td>23770684</td>\n",
       "      <td>Shiv</td>\n",
       "      <td>We had previously stayed at the apartment over New years and loved it - it had a great location and was very clean. As our trip was extended we decided to return to the apartment. Whilst Helena was very prompt in accepting our request and checking us in we found the flat to be dirty and had been cleaned in a rush since our previous stay, with the rubbish kept in a locked closet. It was a shame as we had really liked the apartment from our initial stay.</td>\n",
       "      <td>True</td>\n",
       "      <td>True</td>\n",
       "    </tr>\n",
       "    <tr>\n",
       "      <th>6921831</th>\n",
       "      <td>106977097</td>\n",
       "      <td>2016-10-09</td>\n",
       "      <td>7234179</td>\n",
       "      <td>Coline</td>\n",
       "      <td>Amazing ! \\r\\nExactly like the pictures. \\r\\nA lot of space. Not too much noise. \\r\\nVery great kitchen and bed. \\r\\nVery clean. \\r\\nVery clos to the subway ! \\r\\nA great experience.</td>\n",
       "      <td>True</td>\n",
       "      <td>True</td>\n",
       "    </tr>\n",
       "    <tr>\n",
       "      <th>766542</th>\n",
       "      <td>4860228</td>\n",
       "      <td>2013-05-29</td>\n",
       "      <td>2372033</td>\n",
       "      <td>Sarah</td>\n",
       "      <td>We are very appreciative of Anna, her hospitality and flexibility. Her apartment is comfortable, convenient, and a sweet place to land at the end of the day. The neighborhood is right in the heart of things and two blocks away from the subway. It was a lovely neighborhood to walk in, day and night. Anna was totally easy to communicate with and helpful when we had needs. The apartment is in a  busy neighborhood. We were not accustomed to the noise level. Anna was helpful in finding strategies to mitigate this for us. \\r\\nThank you Anna!</td>\n",
       "      <td>True</td>\n",
       "      <td>True</td>\n",
       "    </tr>\n",
       "    <tr>\n",
       "      <th>6078066</th>\n",
       "      <td>33843839</td>\n",
       "      <td>2015-06-01</td>\n",
       "      <td>7372886</td>\n",
       "      <td>Johannes</td>\n",
       "      <td>I always enjoy spending time in New York City. The location of the apartment is ideal of those who want to stroll around the close lower east side and soho or take a quick train ride to brooklyn. the apartment itself is spacious enough for two people. there is a night club right below, you might want to make sure to party there or somewhere else on fridays or saturdays - people who are sensible to noise shouldn't come to NYC anyways.  \\r\\n\\r\\nDon tried his best to make our stay as convenient as possible.</td>\n",
       "      <td>True</td>\n",
       "      <td>True</td>\n",
       "    </tr>\n",
       "    <tr>\n",
       "      <th>6078066</th>\n",
       "      <td>39826076</td>\n",
       "      <td>2015-07-26</td>\n",
       "      <td>7335439</td>\n",
       "      <td>Andrew</td>\n",
       "      <td>Very positive experience.  Location is conveniently on top of a nice grocery store, in a great retail/tourist neighborhood.  The apartment is well furnished for two people (we stayed a week) and the owner made a great effort to be in touch and check in with us, which fortunately wasn't necessary as we had everything we needed.  I guess you should be aware that it's on top of a night club that plays music Friday and Saturday nights, which the owner did disclose in his description. While this was certainly audible at late hours, for me it was just white noise and didn't bother me.</td>\n",
       "      <td>True</td>\n",
       "      <td>True</td>\n",
       "    </tr>\n",
       "    <tr>\n",
       "      <th>6078066</th>\n",
       "      <td>41622573</td>\n",
       "      <td>2015-08-08</td>\n",
       "      <td>34687414</td>\n",
       "      <td>Charlotte</td>\n",
       "      <td>The apartment was well located to enjoy the East village restaurants and bars, and the market downstairs takes care of all your food needs.The apartment was as descibed. The bathroom and Kitchen were very functional. We unfortunately had the club downstairs open on the Wednesday and Thursday of our stay and the music was quite loud until just after midnight.</td>\n",
       "      <td>True</td>\n",
       "      <td>True</td>\n",
       "    </tr>\n",
       "    <tr>\n",
       "      <th>6078066</th>\n",
       "      <td>47351475</td>\n",
       "      <td>2015-09-18</td>\n",
       "      <td>36122637</td>\n",
       "      <td>Kevin</td>\n",
       "      <td>It was great time at this studio. The room was clean and comfortable. The best thing was the location of this house. It's very close to the metro station, so we could easy to get everywhere in NY. Don's feedback is fast and kind.\\r\\nOne bad thing is that the club which is at downstairs is really noisy at weekend. So someone who really sensitive to sleep needs to think about it. But this house is still good place though!</td>\n",
       "      <td>True</td>\n",
       "      <td>True</td>\n",
       "    </tr>\n",
       "    <tr>\n",
       "      <th>6078066</th>\n",
       "      <td>55741233</td>\n",
       "      <td>2015-12-05</td>\n",
       "      <td>47524014</td>\n",
       "      <td>Alex</td>\n",
       "      <td>We had a great time at Don's apartment and the location is great, the only thing that was annoying was the club downstairs that Friday and Saturday night was busy until 4 in the morning so no sleep there in combination to the jetlag from the international flight.\\r\\nExcept that it was all great and Don is was always available for us!!\\r\\n</td>\n",
       "      <td>True</td>\n",
       "      <td>True</td>\n",
       "    </tr>\n",
       "    <tr>\n",
       "      <th>6078066</th>\n",
       "      <td>56530731</td>\n",
       "      <td>2015-12-14</td>\n",
       "      <td>7344099</td>\n",
       "      <td>Charlotte</td>\n",
       "      <td>Don's place was perfect for our little trip to New York, it's in a GREAT area and it was super easy for us to get around to everywhere we wanted to go. We were pretty psyched to see Russ and Daughter's right across the road from us where we had the most amazing bagels of our lives, and just wandering the streets nearby discovered many, many treasures.\\r\\n\\r\\nThe apartment itself is just as pictured, super clean and very well set up for visitors. The bed is really comfy, was lovely to find towels and shampoos ready for us and it was very easy to get set up and feel at home right away. Even though Don was out of town he made it really easy for us to check in and out and was great to communicate with for the trip.\\r\\n\\r\\nOne thing that others have also mentioned, so we were fully aware already, is the club downstairs did play pretty loud music until around 4.00am Friday and Saturday night. I sleep like a log and personally didn't have a problem, but my husband had a bit of trouble. We bought earplugs for the second night and that was helpful - so if you're a light sleeper it might be a good thing to be aware of.\\r\\n\\r\\nAll in all I'd definitely recommend if you're looking for the perfect little home base for a busy trip to the city!\\r\\n\\r\\n</td>\n",
       "      <td>True</td>\n",
       "      <td>True</td>\n",
       "    </tr>\n",
       "    <tr>\n",
       "      <th>6078066</th>\n",
       "      <td>60903464</td>\n",
       "      <td>2016-01-29</td>\n",
       "      <td>53756928</td>\n",
       "      <td>Erica</td>\n",
       "      <td>Apartment was very clean upon arrival.  The studio is a nice layout and the host provided a clothing rack with hangers which was very useful.  I also am a big fan of the location, especially considering there is a nice grocery store next door.  However, the building's heat level was very low and the portable radiator that was in the apartment was broken.  Since the host was out of town with no one watching over the apartment, he initially tried tasking me with getting a replacement.  Finally he resolved to order a replacement online, but this replacement was a very tiny space heater that wasn't comparable to the broken radiator.  The heat issue made the stay pretty uncomfortable in the dead of winter.  Also, as other reviews have mentioned, the bar underneath the apartment is very loud.  Music is particularly loud on weekends, but also plays during some week nights.</td>\n",
       "      <td>True</td>\n",
       "      <td>True</td>\n",
       "    </tr>\n",
       "    <tr>\n",
       "      <th>6078066</th>\n",
       "      <td>73347855</td>\n",
       "      <td>2016-05-08</td>\n",
       "      <td>46134094</td>\n",
       "      <td>Yuichi</td>\n",
       "      <td>This place is very convenient location. We was able to go to everywhere that we want to go. For example, Midtown, Greenwich Village, Brooklyn and Harlem. And Don is very kind. The only thing is that the downstairs club is a little noisy. But I can recommend this place comprehensively.</td>\n",
       "      <td>True</td>\n",
       "      <td>True</td>\n",
       "    </tr>\n",
       "    <tr>\n",
       "      <th>6078066</th>\n",
       "      <td>75322479</td>\n",
       "      <td>2016-05-20</td>\n",
       "      <td>18592931</td>\n",
       "      <td>Thaynara</td>\n",
       "      <td>We had a great stay in the apartment. Was very well located near a great market and to the subway. The nightclub noise do not disturb. Don were fast to answer my questions and help if was necessary.</td>\n",
       "      <td>True</td>\n",
       "      <td>True</td>\n",
       "    </tr>\n",
       "    <tr>\n",
       "      <th>6078066</th>\n",
       "      <td>83007425</td>\n",
       "      <td>2016-06-30</td>\n",
       "      <td>65556847</td>\n",
       "      <td>Chantelle</td>\n",
       "      <td>Dons apartment is located in a fantastic position, the place is true to the pictures. The supermarket downstairs is amazing. However, there were a few negatives regarding the apartment. The hot water takes at least 10 minutes to start working when showering majority of the time. There was no remote for the Apple TV and there is no cable so we had no use of the tv for 16 days. Don had mentioned that I should buy the remote and he would reimburse me but I didn't think that responsibility should fall on me. Don was not quick to respond to my msgs re: the toilet was broken, the hot water and the tv remote but he did eventually respond. The apartment is located on top of club and the music is extremely loud!!!! You can forget about sleeping until after they close at 4am on Friday and Saturday night. The apartment was very clean on arrival however we had to replenish amenities as there was very limited supply of toilet paper, hand soap, etc</td>\n",
       "      <td>True</td>\n",
       "      <td>True</td>\n",
       "    </tr>\n",
       "    <tr>\n",
       "      <th>6078066</th>\n",
       "      <td>83867556</td>\n",
       "      <td>2016-07-04</td>\n",
       "      <td>68888382</td>\n",
       "      <td>Julie</td>\n",
       "      <td>On the plus side:\\nGreat location and clean apartment\\nJust above Union Market, great for picking up breakfast and toiletries (but expensive, so maybe not for everyone)\\n\\nOn the down side:\\nCommunication with the host could have been better: we had agreed to meet but never got to see him... instead were told to pick up the keys from his cleaner, who was unaware that new guests were staying at his place. As a result the apartment was not clean and accessible at the agreed time. \\nEqually we didn't hear anything from the host on the check out date. \\n\\nOn the weekend the club downstairs stays open until about 5am. Don't bother trying to sleep with the thumping base going on. We were warned about it but it was way worse than expected.\\n\\nOverall- nice stay but I would go somewhere else next time.\\n \\n\\n</td>\n",
       "      <td>True</td>\n",
       "      <td>True</td>\n",
       "    </tr>\n",
       "    <tr>\n",
       "      <th>6078066</th>\n",
       "      <td>88577078</td>\n",
       "      <td>2016-07-24</td>\n",
       "      <td>8077751</td>\n",
       "      <td>Jes</td>\n",
       "      <td>The apt has a great location with easy access to the metro. All in all, the stay was a success, with some flaws:\\r\\n\\r\\nâ€¢Apparently Donâ€™s real name is David Dayan. Why he calls himself Don, I canâ€™t say.\\r\\nâ€¢David asked us to be there at 3 PM but the apt wasnâ€™t yet cleaned and we had to wait for an hour before the maid arrived.\\r\\nâ€¢Luckily we tested the apt keys before the maid left â€“ The keys didnâ€™t work and we had to wait for another hour before the maid returned with new keys.\\r\\nâ€¢The apt was booked for 3 persons, but there were only sheets for two. Initially the maid stated that it wasnâ€™t her problem, and that we had to contact David. After some discussion she promised she would return with the sheets before night fall. However, she didnâ€™t. (A package with sheets from Amazon arrived the next day.)\\r\\nâ€¢David doesnâ€™t pick up the phone, only text messages is answered. The first answer is always some kind of answer that doesnâ€™t make sense like â€œHi, hope all is well. Let me know if you need anything.â€ Pretty annoying, though David will eventually answer within a couple of hours.\\r\\nâ€¢The apt is worn down and not very clean.\\r\\nâ€¢The iron and and iron board is broken.\\r\\nâ€¢The third bed is not suitable for an adult â€“ maybe a child can use it.\\r\\nâ€¢Note that it isnâ€™t a bar/lounge at the first floor. Itâ€™s a club playing house music, and not only Friday and Saturday â€“ see (URL HIDDEN)\\r\\n\\r\\nIâ€™m not going to book the place a second time, but as David brought to my attention: The price is low and I guess you get what you pay for. Though I believe the price is much too high. I was ready to move into a hotel instead, but David didnâ€™t want to do a refund.\\r\\n</td>\n",
       "      <td>True</td>\n",
       "      <td>True</td>\n",
       "    </tr>\n",
       "    <tr>\n",
       "      <th>6078066</th>\n",
       "      <td>101209724</td>\n",
       "      <td>2016-09-12</td>\n",
       "      <td>68830067</td>\n",
       "      <td>Sue</td>\n",
       "      <td>First the good - location is great, air con works and unit is adequate space wise by NY standards - although it would be very squashed with 3 people in it. There is noise from club downstairs but this was clear in the description and it was no problem - New York is noisy anyway!\\r\\nThe Bad - no hot water! In 10 days I had one hot shower only! Luckily it was stinking hot weather so a cold shower was not unbearable but it is pretty sad to have no decent shower.\\r\\nThe advertised rooftop access is clearly labelled as \"for top floor apartments only\" \\r\\nPrice was fair for what you get - hot water would help a lot!</td>\n",
       "      <td>True</td>\n",
       "      <td>True</td>\n",
       "    </tr>\n",
       "    <tr>\n",
       "      <th>6078066</th>\n",
       "      <td>102995859</td>\n",
       "      <td>2016-09-20</td>\n",
       "      <td>2537987</td>\n",
       "      <td>Celeste</td>\n",
       "      <td>I think that Don's description was accurate. His place is really just for a place to crash. The loud music that came from the club didn't bother us. The shower makes a really loud screeching noise which wasn't super awesome but it worked out. Thanks for everything, Don!</td>\n",
       "      <td>True</td>\n",
       "      <td>True</td>\n",
       "    </tr>\n",
       "    <tr>\n",
       "      <th>6078066</th>\n",
       "      <td>103275837</td>\n",
       "      <td>2016-09-21</td>\n",
       "      <td>38675313</td>\n",
       "      <td>Mark</td>\n",
       "      <td>Pro's:   Don's very responsive, polite, professional.   A great location.   Super inexpensive for Soho/Manhattan..  An awesome green grocer 10 steps from the building entrance.  \\r\\n\\r\\nCon's:   Exterior building lock does not work well (not Don's fault, but could be a factor if you are in rainy/cold conditions).  Noisy, even on a non-weekend night.   Small.  I'm not sure that this would work for 3 people, unless they were small -- and then just for a night or two..</td>\n",
       "      <td>True</td>\n",
       "      <td>True</td>\n",
       "    </tr>\n",
       "    <tr>\n",
       "      <th>6078066</th>\n",
       "      <td>112596525</td>\n",
       "      <td>2016-11-06</td>\n",
       "      <td>62243125</td>\n",
       "      <td>Mara</td>\n",
       "      <td>Communication before the stay was great, check-in and check-out was super easy and the appartment is located perfectly.\\r\\nIt gets really noisy on Friday and Saturday night (as stated) and the apartment is not really suitable for three people, unfortunately. It is too small for that, the couch is rather uncomfortable to sleep on and there is no proper blanket for the third person. Furthermore, the kitchen lacks some equipment like proper glasses or cups, which I guess could easily be improved.</td>\n",
       "      <td>True</td>\n",
       "      <td>True</td>\n",
       "    </tr>\n",
       "    <tr>\n",
       "      <th>6078066</th>\n",
       "      <td>113685786</td>\n",
       "      <td>2016-11-13</td>\n",
       "      <td>31780864</td>\n",
       "      <td>Kathleen</td>\n",
       "      <td>Very good value and in a very good location. There's a really cool food market right next door, and the apartment is very conveniently located to cafes, bars and the subway. Only thing was the noise from the nightclub downstairs got a little loud, but if you plan on staying out late on weekends this isn't a problem. Don was also really communicative and answered all of my questions about the place really quickly. Would definitely recommend staying here!</td>\n",
       "      <td>True</td>\n",
       "      <td>True</td>\n",
       "    </tr>\n",
       "    <tr>\n",
       "      <th>6078066</th>\n",
       "      <td>122453571</td>\n",
       "      <td>2016-12-23</td>\n",
       "      <td>105377167</td>\n",
       "      <td>Jessica</td>\n",
       "      <td>WARNING: NO central working heat. \\n\\nThis makes the unit uninhabitable. A 5in by 5in space heater does NOT heat an apartment. This unit is illegally operating. Air BNB has not honored my resolution requests and Don has not honored my request for a refund after we froze all night when the place was mis-listed. He believe I should pay for nights I did not use and stay, I believe I was mis informed about the situation and legal habitability of the unit.</td>\n",
       "      <td>False</td>\n",
       "      <td>True</td>\n",
       "    </tr>\n",
       "    <tr>\n",
       "      <th>6078066</th>\n",
       "      <td>127707197</td>\n",
       "      <td>2017-01-20</td>\n",
       "      <td>9695959</td>\n",
       "      <td>Bianca</td>\n",
       "      <td>Staying at Dons house was perfect for our 12 night trip to NYC\\nWalking distance to Soho, great restaurants, shops, Williamsburg bridge etc.\\n\\nThe club downstairs on a Friday and Saturday night is extremely loud compared to the really quiet week nights so it was quite a surprise when we got home and the whole apartment was shaking but only from about 11pm-3-4am!\\n\\nBesides that everything else was fine and as described in the ad.\\n\\n\\n</td>\n",
       "      <td>True</td>\n",
       "      <td>True</td>\n",
       "    </tr>\n",
       "    <tr>\n",
       "      <th>6078066</th>\n",
       "      <td>132550252</td>\n",
       "      <td>2017-02-18</td>\n",
       "      <td>81169764</td>\n",
       "      <td>Brian</td>\n",
       "      <td>Nice spot that's close to lots of fun nightlife. Even with being so close, it's pretty quiet most of the time. That said, it can get pretty noisy at the end of the week when the bar downstairs starts picking up. Plan accordingly.</td>\n",
       "      <td>True</td>\n",
       "      <td>True</td>\n",
       "    </tr>\n",
       "    <tr>\n",
       "      <th>6078066</th>\n",
       "      <td>138605046</td>\n",
       "      <td>2017-03-20</td>\n",
       "      <td>35500850</td>\n",
       "      <td>Ashley</td>\n",
       "      <td>If you just need a place to crash and will be out until 3 am then this will work great. Like stated in the description There is a club directly under this apartment which blasts music until 3 am. It is very loud and shakes the walls and floors.  Good for young people or people who are going to nyc for the nighlife. Very good location. You have everything you need within a few steps. Above a marketplace, across, 24/7 diner, in the lower east side so surrounded by cool, themed bars like the backroom, the library, mehanata etc. Keep in mind there's no central heat but there are 2 space heaters that were fine for us in st Patrick's day.  The shower was better than expected and heats up in a few seconds. I recommend spreading out showers because the hot water sometimes runs out. Very clean and a decent size.  The apartment is in good condition. Clean bed. The pullout futon is not good for people with back or hip problems because of hard center. Recommend putting an air mattress on top.  All in all it is worth the money and worked fine for us.</td>\n",
       "      <td>True</td>\n",
       "      <td>True</td>\n",
       "    </tr>\n",
       "    <tr>\n",
       "      <th>6078066</th>\n",
       "      <td>139449621</td>\n",
       "      <td>2017-03-25</td>\n",
       "      <td>60828499</td>\n",
       "      <td>Kylie</td>\n",
       "      <td>Dons place is in a good location for the price. It's walkable to soho. NYC is expensive so this place was good value... it's the basics you need to get by.. no frills. Bed is comfy, heating was sufficient, hot water heats up- just takes a few mins. \\n\\nThanks Don great basic NYC pad :)</td>\n",
       "      <td>True</td>\n",
       "      <td>True</td>\n",
       "    </tr>\n",
       "    <tr>\n",
       "      <th>6078066</th>\n",
       "      <td>143833231</td>\n",
       "      <td>2017-04-13</td>\n",
       "      <td>63367587</td>\n",
       "      <td>Nichole</td>\n",
       "      <td>Overall this was a good value. Great location. Many great dining options close by and several subway stops close by. Bed was reasonably comfy. \\nUnlike others we had to let shower run for 10 mins to get hot water. Also know that loudness at night not limited to weekends. We were there Monday through Wednesday and there were loud gatherings at bar late every night. Not the best with morning meetings. But overall decent value.</td>\n",
       "      <td>True</td>\n",
       "      <td>True</td>\n",
       "    </tr>\n",
       "    <tr>\n",
       "      <th>6078066</th>\n",
       "      <td>146983600</td>\n",
       "      <td>2017-04-24</td>\n",
       "      <td>109438405</td>\n",
       "      <td>Jess</td>\n",
       "      <td>This place was very dirty! Hair everywhere in the bathroom. Used shampoo bottles everywhere. The kitchen was a mess and the host was very hard to reach. I would never stay here again. Save your money and find somewhere better. The whole apartment block smelled and it was very noisy</td>\n",
       "      <td>False</td>\n",
       "      <td>True</td>\n",
       "    </tr>\n",
       "    <tr>\n",
       "      <th>6078066</th>\n",
       "      <td>150603902</td>\n",
       "      <td>2017-05-08</td>\n",
       "      <td>118089889</td>\n",
       "      <td>Olena</td>\n",
       "      <td>The greatest advantage of the apartment is the location! It is close to metro and every sort of entertainment you'd like to experience in New York at night. There are countless numbers of restaurants, bars and nightclubs in the walking distance form the apartment. The only major drawback is that one of the nightclubs is just underneath the place. Which means that on Fridays and Saturdays you will not be able to sleep until 4 a.m. (the time when the music if off) not only because of the noise but also because of the beat that makes walls shaking. As for the rest, it is an Ok place for those who are planning to use it only for sleep over</td>\n",
       "      <td>True</td>\n",
       "      <td>True</td>\n",
       "    </tr>\n",
       "    <tr>\n",
       "      <th>6078066</th>\n",
       "      <td>157613667</td>\n",
       "      <td>2017-06-04</td>\n",
       "      <td>119312780</td>\n",
       "      <td>Kirsi</td>\n",
       "      <td>Nice location, but  very loud wednesday and saturday nights.</td>\n",
       "      <td>True</td>\n",
       "      <td>True</td>\n",
       "    </tr>\n",
       "    <tr>\n",
       "      <th>10120476</th>\n",
       "      <td>57607181</td>\n",
       "      <td>2015-12-27</td>\n",
       "      <td>10106984</td>\n",
       "      <td>Ziv</td>\n",
       "      <td>Okay room. Cubicle with a bed.  There have been reports of bed bugs on some sites.  Rough area but does have options.</td>\n",
       "      <td>False</td>\n",
       "      <td>True</td>\n",
       "    </tr>\n",
       "    <tr>\n",
       "      <th>...</th>\n",
       "      <td>...</td>\n",
       "      <td>...</td>\n",
       "      <td>...</td>\n",
       "      <td>...</td>\n",
       "      <td>...</td>\n",
       "      <td>...</td>\n",
       "      <td>...</td>\n",
       "    </tr>\n",
       "    <tr>\n",
       "      <th>13914735</th>\n",
       "      <td>187737388</td>\n",
       "      <td>2017-08-27</td>\n",
       "      <td>113074921</td>\n",
       "      <td>Gitta</td>\n",
       "      <td>Ein sensationelles Appartement! Sauber, hell, supergroÃŸ. Das wunderschÃ¶ne Extrazimmer mit Terrasse konnten wir leider kaum nutzen, weil New York und der herrliche Strand besucht werden mussten. Metroverbindung zur Stadt: 3 Minuten zu laufen, zum Strand 5 Minuten, zum graÃŸen Supermarkt 4 Minuten. Kuscheliger FuÃŸboden, tolle KÃ¼che. Wir sind begeistert . 2 Kleinigkeiten vielleicht: Es gab nur 1 Badezimmer Spiegel, was morgens ein wenig GedrÃ¤nge zur Folge hatte. Und man lebt unter der Einflugschneise des Flughafens. \\nUns hat das nicht gestÃ¶rt.</td>\n",
       "      <td>False</td>\n",
       "      <td>True</td>\n",
       "    </tr>\n",
       "    <tr>\n",
       "      <th>16037576</th>\n",
       "      <td>129216667</td>\n",
       "      <td>2017-01-29</td>\n",
       "      <td>40169011</td>\n",
       "      <td>Seungwon</td>\n",
       "      <td>I always gave 5 stars, however, I should give 1 star first time. Really dirty place. They don't deserve do that.</td>\n",
       "      <td>False</td>\n",
       "      <td>True</td>\n",
       "    </tr>\n",
       "    <tr>\n",
       "      <th>3434683</th>\n",
       "      <td>20932396</td>\n",
       "      <td>2014-10-07</td>\n",
       "      <td>5153362</td>\n",
       "      <td>Beka</td>\n",
       "      <td>This apartment was a great choice during our stay in the NYC area. Pamela was above and beyond welcoming and answered any questions we had. \\n\\nOther reviews mentioned noise, I did not find the noise disturbing. Also, there are two bedrooms and the one in the back of the house is very quiet. \\n\\nThe property is beautiful and very well maintained. I highly recommend this for a stay in NYC.</td>\n",
       "      <td>True</td>\n",
       "      <td>True</td>\n",
       "    </tr>\n",
       "    <tr>\n",
       "      <th>3434683</th>\n",
       "      <td>29661818</td>\n",
       "      <td>2015-04-11</td>\n",
       "      <td>26057633</td>\n",
       "      <td>Lee</td>\n",
       "      <td>We had a great stay at this lovely apartment. We were very grateful for the super-clean and comfortable condition inside, and the fresh flowers and the pastries and drinks to welcome us. The kitchen is very good and well stocked - we were able to hold a dinner party a few days after we arrived! \\r\\nWe did not meet Pamela, as she was travelling, but we spoke to her on the phone and via text and she was available and helpful. We met two of her associates who were also very helpful and friendly.\\r\\nOne issue: Outside of the apartment it is noisy, particularly at night. It's on a busy road, around the corner from a fire station, and at night there are lots of loud sirens, from fire trucks, police and ambulances right outside the window. Also lots of loud shouting, and cars roaring down the street. Having said that, somehow we all managed to sleep very well!</td>\n",
       "      <td>True</td>\n",
       "      <td>True</td>\n",
       "    </tr>\n",
       "    <tr>\n",
       "      <th>3434683</th>\n",
       "      <td>31691367</td>\n",
       "      <td>2015-05-09</td>\n",
       "      <td>6811766</td>\n",
       "      <td>Davide</td>\n",
       "      <td>I've been there with my family (6 people): the apartment was, for the first time in my life, EXACTLY as advertised! The pictures are from the actual setup of the apartment, with a super new kitchen that allows you to prepare what you need, a nice bathroom with both tub and shower, super comfortable beds, a nice room for your clothes, tv, wifi and so on! PERFECT! Yeah one of the bedrooms is on the street, so you may have some noise in the night because the firefighters are a block away but if you are living NYC as you should you will be so tired when you lay on your bed that you won't even notice!\\r\\nThe neighborhood is safe, obviously it is not a rich area like other in Brooklyn but overall we had no problems: it was kinda weird in the first days but I am sure in the next years this area will be gentrified as others in BK.\\r\\nThe train is really close to the apartment but we reached it from JFK with SuperShuttle: with 23 dollars each they drove us and it was a better option than using the train after the 8h flight.\\r\\nIt will take you around 45minutes to reach Times Square and 20 to reach Downtown Manhattan: obviously in depends on many factor, but overall we were happy with the distance.\\r\\n\\r\\nYou will not find a cheaper apartment for 6people in the all NYC: and if you can find it, it will be somebody's basement, not an entire apartment as this is. \\r\\n\\r\\nThe most important thing for me was to find a CLEAN plane to stay: well, this is so clean that you can even eat on the floor (not that we've done it... LOL), the beds are really comfortable and the value-price ratio is perfect!\\r\\n\\r\\nPamela is really nice, she left us a fridge full of water and Canada Dry and also some sweets for breakfast: this gives you the dimension of how professional is this host!\\r\\n\\r\\nYou can't go wrong with it, I can't wait to go back to NYC!</td>\n",
       "      <td>True</td>\n",
       "      <td>True</td>\n",
       "    </tr>\n",
       "    <tr>\n",
       "      <th>3434683</th>\n",
       "      <td>36503697</td>\n",
       "      <td>2015-06-29</td>\n",
       "      <td>2928546</td>\n",
       "      <td>Jutta</td>\n",
       "      <td>Wir (zwei Erwachsene und zwei frischgebackene Abiturienten) haben im Juni 11 Tage in Pamelas Apartment verbracht. Es war unser erster New York-Aufenthalt.\\r\\nDie Wohnung war exakt so, wie auf den Photos. Sie war frisch und geschmackvoll renoviert und sehr sauber. Das ganze Haus war in einem gepflegten Zustand. Es gab zur BegrÃ¼ÃŸung leckeres GebÃ¤ck und gekÃ¼hlte GetrÃ¤nke.\\r\\nPamela haben wir nicht kennengelernt, wohl aber Steve und Patrick, ihre Mitarbeiter, und Sherma, die Putzfrau. Die Kommunikation wÃ¤hrend unseres Aufenthalts klappte gut.\\r\\nSchÃ¶n war auch, daÃŸ wir am Tag der Abreise unser GepÃ¤ck im Haus lassen konnten, denn wir hatten einen sehr spÃ¤ten Flug.\\r\\nLeider gab es in beiden Schlafzimmern keine Lampen am Bett. Es war anscheinend auch nicht vorgesehen, denn es gab dort auch keine Steckdosen. Der Lichtschalter war neben der TÃ¼r, und so muÃŸte man, wenn man z.B.im Bett gelesen hatte, extra zum Lichtausschalten noch einmal aufstehen und dann im Dunkeln zurÃ¼ck zu Bett. Das war fÃ¼r uns alle eine echte BeeintrÃ¤chtigung.\\r\\nUnd, wie Lee bereits schrieb:\\r\\n\"One issue: Outside of the apartment it is noisy, particularly at night. It's on a busy road, around the corner from a fire station, and at night there are lots of loud sirens, from fire trucks, police and ambulances right outside the window. Also lots of loud shouting, and cars roaring down the street.\" Im hinteren Schlafzimmer war es etwas leiser, aber dort war manchmal noch um Mitternacht Musik aus dem Hof zu hÃ¶ren.\\r\\n\"Having said that, somehow we all managed to sleep very well!\"\\r\\nMan ist schnell an den beiden U-Bahn-Stationen. Es gibt viele kleine LÃ¤den, in denen man Lebensmittel und GetrÃ¤nke kaufen kann. Auch ein groÃŸer Supermarkt ist nicht weit. Wir haben uns in der Gegend immer sicher gefÃ¼hlt.\\r\\n\\r\\nWir wÃ¼rden die Wohnung bei einem nÃ¤chsten NYC-Aufenthalt wieder wÃ¤hlen - und dann Taschenlampen (flaslights) mitbringen ;-)\\r\\n\\r\\n</td>\n",
       "      <td>False</td>\n",
       "      <td>True</td>\n",
       "    </tr>\n",
       "    <tr>\n",
       "      <th>3434683</th>\n",
       "      <td>45964266</td>\n",
       "      <td>2015-09-07</td>\n",
       "      <td>39055792</td>\n",
       "      <td>Kaly</td>\n",
       "      <td>Clean, chic and spacious, this place is the best stretch for your budget if you're traveling in a group of 4-6 people. The apartment looks exactly like the pictures, a nice mix of contemporary and vintage, nice skylight in the shower. Stevie and Pam were very responsive and welcoming. They stashed the fridge with water, gave us tips on local restaurants. Overall great experience with hosts and apartment. About the location: Something to note is the fact that to get to any great restaurant or bar in Brooklyn, you'll have a 15 min Uber ride or sub ride, with limited food options besides markets/delis. Also, beware to book this place whenever there is a Caribbean Islands festival going on.  It took us double the time to navigate Brooklyn with Uber, which means expensive cab rides. So if you're looking for a spacious apartment but don't mind commuting  this is the apartment for you.</td>\n",
       "      <td>True</td>\n",
       "      <td>True</td>\n",
       "    </tr>\n",
       "    <tr>\n",
       "      <th>3434683</th>\n",
       "      <td>58116689</td>\n",
       "      <td>2016-01-01</td>\n",
       "      <td>14694990</td>\n",
       "      <td>Laura</td>\n",
       "      <td>Pamela's apartment is a real gem. All the rooms are very spacious (especially for NY standards), including the walk-in closet, which is convenient for people traveling with a lot of luggage. The house is well-equipped and extremely clean. Pamela is a great host. She was always very responsive and made sure we had a comfortable stay, starting with the refreshments she left for us in the fridge. We rented the house for ten days and she offered to get the apartment refreshed after a few days. She also decorated the house for the holidays, which was a very nice touch and made us feel at home. The apartment is on a pretty busy street, so one of the rooms is quite noisy at night, not ideal for light-sleepers, but the rest of the house is well insulated. Other than that, the location is very good: close to multiple subway lines and to Prospect park. Differently from more glamorous parts of Brooklyn, you can still be in Manhattan in 20 minutes but with the advantage of having no trouble finding a parking spot in front of the apartment. Keep in mind that there are two flights of stairs to get to the apartment. Overall it's a great accommodation and I would definitely recommend it.</td>\n",
       "      <td>True</td>\n",
       "      <td>True</td>\n",
       "    </tr>\n",
       "    <tr>\n",
       "      <th>3434683</th>\n",
       "      <td>70302312</td>\n",
       "      <td>2016-04-17</td>\n",
       "      <td>65805947</td>\n",
       "      <td>Thomas</td>\n",
       "      <td>The listing looked great on the website...even better in person!  Other places in NYC have been somewhat or even quite noisy, this place was very quiet.  Even though we did not eat in, the kitchen and dining room were very inviting and extremely well stocked.  Sleeping was something to look forward to with the ultra comfortable bed and linens.  Pamela responded almost immediately when we inquired about this place and Steven was an amazing help as well.  Very clean, so many new appliances!  We will use this listing again when we return to NY.\\r\\n</td>\n",
       "      <td>True</td>\n",
       "      <td>True</td>\n",
       "    </tr>\n",
       "    <tr>\n",
       "      <th>3434683</th>\n",
       "      <td>110023072</td>\n",
       "      <td>2016-10-23</td>\n",
       "      <td>69837548</td>\n",
       "      <td>Dirk</td>\n",
       "      <td>we had a wonderfull week in Brooklyn; App. very near to the next subway Station; enough space for 6 persons, front to the street is very loud; we would go there again for a NY Trip</td>\n",
       "      <td>True</td>\n",
       "      <td>True</td>\n",
       "    </tr>\n",
       "    <tr>\n",
       "      <th>9045876</th>\n",
       "      <td>53646371</td>\n",
       "      <td>2015-11-10</td>\n",
       "      <td>43623534</td>\n",
       "      <td>Mark</td>\n",
       "      <td>Wonderfully comfortable, maddeningly modern and immaculately clean! Plus, the host is absolutely accessible. No disappointments!</td>\n",
       "      <td>True</td>\n",
       "      <td>True</td>\n",
       "    </tr>\n",
       "    <tr>\n",
       "      <th>9045876</th>\n",
       "      <td>110160884</td>\n",
       "      <td>2016-10-24</td>\n",
       "      <td>33396724</td>\n",
       "      <td>Ricardo</td>\n",
       "      <td>Great option for staying at NYC, it is not cheap but not as expensive as a hotel.\\nThe apartment is exactly what you see in the pictures, well equiped, very clean, close to the subway (8-10 minutes walk).\\n</td>\n",
       "      <td>True</td>\n",
       "      <td>True</td>\n",
       "    </tr>\n",
       "    <tr>\n",
       "      <th>6645387</th>\n",
       "      <td>65182256</td>\n",
       "      <td>2016-03-11</td>\n",
       "      <td>56570804</td>\n",
       "      <td>Florian</td>\n",
       "      <td>Kevin was really nice and I enjoyed my stay at his flat. The only drawback was that the two bedrooms are really close, but this was not a problem as he didn't make much noise. So I will come back to his place if I return to New York.</td>\n",
       "      <td>True</td>\n",
       "      <td>True</td>\n",
       "    </tr>\n",
       "    <tr>\n",
       "      <th>6645387</th>\n",
       "      <td>171734042</td>\n",
       "      <td>2017-07-18</td>\n",
       "      <td>1443048</td>\n",
       "      <td>Adam</td>\n",
       "      <td>Kevin's place was ideally located in the heart of Williamsburg. It was a quick subway ride from lower Manhattan. There are plenty of restaurants around the apartment and really nice river park within walking distance.\\n\\nThe room itself was quiet and comfortable. One thing to note is that the apartment is railroad style and this room is in the middle of the apartment. It was not an issue in terms of noise or privacy, but some people might prefer a window.\\n\\nKevin was up front and communicated check-in well.</td>\n",
       "      <td>True</td>\n",
       "      <td>True</td>\n",
       "    </tr>\n",
       "    <tr>\n",
       "      <th>11362459</th>\n",
       "      <td>64188107</td>\n",
       "      <td>2016-02-29</td>\n",
       "      <td>36214979</td>\n",
       "      <td>Stanislav</td>\n",
       "      <td>Ava and Step were very nice, helpful and friendly. The apartment is same as the pictures and the neighborhood is nice. My only issues were related to the WiFi connection and some street noise, so if you are looking to work there I wouldn't recommend. For anything else it's great.</td>\n",
       "      <td>True</td>\n",
       "      <td>True</td>\n",
       "    </tr>\n",
       "    <tr>\n",
       "      <th>11362459</th>\n",
       "      <td>112288671</td>\n",
       "      <td>2016-11-05</td>\n",
       "      <td>21079921</td>\n",
       "      <td>Kate</td>\n",
       "      <td>Ava's partner, Step, was extremely responsive and accommodating throughout my entire stay. He was readily available by text anytime I had a question (wifi password, where to find towels, etc). In terms of the neighborhood, this is not the hipster-y part of Williamsburg; it is largely Hasidic and quiet at night (it can be a bit noisy in the mornings, as there's a lot of traffic in the area). It is definitely convenient, with the train just a short walk away. Overall, I had a lovely experience staying here.</td>\n",
       "      <td>True</td>\n",
       "      <td>True</td>\n",
       "    </tr>\n",
       "    <tr>\n",
       "      <th>11362459</th>\n",
       "      <td>139251376</td>\n",
       "      <td>2017-03-24</td>\n",
       "      <td>28868677</td>\n",
       "      <td>Alena</td>\n",
       "      <td>Great, inexpensive spot. Close to transit, and definetly gave me the \"NYC\" experience!</td>\n",
       "      <td>True</td>\n",
       "      <td>True</td>\n",
       "    </tr>\n",
       "    <tr>\n",
       "      <th>11362459</th>\n",
       "      <td>160711026</td>\n",
       "      <td>2017-06-15</td>\n",
       "      <td>21906133</td>\n",
       "      <td>Eva</td>\n",
       "      <td>The apartment is much bigger and nicer than it looks like from the pictures. The kitchen is well equipped and there's a little balcony too. We stayed for a week and loved it! The neighborhood is very safe, even though it gets noisy because of the traffic but that didn't bother us. There's supermarkets close by and we used the citibike station for getting around a lot. Communication with Step and Ava was easy and they were very responsive and helpful. We'd stay here again in a heartbeat! \\n\\n\\n\\n\\n\\n\\n\\n.</td>\n",
       "      <td>True</td>\n",
       "      <td>True</td>\n",
       "    </tr>\n",
       "    <tr>\n",
       "      <th>11362459</th>\n",
       "      <td>169460703</td>\n",
       "      <td>2017-07-12</td>\n",
       "      <td>22005564</td>\n",
       "      <td>Matt</td>\n",
       "      <td>We would have had a better stay in a Motel, honestly.\\n\\nThe place was not clean â€“ there were dirty dishes, a really moldy shower curtain, and in looking for the linens that weren't left out for us we found dirty laundry, condoms, and other things that were just very off-putting.\\n\\nThe communication was not good, I had to ask the day before for instructions on how to get in because Ava hadn't reached out to me. Her response: \"Contact my agent at this number\"... That \"agent\", who I was already uncomfortable with texting using my personal phone number, gave us an entry code, but didn't inform us to get the key from under the mat to actually get into the unit (we found that ourselves). He also had no idea how long we were staying.\\n\\nThe facility was about as expected, but the bed was hard like a futon, and the pillows were very old.\\n\\nThe location would have been fine if we were there to visit Brooklyn, but it was not as close to Midtown Manhattan as advertised. One trip took us almost an hour, it averaged closer to 50 minutes, not 30. It's not even that close to Williamsburg, honestly, even though it's advertised as the \"Perfect Williamsburg Studio\". It took us 30 minutes to walk to breakfast there.\\n\\nThis was not money well spent.</td>\n",
       "      <td>True</td>\n",
       "      <td>True</td>\n",
       "    </tr>\n",
       "    <tr>\n",
       "      <th>11362459</th>\n",
       "      <td>171752583</td>\n",
       "      <td>2017-07-18</td>\n",
       "      <td>46795467</td>\n",
       "      <td>Cristen</td>\n",
       "      <td>Step and Ava were really great. super accommodating. Step offered suggestions for free movies in the park and other excursions. \\n\\nThe location was better than the pics.  a $30 uber ride to Harlem where we spent most of the night. \\n\\nparking wasn't bad at all we got lucky twice I guess... anyways.\\n\\nfull kitchen was equipped with all we needed. \\n\\nI do have a suggestion. \\n Dishwashing liquid.  I couldn't figure out how to use the dishwasher  (I'm sorry, I'm not a rocket scientist) so when it came time to clean the dishes I had to leave them in the sink. nearly stack and rinced off. I was heading out and running behind I felt awful.</td>\n",
       "      <td>True</td>\n",
       "      <td>True</td>\n",
       "    </tr>\n",
       "    <tr>\n",
       "      <th>11362459</th>\n",
       "      <td>188219460</td>\n",
       "      <td>2017-08-28</td>\n",
       "      <td>135754088</td>\n",
       "      <td>Justine</td>\n",
       "      <td>To be honest i wouldn't bother with this place its not worth the price. My partner and i are visiting from Australia and when we arrived the place hadn't been cleaned since the previous guest...not a nice thing to walk in to. The bed was used, towels and face towel wet, rubbish bags left all over apartment. The neighbourhood is a little scary and deserted of tourists - its not in the heart of williamsburg, thats a 30min walk away. There was also no hot water the whole time we were there. The street noise at night is also not great, had to sleep with ear plugs.</td>\n",
       "      <td>True</td>\n",
       "      <td>True</td>\n",
       "    </tr>\n",
       "    <tr>\n",
       "      <th>11362459</th>\n",
       "      <td>190603618</td>\n",
       "      <td>2017-09-04</td>\n",
       "      <td>78945783</td>\n",
       "      <td>Sophia Minjung</td>\n",
       "      <td>Do not stay here*** Getting a gate code to check-in was a big hassle. The host didn't send us the code in advance. The bathroom wasn't clean. Used towels were still hanging and just a few toilet paper were left. I had to call the assistant that night to bring more. NO HOT water came out. I had to do a shower with cold water every night. Bedding was dirty. Stains on the bed sheet was disgusting but pillows were stinking. I am usually not picky with anything but I was very disappointed with its cleanness. It was very loud with traffic outside. Overall I would not come visit this place again! Ever! The assistant told me he would send us the cleaner next day but I didn't want to remove all my valuables.</td>\n",
       "      <td>True</td>\n",
       "      <td>True</td>\n",
       "    </tr>\n",
       "    <tr>\n",
       "      <th>15899509</th>\n",
       "      <td>158564519</td>\n",
       "      <td>2017-06-07</td>\n",
       "      <td>46871266</td>\n",
       "      <td>Lawrence</td>\n",
       "      <td>apartment is nice, but the building is very loud. hard to sleep. bathroom was full of dead bugs</td>\n",
       "      <td>True</td>\n",
       "      <td>True</td>\n",
       "    </tr>\n",
       "    <tr>\n",
       "      <th>6039238</th>\n",
       "      <td>49223929</td>\n",
       "      <td>2015-10-02</td>\n",
       "      <td>2358427</td>\n",
       "      <td>Sabrina</td>\n",
       "      <td>-Perfect Communication with Roland. He's flexible and it is appreciate.\\r\\n-Apartement is like the pictures. Nice !\\r\\n-Top neighborhood : close subway &amp; restaurants. Sometimes a little bit noisy but not disturbing during the night. \\r\\n-We'll come back ! Thanks a lot !</td>\n",
       "      <td>True</td>\n",
       "      <td>True</td>\n",
       "    </tr>\n",
       "    <tr>\n",
       "      <th>6039238</th>\n",
       "      <td>63733085</td>\n",
       "      <td>2016-02-26</td>\n",
       "      <td>6825718</td>\n",
       "      <td>Ariane</td>\n",
       "      <td>Roland's place is great! We spent 6 nights with our 7 months old baby there and had an amazing time. First, location was exactly what we needed : in the heart of Williamsburgh (lively neighbourhood with great restaurants and shops) and only one subway stop to Manhattan. The appartement is big and very clean. The bed and couch are confortable. The bar downstairs is indeed busy but noise was not an issue. Communication with Roland and his wife was easy, they were very nice and made sure that we had everything we needed. We most definitely recommend this place!</td>\n",
       "      <td>True</td>\n",
       "      <td>True</td>\n",
       "    </tr>\n",
       "    <tr>\n",
       "      <th>6039238</th>\n",
       "      <td>175765601</td>\n",
       "      <td>2017-07-29</td>\n",
       "      <td>17101784</td>\n",
       "      <td>Brent</td>\n",
       "      <td>The place was perfect. The location was great and near everything we needed. The noise from the bar below was not a problem and we stayed on a Friday night! When the ac was on you couldn't hear anything!  Would definitely stay here again!!</td>\n",
       "      <td>True</td>\n",
       "      <td>True</td>\n",
       "    </tr>\n",
       "    <tr>\n",
       "      <th>6039238</th>\n",
       "      <td>182005884</td>\n",
       "      <td>2017-08-13</td>\n",
       "      <td>4113689</td>\n",
       "      <td>Patricia</td>\n",
       "      <td>I've been using airbnb for a while now and this stay at Roland was spectacular: it was very easy to get the keys, the apartment itself is so large, is difficult to believe we are in new york! Clean, big, perfectly located, it was also easy for me to find street parking. Yes it can be noisy because of the bar next door but i used the air conditioning and i slept like a baby. Roland is a top host, always keeping in touch to make sure everything is good, honestly, ill be back for sure since it was a perfect stay. Thank you so much!</td>\n",
       "      <td>True</td>\n",
       "      <td>True</td>\n",
       "    </tr>\n",
       "    <tr>\n",
       "      <th>15988664</th>\n",
       "      <td>163908564</td>\n",
       "      <td>2017-06-25</td>\n",
       "      <td>99682587</td>\n",
       "      <td>Terese</td>\n",
       "      <td>A lovely studio with a spacious feel. It's a quiet, clean and cool place to relax and recharge after a a day of noisy city explorations. Sophisticated, yet fun and comfy feel. Sits on a residential street in East Village with dozens of great restaurants right at the end of the block. Excellent place to stay and I highly recommend!</td>\n",
       "      <td>True</td>\n",
       "      <td>True</td>\n",
       "    </tr>\n",
       "    <tr>\n",
       "      <th>9745484</th>\n",
       "      <td>113391489</td>\n",
       "      <td>2016-11-12</td>\n",
       "      <td>9614688</td>\n",
       "      <td>Ami</td>\n",
       "      <td>We had a very enjoyable stay and would recommend Megan's apartment as a very good value for money option when staying in NY. Only things to be mindful of is that it's fairly far away from central Manhattan/Brooklyn so you need to use the Metro a lot which can get expensive. There are some very good local food shops though so no need to venture far for that.\\r\\n\\r\\nThe flat is also in an old building so be prepared for creaks and pipes gurgling, although there was no issue with noise from neighbours. It was also freezing but we didn't ask Megan how to use the heating, so that's our fault but it may be worth checking it does work if you're staying in the colder months. Other amenity issues is that only one ring on the hob properly worked but not too much of an issue provided you don't need to cook a lot (we didn't try the oven). Internet was very fast and worked well and there is access to Netflix any other VOD services which also work well. There was also always hot water and Megan left clean towels and bedding for us and there was storage space for our clothes, so absolutely no issues there.  \\r\\n\\r\\nOverall a perfect flat for a stay in NY but perhaps not suitable if you're looking for more 'polished' accommodation.</td>\n",
       "      <td>True</td>\n",
       "      <td>True</td>\n",
       "    </tr>\n",
       "    <tr>\n",
       "      <th>9745484</th>\n",
       "      <td>155210033</td>\n",
       "      <td>2017-05-27</td>\n",
       "      <td>22163053</td>\n",
       "      <td>Anna</td>\n",
       "      <td>Megan is a very sweet and caring person. She was quick to help with any needs or queries that I had. The location is good, the metro station is just seconds away. The side of the living room is facing a busy street so there is a lot of noise coming from traffic or even people talking (the apartment is on the 2nd floor, 1st for Europeans). The Copaki kitty is very cute. Overall, a good experience and a lovely host!</td>\n",
       "      <td>True</td>\n",
       "      <td>True</td>\n",
       "    </tr>\n",
       "  </tbody>\n",
       "</table>\n",
       "<p>53358 rows × 7 columns</p>\n",
       "</div>"
      ],
      "text/plain": [
       "                   id       date  reviewer_id   reviewer_name  \\\n",
       "listing_id                                                      \n",
       "9452127     59446510  2016-01-10  23770684     Shiv             \n",
       "6921831     106977097 2016-10-09  7234179      Coline           \n",
       "766542      4860228   2013-05-29  2372033      Sarah            \n",
       "6078066     33843839  2015-06-01  7372886      Johannes         \n",
       "6078066     39826076  2015-07-26  7335439      Andrew           \n",
       "6078066     41622573  2015-08-08  34687414     Charlotte        \n",
       "6078066     47351475  2015-09-18  36122637     Kevin            \n",
       "6078066     55741233  2015-12-05  47524014     Alex             \n",
       "6078066     56530731  2015-12-14  7344099      Charlotte        \n",
       "6078066     60903464  2016-01-29  53756928     Erica            \n",
       "6078066     73347855  2016-05-08  46134094     Yuichi           \n",
       "6078066     75322479  2016-05-20  18592931     Thaynara         \n",
       "6078066     83007425  2016-06-30  65556847     Chantelle        \n",
       "6078066     83867556  2016-07-04  68888382     Julie            \n",
       "6078066     88577078  2016-07-24  8077751      Jes              \n",
       "6078066     101209724 2016-09-12  68830067     Sue              \n",
       "6078066     102995859 2016-09-20  2537987      Celeste          \n",
       "6078066     103275837 2016-09-21  38675313     Mark             \n",
       "6078066     112596525 2016-11-06  62243125     Mara             \n",
       "6078066     113685786 2016-11-13  31780864     Kathleen         \n",
       "6078066     122453571 2016-12-23  105377167    Jessica          \n",
       "6078066     127707197 2017-01-20  9695959      Bianca           \n",
       "6078066     132550252 2017-02-18  81169764     Brian            \n",
       "6078066     138605046 2017-03-20  35500850     Ashley           \n",
       "6078066     139449621 2017-03-25  60828499     Kylie            \n",
       "6078066     143833231 2017-04-13  63367587     Nichole          \n",
       "6078066     146983600 2017-04-24  109438405    Jess             \n",
       "6078066     150603902 2017-05-08  118089889    Olena            \n",
       "6078066     157613667 2017-06-04  119312780    Kirsi            \n",
       "10120476    57607181  2015-12-27  10106984     Ziv              \n",
       "...               ...        ...        ...      ...            \n",
       "13914735    187737388 2017-08-27  113074921    Gitta            \n",
       "16037576    129216667 2017-01-29  40169011     Seungwon         \n",
       "3434683     20932396  2014-10-07  5153362      Beka             \n",
       "3434683     29661818  2015-04-11  26057633     Lee              \n",
       "3434683     31691367  2015-05-09  6811766      Davide           \n",
       "3434683     36503697  2015-06-29  2928546      Jutta            \n",
       "3434683     45964266  2015-09-07  39055792     Kaly             \n",
       "3434683     58116689  2016-01-01  14694990     Laura            \n",
       "3434683     70302312  2016-04-17  65805947     Thomas           \n",
       "3434683     110023072 2016-10-23  69837548     Dirk             \n",
       "9045876     53646371  2015-11-10  43623534     Mark             \n",
       "9045876     110160884 2016-10-24  33396724     Ricardo          \n",
       "6645387     65182256  2016-03-11  56570804     Florian          \n",
       "6645387     171734042 2017-07-18  1443048      Adam             \n",
       "11362459    64188107  2016-02-29  36214979     Stanislav        \n",
       "11362459    112288671 2016-11-05  21079921     Kate             \n",
       "11362459    139251376 2017-03-24  28868677     Alena            \n",
       "11362459    160711026 2017-06-15  21906133     Eva              \n",
       "11362459    169460703 2017-07-12  22005564     Matt             \n",
       "11362459    171752583 2017-07-18  46795467     Cristen          \n",
       "11362459    188219460 2017-08-28  135754088    Justine          \n",
       "11362459    190603618 2017-09-04  78945783     Sophia Minjung   \n",
       "15899509    158564519 2017-06-07  46871266     Lawrence         \n",
       "6039238     49223929  2015-10-02  2358427      Sabrina          \n",
       "6039238     63733085  2016-02-26  6825718      Ariane           \n",
       "6039238     175765601 2017-07-29  17101784     Brent            \n",
       "6039238     182005884 2017-08-13  4113689      Patricia         \n",
       "15988664    163908564 2017-06-25  99682587     Terese           \n",
       "9745484     113391489 2016-11-12  9614688      Ami              \n",
       "9745484     155210033 2017-05-27  22163053     Anna             \n",
       "\n",
       "                                                                                                                                                                                                                                                                                                                                                                                                                                                                                                                                                                                                                                                                                                                                                                                                                                                                                                                                                                                                                                                                                                                                                                                                                                                                                                                                                                                                                                                                                                                                                                                                                                                                                                                                                                                                                                                                                                                                                                                                                                 comments  \\\n",
       "listing_id                                                                                                                                                                                                                                                                                                                                                                                                                                                                                                                                                                                                                                                                                                                                                                                                                                                                                                                                                                                                                                                                                                                                                                                                                                                                                                                                                                                                                                                                                                                                                                                                                                                                                                                                                                                                                                                                                                                                                                                                                                  \n",
       "9452127     We had previously stayed at the apartment over New years and loved it - it had a great location and was very clean. As our trip was extended we decided to return to the apartment. Whilst Helena was very prompt in accepting our request and checking us in we found the flat to be dirty and had been cleaned in a rush since our previous stay, with the rubbish kept in a locked closet. It was a shame as we had really liked the apartment from our initial stay.                                                                                                                                                                                                                                                                                                                                                                                                                                                                                                                                                                                                                                                                                                                                                                                                                                                                                                                                                                                                                                                                                                                                                                                                                                                                                                                                                                                                                                                                                                                                                        \n",
       "6921831     Amazing ! \\r\\nExactly like the pictures. \\r\\nA lot of space. Not too much noise. \\r\\nVery great kitchen and bed. \\r\\nVery clean. \\r\\nVery clos to the subway ! \\r\\nA great experience.                                                                                                                                                                                                                                                                                                                                                                                                                                                                                                                                                                                                                                                                                                                                                                                                                                                                                                                                                                                                                                                                                                                                                                                                                                                                                                                                                                                                                                                                                                                                                                                                                                                                                                                                                                                                                                          \n",
       "766542      We are very appreciative of Anna, her hospitality and flexibility. Her apartment is comfortable, convenient, and a sweet place to land at the end of the day. The neighborhood is right in the heart of things and two blocks away from the subway. It was a lovely neighborhood to walk in, day and night. Anna was totally easy to communicate with and helpful when we had needs. The apartment is in a  busy neighborhood. We were not accustomed to the noise level. Anna was helpful in finding strategies to mitigate this for us. \\r\\nThank you Anna!                                                                                                                                                                                                                                                                                                                                                                                                                                                                                                                                                                                                                                                                                                                                                                                                                                                                                                                                                                                                                                                                                                                                                                                                                                                                                                                                                                                                                                                                   \n",
       "6078066     I always enjoy spending time in New York City. The location of the apartment is ideal of those who want to stroll around the close lower east side and soho or take a quick train ride to brooklyn. the apartment itself is spacious enough for two people. there is a night club right below, you might want to make sure to party there or somewhere else on fridays or saturdays - people who are sensible to noise shouldn't come to NYC anyways.  \\r\\n\\r\\nDon tried his best to make our stay as convenient as possible.                                                                                                                                                                                                                                                                                                                                                                                                                                                                                                                                                                                                                                                                                                                                                                                                                                                                                                                                                                                                                                                                                                                                                                                                                                                                                                                                                                                                                                                                                                   \n",
       "6078066     Very positive experience.  Location is conveniently on top of a nice grocery store, in a great retail/tourist neighborhood.  The apartment is well furnished for two people (we stayed a week) and the owner made a great effort to be in touch and check in with us, which fortunately wasn't necessary as we had everything we needed.  I guess you should be aware that it's on top of a night club that plays music Friday and Saturday nights, which the owner did disclose in his description. While this was certainly audible at late hours, for me it was just white noise and didn't bother me.                                                                                                                                                                                                                                                                                                                                                                                                                                                                                                                                                                                                                                                                                                                                                                                                                                                                                                                                                                                                                                                                                                                                                                                                                                                                                                                                                                                                                       \n",
       "6078066     The apartment was well located to enjoy the East village restaurants and bars, and the market downstairs takes care of all your food needs.The apartment was as descibed. The bathroom and Kitchen were very functional. We unfortunately had the club downstairs open on the Wednesday and Thursday of our stay and the music was quite loud until just after midnight.                                                                                                                                                                                                                                                                                                                                                                                                                                                                                                                                                                                                                                                                                                                                                                                                                                                                                                                                                                                                                                                                                                                                                                                                                                                                                                                                                                                                                                                                                                                                                                                                                                                        \n",
       "6078066     It was great time at this studio. The room was clean and comfortable. The best thing was the location of this house. It's very close to the metro station, so we could easy to get everywhere in NY. Don's feedback is fast and kind.\\r\\nOne bad thing is that the club which is at downstairs is really noisy at weekend. So someone who really sensitive to sleep needs to think about it. But this house is still good place though!                                                                                                                                                                                                                                                                                                                                                                                                                                                                                                                                                                                                                                                                                                                                                                                                                                                                                                                                                                                                                                                                                                                                                                                                                                                                                                                                                                                                                                                                                                                                                                                         \n",
       "6078066     We had a great time at Don's apartment and the location is great, the only thing that was annoying was the club downstairs that Friday and Saturday night was busy until 4 in the morning so no sleep there in combination to the jetlag from the international flight.\\r\\nExcept that it was all great and Don is was always available for us!!\\r\\n                                                                                                                                                                                                                                                                                                                                                                                                                                                                                                                                                                                                                                                                                                                                                                                                                                                                                                                                                                                                                                                                                                                                                                                                                                                                                                                                                                                                                                                                                                                                                                                                                                                                            \n",
       "6078066     Don's place was perfect for our little trip to New York, it's in a GREAT area and it was super easy for us to get around to everywhere we wanted to go. We were pretty psyched to see Russ and Daughter's right across the road from us where we had the most amazing bagels of our lives, and just wandering the streets nearby discovered many, many treasures.\\r\\n\\r\\nThe apartment itself is just as pictured, super clean and very well set up for visitors. The bed is really comfy, was lovely to find towels and shampoos ready for us and it was very easy to get set up and feel at home right away. Even though Don was out of town he made it really easy for us to check in and out and was great to communicate with for the trip.\\r\\n\\r\\nOne thing that others have also mentioned, so we were fully aware already, is the club downstairs did play pretty loud music until around 4.00am Friday and Saturday night. I sleep like a log and personally didn't have a problem, but my husband had a bit of trouble. We bought earplugs for the second night and that was helpful - so if you're a light sleeper it might be a good thing to be aware of.\\r\\n\\r\\nAll in all I'd definitely recommend if you're looking for the perfect little home base for a busy trip to the city!\\r\\n\\r\\n                                                                                                                                                                                                                                                                                                                                                                                                                                                                                                                                                                                                                                                                                                                       \n",
       "6078066     Apartment was very clean upon arrival.  The studio is a nice layout and the host provided a clothing rack with hangers which was very useful.  I also am a big fan of the location, especially considering there is a nice grocery store next door.  However, the building's heat level was very low and the portable radiator that was in the apartment was broken.  Since the host was out of town with no one watching over the apartment, he initially tried tasking me with getting a replacement.  Finally he resolved to order a replacement online, but this replacement was a very tiny space heater that wasn't comparable to the broken radiator.  The heat issue made the stay pretty uncomfortable in the dead of winter.  Also, as other reviews have mentioned, the bar underneath the apartment is very loud.  Music is particularly loud on weekends, but also plays during some week nights.                                                                                                                                                                                                                                                                                                                                                                                                                                                                                                                                                                                                                                                                                                                                                                                                                                                                                                                                                                                                                                                                                                                  \n",
       "6078066     This place is very convenient location. We was able to go to everywhere that we want to go. For example, Midtown, Greenwich Village, Brooklyn and Harlem. And Don is very kind. The only thing is that the downstairs club is a little noisy. But I can recommend this place comprehensively.                                                                                                                                                                                                                                                                                                                                                                                                                                                                                                                                                                                                                                                                                                                                                                                                                                                                                                                                                                                                                                                                                                                                                                                                                                                                                                                                                                                                                                                                                                                                                                                                                                                                                                                                   \n",
       "6078066     We had a great stay in the apartment. Was very well located near a great market and to the subway. The nightclub noise do not disturb. Don were fast to answer my questions and help if was necessary.                                                                                                                                                                                                                                                                                                                                                                                                                                                                                                                                                                                                                                                                                                                                                                                                                                                                                                                                                                                                                                                                                                                                                                                                                                                                                                                                                                                                                                                                                                                                                                                                                                                                                                                                                                                                                          \n",
       "6078066     Dons apartment is located in a fantastic position, the place is true to the pictures. The supermarket downstairs is amazing. However, there were a few negatives regarding the apartment. The hot water takes at least 10 minutes to start working when showering majority of the time. There was no remote for the Apple TV and there is no cable so we had no use of the tv for 16 days. Don had mentioned that I should buy the remote and he would reimburse me but I didn't think that responsibility should fall on me. Don was not quick to respond to my msgs re: the toilet was broken, the hot water and the tv remote but he did eventually respond. The apartment is located on top of club and the music is extremely loud!!!! You can forget about sleeping until after they close at 4am on Friday and Saturday night. The apartment was very clean on arrival however we had to replenish amenities as there was very limited supply of toilet paper, hand soap, etc                                                                                                                                                                                                                                                                                                                                                                                                                                                                                                                                                                                                                                                                                                                                                                                                                                                                                                                                                                                                                                            \n",
       "6078066     On the plus side:\\nGreat location and clean apartment\\nJust above Union Market, great for picking up breakfast and toiletries (but expensive, so maybe not for everyone)\\n\\nOn the down side:\\nCommunication with the host could have been better: we had agreed to meet but never got to see him... instead were told to pick up the keys from his cleaner, who was unaware that new guests were staying at his place. As a result the apartment was not clean and accessible at the agreed time. \\nEqually we didn't hear anything from the host on the check out date. \\n\\nOn the weekend the club downstairs stays open until about 5am. Don't bother trying to sleep with the thumping base going on. We were warned about it but it was way worse than expected.\\n\\nOverall- nice stay but I would go somewhere else next time.\\n \\n\\n                                                                                                                                                                                                                                                                                                                                                                                                                                                                                                                                                                                                                                                                                                                                                                                                                                                                                                                                                                                                                                                                                                                                                                                    \n",
       "6078066     The apt has a great location with easy access to the metro. All in all, the stay was a success, with some flaws:\\r\\n\\r\\nâ€¢Apparently Donâ€™s real name is David Dayan. Why he calls himself Don, I canâ€™t say.\\r\\nâ€¢David asked us to be there at 3 PM but the apt wasnâ€™t yet cleaned and we had to wait for an hour before the maid arrived.\\r\\nâ€¢Luckily we tested the apt keys before the maid left â€“ The keys didnâ€™t work and we had to wait for another hour before the maid returned with new keys.\\r\\nâ€¢The apt was booked for 3 persons, but there were only sheets for two. Initially the maid stated that it wasnâ€™t her problem, and that we had to contact David. After some discussion she promised she would return with the sheets before night fall. However, she didnâ€™t. (A package with sheets from Amazon arrived the next day.)\\r\\nâ€¢David doesnâ€™t pick up the phone, only text messages is answered. The first answer is always some kind of answer that doesnâ€™t make sense like â€œHi, hope all is well. Let me know if you need anything.â€ Pretty annoying, though David will eventually answer within a couple of hours.\\r\\nâ€¢The apt is worn down and not very clean.\\r\\nâ€¢The iron and and iron board is broken.\\r\\nâ€¢The third bed is not suitable for an adult â€“ maybe a child can use it.\\r\\nâ€¢Note that it isnâ€™t a bar/lounge at the first floor. Itâ€™s a club playing house music, and not only Friday and Saturday â€“ see (URL HIDDEN)\\r\\n\\r\\nIâ€™m not going to book the place a second time, but as David brought to my attention: The price is low and I guess you get what you pay for. Though I believe the price is much too high. I was ready to move into a hotel instead, but David didnâ€™t want to do a refund.\\r\\n                                                                                                                                                                                                                                   \n",
       "6078066     First the good - location is great, air con works and unit is adequate space wise by NY standards - although it would be very squashed with 3 people in it. There is noise from club downstairs but this was clear in the description and it was no problem - New York is noisy anyway!\\r\\nThe Bad - no hot water! In 10 days I had one hot shower only! Luckily it was stinking hot weather so a cold shower was not unbearable but it is pretty sad to have no decent shower.\\r\\nThe advertised rooftop access is clearly labelled as \"for top floor apartments only\" \\r\\nPrice was fair for what you get - hot water would help a lot!                                                                                                                                                                                                                                                                                                                                                                                                                                                                                                                                                                                                                                                                                                                                                                                                                                                                                                                                                                                                                                                                                                                                                                                                                                                                                                                                                                                       \n",
       "6078066     I think that Don's description was accurate. His place is really just for a place to crash. The loud music that came from the club didn't bother us. The shower makes a really loud screeching noise which wasn't super awesome but it worked out. Thanks for everything, Don!                                                                                                                                                                                                                                                                                                                                                                                                                                                                                                                                                                                                                                                                                                                                                                                                                                                                                                                                                                                                                                                                                                                                                                                                                                                                                                                                                                                                                                                                                                                                                                                                                                                                                                                                                  \n",
       "6078066     Pro's:   Don's very responsive, polite, professional.   A great location.   Super inexpensive for Soho/Manhattan..  An awesome green grocer 10 steps from the building entrance.  \\r\\n\\r\\nCon's:   Exterior building lock does not work well (not Don's fault, but could be a factor if you are in rainy/cold conditions).  Noisy, even on a non-weekend night.   Small.  I'm not sure that this would work for 3 people, unless they were small -- and then just for a night or two..                                                                                                                                                                                                                                                                                                                                                                                                                                                                                                                                                                                                                                                                                                                                                                                                                                                                                                                                                                                                                                                                                                                                                                                                                                                                                                                                                                                                                                                                                                                                          \n",
       "6078066     Communication before the stay was great, check-in and check-out was super easy and the appartment is located perfectly.\\r\\nIt gets really noisy on Friday and Saturday night (as stated) and the apartment is not really suitable for three people, unfortunately. It is too small for that, the couch is rather uncomfortable to sleep on and there is no proper blanket for the third person. Furthermore, the kitchen lacks some equipment like proper glasses or cups, which I guess could easily be improved.                                                                                                                                                                                                                                                                                                                                                                                                                                                                                                                                                                                                                                                                                                                                                                                                                                                                                                                                                                                                                                                                                                                                                                                                                                                                                                                                                                                                                                                                                                              \n",
       "6078066     Very good value and in a very good location. There's a really cool food market right next door, and the apartment is very conveniently located to cafes, bars and the subway. Only thing was the noise from the nightclub downstairs got a little loud, but if you plan on staying out late on weekends this isn't a problem. Don was also really communicative and answered all of my questions about the place really quickly. Would definitely recommend staying here!                                                                                                                                                                                                                                                                                                                                                                                                                                                                                                                                                                                                                                                                                                                                                                                                                                                                                                                                                                                                                                                                                                                                                                                                                                                                                                                                                                                                                                                                                                                                                       \n",
       "6078066     WARNING: NO central working heat. \\n\\nThis makes the unit uninhabitable. A 5in by 5in space heater does NOT heat an apartment. This unit is illegally operating. Air BNB has not honored my resolution requests and Don has not honored my request for a refund after we froze all night when the place was mis-listed. He believe I should pay for nights I did not use and stay, I believe I was mis informed about the situation and legal habitability of the unit.                                                                                                                                                                                                                                                                                                                                                                                                                                                                                                                                                                                                                                                                                                                                                                                                                                                                                                                                                                                                                                                                                                                                                                                                                                                                                                                                                                                                                                                                                                                                                         \n",
       "6078066     Staying at Dons house was perfect for our 12 night trip to NYC\\nWalking distance to Soho, great restaurants, shops, Williamsburg bridge etc.\\n\\nThe club downstairs on a Friday and Saturday night is extremely loud compared to the really quiet week nights so it was quite a surprise when we got home and the whole apartment was shaking but only from about 11pm-3-4am!\\n\\nBesides that everything else was fine and as described in the ad.\\n\\n\\n                                                                                                                                                                                                                                                                                                                                                                                                                                                                                                                                                                                                                                                                                                                                                                                                                                                                                                                                                                                                                                                                                                                                                                                                                                                                                                                                                                                                                                                                                                                                                                        \n",
       "6078066     Nice spot that's close to lots of fun nightlife. Even with being so close, it's pretty quiet most of the time. That said, it can get pretty noisy at the end of the week when the bar downstairs starts picking up. Plan accordingly.                                                                                                                                                                                                                                                                                                                                                                                                                                                                                                                                                                                                                                                                                                                                                                                                                                                                                                                                                                                                                                                                                                                                                                                                                                                                                                                                                                                                                                                                                                                                                                                                                                                                                                                                                                                           \n",
       "6078066     If you just need a place to crash and will be out until 3 am then this will work great. Like stated in the description There is a club directly under this apartment which blasts music until 3 am. It is very loud and shakes the walls and floors.  Good for young people or people who are going to nyc for the nighlife. Very good location. You have everything you need within a few steps. Above a marketplace, across, 24/7 diner, in the lower east side so surrounded by cool, themed bars like the backroom, the library, mehanata etc. Keep in mind there's no central heat but there are 2 space heaters that were fine for us in st Patrick's day.  The shower was better than expected and heats up in a few seconds. I recommend spreading out showers because the hot water sometimes runs out. Very clean and a decent size.  The apartment is in good condition. Clean bed. The pullout futon is not good for people with back or hip problems because of hard center. Recommend putting an air mattress on top.  All in all it is worth the money and worked fine for us.                                                                                                                                                                                                                                                                                                                                                                                                                                                                                                                                                                                                                                                                                                                                                                                                                                                                                                                                   \n",
       "6078066     Dons place is in a good location for the price. It's walkable to soho. NYC is expensive so this place was good value... it's the basics you need to get by.. no frills. Bed is comfy, heating was sufficient, hot water heats up- just takes a few mins. \\n\\nThanks Don great basic NYC pad :)                                                                                                                                                                                                                                                                                                                                                                                                                                                                                                                                                                                                                                                                                                                                                                                                                                                                                                                                                                                                                                                                                                                                                                                                                                                                                                                                                                                                                                                                                                                                                                                                                                                                                                                                  \n",
       "6078066     Overall this was a good value. Great location. Many great dining options close by and several subway stops close by. Bed was reasonably comfy. \\nUnlike others we had to let shower run for 10 mins to get hot water. Also know that loudness at night not limited to weekends. We were there Monday through Wednesday and there were loud gatherings at bar late every night. Not the best with morning meetings. But overall decent value.                                                                                                                                                                                                                                                                                                                                                                                                                                                                                                                                                                                                                                                                                                                                                                                                                                                                                                                                                                                                                                                                                                                                                                                                                                                                                                                                                                                                                                                                                                                                                                                    \n",
       "6078066     This place was very dirty! Hair everywhere in the bathroom. Used shampoo bottles everywhere. The kitchen was a mess and the host was very hard to reach. I would never stay here again. Save your money and find somewhere better. The whole apartment block smelled and it was very noisy                                                                                                                                                                                                                                                                                                                                                                                                                                                                                                                                                                                                                                                                                                                                                                                                                                                                                                                                                                                                                                                                                                                                                                                                                                                                                                                                                                                                                                                                                                                                                                                                                                                                                                                                      \n",
       "6078066     The greatest advantage of the apartment is the location! It is close to metro and every sort of entertainment you'd like to experience in New York at night. There are countless numbers of restaurants, bars and nightclubs in the walking distance form the apartment. The only major drawback is that one of the nightclubs is just underneath the place. Which means that on Fridays and Saturdays you will not be able to sleep until 4 a.m. (the time when the music if off) not only because of the noise but also because of the beat that makes walls shaking. As for the rest, it is an Ok place for those who are planning to use it only for sleep over                                                                                                                                                                                                                                                                                                                                                                                                                                                                                                                                                                                                                                                                                                                                                                                                                                                                                                                                                                                                                                                                                                                                                                                                                                                                                                                                                             \n",
       "6078066     Nice location, but  very loud wednesday and saturday nights.                                                                                                                                                                                                                                                                                                                                                                                                                                                                                                                                                                                                                                                                                                                                                                                                                                                                                                                                                                                                                                                                                                                                                                                                                                                                                                                                                                                                                                                                                                                                                                                                                                                                                                                                                                                                                                                                                                                                                                    \n",
       "10120476    Okay room. Cubicle with a bed.  There have been reports of bed bugs on some sites.  Rough area but does have options.                                                                                                                                                                                                                                                                                                                                                                                                                                                                                                                                                                                                                                                                                                                                                                                                                                                                                                                                                                                                                                                                                                                                                                                                                                                                                                                                                                                                                                                                                                                                                                                                                                                                                                                                                                                                                                                                                                           \n",
       "...                                                                  ...                                                                                                                                                                                                                                                                                                                                                                                                                                                                                                                                                                                                                                                                                                                                                                                                                                                                                                                                                                                                                                                                                                                                                                                                                                                                                                                                                                                                                                                                                                                                                                                                                                                                                                                                                                                                                                                                                                                                                                    \n",
       "13914735    Ein sensationelles Appartement! Sauber, hell, supergroÃŸ. Das wunderschÃ¶ne Extrazimmer mit Terrasse konnten wir leider kaum nutzen, weil New York und der herrliche Strand besucht werden mussten. Metroverbindung zur Stadt: 3 Minuten zu laufen, zum Strand 5 Minuten, zum graÃŸen Supermarkt 4 Minuten. Kuscheliger FuÃŸboden, tolle KÃ¼che. Wir sind begeistert . 2 Kleinigkeiten vielleicht: Es gab nur 1 Badezimmer Spiegel, was morgens ein wenig GedrÃ¤nge zur Folge hatte. Und man lebt unter der Einflugschneise des Flughafens. \\nUns hat das nicht gestÃ¶rt.                                                                                                                                                                                                                                                                                                                                                                                                                                                                                                                                                                                                                                                                                                                                                                                                                                                                                                                                                                                                                                                                                                                                                                                                                                                                                                                                                                                                                                                       \n",
       "16037576    I always gave 5 stars, however, I should give 1 star first time. Really dirty place. They don't deserve do that.                                                                                                                                                                                                                                                                                                                                                                                                                                                                                                                                                                                                                                                                                                                                                                                                                                                                                                                                                                                                                                                                                                                                                                                                                                                                                                                                                                                                                                                                                                                                                                                                                                                                                                                                                                                                                                                                                                                \n",
       "3434683     This apartment was a great choice during our stay in the NYC area. Pamela was above and beyond welcoming and answered any questions we had. \\n\\nOther reviews mentioned noise, I did not find the noise disturbing. Also, there are two bedrooms and the one in the back of the house is very quiet. \\n\\nThe property is beautiful and very well maintained. I highly recommend this for a stay in NYC.                                                                                                                                                                                                                                                                                                                                                                                                                                                                                                                                                                                                                                                                                                                                                                                                                                                                                                                                                                                                                                                                                                                                                                                                                                                                                                                                                                                                                                                                                                                                                                                                                         \n",
       "3434683     We had a great stay at this lovely apartment. We were very grateful for the super-clean and comfortable condition inside, and the fresh flowers and the pastries and drinks to welcome us. The kitchen is very good and well stocked - we were able to hold a dinner party a few days after we arrived! \\r\\nWe did not meet Pamela, as she was travelling, but we spoke to her on the phone and via text and she was available and helpful. We met two of her associates who were also very helpful and friendly.\\r\\nOne issue: Outside of the apartment it is noisy, particularly at night. It's on a busy road, around the corner from a fire station, and at night there are lots of loud sirens, from fire trucks, police and ambulances right outside the window. Also lots of loud shouting, and cars roaring down the street. Having said that, somehow we all managed to sleep very well!                                                                                                                                                                                                                                                                                                                                                                                                                                                                                                                                                                                                                                                                                                                                                                                                                                                                                                                                                                                                                                                                                                                               \n",
       "3434683     I've been there with my family (6 people): the apartment was, for the first time in my life, EXACTLY as advertised! The pictures are from the actual setup of the apartment, with a super new kitchen that allows you to prepare what you need, a nice bathroom with both tub and shower, super comfortable beds, a nice room for your clothes, tv, wifi and so on! PERFECT! Yeah one of the bedrooms is on the street, so you may have some noise in the night because the firefighters are a block away but if you are living NYC as you should you will be so tired when you lay on your bed that you won't even notice!\\r\\nThe neighborhood is safe, obviously it is not a rich area like other in Brooklyn but overall we had no problems: it was kinda weird in the first days but I am sure in the next years this area will be gentrified as others in BK.\\r\\nThe train is really close to the apartment but we reached it from JFK with SuperShuttle: with 23 dollars each they drove us and it was a better option than using the train after the 8h flight.\\r\\nIt will take you around 45minutes to reach Times Square and 20 to reach Downtown Manhattan: obviously in depends on many factor, but overall we were happy with the distance.\\r\\n\\r\\nYou will not find a cheaper apartment for 6people in the all NYC: and if you can find it, it will be somebody's basement, not an entire apartment as this is. \\r\\n\\r\\nThe most important thing for me was to find a CLEAN plane to stay: well, this is so clean that you can even eat on the floor (not that we've done it... LOL), the beds are really comfortable and the value-price ratio is perfect!\\r\\n\\r\\nPamela is really nice, she left us a fridge full of water and Canada Dry and also some sweets for breakfast: this gives you the dimension of how professional is this host!\\r\\n\\r\\nYou can't go wrong with it, I can't wait to go back to NYC!                                                                                                  \n",
       "3434683     Wir (zwei Erwachsene und zwei frischgebackene Abiturienten) haben im Juni 11 Tage in Pamelas Apartment verbracht. Es war unser erster New York-Aufenthalt.\\r\\nDie Wohnung war exakt so, wie auf den Photos. Sie war frisch und geschmackvoll renoviert und sehr sauber. Das ganze Haus war in einem gepflegten Zustand. Es gab zur BegrÃ¼ÃŸung leckeres GebÃ¤ck und gekÃ¼hlte GetrÃ¤nke.\\r\\nPamela haben wir nicht kennengelernt, wohl aber Steve und Patrick, ihre Mitarbeiter, und Sherma, die Putzfrau. Die Kommunikation wÃ¤hrend unseres Aufenthalts klappte gut.\\r\\nSchÃ¶n war auch, daÃŸ wir am Tag der Abreise unser GepÃ¤ck im Haus lassen konnten, denn wir hatten einen sehr spÃ¤ten Flug.\\r\\nLeider gab es in beiden Schlafzimmern keine Lampen am Bett. Es war anscheinend auch nicht vorgesehen, denn es gab dort auch keine Steckdosen. Der Lichtschalter war neben der TÃ¼r, und so muÃŸte man, wenn man z.B.im Bett gelesen hatte, extra zum Lichtausschalten noch einmal aufstehen und dann im Dunkeln zurÃ¼ck zu Bett. Das war fÃ¼r uns alle eine echte BeeintrÃ¤chtigung.\\r\\nUnd, wie Lee bereits schrieb:\\r\\n\"One issue: Outside of the apartment it is noisy, particularly at night. It's on a busy road, around the corner from a fire station, and at night there are lots of loud sirens, from fire trucks, police and ambulances right outside the window. Also lots of loud shouting, and cars roaring down the street.\" Im hinteren Schlafzimmer war es etwas leiser, aber dort war manchmal noch um Mitternacht Musik aus dem Hof zu hÃ¶ren.\\r\\n\"Having said that, somehow we all managed to sleep very well!\"\\r\\nMan ist schnell an den beiden U-Bahn-Stationen. Es gibt viele kleine LÃ¤den, in denen man Lebensmittel und GetrÃ¤nke kaufen kann. Auch ein groÃŸer Supermarkt ist nicht weit. Wir haben uns in der Gegend immer sicher gefÃ¼hlt.\\r\\n\\r\\nWir wÃ¼rden die Wohnung bei einem nÃ¤chsten NYC-Aufenthalt wieder wÃ¤hlen - und dann Taschenlampen (flaslights) mitbringen ;-)\\r\\n\\r\\n   \n",
       "3434683     Clean, chic and spacious, this place is the best stretch for your budget if you're traveling in a group of 4-6 people. The apartment looks exactly like the pictures, a nice mix of contemporary and vintage, nice skylight in the shower. Stevie and Pam were very responsive and welcoming. They stashed the fridge with water, gave us tips on local restaurants. Overall great experience with hosts and apartment. About the location: Something to note is the fact that to get to any great restaurant or bar in Brooklyn, you'll have a 15 min Uber ride or sub ride, with limited food options besides markets/delis. Also, beware to book this place whenever there is a Caribbean Islands festival going on.  It took us double the time to navigate Brooklyn with Uber, which means expensive cab rides. So if you're looking for a spacious apartment but don't mind commuting  this is the apartment for you.                                                                                                                                                                                                                                                                                                                                                                                                                                                                                                                                                                                                                                                                                                                                                                                                                                                                                                                                                                                                                                                                                                     \n",
       "3434683     Pamela's apartment is a real gem. All the rooms are very spacious (especially for NY standards), including the walk-in closet, which is convenient for people traveling with a lot of luggage. The house is well-equipped and extremely clean. Pamela is a great host. She was always very responsive and made sure we had a comfortable stay, starting with the refreshments she left for us in the fridge. We rented the house for ten days and she offered to get the apartment refreshed after a few days. She also decorated the house for the holidays, which was a very nice touch and made us feel at home. The apartment is on a pretty busy street, so one of the rooms is quite noisy at night, not ideal for light-sleepers, but the rest of the house is well insulated. Other than that, the location is very good: close to multiple subway lines and to Prospect park. Differently from more glamorous parts of Brooklyn, you can still be in Manhattan in 20 minutes but with the advantage of having no trouble finding a parking spot in front of the apartment. Keep in mind that there are two flights of stairs to get to the apartment. Overall it's a great accommodation and I would definitely recommend it.                                                                                                                                                                                                                                                                                                                                                                                                                                                                                                                                                                                                                                                                                                                                                                                          \n",
       "3434683     The listing looked great on the website...even better in person!  Other places in NYC have been somewhat or even quite noisy, this place was very quiet.  Even though we did not eat in, the kitchen and dining room were very inviting and extremely well stocked.  Sleeping was something to look forward to with the ultra comfortable bed and linens.  Pamela responded almost immediately when we inquired about this place and Steven was an amazing help as well.  Very clean, so many new appliances!  We will use this listing again when we return to NY.\\r\\n                                                                                                                                                                                                                                                                                                                                                                                                                                                                                                                                                                                                                                                                                                                                                                                                                                                                                                                                                                                                                                                                                                                                                                                                                                                                                                                                                                                                                                                         \n",
       "3434683     we had a wonderfull week in Brooklyn; App. very near to the next subway Station; enough space for 6 persons, front to the street is very loud; we would go there again for a NY Trip                                                                                                                                                                                                                                                                                                                                                                                                                                                                                                                                                                                                                                                                                                                                                                                                                                                                                                                                                                                                                                                                                                                                                                                                                                                                                                                                                                                                                                                                                                                                                                                                                                                                                                                                                                                                                                            \n",
       "9045876     Wonderfully comfortable, maddeningly modern and immaculately clean! Plus, the host is absolutely accessible. No disappointments!                                                                                                                                                                                                                                                                                                                                                                                                                                                                                                                                                                                                                                                                                                                                                                                                                                                                                                                                                                                                                                                                                                                                                                                                                                                                                                                                                                                                                                                                                                                                                                                                                                                                                                                                                                                                                                                                                                \n",
       "9045876     Great option for staying at NYC, it is not cheap but not as expensive as a hotel.\\nThe apartment is exactly what you see in the pictures, well equiped, very clean, close to the subway (8-10 minutes walk).\\n                                                                                                                                                                                                                                                                                                                                                                                                                                                                                                                                                                                                                                                                                                                                                                                                                                                                                                                                                                                                                                                                                                                                                                                                                                                                                                                                                                                                                                                                                                                                                                                                                                                                                                                                                                                                                  \n",
       "6645387     Kevin was really nice and I enjoyed my stay at his flat. The only drawback was that the two bedrooms are really close, but this was not a problem as he didn't make much noise. So I will come back to his place if I return to New York.                                                                                                                                                                                                                                                                                                                                                                                                                                                                                                                                                                                                                                                                                                                                                                                                                                                                                                                                                                                                                                                                                                                                                                                                                                                                                                                                                                                                                                                                                                                                                                                                                                                                                                                                                                                       \n",
       "6645387     Kevin's place was ideally located in the heart of Williamsburg. It was a quick subway ride from lower Manhattan. There are plenty of restaurants around the apartment and really nice river park within walking distance.\\n\\nThe room itself was quiet and comfortable. One thing to note is that the apartment is railroad style and this room is in the middle of the apartment. It was not an issue in terms of noise or privacy, but some people might prefer a window.\\n\\nKevin was up front and communicated check-in well.                                                                                                                                                                                                                                                                                                                                                                                                                                                                                                                                                                                                                                                                                                                                                                                                                                                                                                                                                                                                                                                                                                                                                                                                                                                                                                                                                                                                                                                                                               \n",
       "11362459    Ava and Step were very nice, helpful and friendly. The apartment is same as the pictures and the neighborhood is nice. My only issues were related to the WiFi connection and some street noise, so if you are looking to work there I wouldn't recommend. For anything else it's great.                                                                                                                                                                                                                                                                                                                                                                                                                                                                                                                                                                                                                                                                                                                                                                                                                                                                                                                                                                                                                                                                                                                                                                                                                                                                                                                                                                                                                                                                                                                                                                                                                                                                                                                                        \n",
       "11362459    Ava's partner, Step, was extremely responsive and accommodating throughout my entire stay. He was readily available by text anytime I had a question (wifi password, where to find towels, etc). In terms of the neighborhood, this is not the hipster-y part of Williamsburg; it is largely Hasidic and quiet at night (it can be a bit noisy in the mornings, as there's a lot of traffic in the area). It is definitely convenient, with the train just a short walk away. Overall, I had a lovely experience staying here.                                                                                                                                                                                                                                                                                                                                                                                                                                                                                                                                                                                                                                                                                                                                                                                                                                                                                                                                                                                                                                                                                                                                                                                                                                                                                                                                                                                                                                                                                                  \n",
       "11362459    Great, inexpensive spot. Close to transit, and definetly gave me the \"NYC\" experience!                                                                                                                                                                                                                                                                                                                                                                                                                                                                                                                                                                                                                                                                                                                                                                                                                                                                                                                                                                                                                                                                                                                                                                                                                                                                                                                                                                                                                                                                                                                                                                                                                                                                                                                                                                                                                                                                                                                                          \n",
       "11362459    The apartment is much bigger and nicer than it looks like from the pictures. The kitchen is well equipped and there's a little balcony too. We stayed for a week and loved it! The neighborhood is very safe, even though it gets noisy because of the traffic but that didn't bother us. There's supermarkets close by and we used the citibike station for getting around a lot. Communication with Step and Ava was easy and they were very responsive and helpful. We'd stay here again in a heartbeat! \\n\\n\\n\\n\\n\\n\\n\\n.                                                                                                                                                                                                                                                                                                                                                                                                                                                                                                                                                                                                                                                                                                                                                                                                                                                                                                                                                                                                                                                                                                                                                                                                                                                                                                                                                                                                                                                                                                   \n",
       "11362459    We would have had a better stay in a Motel, honestly.\\n\\nThe place was not clean â€“ there were dirty dishes, a really moldy shower curtain, and in looking for the linens that weren't left out for us we found dirty laundry, condoms, and other things that were just very off-putting.\\n\\nThe communication was not good, I had to ask the day before for instructions on how to get in because Ava hadn't reached out to me. Her response: \"Contact my agent at this number\"... That \"agent\", who I was already uncomfortable with texting using my personal phone number, gave us an entry code, but didn't inform us to get the key from under the mat to actually get into the unit (we found that ourselves). He also had no idea how long we were staying.\\n\\nThe facility was about as expected, but the bed was hard like a futon, and the pillows were very old.\\n\\nThe location would have been fine if we were there to visit Brooklyn, but it was not as close to Midtown Manhattan as advertised. One trip took us almost an hour, it averaged closer to 50 minutes, not 30. It's not even that close to Williamsburg, honestly, even though it's advertised as the \"Perfect Williamsburg Studio\". It took us 30 minutes to walk to breakfast there.\\n\\nThis was not money well spent.                                                                                                                                                                                                                                                                                                                                                                                                                                                                                                                                                                                                                                                                                                                         \n",
       "11362459    Step and Ava were really great. super accommodating. Step offered suggestions for free movies in the park and other excursions. \\n\\nThe location was better than the pics.  a $30 uber ride to Harlem where we spent most of the night. \\n\\nparking wasn't bad at all we got lucky twice I guess... anyways.\\n\\nfull kitchen was equipped with all we needed. \\n\\nI do have a suggestion. \\n Dishwashing liquid.  I couldn't figure out how to use the dishwasher  (I'm sorry, I'm not a rocket scientist) so when it came time to clean the dishes I had to leave them in the sink. nearly stack and rinced off. I was heading out and running behind I felt awful.                                                                                                                                                                                                                                                                                                                                                                                                                                                                                                                                                                                                                                                                                                                                                                                                                                                                                                                                                                                                                                                                                                                                                                                                                                                                                                                                                            \n",
       "11362459    To be honest i wouldn't bother with this place its not worth the price. My partner and i are visiting from Australia and when we arrived the place hadn't been cleaned since the previous guest...not a nice thing to walk in to. The bed was used, towels and face towel wet, rubbish bags left all over apartment. The neighbourhood is a little scary and deserted of tourists - its not in the heart of williamsburg, thats a 30min walk away. There was also no hot water the whole time we were there. The street noise at night is also not great, had to sleep with ear plugs.                                                                                                                                                                                                                                                                                                                                                                                                                                                                                                                                                                                                                                                                                                                                                                                                                                                                                                                                                                                                                                                                                                                                                                                                                                                                                                                                                                                                                                          \n",
       "11362459    Do not stay here*** Getting a gate code to check-in was a big hassle. The host didn't send us the code in advance. The bathroom wasn't clean. Used towels were still hanging and just a few toilet paper were left. I had to call the assistant that night to bring more. NO HOT water came out. I had to do a shower with cold water every night. Bedding was dirty. Stains on the bed sheet was disgusting but pillows were stinking. I am usually not picky with anything but I was very disappointed with its cleanness. It was very loud with traffic outside. Overall I would not come visit this place again! Ever! The assistant told me he would send us the cleaner next day but I didn't want to remove all my valuables.                                                                                                                                                                                                                                                                                                                                                                                                                                                                                                                                                                                                                                                                                                                                                                                                                                                                                                                                                                                                                                                                                                                                                                                                                                                                                            \n",
       "15899509    apartment is nice, but the building is very loud. hard to sleep. bathroom was full of dead bugs                                                                                                                                                                                                                                                                                                                                                                                                                                                                                                                                                                                                                                                                                                                                                                                                                                                                                                                                                                                                                                                                                                                                                                                                                                                                                                                                                                                                                                                                                                                                                                                                                                                                                                                                                                                                                                                                                                                                 \n",
       "6039238     -Perfect Communication with Roland. He's flexible and it is appreciate.\\r\\n-Apartement is like the pictures. Nice !\\r\\n-Top neighborhood : close subway & restaurants. Sometimes a little bit noisy but not disturbing during the night. \\r\\n-We'll come back ! Thanks a lot !                                                                                                                                                                                                                                                                                                                                                                                                                                                                                                                                                                                                                                                                                                                                                                                                                                                                                                                                                                                                                                                                                                                                                                                                                                                                                                                                                                                                                                                                                                                                                                                                                                                                                                                                                  \n",
       "6039238     Roland's place is great! We spent 6 nights with our 7 months old baby there and had an amazing time. First, location was exactly what we needed : in the heart of Williamsburgh (lively neighbourhood with great restaurants and shops) and only one subway stop to Manhattan. The appartement is big and very clean. The bed and couch are confortable. The bar downstairs is indeed busy but noise was not an issue. Communication with Roland and his wife was easy, they were very nice and made sure that we had everything we needed. We most definitely recommend this place!                                                                                                                                                                                                                                                                                                                                                                                                                                                                                                                                                                                                                                                                                                                                                                                                                                                                                                                                                                                                                                                                                                                                                                                                                                                                                                                                                                                                                                            \n",
       "6039238     The place was perfect. The location was great and near everything we needed. The noise from the bar below was not a problem and we stayed on a Friday night! When the ac was on you couldn't hear anything!  Would definitely stay here again!!                                                                                                                                                                                                                                                                                                                                                                                                                                                                                                                                                                                                                                                                                                                                                                                                                                                                                                                                                                                                                                                                                                                                                                                                                                                                                                                                                                                                                                                                                                                                                                                                                                                                                                                                                                                 \n",
       "6039238     I've been using airbnb for a while now and this stay at Roland was spectacular: it was very easy to get the keys, the apartment itself is so large, is difficult to believe we are in new york! Clean, big, perfectly located, it was also easy for me to find street parking. Yes it can be noisy because of the bar next door but i used the air conditioning and i slept like a baby. Roland is a top host, always keeping in touch to make sure everything is good, honestly, ill be back for sure since it was a perfect stay. Thank you so much!                                                                                                                                                                                                                                                                                                                                                                                                                                                                                                                                                                                                                                                                                                                                                                                                                                                                                                                                                                                                                                                                                                                                                                                                                                                                                                                                                                                                                                                                          \n",
       "15988664    A lovely studio with a spacious feel. It's a quiet, clean and cool place to relax and recharge after a a day of noisy city explorations. Sophisticated, yet fun and comfy feel. Sits on a residential street in East Village with dozens of great restaurants right at the end of the block. Excellent place to stay and I highly recommend!                                                                                                                                                                                                                                                                                                                                                                                                                                                                                                                                                                                                                                                                                                                                                                                                                                                                                                                                                                                                                                                                                                                                                                                                                                                                                                                                                                                                                                                                                                                                                                                                                                                                                    \n",
       "9745484     We had a very enjoyable stay and would recommend Megan's apartment as a very good value for money option when staying in NY. Only things to be mindful of is that it's fairly far away from central Manhattan/Brooklyn so you need to use the Metro a lot which can get expensive. There are some very good local food shops though so no need to venture far for that.\\r\\n\\r\\nThe flat is also in an old building so be prepared for creaks and pipes gurgling, although there was no issue with noise from neighbours. It was also freezing but we didn't ask Megan how to use the heating, so that's our fault but it may be worth checking it does work if you're staying in the colder months. Other amenity issues is that only one ring on the hob properly worked but not too much of an issue provided you don't need to cook a lot (we didn't try the oven). Internet was very fast and worked well and there is access to Netflix any other VOD services which also work well. There was also always hot water and Megan left clean towels and bedding for us and there was storage space for our clothes, so absolutely no issues there.  \\r\\n\\r\\nOverall a perfect flat for a stay in NY but perhaps not suitable if you're looking for more 'polished' accommodation.                                                                                                                                                                                                                                                                                                                                                                                                                                                                                                                                                                                                                                                                                                                                             \n",
       "9745484     Megan is a very sweet and caring person. She was quick to help with any needs or queries that I had. The location is good, the metro station is just seconds away. The side of the living room is facing a busy street so there is a lot of noise coming from traffic or even people talking (the apartment is on the 2nd floor, 1st for Europeans). The Copaki kitty is very cute. Overall, a good experience and a lovely host!                                                                                                                                                                                                                                                                                                                                                                                                                                                                                                                                                                                                                                                                                                                                                                                                                                                                                                                                                                                                                                                                                                                                                                                                                                                                                                                                                                                                                                                                                                                                                                                               \n",
       "\n",
       "           goodcomments badcomments  \n",
       "listing_id                           \n",
       "9452127     True         True        \n",
       "6921831     True         True        \n",
       "766542      True         True        \n",
       "6078066     True         True        \n",
       "6078066     True         True        \n",
       "6078066     True         True        \n",
       "6078066     True         True        \n",
       "6078066     True         True        \n",
       "6078066     True         True        \n",
       "6078066     True         True        \n",
       "6078066     True         True        \n",
       "6078066     True         True        \n",
       "6078066     True         True        \n",
       "6078066     True         True        \n",
       "6078066     True         True        \n",
       "6078066     True         True        \n",
       "6078066     True         True        \n",
       "6078066     True         True        \n",
       "6078066     True         True        \n",
       "6078066     True         True        \n",
       "6078066     False        True        \n",
       "6078066     True         True        \n",
       "6078066     True         True        \n",
       "6078066     True         True        \n",
       "6078066     True         True        \n",
       "6078066     True         True        \n",
       "6078066     False        True        \n",
       "6078066     True         True        \n",
       "6078066     True         True        \n",
       "10120476    False        True        \n",
       "...          ...          ...        \n",
       "13914735    False        True        \n",
       "16037576    False        True        \n",
       "3434683     True         True        \n",
       "3434683     True         True        \n",
       "3434683     True         True        \n",
       "3434683     False        True        \n",
       "3434683     True         True        \n",
       "3434683     True         True        \n",
       "3434683     True         True        \n",
       "3434683     True         True        \n",
       "9045876     True         True        \n",
       "9045876     True         True        \n",
       "6645387     True         True        \n",
       "6645387     True         True        \n",
       "11362459    True         True        \n",
       "11362459    True         True        \n",
       "11362459    True         True        \n",
       "11362459    True         True        \n",
       "11362459    True         True        \n",
       "11362459    True         True        \n",
       "11362459    True         True        \n",
       "11362459    True         True        \n",
       "15899509    True         True        \n",
       "6039238     True         True        \n",
       "6039238     True         True        \n",
       "6039238     True         True        \n",
       "6039238     True         True        \n",
       "15988664    True         True        \n",
       "9745484     True         True        \n",
       "9745484     True         True        \n",
       "\n",
       "[53358 rows x 7 columns]"
      ]
     },
     "execution_count": 22,
     "metadata": {},
     "output_type": "execute_result"
    }
   ],
   "source": [
    "reviews[reviews['badcomments']==True]"
   ]
  },
  {
   "cell_type": "code",
   "execution_count": 49,
   "metadata": {},
   "outputs": [
    {
     "data": {
      "text/plain": [
       "53358"
      ]
     },
     "execution_count": 49,
     "metadata": {},
     "output_type": "execute_result"
    }
   ],
   "source": [
    "len(reviews[reviews['badcomments']==True])"
   ]
  },
  {
   "cell_type": "code",
   "execution_count": 50,
   "metadata": {},
   "outputs": [
    {
     "data": {
      "text/plain": [
       "750323"
      ]
     },
     "execution_count": 50,
     "metadata": {},
     "output_type": "execute_result"
    }
   ],
   "source": [
    "len(reviews[reviews['goodcomments']==True])+len(reviews[reviews['badcomments']==True])"
   ]
  },
  {
   "cell_type": "markdown",
   "metadata": {},
   "source": [
    "So we've only accounted for _____750323___ (may change) out of the 801784 reviews total. We may still need to try to find out the number of reviews that are automated or in a different language to see how many we have missed. "
   ]
  },
  {
   "cell_type": "code",
   "execution_count": 51,
   "metadata": {},
   "outputs": [],
   "source": [
    "reviewsmergels=pd.merge(reviews, ls, left_index=True, right_index=True, how='left')"
   ]
  },
  {
   "cell_type": "code",
   "execution_count": 52,
   "metadata": {},
   "outputs": [
    {
     "data": {
      "text/html": [
       "<div>\n",
       "<style scoped>\n",
       "    .dataframe tbody tr th:only-of-type {\n",
       "        vertical-align: middle;\n",
       "    }\n",
       "\n",
       "    .dataframe tbody tr th {\n",
       "        vertical-align: top;\n",
       "    }\n",
       "\n",
       "    .dataframe thead th {\n",
       "        text-align: right;\n",
       "    }\n",
       "</style>\n",
       "<table border=\"1\" class=\"dataframe\">\n",
       "  <thead>\n",
       "    <tr style=\"text-align: right;\">\n",
       "      <th></th>\n",
       "      <th>id</th>\n",
       "      <th>date</th>\n",
       "      <th>reviewer_id</th>\n",
       "      <th>reviewer_name</th>\n",
       "      <th>comments</th>\n",
       "      <th>goodcomments</th>\n",
       "      <th>badcomments</th>\n",
       "      <th>name</th>\n",
       "      <th>host_id</th>\n",
       "      <th>host_name</th>\n",
       "      <th>...</th>\n",
       "      <th>latitude</th>\n",
       "      <th>longitude</th>\n",
       "      <th>room_type</th>\n",
       "      <th>price</th>\n",
       "      <th>minimum_nights</th>\n",
       "      <th>number_of_reviews</th>\n",
       "      <th>last_review</th>\n",
       "      <th>reviews_per_month</th>\n",
       "      <th>calculated_host_listings_count</th>\n",
       "      <th>availability_365</th>\n",
       "    </tr>\n",
       "  </thead>\n",
       "  <tbody>\n",
       "    <tr>\n",
       "      <th>2515</th>\n",
       "      <td>198</td>\n",
       "      <td>2008-10-13</td>\n",
       "      <td>2603</td>\n",
       "      <td>Jenny</td>\n",
       "      <td>Stephanie was a wonderful host! Her apartment was beautiful and extremely clean. We had a very nice (and affordable!) stay in the city with private room and own bathroom.</td>\n",
       "      <td>True</td>\n",
       "      <td>False</td>\n",
       "      <td>Stay at Chez Chic budget room #1</td>\n",
       "      <td>2758</td>\n",
       "      <td>Mizi</td>\n",
       "      <td>...</td>\n",
       "      <td>40.799205</td>\n",
       "      <td>-73.953676</td>\n",
       "      <td>Private room</td>\n",
       "      <td>59</td>\n",
       "      <td>2</td>\n",
       "      <td>156</td>\n",
       "      <td>2017-07-31</td>\n",
       "      <td>1.43</td>\n",
       "      <td>3</td>\n",
       "      <td>292</td>\n",
       "    </tr>\n",
       "    <tr>\n",
       "      <th>2515</th>\n",
       "      <td>859</td>\n",
       "      <td>2009-03-08</td>\n",
       "      <td>8455</td>\n",
       "      <td>Roland</td>\n",
       "      <td>Such a wonderful place and very close to the metro station on the line 1 2 3. She was awesome with us, it was a pleasure to stay in her appt. she's french, so last word ...\\r\\nMerci encore stephanie pour ton hospitalitÃ©. On a passÃ© un super sÃ©jour avec toi. TrÃ¨s disponible pour nous avec pleins de conseils, je vous recommande particulierement cette adresse qui plus est pour un prix raisonnable. Le metro est juste a 1 bloc de l'appartement et la ligne 1-2-3 est la plus centrale et la plus pratique de NYC. son quartier est vraiment tres sympa en plus !!! Allez y les yeux fermÃ©s.</td>\n",
       "      <td>True</td>\n",
       "      <td>False</td>\n",
       "      <td>Stay at Chez Chic budget room #1</td>\n",
       "      <td>2758</td>\n",
       "      <td>Mizi</td>\n",
       "      <td>...</td>\n",
       "      <td>40.799205</td>\n",
       "      <td>-73.953676</td>\n",
       "      <td>Private room</td>\n",
       "      <td>59</td>\n",
       "      <td>2</td>\n",
       "      <td>156</td>\n",
       "      <td>2017-07-31</td>\n",
       "      <td>1.43</td>\n",
       "      <td>3</td>\n",
       "      <td>292</td>\n",
       "    </tr>\n",
       "    <tr>\n",
       "      <th>2515</th>\n",
       "      <td>1083</td>\n",
       "      <td>2009-03-25</td>\n",
       "      <td>9759</td>\n",
       "      <td>Cem</td>\n",
       "      <td>I just got back from a trip to NYC during which I stayed at Stephanie's appartment. The bedroom and private bathroom that comes with it were both kept very clean and are spacious so that I could unpack my stuff and put my clothes away in the closet. I didn't have to live out of my rucksack for ten days which made me already feel comfortable.\\r\\nThe appartment is situated right at the north end of Central Park in Harlem and very close to different subway stations. I could either start my day with a morning stroll through the park and into the Upper West or Upper East Side, or catch the subway to get to Midtown, South Manhattan or Brooklyn in no time. So from a geographical vantage point the appartment is perfectly situated to discover the city.\\r\\nBut apart from all these facts it was above all Stephanie with her warm and welcoming nature that really made me feel comfortable during these days. It is very nice to come \"home\" in the evening, tired after a long day's strolling around, and end the day with a little chit-chat about one's experiences before falling into bed and, with thumb-in-mouth, sleep blissfully through till the next morning.\\r\\nNYC, I will be back, and I know where I'll be staying! Thank you, Stephanie!!!</td>\n",
       "      <td>True</td>\n",
       "      <td>False</td>\n",
       "      <td>Stay at Chez Chic budget room #1</td>\n",
       "      <td>2758</td>\n",
       "      <td>Mizi</td>\n",
       "      <td>...</td>\n",
       "      <td>40.799205</td>\n",
       "      <td>-73.953676</td>\n",
       "      <td>Private room</td>\n",
       "      <td>59</td>\n",
       "      <td>2</td>\n",
       "      <td>156</td>\n",
       "      <td>2017-07-31</td>\n",
       "      <td>1.43</td>\n",
       "      <td>3</td>\n",
       "      <td>292</td>\n",
       "    </tr>\n",
       "    <tr>\n",
       "      <th>2515</th>\n",
       "      <td>1107</td>\n",
       "      <td>2009-03-27</td>\n",
       "      <td>9193</td>\n",
       "      <td>Holly</td>\n",
       "      <td>Stephanie's offered all the most important things: a warm welcome into a comfortable home; a comfortable bed in a quiet room; fresh &amp; clean towels &amp; blankets; and easy access to Manhattan.  Finding myself travelling to NYC in the future I feel I already have a open invitation to make home away from home through Stephanie's generousity.</td>\n",
       "      <td>True</td>\n",
       "      <td>False</td>\n",
       "      <td>Stay at Chez Chic budget room #1</td>\n",
       "      <td>2758</td>\n",
       "      <td>Mizi</td>\n",
       "      <td>...</td>\n",
       "      <td>40.799205</td>\n",
       "      <td>-73.953676</td>\n",
       "      <td>Private room</td>\n",
       "      <td>59</td>\n",
       "      <td>2</td>\n",
       "      <td>156</td>\n",
       "      <td>2017-07-31</td>\n",
       "      <td>1.43</td>\n",
       "      <td>3</td>\n",
       "      <td>292</td>\n",
       "    </tr>\n",
       "    <tr>\n",
       "      <th>2515</th>\n",
       "      <td>2175</td>\n",
       "      <td>2009-05-09</td>\n",
       "      <td>7048</td>\n",
       "      <td>Alessandra</td>\n",
       "      <td>Stephanie was really nice, ftiendly and helpful. The room was perfect and it was very easy to go around the town from there. :-)</td>\n",
       "      <td>True</td>\n",
       "      <td>False</td>\n",
       "      <td>Stay at Chez Chic budget room #1</td>\n",
       "      <td>2758</td>\n",
       "      <td>Mizi</td>\n",
       "      <td>...</td>\n",
       "      <td>40.799205</td>\n",
       "      <td>-73.953676</td>\n",
       "      <td>Private room</td>\n",
       "      <td>59</td>\n",
       "      <td>2</td>\n",
       "      <td>156</td>\n",
       "      <td>2017-07-31</td>\n",
       "      <td>1.43</td>\n",
       "      <td>3</td>\n",
       "      <td>292</td>\n",
       "    </tr>\n",
       "  </tbody>\n",
       "</table>\n",
       "<p>5 rows × 22 columns</p>\n",
       "</div>"
      ],
      "text/plain": [
       "        id       date  reviewer_id reviewer_name  \\\n",
       "2515  198  2008-10-13  2603         Jenny          \n",
       "2515  859  2009-03-08  8455         Roland         \n",
       "2515  1083 2009-03-25  9759         Cem            \n",
       "2515  1107 2009-03-27  9193         Holly          \n",
       "2515  2175 2009-05-09  7048         Alessandra     \n",
       "\n",
       "                                                                                                                                                                                                                                                                                                                                                                                                                                                                                                                                                                                                                                                                                                                                                                                                                                                                                                                                                                                                                                                                                                                                                                                                                                                                                     comments  \\\n",
       "2515  Stephanie was a wonderful host! Her apartment was beautiful and extremely clean. We had a very nice (and affordable!) stay in the city with private room and own bathroom.                                                                                                                                                                                                                                                                                                                                                                                                                                                                                                                                                                                                                                                                                                                                                                                                                                                                                                                                                                                                                                                                                                                \n",
       "2515  Such a wonderful place and very close to the metro station on the line 1 2 3. She was awesome with us, it was a pleasure to stay in her appt. she's french, so last word ...\\r\\nMerci encore stephanie pour ton hospitalitÃ©. On a passÃ© un super sÃ©jour avec toi. TrÃ¨s disponible pour nous avec pleins de conseils, je vous recommande particulierement cette adresse qui plus est pour un prix raisonnable. Le metro est juste a 1 bloc de l'appartement et la ligne 1-2-3 est la plus centrale et la plus pratique de NYC. son quartier est vraiment tres sympa en plus !!! Allez y les yeux fermÃ©s.                                                                                                                                                                                                                                                                                                                                                                                                                                                                                                                                                                                                                                                                              \n",
       "2515  I just got back from a trip to NYC during which I stayed at Stephanie's appartment. The bedroom and private bathroom that comes with it were both kept very clean and are spacious so that I could unpack my stuff and put my clothes away in the closet. I didn't have to live out of my rucksack for ten days which made me already feel comfortable.\\r\\nThe appartment is situated right at the north end of Central Park in Harlem and very close to different subway stations. I could either start my day with a morning stroll through the park and into the Upper West or Upper East Side, or catch the subway to get to Midtown, South Manhattan or Brooklyn in no time. So from a geographical vantage point the appartment is perfectly situated to discover the city.\\r\\nBut apart from all these facts it was above all Stephanie with her warm and welcoming nature that really made me feel comfortable during these days. It is very nice to come \"home\" in the evening, tired after a long day's strolling around, and end the day with a little chit-chat about one's experiences before falling into bed and, with thumb-in-mouth, sleep blissfully through till the next morning.\\r\\nNYC, I will be back, and I know where I'll be staying! Thank you, Stephanie!!!   \n",
       "2515  Stephanie's offered all the most important things: a warm welcome into a comfortable home; a comfortable bed in a quiet room; fresh & clean towels & blankets; and easy access to Manhattan.  Finding myself travelling to NYC in the future I feel I already have a open invitation to make home away from home through Stephanie's generousity.                                                                                                                                                                                                                                                                                                                                                                                                                                                                                                                                                                                                                                                                                                                                                                                                                                                                                                                                         \n",
       "2515  Stephanie was really nice, ftiendly and helpful. The room was perfect and it was very easy to go around the town from there. :-)                                                                                                                                                                                                                                                                                                                                                                                                                                                                                                                                                                                                                                                                                                                                                                                                                                                                                                                                                                                                                                                                                                                                                          \n",
       "\n",
       "     goodcomments badcomments                              name  host_id  \\\n",
       "2515  True         False       Stay at Chez Chic budget room #1  2758      \n",
       "2515  True         False       Stay at Chez Chic budget room #1  2758      \n",
       "2515  True         False       Stay at Chez Chic budget room #1  2758      \n",
       "2515  True         False       Stay at Chez Chic budget room #1  2758      \n",
       "2515  True         False       Stay at Chez Chic budget room #1  2758      \n",
       "\n",
       "     host_name  ...   latitude  longitude     room_type  price minimum_nights  \\\n",
       "2515  Mizi      ...  40.799205 -73.953676  Private room  59     2               \n",
       "2515  Mizi      ...  40.799205 -73.953676  Private room  59     2               \n",
       "2515  Mizi      ...  40.799205 -73.953676  Private room  59     2               \n",
       "2515  Mizi      ...  40.799205 -73.953676  Private room  59     2               \n",
       "2515  Mizi      ...  40.799205 -73.953676  Private room  59     2               \n",
       "\n",
       "      number_of_reviews  last_review  reviews_per_month  \\\n",
       "2515  156                2017-07-31   1.43                \n",
       "2515  156                2017-07-31   1.43                \n",
       "2515  156                2017-07-31   1.43                \n",
       "2515  156                2017-07-31   1.43                \n",
       "2515  156                2017-07-31   1.43                \n",
       "\n",
       "     calculated_host_listings_count  availability_365  \n",
       "2515  3                              292               \n",
       "2515  3                              292               \n",
       "2515  3                              292               \n",
       "2515  3                              292               \n",
       "2515  3                              292               \n",
       "\n",
       "[5 rows x 22 columns]"
      ]
     },
     "execution_count": 52,
     "metadata": {},
     "output_type": "execute_result"
    }
   ],
   "source": [
    "reviewsmergels.head()"
   ]
  },
  {
   "cell_type": "code",
   "execution_count": 33,
   "metadata": {},
   "outputs": [
    {
     "data": {
      "text/plain": [
       "neighbourhood_group\n",
       "Bronx            11747 \n",
       "Brooklyn         282276\n",
       "Manhattan        321962\n",
       "Queens           75699 \n",
       "Staten Island    5281  \n",
       "Name: goodcomments, dtype: int64"
      ]
     },
     "execution_count": 33,
     "metadata": {},
     "output_type": "execute_result"
    }
   ],
   "source": [
    "reviewsmergels['goodcomments'].groupby(reviewsmergels['neighbourhood_group']).sum()"
   ]
  },
  {
   "cell_type": "code",
   "execution_count": 29,
   "metadata": {},
   "outputs": [
    {
     "data": {
      "text/plain": [
       "neighbourhood_group\n",
       "Bronx            753  \n",
       "Brooklyn         19243\n",
       "Manhattan        28237\n",
       "Queens           4768 \n",
       "Staten Island    357  \n",
       "Name: badcomments, dtype: int64"
      ]
     },
     "execution_count": 29,
     "metadata": {},
     "output_type": "execute_result"
    }
   ],
   "source": [
    "reviewsmergels['badcomments'].groupby(reviewsmergels['neighbourhood_group']).sum()"
   ]
  },
  {
   "cell_type": "code",
   "execution_count": 216,
   "metadata": {},
   "outputs": [
    {
     "data": {
      "image/png": "[encoded data removed]",
      "text/plain": [
       "<Figure size 792x432 with 1 Axes>"
      ]
     },
     "metadata": {
      "needs_background": "light"
     },
     "output_type": "display_data"
    }
   ],
   "source": [
    "fig, ax = plt.subplots(figsize=(11,6))\n",
    "\n",
    "x=range(len(y))\n",
    "x1=[0.4,1.4,2.4,3.4,4.4]\n",
    "\n",
    "y=reviewsmergels['goodcomments'].groupby(reviewsmergels['neighbourhood_group']).sum()\n",
    "z=reviewsmergels['badcomments'].groupby(reviewsmergels['neighbourhood_group']).sum()\n",
    "\n",
    "ax=plt.subplot(121)\n",
    "ax.bar(x,y,color='b',width=0.4,align='center')\n",
    "ax.bar(x1,z,color='r',width=0.4,align='center')\n",
    "plt.xlabel('Boroughs')\n",
    "plt.xticks((0,1,2,3,4),['Bronx','Brooklyn','Manhattan','Queens','Staten Island'])\n",
    "plt.ylabel('Number of Reviews')\n",
    "plt.title('Number of Negative and Positive Reviews by Borough')\n",
    "ax.autoscale(tight=True)\n",
    "##Need to add legend if we want to use this graph\n",
    "\n",
    "plt.show()"
   ]
  },
  {
   "cell_type": "markdown",
   "metadata": {},
   "source": [
    "Since there is such a small amount of negative reviews compared to positive, this is a terrible graph to compare the two. However, it does get the point across that there appears to be hardly any negative reviews compared to positive ones. In the next graph we plot the two separately, so we can see the distributions of the negative reviews as well as the positive reviews for each borough. It is important to note that the range of the y-axis scales are very different."
   ]
  },
  {
   "cell_type": "code",
   "execution_count": 47,
   "metadata": {},
   "outputs": [
    {
     "data": {
      "image/png": "[encoded data removed]",
      "text/plain": [
       "<Figure size 864x432 with 2 Axes>"
      ]
     },
     "metadata": {
      "needs_background": "light"
     },
     "output_type": "display_data"
    }
   ],
   "source": [
    "fig, ax = plt.subplots(figsize=(12,6))\n",
    "x=range(len(y))\n",
    "x1=[0.4,1.4,2.4,3.4,4.4]\n",
    "y=reviewsmergels['goodcomments'].groupby(reviewsmergels['neighbourhood_group']).sum()\n",
    "z=reviewsmergels['badcomments'].groupby(reviewsmergels['neighbourhood_group']).sum()\n",
    "ax=plt.subplot(121)\n",
    "ax.bar(x,y,color='b',width=0.4,align='center')\n",
    "plt.xlabel('Boroughs')\n",
    "plt.xticks((0,1,2,3,4),['Bronx','Brooklyn','Manhattan','Queens','Staten Island'])\n",
    "plt.ylabel('Number of Reviews')\n",
    "plt.title('Number of Positive Reviews by Borough')\n",
    "\n",
    "ax=plt.subplot(122)\n",
    "ax.bar(x,z,color='r',width=0.4,align='center')\n",
    "plt.xlabel('Boroughs')\n",
    "plt.xticks((0,1,2,3,4),['Bronx','Brooklyn','Manhattan','Queens','Staten Island'])\n",
    "plt.ylabel('Number of Reviews')\n",
    "plt.title('Number of Negative Reviews by Borough')\n",
    "\n",
    "\n",
    "plt.show()"
   ]
  },
  {
   "cell_type": "markdown",
   "metadata": {},
   "source": [
    "We should probably find the average number of positive/negative reviews per borough like we did before with the availability. Since obviously Manhattan and Brooklyn are likely to have the most reviews since they have the most Airbnbs. "
   ]
  },
  {
   "cell_type": "code",
   "execution_count": 97,
   "metadata": {},
   "outputs": [
    {
     "data": {
      "text/plain": [
       "neighbourhood_group\n",
       "Bronx            14.850822\n",
       "Brooklyn         15.282945\n",
       "Manhattan        15.805695\n",
       "Queens           17.235656\n",
       "Staten Island    17.962585\n",
       "dtype: float64"
      ]
     },
     "execution_count": 97,
     "metadata": {},
     "output_type": "execute_result"
    }
   ],
   "source": [
    "reviewsmergels['goodcomments'].groupby(reviewsmergels['neighbourhood_group']).sum()/(ls['host_id'].groupby(ls['neighbourhood_group']).count())"
   ]
  },
  {
   "cell_type": "code",
   "execution_count": 38,
   "metadata": {},
   "outputs": [
    {
     "data": {
      "text/plain": [
       "neighbourhood_group\n",
       "Bronx            0.951960\n",
       "Brooklyn         1.041852\n",
       "Manhattan        1.386205\n",
       "Queens           1.085610\n",
       "Staten Island    1.214286\n",
       "dtype: float64"
      ]
     },
     "execution_count": 38,
     "metadata": {},
     "output_type": "execute_result"
    }
   ],
   "source": [
    "reviewsmergels['badcomments'].groupby(reviewsmergels['neighbourhood_group']).sum()/(ls['host_id'].groupby(ls['neighbourhood_group']).count())"
   ]
  },
  {
   "cell_type": "code",
   "execution_count": 68,
   "metadata": {},
   "outputs": [
    {
     "data": {
      "image/png": "[encoded data removed]",
      "text/plain": [
       "<Figure size 864x432 with 1 Axes>"
      ]
     },
     "metadata": {
      "needs_background": "light"
     },
     "output_type": "display_data"
    }
   ],
   "source": [
    "fig, ax = plt.subplots(figsize=(12,6))\n",
    "\n",
    "x=[.2,1.2,2.2,3.2,4.2]\n",
    "x1=[0.6,1.6,2.6,3.6,4.6]\n",
    "y=reviewsmergels['goodcomments'].groupby(reviewsmergels['neighbourhood_group']).sum()/(ls['host_id'].groupby(ls['neighbourhood_group']).count())\n",
    "z=reviewsmergels['badcomments'].groupby(reviewsmergels['neighbourhood_group']).sum()/(ls['host_id'].groupby(ls['neighbourhood_group']).count())\n",
    "\n",
    "ax=plt.subplot(121)\n",
    "ax.bar(x,y,color='b',width=0.4,align='center',label='Positive Reviews')\n",
    "ax.bar(x1,z,color='r',width=0.4,align='center',label='Negative Reviews')\n",
    "plt.xlabel('Boroughs')\n",
    "plt.xticks((0.4,1.4,2.4,3.4,4.4),['Bronx','Brooklyn','Manhattan','Queens','Staten Island'])\n",
    "plt.ylabel('Number of Reviews')\n",
    "plt.title('Number of Negative and Positive Reviews by Borough')\n",
    "plt.xlim(-.3,5)\n",
    "##Need to add legend if we want to use this graph\n",
    "leg=ax.legend()\n",
    "plt.show()"
   ]
  },
  {
   "cell_type": "markdown",
   "metadata": {},
   "source": [
    "Or if we want to plot the two separately to get a better sense of the distribution of negative comments:"
   ]
  },
  {
   "cell_type": "code",
   "execution_count": 76,
   "metadata": {},
   "outputs": [
    {
     "data": {
      "image/png": "[encoded data removed]",
      "text/plain": [
       "<Figure size 864x432 with 2 Axes>"
      ]
     },
     "metadata": {
      "needs_background": "light"
     },
     "output_type": "display_data"
    }
   ],
   "source": [
    "fig, ax = plt.subplots(figsize=(12,6))\n",
    "\n",
    "y=reviewsmergels['goodcomments'].groupby(reviewsmergels['neighbourhood_group']).sum()/(ls['host_id'].groupby(ls['neighbourhood_group']).count())\n",
    "z=reviewsmergels['badcomments'].groupby(reviewsmergels['neighbourhood_group']).sum()/(ls['host_id'].groupby(ls['neighbourhood_group']).count())\n",
    "x=range(len(y))\n",
    "\n",
    "ax=plt.subplot(121)\n",
    "ax.bar(x,y,color='b',width=0.4,align='center')\n",
    "plt.xlabel('Boroughs',weight='bold')\n",
    "plt.xticks((0,1,2,3,4),['Bronx','Brooklyn','Manhattan','Queens','Staten Island'])\n",
    "plt.ylabel('Number of Reviews')\n",
    "plt.title('Number of Positive Reviews by Borough')\n",
    "\n",
    "ax=plt.subplot(122)\n",
    "ax.bar(x,z,color='r',width=0.4,align='center')\n",
    "plt.xlabel('Boroughs',weight='bold')\n",
    "plt.xticks((0,1,2,3,4),['Bronx','Brooklyn','Manhattan','Queens','Staten Island'])\n",
    "plt.ylabel('Number of Reviews')\n",
    "plt.title('Number of Negative Reviews by Borough')\n",
    "\n",
    "\n",
    "plt.show()"
   ]
  },
  {
   "cell_type": "code",
   "execution_count": 78,
   "metadata": {},
   "outputs": [],
   "source": [
    "pd.reset_option(\"^display\")"
   ]
  },
  {
   "cell_type": "markdown",
   "metadata": {},
   "source": [
    "<b> Issue: There may be reviews not accounted for. We need to figure out how to filter out the ones in a different language and the automated ones to try to see how many have been left out. However, even still, there are some comments that are counted for as both positive and negative so I'm not sure how we can do this. "
   ]
  },
  {
   "cell_type": "markdown",
   "metadata": {},
   "source": [
    "\n",
    "### Question 2: \n",
    "Do factors such as number of cancellation policy, instant bookable, house rules, amenities, access (entire apartment vs private room), room type (private vs shared), transit, or number of guests significantly impact whether or not an Airbnb is booked?\n",
    "\n"
   ]
  },
  {
   "cell_type": "markdown",
   "metadata": {},
   "source": [
    "#### Cancellation Policy"
   ]
  },
  {
   "cell_type": "markdown",
   "metadata": {},
   "source": [
    "First we need to merge our merged dataset (of calendar details and listings summary) with listing details to get all of the information we need"
   ]
  },
  {
   "cell_type": "code",
   "execution_count": 173,
   "metadata": {},
   "outputs": [],
   "source": [
    "#Just get features we are interested in before merge\n",
    "ld=listings_detail[['price','transit','access','house_rules','property_type','room_type','accommodates','beds','bathrooms','bedrooms','instant_bookable','cancellation_policy']]"
   ]
  },
  {
   "cell_type": "code",
   "execution_count": 130,
   "metadata": {},
   "outputs": [],
   "source": [
    "#Need to merge with the dataset that is calendar details merged with listings summary since the listings details \n",
    "#does not have the boroughs (neighbourhood_group)\n",
    "cdmergeldls=pd.merge(cdmergels, ld, left_on='listing_id', right_index=True, how='left')"
   ]
  },
  {
   "cell_type": "code",
   "execution_count": 161,
   "metadata": {},
   "outputs": [
    {
     "data": {
      "text/html": [
       "<div>\n",
       "<style scoped>\n",
       "    .dataframe tbody tr th:only-of-type {\n",
       "        vertical-align: middle;\n",
       "    }\n",
       "\n",
       "    .dataframe tbody tr th {\n",
       "        vertical-align: top;\n",
       "    }\n",
       "\n",
       "    .dataframe thead th {\n",
       "        text-align: right;\n",
       "    }\n",
       "</style>\n",
       "<table border=\"1\" class=\"dataframe\">\n",
       "  <thead>\n",
       "    <tr style=\"text-align: right;\">\n",
       "      <th></th>\n",
       "      <th>available</th>\n",
       "      <th>price_x</th>\n",
       "      <th>host_id</th>\n",
       "      <th>latitude</th>\n",
       "      <th>longitude</th>\n",
       "      <th>price_y</th>\n",
       "      <th>minimum_nights</th>\n",
       "      <th>number_of_reviews</th>\n",
       "      <th>reviews_per_month</th>\n",
       "      <th>calculated_host_listings_count</th>\n",
       "      <th>availability_365</th>\n",
       "      <th>accommodates</th>\n",
       "      <th>beds</th>\n",
       "      <th>bathrooms</th>\n",
       "      <th>bedrooms</th>\n",
       "      <th>availability%</th>\n",
       "    </tr>\n",
       "  </thead>\n",
       "  <tbody>\n",
       "    <tr>\n",
       "      <th>available</th>\n",
       "      <td>1.000000</td>\n",
       "      <td>NaN</td>\n",
       "      <td>-0.061172</td>\n",
       "      <td>0.009171</td>\n",
       "      <td>0.075679</td>\n",
       "      <td>0.012270</td>\n",
       "      <td>-0.015854</td>\n",
       "      <td>0.161093</td>\n",
       "      <td>0.118172</td>\n",
       "      <td>0.159988</td>\n",
       "      <td>0.768919</td>\n",
       "      <td>0.053193</td>\n",
       "      <td>0.058894</td>\n",
       "      <td>0.018024</td>\n",
       "      <td>0.021217</td>\n",
       "      <td>0.768894</td>\n",
       "    </tr>\n",
       "    <tr>\n",
       "      <th>price_x</th>\n",
       "      <td>NaN</td>\n",
       "      <td>1.000000</td>\n",
       "      <td>-0.047947</td>\n",
       "      <td>0.021366</td>\n",
       "      <td>-0.184137</td>\n",
       "      <td>0.977260</td>\n",
       "      <td>-0.023561</td>\n",
       "      <td>-0.073716</td>\n",
       "      <td>-0.064556</td>\n",
       "      <td>0.067763</td>\n",
       "      <td>0.050314</td>\n",
       "      <td>0.427839</td>\n",
       "      <td>0.373016</td>\n",
       "      <td>0.401696</td>\n",
       "      <td>0.412429</td>\n",
       "      <td>0.050316</td>\n",
       "    </tr>\n",
       "    <tr>\n",
       "      <th>host_id</th>\n",
       "      <td>-0.061172</td>\n",
       "      <td>-0.047947</td>\n",
       "      <td>1.000000</td>\n",
       "      <td>0.016587</td>\n",
       "      <td>0.015717</td>\n",
       "      <td>-0.018396</td>\n",
       "      <td>-0.035071</td>\n",
       "      <td>-0.086915</td>\n",
       "      <td>0.019981</td>\n",
       "      <td>-0.108917</td>\n",
       "      <td>-0.079646</td>\n",
       "      <td>-0.054819</td>\n",
       "      <td>-0.048062</td>\n",
       "      <td>-0.021097</td>\n",
       "      <td>-0.033419</td>\n",
       "      <td>-0.079871</td>\n",
       "    </tr>\n",
       "    <tr>\n",
       "      <th>latitude</th>\n",
       "      <td>0.009171</td>\n",
       "      <td>0.021366</td>\n",
       "      <td>0.016587</td>\n",
       "      <td>1.000000</td>\n",
       "      <td>0.190047</td>\n",
       "      <td>0.025315</td>\n",
       "      <td>0.008291</td>\n",
       "      <td>0.038317</td>\n",
       "      <td>0.024808</td>\n",
       "      <td>-0.005915</td>\n",
       "      <td>0.011958</td>\n",
       "      <td>-0.090468</td>\n",
       "      <td>-0.090678</td>\n",
       "      <td>-0.079148</td>\n",
       "      <td>-0.113937</td>\n",
       "      <td>0.012034</td>\n",
       "    </tr>\n",
       "    <tr>\n",
       "      <th>longitude</th>\n",
       "      <td>0.075679</td>\n",
       "      <td>-0.184137</td>\n",
       "      <td>0.015717</td>\n",
       "      <td>0.190047</td>\n",
       "      <td>1.000000</td>\n",
       "      <td>-0.197531</td>\n",
       "      <td>-0.011778</td>\n",
       "      <td>0.003863</td>\n",
       "      <td>0.012526</td>\n",
       "      <td>0.119211</td>\n",
       "      <td>0.098446</td>\n",
       "      <td>0.000513</td>\n",
       "      <td>0.017625</td>\n",
       "      <td>-0.049917</td>\n",
       "      <td>-0.003620</td>\n",
       "      <td>0.098502</td>\n",
       "    </tr>\n",
       "    <tr>\n",
       "      <th>price_y</th>\n",
       "      <td>0.012270</td>\n",
       "      <td>0.977260</td>\n",
       "      <td>-0.018396</td>\n",
       "      <td>0.025315</td>\n",
       "      <td>-0.197531</td>\n",
       "      <td>1.000000</td>\n",
       "      <td>-0.017162</td>\n",
       "      <td>-0.080374</td>\n",
       "      <td>-0.066591</td>\n",
       "      <td>0.036160</td>\n",
       "      <td>0.015957</td>\n",
       "      <td>0.420488</td>\n",
       "      <td>0.384980</td>\n",
       "      <td>0.400832</td>\n",
       "      <td>0.399427</td>\n",
       "      <td>0.015952</td>\n",
       "    </tr>\n",
       "    <tr>\n",
       "      <th>minimum_nights</th>\n",
       "      <td>-0.015854</td>\n",
       "      <td>-0.023561</td>\n",
       "      <td>-0.035071</td>\n",
       "      <td>0.008291</td>\n",
       "      <td>-0.011778</td>\n",
       "      <td>-0.017162</td>\n",
       "      <td>1.000000</td>\n",
       "      <td>-0.110471</td>\n",
       "      <td>-0.108307</td>\n",
       "      <td>-0.017046</td>\n",
       "      <td>-0.020619</td>\n",
       "      <td>-0.022869</td>\n",
       "      <td>-0.016431</td>\n",
       "      <td>-0.018531</td>\n",
       "      <td>0.004532</td>\n",
       "      <td>-0.020620</td>\n",
       "    </tr>\n",
       "    <tr>\n",
       "      <th>number_of_reviews</th>\n",
       "      <td>0.161093</td>\n",
       "      <td>-0.073716</td>\n",
       "      <td>-0.086915</td>\n",
       "      <td>0.038317</td>\n",
       "      <td>0.003863</td>\n",
       "      <td>-0.080374</td>\n",
       "      <td>-0.110471</td>\n",
       "      <td>1.000000</td>\n",
       "      <td>0.843931</td>\n",
       "      <td>-0.019877</td>\n",
       "      <td>0.209516</td>\n",
       "      <td>0.078648</td>\n",
       "      <td>0.046271</td>\n",
       "      <td>-0.047655</td>\n",
       "      <td>-0.029500</td>\n",
       "      <td>0.209538</td>\n",
       "    </tr>\n",
       "    <tr>\n",
       "      <th>reviews_per_month</th>\n",
       "      <td>0.118172</td>\n",
       "      <td>-0.064556</td>\n",
       "      <td>0.019981</td>\n",
       "      <td>0.024808</td>\n",
       "      <td>0.012526</td>\n",
       "      <td>-0.066591</td>\n",
       "      <td>-0.108307</td>\n",
       "      <td>0.843931</td>\n",
       "      <td>1.000000</td>\n",
       "      <td>-0.034938</td>\n",
       "      <td>0.155976</td>\n",
       "      <td>0.052057</td>\n",
       "      <td>0.036546</td>\n",
       "      <td>-0.038933</td>\n",
       "      <td>-0.021378</td>\n",
       "      <td>0.155991</td>\n",
       "    </tr>\n",
       "    <tr>\n",
       "      <th>calculated_host_listings_count</th>\n",
       "      <td>0.159988</td>\n",
       "      <td>0.067763</td>\n",
       "      <td>-0.108917</td>\n",
       "      <td>-0.005915</td>\n",
       "      <td>0.119211</td>\n",
       "      <td>0.036160</td>\n",
       "      <td>-0.017046</td>\n",
       "      <td>-0.019877</td>\n",
       "      <td>-0.034938</td>\n",
       "      <td>1.000000</td>\n",
       "      <td>0.208076</td>\n",
       "      <td>0.073152</td>\n",
       "      <td>0.040518</td>\n",
       "      <td>0.019873</td>\n",
       "      <td>-0.038243</td>\n",
       "      <td>0.208092</td>\n",
       "    </tr>\n",
       "    <tr>\n",
       "      <th>availability_365</th>\n",
       "      <td>0.768919</td>\n",
       "      <td>0.050314</td>\n",
       "      <td>-0.079646</td>\n",
       "      <td>0.011958</td>\n",
       "      <td>0.098446</td>\n",
       "      <td>0.015957</td>\n",
       "      <td>-0.020619</td>\n",
       "      <td>0.209516</td>\n",
       "      <td>0.155976</td>\n",
       "      <td>0.208076</td>\n",
       "      <td>1.000000</td>\n",
       "      <td>0.069202</td>\n",
       "      <td>0.076760</td>\n",
       "      <td>0.023488</td>\n",
       "      <td>0.027631</td>\n",
       "      <td>0.999982</td>\n",
       "    </tr>\n",
       "    <tr>\n",
       "      <th>accommodates</th>\n",
       "      <td>0.053193</td>\n",
       "      <td>0.427839</td>\n",
       "      <td>-0.054819</td>\n",
       "      <td>-0.090468</td>\n",
       "      <td>0.000513</td>\n",
       "      <td>0.420488</td>\n",
       "      <td>-0.022869</td>\n",
       "      <td>0.078648</td>\n",
       "      <td>0.052057</td>\n",
       "      <td>0.073152</td>\n",
       "      <td>0.069202</td>\n",
       "      <td>1.000000</td>\n",
       "      <td>0.823116</td>\n",
       "      <td>0.461731</td>\n",
       "      <td>0.723892</td>\n",
       "      <td>0.069258</td>\n",
       "    </tr>\n",
       "    <tr>\n",
       "      <th>beds</th>\n",
       "      <td>0.058894</td>\n",
       "      <td>0.373016</td>\n",
       "      <td>-0.048062</td>\n",
       "      <td>-0.090678</td>\n",
       "      <td>0.017625</td>\n",
       "      <td>0.384980</td>\n",
       "      <td>-0.016431</td>\n",
       "      <td>0.046271</td>\n",
       "      <td>0.036546</td>\n",
       "      <td>0.040518</td>\n",
       "      <td>0.076760</td>\n",
       "      <td>0.823116</td>\n",
       "      <td>1.000000</td>\n",
       "      <td>0.490224</td>\n",
       "      <td>0.731054</td>\n",
       "      <td>0.076819</td>\n",
       "    </tr>\n",
       "    <tr>\n",
       "      <th>bathrooms</th>\n",
       "      <td>0.018024</td>\n",
       "      <td>0.401696</td>\n",
       "      <td>-0.021097</td>\n",
       "      <td>-0.079148</td>\n",
       "      <td>-0.049917</td>\n",
       "      <td>0.400832</td>\n",
       "      <td>-0.018531</td>\n",
       "      <td>-0.047655</td>\n",
       "      <td>-0.038933</td>\n",
       "      <td>0.019873</td>\n",
       "      <td>0.023488</td>\n",
       "      <td>0.461731</td>\n",
       "      <td>0.490224</td>\n",
       "      <td>1.000000</td>\n",
       "      <td>0.535181</td>\n",
       "      <td>0.023384</td>\n",
       "    </tr>\n",
       "    <tr>\n",
       "      <th>bedrooms</th>\n",
       "      <td>0.021217</td>\n",
       "      <td>0.412429</td>\n",
       "      <td>-0.033419</td>\n",
       "      <td>-0.113937</td>\n",
       "      <td>-0.003620</td>\n",
       "      <td>0.399427</td>\n",
       "      <td>0.004532</td>\n",
       "      <td>-0.029500</td>\n",
       "      <td>-0.021378</td>\n",
       "      <td>-0.038243</td>\n",
       "      <td>0.027631</td>\n",
       "      <td>0.723892</td>\n",
       "      <td>0.731054</td>\n",
       "      <td>0.535181</td>\n",
       "      <td>1.000000</td>\n",
       "      <td>0.027668</td>\n",
       "    </tr>\n",
       "    <tr>\n",
       "      <th>availability%</th>\n",
       "      <td>0.768894</td>\n",
       "      <td>0.050316</td>\n",
       "      <td>-0.079871</td>\n",
       "      <td>0.012034</td>\n",
       "      <td>0.098502</td>\n",
       "      <td>0.015952</td>\n",
       "      <td>-0.020620</td>\n",
       "      <td>0.209538</td>\n",
       "      <td>0.155991</td>\n",
       "      <td>0.208092</td>\n",
       "      <td>0.999982</td>\n",
       "      <td>0.069258</td>\n",
       "      <td>0.076819</td>\n",
       "      <td>0.023384</td>\n",
       "      <td>0.027668</td>\n",
       "      <td>1.000000</td>\n",
       "    </tr>\n",
       "  </tbody>\n",
       "</table>\n",
       "</div>"
      ],
      "text/plain": [
       "                                available   price_x   host_id  latitude  \\\n",
       "available                        1.000000       NaN -0.061172  0.009171   \n",
       "price_x                               NaN  1.000000 -0.047947  0.021366   \n",
       "host_id                         -0.061172 -0.047947  1.000000  0.016587   \n",
       "latitude                         0.009171  0.021366  0.016587  1.000000   \n",
       "longitude                        0.075679 -0.184137  0.015717  0.190047   \n",
       "price_y                          0.012270  0.977260 -0.018396  0.025315   \n",
       "minimum_nights                  -0.015854 -0.023561 -0.035071  0.008291   \n",
       "number_of_reviews                0.161093 -0.073716 -0.086915  0.038317   \n",
       "reviews_per_month                0.118172 -0.064556  0.019981  0.024808   \n",
       "calculated_host_listings_count   0.159988  0.067763 -0.108917 -0.005915   \n",
       "availability_365                 0.768919  0.050314 -0.079646  0.011958   \n",
       "accommodates                     0.053193  0.427839 -0.054819 -0.090468   \n",
       "beds                             0.058894  0.373016 -0.048062 -0.090678   \n",
       "bathrooms                        0.018024  0.401696 -0.021097 -0.079148   \n",
       "bedrooms                         0.021217  0.412429 -0.033419 -0.113937   \n",
       "availability%                    0.768894  0.050316 -0.079871  0.012034   \n",
       "\n",
       "                                longitude   price_y  minimum_nights  \\\n",
       "available                        0.075679  0.012270       -0.015854   \n",
       "price_x                         -0.184137  0.977260       -0.023561   \n",
       "host_id                          0.015717 -0.018396       -0.035071   \n",
       "latitude                         0.190047  0.025315        0.008291   \n",
       "longitude                        1.000000 -0.197531       -0.011778   \n",
       "price_y                         -0.197531  1.000000       -0.017162   \n",
       "minimum_nights                  -0.011778 -0.017162        1.000000   \n",
       "number_of_reviews                0.003863 -0.080374       -0.110471   \n",
       "reviews_per_month                0.012526 -0.066591       -0.108307   \n",
       "calculated_host_listings_count   0.119211  0.036160       -0.017046   \n",
       "availability_365                 0.098446  0.015957       -0.020619   \n",
       "accommodates                     0.000513  0.420488       -0.022869   \n",
       "beds                             0.017625  0.384980       -0.016431   \n",
       "bathrooms                       -0.049917  0.400832       -0.018531   \n",
       "bedrooms                        -0.003620  0.399427        0.004532   \n",
       "availability%                    0.098502  0.015952       -0.020620   \n",
       "\n",
       "                                number_of_reviews  reviews_per_month  \\\n",
       "available                                0.161093           0.118172   \n",
       "price_x                                 -0.073716          -0.064556   \n",
       "host_id                                 -0.086915           0.019981   \n",
       "latitude                                 0.038317           0.024808   \n",
       "longitude                                0.003863           0.012526   \n",
       "price_y                                 -0.080374          -0.066591   \n",
       "minimum_nights                          -0.110471          -0.108307   \n",
       "number_of_reviews                        1.000000           0.843931   \n",
       "reviews_per_month                        0.843931           1.000000   \n",
       "calculated_host_listings_count          -0.019877          -0.034938   \n",
       "availability_365                         0.209516           0.155976   \n",
       "accommodates                             0.078648           0.052057   \n",
       "beds                                     0.046271           0.036546   \n",
       "bathrooms                               -0.047655          -0.038933   \n",
       "bedrooms                                -0.029500          -0.021378   \n",
       "availability%                            0.209538           0.155991   \n",
       "\n",
       "                                calculated_host_listings_count  \\\n",
       "available                                             0.159988   \n",
       "price_x                                               0.067763   \n",
       "host_id                                              -0.108917   \n",
       "latitude                                             -0.005915   \n",
       "longitude                                             0.119211   \n",
       "price_y                                               0.036160   \n",
       "minimum_nights                                       -0.017046   \n",
       "number_of_reviews                                    -0.019877   \n",
       "reviews_per_month                                    -0.034938   \n",
       "calculated_host_listings_count                        1.000000   \n",
       "availability_365                                      0.208076   \n",
       "accommodates                                          0.073152   \n",
       "beds                                                  0.040518   \n",
       "bathrooms                                             0.019873   \n",
       "bedrooms                                             -0.038243   \n",
       "availability%                                         0.208092   \n",
       "\n",
       "                                availability_365  accommodates      beds  \\\n",
       "available                               0.768919      0.053193  0.058894   \n",
       "price_x                                 0.050314      0.427839  0.373016   \n",
       "host_id                                -0.079646     -0.054819 -0.048062   \n",
       "latitude                                0.011958     -0.090468 -0.090678   \n",
       "longitude                               0.098446      0.000513  0.017625   \n",
       "price_y                                 0.015957      0.420488  0.384980   \n",
       "minimum_nights                         -0.020619     -0.022869 -0.016431   \n",
       "number_of_reviews                       0.209516      0.078648  0.046271   \n",
       "reviews_per_month                       0.155976      0.052057  0.036546   \n",
       "calculated_host_listings_count          0.208076      0.073152  0.040518   \n",
       "availability_365                        1.000000      0.069202  0.076760   \n",
       "accommodates                            0.069202      1.000000  0.823116   \n",
       "beds                                    0.076760      0.823116  1.000000   \n",
       "bathrooms                               0.023488      0.461731  0.490224   \n",
       "bedrooms                                0.027631      0.723892  0.731054   \n",
       "availability%                           0.999982      0.069258  0.076819   \n",
       "\n",
       "                                bathrooms  bedrooms  availability%  \n",
       "available                        0.018024  0.021217       0.768894  \n",
       "price_x                          0.401696  0.412429       0.050316  \n",
       "host_id                         -0.021097 -0.033419      -0.079871  \n",
       "latitude                        -0.079148 -0.113937       0.012034  \n",
       "longitude                       -0.049917 -0.003620       0.098502  \n",
       "price_y                          0.400832  0.399427       0.015952  \n",
       "minimum_nights                  -0.018531  0.004532      -0.020620  \n",
       "number_of_reviews               -0.047655 -0.029500       0.209538  \n",
       "reviews_per_month               -0.038933 -0.021378       0.155991  \n",
       "calculated_host_listings_count   0.019873 -0.038243       0.208092  \n",
       "availability_365                 0.023488  0.027631       0.999982  \n",
       "accommodates                     0.461731  0.723892       0.069258  \n",
       "beds                             0.490224  0.731054       0.076819  \n",
       "bathrooms                        1.000000  0.535181       0.023384  \n",
       "bedrooms                         0.535181  1.000000       0.027668  \n",
       "availability%                    0.023384  0.027668       1.000000  "
      ]
     },
     "execution_count": 161,
     "metadata": {},
     "output_type": "execute_result"
    }
   ],
   "source": [
    "cdmergeldls.corr()"
   ]
  },
  {
   "cell_type": "markdown",
   "metadata": {},
   "source": [
    "It might make sense to create an availability variable that is the percentage of the time that an Airbnb is available. A higher value would mean an Airbnb is less popular, since it is more available and vice versa. This way I think we can test the correlation between certain features and availability. "
   ]
  },
  {
   "cell_type": "markdown",
   "metadata": {},
   "source": [
    "<b> Issue: There are some that have 0 availability for over a year and I don't think this is because they are booked I think they are no longer or at least temporarily not offering their Airbnb. "
   ]
  },
  {
   "cell_type": "code",
   "execution_count": 165,
   "metadata": {},
   "outputs": [],
   "source": [
    "cdmergeldls['availability']=cdmergeldls.available.groupby(cdmergeldls.index).sum()/365"
   ]
  },
  {
   "cell_type": "code",
   "execution_count": 140,
   "metadata": {},
   "outputs": [
    {
     "data": {
      "text/plain": [
       "cancellation_policy  neighbourhood_group\n",
       "flexible             Bronx                    1460\n",
       "                     Brooklyn                36135\n",
       "                     Manhattan               40150\n",
       "                     Queens                   8395\n",
       "                     Staten Island            1095\n",
       "moderate             Bronx                    1825\n",
       "                     Brooklyn               117460\n",
       "                     Manhattan              117530\n",
       "                     Queens                  12410\n",
       "                     Staten Island            1825\n",
       "strict               Bronx                    9125\n",
       "                     Brooklyn               305140\n",
       "                     Manhattan              345290\n",
       "                     Queens                  43435\n",
       "                     Staten Island            5475\n",
       "super_strict_30      Brooklyn                  365\n",
       "                     Manhattan                1460\n",
       "Name: cancellation_policy, dtype: int64"
      ]
     },
     "execution_count": 140,
     "metadata": {},
     "output_type": "execute_result"
    }
   ],
   "source": [
    "cdmergeldls.cancellation_policy.groupby([cdmergeldls['cancellation_policy'],cdmergeldls['neighbourhood_group']]).size()"
   ]
  },
  {
   "cell_type": "code",
   "execution_count": 162,
   "metadata": {},
   "outputs": [
    {
     "ename": "TypeError",
     "evalue": "can't multiply sequence by non-int of type 'float'",
     "output_type": "error",
     "traceback": [
      "\u001b[0;31m---------------------------------------------------------------------------\u001b[0m",
      "\u001b[0;31mTypeError\u001b[0m                                 Traceback (most recent call last)",
      "\u001b[0;32m<ipython-input-162-c1dbb19f8282>\u001b[0m in \u001b[0;36m<module>\u001b[0;34m\u001b[0m\n\u001b[1;32m      1\u001b[0m \u001b[0;32mwith\u001b[0m \u001b[0msns\u001b[0m\u001b[0;34m.\u001b[0m\u001b[0maxes_style\u001b[0m\u001b[0;34m(\u001b[0m\u001b[0;34m'white'\u001b[0m\u001b[0;34m)\u001b[0m\u001b[0;34m:\u001b[0m\u001b[0;34m\u001b[0m\u001b[0;34m\u001b[0m\u001b[0m\n\u001b[0;32m----> 2\u001b[0;31m     \u001b[0msns\u001b[0m\u001b[0;34m.\u001b[0m\u001b[0mjointplot\u001b[0m\u001b[0;34m(\u001b[0m\u001b[0;34m\"cancellation_policy\"\u001b[0m\u001b[0;34m,\u001b[0m \u001b[0;34m\"availability%\"\u001b[0m\u001b[0;34m,\u001b[0m \u001b[0mcdmergeldls\u001b[0m\u001b[0;34m,\u001b[0m \u001b[0mkind\u001b[0m\u001b[0;34m=\u001b[0m\u001b[0;34m'hex'\u001b[0m\u001b[0;34m)\u001b[0m\u001b[0;34m\u001b[0m\u001b[0;34m\u001b[0m\u001b[0m\n\u001b[0m",
      "\u001b[0;32m/opt/anaconda3/lib/python3.7/site-packages/seaborn/axisgrid.py\u001b[0m in \u001b[0;36mjointplot\u001b[0;34m(x, y, data, kind, stat_func, color, height, ratio, space, dropna, xlim, ylim, joint_kws, marginal_kws, annot_kws, **kwargs)\u001b[0m\n\u001b[1;32m   2296\u001b[0m     \u001b[0;32melif\u001b[0m \u001b[0mkind\u001b[0m\u001b[0;34m.\u001b[0m\u001b[0mstartswith\u001b[0m\u001b[0;34m(\u001b[0m\u001b[0;34m\"hex\"\u001b[0m\u001b[0;34m)\u001b[0m\u001b[0;34m:\u001b[0m\u001b[0;34m\u001b[0m\u001b[0;34m\u001b[0m\u001b[0m\n\u001b[1;32m   2297\u001b[0m \u001b[0;34m\u001b[0m\u001b[0m\n\u001b[0;32m-> 2298\u001b[0;31m         \u001b[0mx_bins\u001b[0m \u001b[0;34m=\u001b[0m \u001b[0mmin\u001b[0m\u001b[0;34m(\u001b[0m\u001b[0m_freedman_diaconis_bins\u001b[0m\u001b[0;34m(\u001b[0m\u001b[0mgrid\u001b[0m\u001b[0;34m.\u001b[0m\u001b[0mx\u001b[0m\u001b[0;34m)\u001b[0m\u001b[0;34m,\u001b[0m \u001b[0;36m50\u001b[0m\u001b[0;34m)\u001b[0m\u001b[0;34m\u001b[0m\u001b[0;34m\u001b[0m\u001b[0m\n\u001b[0m\u001b[1;32m   2299\u001b[0m         \u001b[0my_bins\u001b[0m \u001b[0;34m=\u001b[0m \u001b[0mmin\u001b[0m\u001b[0;34m(\u001b[0m\u001b[0m_freedman_diaconis_bins\u001b[0m\u001b[0;34m(\u001b[0m\u001b[0mgrid\u001b[0m\u001b[0;34m.\u001b[0m\u001b[0my\u001b[0m\u001b[0;34m)\u001b[0m\u001b[0;34m,\u001b[0m \u001b[0;36m50\u001b[0m\u001b[0;34m)\u001b[0m\u001b[0;34m\u001b[0m\u001b[0;34m\u001b[0m\u001b[0m\n\u001b[1;32m   2300\u001b[0m         \u001b[0mgridsize\u001b[0m \u001b[0;34m=\u001b[0m \u001b[0mint\u001b[0m\u001b[0;34m(\u001b[0m\u001b[0mnp\u001b[0m\u001b[0;34m.\u001b[0m\u001b[0mmean\u001b[0m\u001b[0;34m(\u001b[0m\u001b[0;34m[\u001b[0m\u001b[0mx_bins\u001b[0m\u001b[0;34m,\u001b[0m \u001b[0my_bins\u001b[0m\u001b[0;34m]\u001b[0m\u001b[0;34m)\u001b[0m\u001b[0;34m)\u001b[0m\u001b[0;34m\u001b[0m\u001b[0;34m\u001b[0m\u001b[0m\n",
      "\u001b[0;32m/opt/anaconda3/lib/python3.7/site-packages/seaborn/distributions.py\u001b[0m in \u001b[0;36m_freedman_diaconis_bins\u001b[0;34m(a)\u001b[0m\n\u001b[1;32m     32\u001b[0m     \u001b[0;32mif\u001b[0m \u001b[0mlen\u001b[0m\u001b[0;34m(\u001b[0m\u001b[0ma\u001b[0m\u001b[0;34m)\u001b[0m \u001b[0;34m<\u001b[0m \u001b[0;36m2\u001b[0m\u001b[0;34m:\u001b[0m\u001b[0;34m\u001b[0m\u001b[0;34m\u001b[0m\u001b[0m\n\u001b[1;32m     33\u001b[0m         \u001b[0;32mreturn\u001b[0m \u001b[0;36m1\u001b[0m\u001b[0;34m\u001b[0m\u001b[0;34m\u001b[0m\u001b[0m\n\u001b[0;32m---> 34\u001b[0;31m     \u001b[0mh\u001b[0m \u001b[0;34m=\u001b[0m \u001b[0;36m2\u001b[0m \u001b[0;34m*\u001b[0m \u001b[0miqr\u001b[0m\u001b[0;34m(\u001b[0m\u001b[0ma\u001b[0m\u001b[0;34m)\u001b[0m \u001b[0;34m/\u001b[0m \u001b[0;34m(\u001b[0m\u001b[0mlen\u001b[0m\u001b[0;34m(\u001b[0m\u001b[0ma\u001b[0m\u001b[0;34m)\u001b[0m \u001b[0;34m**\u001b[0m \u001b[0;34m(\u001b[0m\u001b[0;36m1\u001b[0m \u001b[0;34m/\u001b[0m \u001b[0;36m3\u001b[0m\u001b[0;34m)\u001b[0m\u001b[0;34m)\u001b[0m\u001b[0;34m\u001b[0m\u001b[0;34m\u001b[0m\u001b[0m\n\u001b[0m\u001b[1;32m     35\u001b[0m     \u001b[0;31m# fall back to sqrt(a) bins if iqr is 0\u001b[0m\u001b[0;34m\u001b[0m\u001b[0;34m\u001b[0m\u001b[0;34m\u001b[0m\u001b[0m\n\u001b[1;32m     36\u001b[0m     \u001b[0;32mif\u001b[0m \u001b[0mh\u001b[0m \u001b[0;34m==\u001b[0m \u001b[0;36m0\u001b[0m\u001b[0;34m:\u001b[0m\u001b[0;34m\u001b[0m\u001b[0;34m\u001b[0m\u001b[0m\n",
      "\u001b[0;32m/opt/anaconda3/lib/python3.7/site-packages/seaborn/utils.py\u001b[0m in \u001b[0;36miqr\u001b[0;34m(a)\u001b[0m\n\u001b[1;32m    364\u001b[0m     \u001b[0;34m\"\"\"Calculate the IQR for an array of numbers.\"\"\"\u001b[0m\u001b[0;34m\u001b[0m\u001b[0;34m\u001b[0m\u001b[0m\n\u001b[1;32m    365\u001b[0m     \u001b[0ma\u001b[0m \u001b[0;34m=\u001b[0m \u001b[0mnp\u001b[0m\u001b[0;34m.\u001b[0m\u001b[0masarray\u001b[0m\u001b[0;34m(\u001b[0m\u001b[0ma\u001b[0m\u001b[0;34m)\u001b[0m\u001b[0;34m\u001b[0m\u001b[0;34m\u001b[0m\u001b[0m\n\u001b[0;32m--> 366\u001b[0;31m     \u001b[0mq1\u001b[0m \u001b[0;34m=\u001b[0m \u001b[0mstats\u001b[0m\u001b[0;34m.\u001b[0m\u001b[0mscoreatpercentile\u001b[0m\u001b[0;34m(\u001b[0m\u001b[0ma\u001b[0m\u001b[0;34m,\u001b[0m \u001b[0;36m25\u001b[0m\u001b[0;34m)\u001b[0m\u001b[0;34m\u001b[0m\u001b[0;34m\u001b[0m\u001b[0m\n\u001b[0m\u001b[1;32m    367\u001b[0m     \u001b[0mq3\u001b[0m \u001b[0;34m=\u001b[0m \u001b[0mstats\u001b[0m\u001b[0;34m.\u001b[0m\u001b[0mscoreatpercentile\u001b[0m\u001b[0;34m(\u001b[0m\u001b[0ma\u001b[0m\u001b[0;34m,\u001b[0m \u001b[0;36m75\u001b[0m\u001b[0;34m)\u001b[0m\u001b[0;34m\u001b[0m\u001b[0;34m\u001b[0m\u001b[0m\n\u001b[1;32m    368\u001b[0m     \u001b[0;32mreturn\u001b[0m \u001b[0mq3\u001b[0m \u001b[0;34m-\u001b[0m \u001b[0mq1\u001b[0m\u001b[0;34m\u001b[0m\u001b[0;34m\u001b[0m\u001b[0m\n",
      "\u001b[0;32m/opt/anaconda3/lib/python3.7/site-packages/scipy/stats/stats.py\u001b[0m in \u001b[0;36mscoreatpercentile\u001b[0;34m(a, per, limit, interpolation_method, axis)\u001b[0m\n\u001b[1;32m   1695\u001b[0m         \u001b[0maxis\u001b[0m \u001b[0;34m=\u001b[0m \u001b[0;36m0\u001b[0m\u001b[0;34m\u001b[0m\u001b[0;34m\u001b[0m\u001b[0m\n\u001b[1;32m   1696\u001b[0m \u001b[0;34m\u001b[0m\u001b[0m\n\u001b[0;32m-> 1697\u001b[0;31m     \u001b[0;32mreturn\u001b[0m \u001b[0m_compute_qth_percentile\u001b[0m\u001b[0;34m(\u001b[0m\u001b[0msorted_\u001b[0m\u001b[0;34m,\u001b[0m \u001b[0mper\u001b[0m\u001b[0;34m,\u001b[0m \u001b[0minterpolation_method\u001b[0m\u001b[0;34m,\u001b[0m \u001b[0maxis\u001b[0m\u001b[0;34m)\u001b[0m\u001b[0;34m\u001b[0m\u001b[0;34m\u001b[0m\u001b[0m\n\u001b[0m\u001b[1;32m   1698\u001b[0m \u001b[0;34m\u001b[0m\u001b[0m\n\u001b[1;32m   1699\u001b[0m \u001b[0;34m\u001b[0m\u001b[0m\n",
      "\u001b[0;32m/opt/anaconda3/lib/python3.7/site-packages/scipy/stats/stats.py\u001b[0m in \u001b[0;36m_compute_qth_percentile\u001b[0;34m(sorted_, per, interpolation_method, axis)\u001b[0m\n\u001b[1;32m   1739\u001b[0m \u001b[0;34m\u001b[0m\u001b[0m\n\u001b[1;32m   1740\u001b[0m     \u001b[0;31m# Use np.add.reduce (== np.sum but a little faster) to coerce data type\u001b[0m\u001b[0;34m\u001b[0m\u001b[0;34m\u001b[0m\u001b[0;34m\u001b[0m\u001b[0m\n\u001b[0;32m-> 1741\u001b[0;31m     \u001b[0;32mreturn\u001b[0m \u001b[0mnp\u001b[0m\u001b[0;34m.\u001b[0m\u001b[0madd\u001b[0m\u001b[0;34m.\u001b[0m\u001b[0mreduce\u001b[0m\u001b[0;34m(\u001b[0m\u001b[0msorted_\u001b[0m\u001b[0;34m[\u001b[0m\u001b[0mtuple\u001b[0m\u001b[0;34m(\u001b[0m\u001b[0mindexer\u001b[0m\u001b[0;34m)\u001b[0m\u001b[0;34m]\u001b[0m \u001b[0;34m*\u001b[0m \u001b[0mweights\u001b[0m\u001b[0;34m,\u001b[0m \u001b[0maxis\u001b[0m\u001b[0;34m=\u001b[0m\u001b[0maxis\u001b[0m\u001b[0;34m)\u001b[0m \u001b[0;34m/\u001b[0m \u001b[0msumval\u001b[0m\u001b[0;34m\u001b[0m\u001b[0;34m\u001b[0m\u001b[0m\n\u001b[0m\u001b[1;32m   1742\u001b[0m \u001b[0;34m\u001b[0m\u001b[0m\n\u001b[1;32m   1743\u001b[0m \u001b[0;34m\u001b[0m\u001b[0m\n",
      "\u001b[0;31mTypeError\u001b[0m: can't multiply sequence by non-int of type 'float'"
     ]
    },
    {
     "data": {
      "image/png": "[encoded data removed]",
      "text/plain": [
       "<Figure size 432x432 with 3 Axes>"
      ]
     },
     "metadata": {},
     "output_type": "display_data"
    }
   ],
   "source": [
    "with sns.axes_style('white'):\n",
    "    sns.jointplot(\"cancellation_policy\", \"availability%\", cdmergeldls, kind='hex')"
   ]
  },
  {
   "cell_type": "code",
   "execution_count": 171,
   "metadata": {},
   "outputs": [
    {
     "name": "stdout",
     "output_type": "stream",
     "text": [
      "nan\n",
      "-1.3165747438514286e-26\n"
     ]
    }
   ],
   "source": [
    "\n",
    "num1=np.random.normal(loc=90,scale=5,size=100)\n",
    "df1=pd.DataFrame(cdmergeldls,columns=['availability'])\n",
    "df1['cancellation_policy']='strict'\n",
    "num2=np.random.normal(loc=70,scale=5,size=100)\n",
    "\n",
    "from scipy import stats\n",
    "F, p = stats.f_oneway(cdmergeldls[cdmergeldls.cancellation_policy=='strict'].availability)\n",
    "print(F)\n",
    "\n",
    "num1=np.random.normal(loc=90,scale=5,size=100)\n",
    "df1=pd.DataFrame(cdmergeldls,columns=['availability'])\n",
    "df1['cancellation_policy']='flexible'\n",
    "num2=np.random.normal(loc=70,scale=5,size=100)\n",
    "df2=pd.DataFrame(cdmergeldls,columns=['availability'])\n",
    "df2['cancellation_policy']='moderate'\n",
    "num3=np.random.normal(loc=90,scale=5,size=100)\n",
    "df3=pd.DataFrame(cdmergeldls,columns=['availability'])\n",
    "df3['cancellation_policy']='strict'\n",
    "df=pd.concat([df1,df2,df3],axis=0)\n",
    "from scipy import stats\n",
    "F, p = stats.f_oneway(df[df.cancellation_policy=='flexible'].availability,\n",
    "                      df[df.cancellation_policy=='moderate'].availability,\n",
    "                      df[df.cancellation_policy=='strict'].availability)\n",
    "print(F)"
   ]
  },
  {
   "cell_type": "code",
   "execution_count": 82,
   "metadata": {},
   "outputs": [],
   "source": [
    "min_nights= (cdmergels[[\"neighbourhood_group\",\"minimum_nights\"]].groupby([\"neighbourhood_group\"]).minimum_nights.median())"
   ]
  },
  {
   "cell_type": "code",
   "execution_count": 83,
   "metadata": {},
   "outputs": [
    {
     "data": {
      "text/plain": [
       "neighbourhood_group\n",
       "Bronx            2\n",
       "Brooklyn         3\n",
       "Manhattan        3\n",
       "Queens           3\n",
       "Staten Island    2\n",
       "Name: minimum_nights, dtype: int64"
      ]
     },
     "execution_count": 83,
     "metadata": {},
     "output_type": "execute_result"
    }
   ],
   "source": [
    "min_nightsa\n"
   ]
  },
  {
   "cell_type": "code",
   "execution_count": 86,
   "metadata": {},
   "outputs": [
    {
     "data": {
      "text/plain": [
       "neighbourhood_group\n",
       "Bronx            3.029412\n",
       "Brooklyn         4.750359\n",
       "Manhattan        5.293777\n",
       "Queens           7.204545\n",
       "Staten Island    4.478261\n",
       "Name: minimum_nights, dtype: float64"
      ]
     },
     "execution_count": 86,
     "metadata": {},
     "output_type": "execute_result"
    }
   ],
   "source": [
    "group = cdmergels[[\"neighbourhood_group\",\"minimum_nights\"]].groupby([\"neighbourhood_group\"]).minimum_nights.mean()\n",
    "group"
   ]
  },
  {
   "cell_type": "code",
   "execution_count": null,
   "metadata": {},
   "outputs": [],
   "source": []
  },
  {
   "cell_type": "markdown",
   "metadata": {},
   "source": [
    "### Question 3: \n",
    "How important are reviews and how much do they affect whether or not an Airbnb gets booked?"
   ]
  },
  {
   "cell_type": "markdown",
   "metadata": {},
   "source": [
    "### Question 5:\n",
    "What hosts are busiest? Why?"
   ]
  },
  {
   "cell_type": "markdown",
   "metadata": {},
   "source": [
    "### Visualize Data on Map\n",
    "- What areas are most popular? why?"
   ]
  },
  {
   "cell_type": "markdown",
   "metadata": {},
   "source": [
    "#### Number of Airbnbs by Neighbourhood"
   ]
  },
  {
   "cell_type": "code",
   "execution_count": 89,
   "metadata": {},
   "outputs": [
    {
     "data": {
      "text/plain": [
       "neighbourhood_group\n",
       "Bronx              791\n",
       "Brooklyn         18470\n",
       "Manhattan        20370\n",
       "Queens            4392\n",
       "Staten Island      294\n",
       "Name: host_id, dtype: int64"
      ]
     },
     "execution_count": 89,
     "metadata": {},
     "output_type": "execute_result"
    }
   ],
   "source": [
    "#Use host id since there are no missing - meaning we get every record when counting\n",
    "ls['host_id'].groupby(ls['neighbourhood_group']).count()"
   ]
  },
  {
   "cell_type": "code",
   "execution_count": 88,
   "metadata": {},
   "outputs": [
    {
     "data": {
      "image/png": "[encoded data removed]",
      "text/plain": [
       "<Figure size 432x432 with 1 Axes>"
      ]
     },
     "metadata": {
      "needs_background": "light"
     },
     "output_type": "display_data"
    }
   ],
   "source": [
    "#https://www.kaggle.com/darkrubiks/nyc-airbnb-exploratory-analysis\n",
    "#Amount of Airbnbs by borough\n",
    "plt.figure(figsize=(6,6))\n",
    "ax = sns.countplot(ls[\"neighbourhood_group\"], palette=\"plasma\" ) \n",
    "plt.title('Number of Airbnb\\'s by Borough',color = 'k',fontsize = 15)"
   ]
  },
  {
   "cell_type": "code",
   "execution_count": 122,
   "metadata": {},
   "outputs": [
    {
     "data": {
      "image/png": "[encoded data removed]",
      "text/plain": [
       "<Figure size 432x432 with 1 Axes>"
      ]
     },
     "metadata": {},
     "output_type": "display_data"
    }
   ],
   "source": [
    "labels = ls.neighbourhood_group.value_counts().index\n",
    "colors = ['lime','blue','teal','cyan','green']\n",
    "explode = [0,0,0,0,0]\n",
    "sizes = ls.neighbourhood_group.value_counts().values\n",
    "\n",
    "plt.figure(0,figsize = (6,6))\n",
    "plt.pie(sizes, explode=explode, labels=labels, colors=colors, autopct='%1.1f%%')\n",
    "plt.title('Airbnb According to Neighbourhood Group',color = 'k',fontsize = 15)\n",
    "plt.show()"
   ]
  },
  {
   "cell_type": "markdown",
   "metadata": {},
   "source": []
  },
  {
   "cell_type": "code",
   "execution_count": null,
   "metadata": {},
   "outputs": [],
   "source": []
  },
  {
   "cell_type": "markdown",
   "metadata": {},
   "source": [
    "Things to explore and fix later"
   ]
  },
  {
   "cell_type": "code",
   "execution_count": 86,
   "metadata": {},
   "outputs": [],
   "source": [
    "ld=listing_details[['guests_included','extra_people','minimum_nights','listing_url','house_rules','cancellation_policy','instant_bookable','amenities','price','weekly_price','monthly_price','room_type','neighbourhood','reviews_per_month','longitude','latitude']]"
   ]
  },
  {
   "cell_type": "code",
   "execution_count": 27,
   "metadata": {},
   "outputs": [],
   "source": [
    "import seaborn as sns\n",
    "import matplotlib.pyplot as plt\n",
    "sns.set(style=\"ticks\", color_codes=True)"
   ]
  },
  {
   "cell_type": "code",
   "execution_count": 42,
   "metadata": {},
   "outputs": [
    {
     "data": {
      "text/plain": [
       "<seaborn.axisgrid.FacetGrid at 0x7f9528e40f60>"
      ]
     },
     "execution_count": 42,
     "metadata": {},
     "output_type": "execute_result"
    },
    {
     "data": {
      "image/png": "[encoded data removed]",
      "text/plain": [
       "<Figure size 360x360 with 1 Axes>"
      ]
     },
     "metadata": {
      "needs_background": "light"
     },
     "output_type": "display_data"
    }
   ],
   "source": [
    "g=sns.catplot(x = \"neighbourhood\", y = \"price\", data=ls)\n",
    "g.set_xticklabels(rotation=30)\n",
    "#sns.set(rc={'figure.figsize':(40,20)})\n"
   ]
  },
  {
   "cell_type": "code",
   "execution_count": null,
   "metadata": {},
   "outputs": [],
   "source": [
    "# Old - may need in future\n",
    "reviews['badcomments']=reviews['comments']\n",
    "reviews.loc[reviews['goodcomments']==True, 'badcomments']=None"
   ]
  }
 ],
 "metadata": {
  "kernelspec": {
   "display_name": "Python 3",
   "language": "python",
   "name": "python3"
  },
  "language_info": {
   "codemirror_mode": {
    "name": "ipython",
    "version": 3
   },
   "file_extension": ".py",
   "mimetype": "text/x-python",
   "name": "python",
   "nbconvert_exporter": "python",
   "pygments_lexer": "ipython3",
   "version": "3.7.3"
  },
  "toc": {
   "base_numbering": 1,
   "nav_menu": {},
   "number_sections": true,
   "sideBar": true,
   "skip_h1_title": true,
   "title_cell": "Table of Contents",
   "title_sidebar": "Contents",
   "toc_cell": false,
   "toc_position": {},
   "toc_section_display": true,
   "toc_window_display": false
  }
 },
 "nbformat": 4,
 "nbformat_minor": 2
}
