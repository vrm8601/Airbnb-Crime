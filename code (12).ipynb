{
 "cells": [
  {
   "cell_type": "markdown",
   "metadata": {},
   "source": [
    "https://www.kaggle.com/geowiz34/maps-of-nyc-airbnbs-with-python\n",
    "https://www.kaggle.com/nidaguler/eda-and-data-visualization-ny-airbnb\n",
    "https://www.kaggle.com/aamodgarg1994/deep-learning"
   ]
  },
  {
   "cell_type": "markdown",
   "metadata": {},
   "source": [
    "### Read in Data"
   ]
  },
  {
   "cell_type": "code",
   "execution_count": 1,
   "metadata": {},
   "outputs": [],
   "source": [
    "%matplotlib inline\n",
    "import matplotlib.pyplot as plt\n",
    "import matplotlib as mpl\n",
    "import numpy as np\n",
    "import pandas as pd\n",
    "import geopandas as gpd\n",
    "import seaborn as sns\n",
    "import researchpy as rp\n",
    "\n",
    "from descartes.patch import PolygonPatch\n",
    "from mpl_toolkits.mplot3d import Axes3D\n",
    "from matplotlib.collections import PolyCollection\n",
    "from matplotlib.collections import PatchCollection"
   ]
  },
  {
   "cell_type": "code",
   "execution_count": 2,
   "metadata": {},
   "outputs": [],
   "source": [
    "listings_detail = pd.read_excel('../CourseProject/data/listings_detail.xlsx', index_col=0)\n",
    "calendar_detail = pd.read_excel('../CourseProject/data/calendar_detail.xlsx' , index_col=0)\n",
    "neighbourhoods = pd.read_excel('../CourseProject/data/neighbourhoods.xlsx', index_col=0)\n",
    "reviews = pd.read_excel('../CourseProject/data/reviews_detail.xlsx', index_col=0)\n",
    "crime = pd.read_excel('../CourseProject/data/NYPD_Arrests_Data__Historic_.xlsx', index_col=0)\n",
    "nbgeo = gpd.read_file('../CourseProject/data/neighbourhoods.geojson')\n",
    "ls=pd.read_csv('../CourseProject/data/listings_summary.csv', index_col=0)"
   ]
  },
  {
   "cell_type": "code",
   "execution_count": 121,
   "metadata": {},
   "outputs": [],
   "source": [
    "listings_detail = pd.read_excel('../CourseProject/data/listings_detail.xlsx', index_col=0)\n",
    "calendar_detail = pd.read_excel('../CourseProject/data/calendar_detail.xlsx' , index_col=0)\n",
    "ls=pd.read_csv('../CourseProject/data/listings_summary.csv', index_col=0)"
   ]
  },
  {
   "cell_type": "code",
   "execution_count": 21,
   "metadata": {},
   "outputs": [],
   "source": [
    "calendar_detail = pd.read_excel('../CourseProject/data/calendar_detail.xlsx' , index_col=0)"
   ]
  },
  {
   "cell_type": "markdown",
   "metadata": {},
   "source": [
    "### Data Cleaning\n",
    "There are many missing values which either need to be removed or estimated so that they do not affect our results"
   ]
  },
  {
   "cell_type": "code",
   "execution_count": 7,
   "metadata": {},
   "outputs": [
    {
     "name": "stdout",
     "output_type": "stream",
     "text": [
      "Number of records: 44317\n"
     ]
    }
   ],
   "source": [
    "#How many records we start with\n",
    "print(f'Number of records: {listings_detail.count()[0]}')"
   ]
  },
  {
   "cell_type": "code",
   "execution_count": 87,
   "metadata": {},
   "outputs": [
    {
     "data": {
      "text/plain": [
       "name                                28\n",
       "host_id                              0\n",
       "host_name                          232\n",
       "neighbourhood_group                  0\n",
       "neighbourhood                        0\n",
       "latitude                             0\n",
       "longitude                            0\n",
       "room_type                            0\n",
       "price                                0\n",
       "minimum_nights                       0\n",
       "number_of_reviews                    0\n",
       "last_review                       9440\n",
       "reviews_per_month                 9474\n",
       "calculated_host_listings_count       0\n",
       "availability_365                     0\n",
       "dtype: int64"
      ]
     },
     "execution_count": 87,
     "metadata": {},
     "output_type": "execute_result"
    }
   ],
   "source": [
    "#What is missing in listing summary?\n",
    "ls.isna().sum()"
   ]
  },
  {
   "cell_type": "markdown",
   "metadata": {},
   "source": [
    "No values that are essential to our analysis are missing in listing summary"
   ]
  },
  {
   "cell_type": "code",
   "execution_count": 100,
   "metadata": {
    "scrolled": true
   },
   "outputs": [
    {
     "data": {
      "text/plain": [
       "listing_url                         0    \n",
       "scrape_id                           0    \n",
       "last_scraped                        0    \n",
       "name                                39   \n",
       "summary                             1523 \n",
       "space                               14514\n",
       "description                         29   \n",
       "experiences_offered                 0    \n",
       "neighborhood_overview               18720\n",
       "notes                               28229\n",
       "transit                             16986\n",
       "access                              19127\n",
       "interaction                         19965\n",
       "house_rules                         19208\n",
       "thumbnail_url                       3305 \n",
       "medium_url                          3305 \n",
       "picture_url                         0    \n",
       "xl_picture_url                      3305 \n",
       "host_id                             0    \n",
       "host_url                            0    \n",
       "host_name                           232  \n",
       "host_since                          232  \n",
       "host_location                       406  \n",
       "host_about                          17224\n",
       "host_response_time                  13679\n",
       "host_response_rate                  13679\n",
       "host_acceptance_rate                44317\n",
       "host_is_superhost                   232  \n",
       "host_thumbnail_url                  232  \n",
       "host_picture_url                    232  \n",
       "                                   ...   \n",
       "has_availability                    0    \n",
       "availability_30                     0    \n",
       "availability_60                     0    \n",
       "availability_90                     0    \n",
       "availability_365                    0    \n",
       "calendar_last_scraped               0    \n",
       "number_of_reviews                   0    \n",
       "first_review                        9474 \n",
       "last_review                         9440 \n",
       "review_scores_rating                10099\n",
       "review_scores_accuracy              10177\n",
       "review_scores_cleanliness           10146\n",
       "review_scores_checkin               10273\n",
       "review_scores_communication         10174\n",
       "review_scores_location              10292\n",
       "review_scores_value                 10296\n",
       "requires_license                    0    \n",
       "license                             44317\n",
       "jurisdiction_names                  44310\n",
       "instant_bookable                    0    \n",
       "is_business_travel_ready            0    \n",
       "cancellation_policy                 0    \n",
       "require_guest_profile_picture       0    \n",
       "require_guest_phone_verification    0    \n",
       "calculated_host_listings_count      0    \n",
       "reviews_per_month                   9474 \n",
       "Unnamed: 96                         44317\n",
       "Unnamed: 97                         44317\n",
       "Unnamed: 98                         44317\n",
       "Unnamed: 99                         44315\n",
       "Length: 99, dtype: int64"
      ]
     },
     "execution_count": 100,
     "metadata": {},
     "output_type": "execute_result"
    }
   ],
   "source": [
    "#What is missing in listing details?\n",
    "listings_detail.isna().sum()"
   ]
  },
  {
   "cell_type": "markdown",
   "metadata": {},
   "source": [
    "There are many missing values in the listing details dataset which we need to either estimate or eliminate. We estimate the missing reviews per month by using the median values. Then we also want to remove records that do not have a room and that are \"free\". "
   ]
  },
  {
   "cell_type": "code",
   "execution_count": 23,
   "metadata": {},
   "outputs": [],
   "source": [
    "#Fix NaN in review per month \n",
    "\n",
    "#Estimate attempt:\n",
    "#Use to fill in missing values with median\n",
    "def impute_median(series):\n",
    "    return series.fillna(series.median())\n",
    "\n",
    "listings_detail.loc['reviews_per_month']=listings_detail[\"reviews_per_month\"].transform(impute_median)\n",
    "\n",
    "\n",
    "#Remove records that do not have a room to offer\n",
    "listings_detail=listings_detail[listings_detail['room_type'] != 0]\n",
    "\n",
    "#Remove records that are \"free\"\n",
    "listings_detail=listings_detail[listings_detail['price']!=0]"
   ]
  },
  {
   "cell_type": "code",
   "execution_count": 24,
   "metadata": {},
   "outputs": [
    {
     "name": "stdout",
     "output_type": "stream",
     "text": [
      "Number of records after cleaning: 44267\n"
     ]
    }
   ],
   "source": [
    "#How many records we have now\n",
    "print(f'Number of records after cleaning: {listings_detail.count()[0]}')"
   ]
  },
  {
   "cell_type": "markdown",
   "metadata": {},
   "source": [
    "<b> Issue: \n",
    "Some prices are extremely high, there are 44 with prices over 2000 per night. Some of these really are the prices but it seems like some are priced at $10,000 even though that is not the actual price and they are not available at all. We may need to go through each URL and see which ones are really that expensive and which should be taken out. "
   ]
  },
  {
   "cell_type": "markdown",
   "metadata": {},
   "source": [
    "listings_detail[listings_detail.price>2000][:5]"
   ]
  },
  {
   "cell_type": "markdown",
   "metadata": {},
   "source": [
    "<b> Issue: Do we need to define more areas than just the Boroughs? If we use the neighbourhoods then there is an overwhelming amoung of areas (202), would it be reasonable to focus on large main areas such as China Town, Upper East,...?"
   ]
  },
  {
   "cell_type": "markdown",
   "metadata": {},
   "source": [
    "### EDA "
   ]
  },
  {
   "cell_type": "code",
   "execution_count": 41,
   "metadata": {},
   "outputs": [
    {
     "data": {
      "text/plain": [
       "203"
      ]
     },
     "execution_count": 41,
     "metadata": {},
     "output_type": "execute_result"
    }
   ],
   "source": [
    "#there's 202 unique neighborhoods - do we want to reduce this? how?\n",
    "listings_detail['neighbourhood'].nunique()"
   ]
  },
  {
   "cell_type": "code",
   "execution_count": 35,
   "metadata": {},
   "outputs": [
    {
     "name": "stdout",
     "output_type": "stream",
     "text": [
      "2017-10-02 00:00:00\n",
      "2018-10-02 00:00:00\n"
     ]
    }
   ],
   "source": [
    "print(cdmergels.date.min())\n",
    "print(cdmergels.date.max())"
   ]
  },
  {
   "cell_type": "markdown",
   "metadata": {},
   "source": [
    "Our data is from October 2, 2017 to October 2, 2018"
   ]
  },
  {
   "cell_type": "markdown",
   "metadata": {},
   "source": [
    "### <b> Question 1: </b>\n",
    "Is there a difference in the price, popularity, and ratings for different areas? Do additional research to learn why."
   ]
  },
  {
   "cell_type": "markdown",
   "metadata": {},
   "source": [
    "#### Price"
   ]
  },
  {
   "cell_type": "code",
   "execution_count": 38,
   "metadata": {},
   "outputs": [
    {
     "name": "stdout",
     "output_type": "stream",
     "text": [
      "\n",
      "\n"
     ]
    },
    {
     "data": {
      "text/html": [
       "<div>\n",
       "<style scoped>\n",
       "    .dataframe tbody tr th:only-of-type {\n",
       "        vertical-align: middle;\n",
       "    }\n",
       "\n",
       "    .dataframe tbody tr th {\n",
       "        vertical-align: top;\n",
       "    }\n",
       "\n",
       "    .dataframe thead th {\n",
       "        text-align: right;\n",
       "    }\n",
       "</style>\n",
       "<table border=\"1\" class=\"dataframe\">\n",
       "  <thead>\n",
       "    <tr style=\"text-align: right;\">\n",
       "      <th></th>\n",
       "      <th>Variable</th>\n",
       "      <th>N</th>\n",
       "      <th>Mean</th>\n",
       "      <th>SD</th>\n",
       "      <th>SE</th>\n",
       "      <th>95% Conf.</th>\n",
       "      <th>Interval</th>\n",
       "    </tr>\n",
       "  </thead>\n",
       "  <tbody>\n",
       "    <tr>\n",
       "      <th>0</th>\n",
       "      <td>price</td>\n",
       "      <td>44317.0</td>\n",
       "      <td>147.675948</td>\n",
       "      <td>209.138888</td>\n",
       "      <td>0.993458</td>\n",
       "      <td>145.728753</td>\n",
       "      <td>149.623144</td>\n",
       "    </tr>\n",
       "  </tbody>\n",
       "</table>\n",
       "</div>"
      ],
      "text/plain": [
       "  Variable        N        Mean          SD        SE   95% Conf.    Interval\n",
       "0    price  44317.0  147.675948  209.138888  0.993458  145.728753  149.623144"
      ]
     },
     "execution_count": 38,
     "metadata": {},
     "output_type": "execute_result"
    }
   ],
   "source": [
    "rp.summary_cont(ls['price'])"
   ]
  },
  {
   "cell_type": "markdown",
   "metadata": {},
   "source": [
    "That gives us data by whole, but we really are interested in the data by neighbourhood"
   ]
  },
  {
   "cell_type": "code",
   "execution_count": 39,
   "metadata": {},
   "outputs": [
    {
     "name": "stdout",
     "output_type": "stream",
     "text": [
      "\n",
      "\n"
     ]
    },
    {
     "data": {
      "text/html": [
       "<div>\n",
       "<style scoped>\n",
       "    .dataframe tbody tr th:only-of-type {\n",
       "        vertical-align: middle;\n",
       "    }\n",
       "\n",
       "    .dataframe tbody tr th {\n",
       "        vertical-align: top;\n",
       "    }\n",
       "\n",
       "    .dataframe thead th {\n",
       "        text-align: right;\n",
       "    }\n",
       "</style>\n",
       "<table border=\"1\" class=\"dataframe\">\n",
       "  <thead>\n",
       "    <tr style=\"text-align: right;\">\n",
       "      <th></th>\n",
       "      <th>N</th>\n",
       "      <th>Mean</th>\n",
       "      <th>SD</th>\n",
       "      <th>SE</th>\n",
       "      <th>95% Conf.</th>\n",
       "      <th>Interval</th>\n",
       "    </tr>\n",
       "    <tr>\n",
       "      <th>neighbourhood_group</th>\n",
       "      <th></th>\n",
       "      <th></th>\n",
       "      <th></th>\n",
       "      <th></th>\n",
       "      <th></th>\n",
       "      <th></th>\n",
       "    </tr>\n",
       "  </thead>\n",
       "  <tbody>\n",
       "    <tr>\n",
       "      <th>Bronx</th>\n",
       "      <td>791</td>\n",
       "      <td>88.910240</td>\n",
       "      <td>147.269875</td>\n",
       "      <td>5.236314</td>\n",
       "      <td>78.640571</td>\n",
       "      <td>99.179909</td>\n",
       "    </tr>\n",
       "    <tr>\n",
       "      <th>Brooklyn</th>\n",
       "      <td>18470</td>\n",
       "      <td>120.701624</td>\n",
       "      <td>178.882444</td>\n",
       "      <td>1.316238</td>\n",
       "      <td>118.121729</td>\n",
       "      <td>123.281520</td>\n",
       "    </tr>\n",
       "    <tr>\n",
       "      <th>Manhattan</th>\n",
       "      <td>20370</td>\n",
       "      <td>185.082867</td>\n",
       "      <td>233.717036</td>\n",
       "      <td>1.637551</td>\n",
       "      <td>181.873188</td>\n",
       "      <td>188.292546</td>\n",
       "    </tr>\n",
       "    <tr>\n",
       "      <th>Queens</th>\n",
       "      <td>4392</td>\n",
       "      <td>99.620674</td>\n",
       "      <td>174.882615</td>\n",
       "      <td>2.638855</td>\n",
       "      <td>94.447930</td>\n",
       "      <td>104.793418</td>\n",
       "    </tr>\n",
       "    <tr>\n",
       "      <th>Staten Island</th>\n",
       "      <td>294</td>\n",
       "      <td>126.517007</td>\n",
       "      <td>311.045103</td>\n",
       "      <td>18.140519</td>\n",
       "      <td>90.900967</td>\n",
       "      <td>162.133047</td>\n",
       "    </tr>\n",
       "  </tbody>\n",
       "</table>\n",
       "</div>"
      ],
      "text/plain": [
       "                         N        Mean          SD         SE   95% Conf.  \\\n",
       "neighbourhood_group                                                         \n",
       "Bronx                  791   88.910240  147.269875   5.236314   78.640571   \n",
       "Brooklyn             18470  120.701624  178.882444   1.316238  118.121729   \n",
       "Manhattan            20370  185.082867  233.717036   1.637551  181.873188   \n",
       "Queens                4392   99.620674  174.882615   2.638855   94.447930   \n",
       "Staten Island          294  126.517007  311.045103  18.140519   90.900967   \n",
       "\n",
       "                       Interval  \n",
       "neighbourhood_group              \n",
       "Bronx                 99.179909  \n",
       "Brooklyn             123.281520  \n",
       "Manhattan            188.292546  \n",
       "Queens               104.793418  \n",
       "Staten Island        162.133047  "
      ]
     },
     "execution_count": 39,
     "metadata": {},
     "output_type": "execute_result"
    }
   ],
   "source": [
    "rp.summary_cont(ls['price'].groupby(ls['neighbourhood_group']))"
   ]
  },
  {
   "cell_type": "markdown",
   "metadata": {},
   "source": [
    "Slightly different summary below"
   ]
  },
  {
   "cell_type": "code",
   "execution_count": 132,
   "metadata": {},
   "outputs": [
    {
     "data": {
      "text/html": [
       "<div>\n",
       "<style scoped>\n",
       "    .dataframe tbody tr th:only-of-type {\n",
       "        vertical-align: middle;\n",
       "    }\n",
       "\n",
       "    .dataframe tbody tr th {\n",
       "        vertical-align: top;\n",
       "    }\n",
       "\n",
       "    .dataframe thead th {\n",
       "        text-align: right;\n",
       "    }\n",
       "</style>\n",
       "<table border=\"1\" class=\"dataframe\">\n",
       "  <thead>\n",
       "    <tr style=\"text-align: right;\">\n",
       "      <th></th>\n",
       "      <th>count</th>\n",
       "      <th>mean</th>\n",
       "      <th>std</th>\n",
       "      <th>min</th>\n",
       "      <th>25%</th>\n",
       "      <th>50%</th>\n",
       "      <th>75%</th>\n",
       "      <th>max</th>\n",
       "    </tr>\n",
       "    <tr>\n",
       "      <th>neighbourhood_group</th>\n",
       "      <th></th>\n",
       "      <th></th>\n",
       "      <th></th>\n",
       "      <th></th>\n",
       "      <th></th>\n",
       "      <th></th>\n",
       "      <th></th>\n",
       "      <th></th>\n",
       "    </tr>\n",
       "  </thead>\n",
       "  <tbody>\n",
       "    <tr>\n",
       "      <th>Bronx</th>\n",
       "      <td>791.0</td>\n",
       "      <td>88.910240</td>\n",
       "      <td>147.269875</td>\n",
       "      <td>0.0</td>\n",
       "      <td>47.0</td>\n",
       "      <td>65.0</td>\n",
       "      <td>90.0</td>\n",
       "      <td>2500.0</td>\n",
       "    </tr>\n",
       "    <tr>\n",
       "      <th>Brooklyn</th>\n",
       "      <td>18470.0</td>\n",
       "      <td>120.701624</td>\n",
       "      <td>178.882444</td>\n",
       "      <td>0.0</td>\n",
       "      <td>60.0</td>\n",
       "      <td>90.0</td>\n",
       "      <td>147.0</td>\n",
       "      <td>10000.0</td>\n",
       "    </tr>\n",
       "    <tr>\n",
       "      <th>Manhattan</th>\n",
       "      <td>20370.0</td>\n",
       "      <td>185.082867</td>\n",
       "      <td>233.717036</td>\n",
       "      <td>0.0</td>\n",
       "      <td>90.0</td>\n",
       "      <td>140.0</td>\n",
       "      <td>200.0</td>\n",
       "      <td>9999.0</td>\n",
       "    </tr>\n",
       "    <tr>\n",
       "      <th>Queens</th>\n",
       "      <td>4392.0</td>\n",
       "      <td>99.620674</td>\n",
       "      <td>174.882615</td>\n",
       "      <td>0.0</td>\n",
       "      <td>55.0</td>\n",
       "      <td>75.0</td>\n",
       "      <td>110.0</td>\n",
       "      <td>10000.0</td>\n",
       "    </tr>\n",
       "    <tr>\n",
       "      <th>Staten Island</th>\n",
       "      <td>294.0</td>\n",
       "      <td>126.517007</td>\n",
       "      <td>311.045103</td>\n",
       "      <td>0.0</td>\n",
       "      <td>52.0</td>\n",
       "      <td>80.0</td>\n",
       "      <td>120.0</td>\n",
       "      <td>5000.0</td>\n",
       "    </tr>\n",
       "  </tbody>\n",
       "</table>\n",
       "</div>"
      ],
      "text/plain": [
       "                       count        mean         std  min   25%    50%    75%  \\\n",
       "neighbourhood_group                                                             \n",
       "Bronx                791.0    88.910240   147.269875  0.0  47.0  65.0   90.0    \n",
       "Brooklyn             18470.0  120.701624  178.882444  0.0  60.0  90.0   147.0   \n",
       "Manhattan            20370.0  185.082867  233.717036  0.0  90.0  140.0  200.0   \n",
       "Queens               4392.0   99.620674   174.882615  0.0  55.0  75.0   110.0   \n",
       "Staten Island        294.0    126.517007  311.045103  0.0  52.0  80.0   120.0   \n",
       "\n",
       "                         max  \n",
       "neighbourhood_group           \n",
       "Bronx                2500.0   \n",
       "Brooklyn             10000.0  \n",
       "Manhattan            9999.0   \n",
       "Queens               10000.0  \n",
       "Staten Island        5000.0   "
      ]
     },
     "execution_count": 132,
     "metadata": {},
     "output_type": "execute_result"
    }
   ],
   "source": [
    "ls.price.groupby(ls['neighbourhood_group']).describe()"
   ]
  },
  {
   "cell_type": "code",
   "execution_count": 92,
   "metadata": {},
   "outputs": [
    {
     "data": {
      "image/png": "[encoded data removed]",
      "text/plain": [
       "<Figure size 432x432 with 1 Axes>"
      ]
     },
     "metadata": {
      "needs_background": "light"
     },
     "output_type": "display_data"
    }
   ],
   "source": [
    "# Price\n",
    "price_group = ls[[\"neighbourhood_group\",\"price\"]].groupby([\"neighbourhood_group\"]).price.mean()\n",
    "plt.figure(figsize = (6,6))\n",
    "plt.bar(range(len(price_group.values)),price_group.values)\n",
    "plt.xticks(range(len(price_group.values)),list(price_group.index))\n",
    "plt.title(\"Average Price\");"
   ]
  },
  {
   "cell_type": "markdown",
   "metadata": {},
   "source": [
    "It seems like Airbnb's in Manhattan are the most expensive overall in comparison to the other neighborhood groups. Staten Island and Brooklyn are the next most expensive with Staten Island seeming to be just slightly more expensive. Then Queens and finally the Bronx is the least expensive on average, however, it is pretty close to the other three group overall. "
   ]
  },
  {
   "cell_type": "code",
   "execution_count": 91,
   "metadata": {},
   "outputs": [
    {
     "data": {
      "image/png": "[encoded data removed]",
      "text/plain": [
       "<Figure size 432x432 with 2 Axes>"
      ]
     },
     "metadata": {
      "needs_background": "light"
     },
     "output_type": "display_data"
    }
   ],
   "source": [
    "# Price Geometry Distribution \n",
    "\n",
    "prices = listings_detail[[\"neighbourhood\",\"price\",\"reviews_per_month\"]].groupby([\"neighbourhood\"]).price.mean()\n",
    "priceMap = dict(prices)\n",
    "\n",
    "max_ = max(priceMap.values())\n",
    "min_ = min(priceMap.values())\n",
    "def norm_transform(price):\n",
    "    return (price-min_)/( 250 - min_)#Hard Coding Truncature Here at 250 USD here to see a more meaningful result\n",
    "\n",
    "###############SET UP LIMITS#########################\n",
    "mp = nbgeo.geometry.loc[101]\n",
    "cm = plt.get_cmap('YlOrRd')\n",
    "fig = plt.figure(figsize=(6,6))\n",
    "ax = fig.add_subplot(111)\n",
    "minx, miny, maxx, maxy = mp.bounds\n",
    "w, h = maxx - minx, maxy - miny\n",
    "ax.set_xlim(minx - 20 * w, maxx + 5 * w)\n",
    "ax.set_ylim(miny - 10 * h, maxy + 8 * h)\n",
    "ax.set_aspect(1)\n",
    "\n",
    "###############ADD NEIGHBOURS#########################\n",
    "for i in range(len(nbgeo.geometry)):\n",
    "    patches = []\n",
    "    mp = nbgeo.geometry.loc[i]\n",
    "    nb = nbgeo.neighbourhood.loc[i]\n",
    "    try:\n",
    "        price = priceMap[nb]\n",
    "    except:\n",
    "        continue\n",
    "    for idx, p in enumerate(mp):\n",
    "        colour = cm(norm_transform(price))\n",
    "        patches.append(PolygonPatch(p, fc=colour, ec='#555555', lw=0.2, alpha=1., zorder=1))\n",
    "        ax.add_collection(PatchCollection(patches, match_original=True))\n",
    "\n",
    "###############DRAW##################################\n",
    "ax.set_xticks([])\n",
    "ax.set_yticks([])\n",
    "plt.title(\"Price Distributions\")\n",
    "plt.tight_layout()\n",
    "##NOTE that the price values are normalized \n",
    "ax  = fig.add_axes([1,0.11,0.05,0.78])\n",
    "norm = mpl.colors.Normalize(vmin=0,vmax=2)\n",
    "cb1  = mpl.colorbar.ColorbarBase(ax,cmap=cm,norm=norm,orientation='vertical')\n",
    "\n",
    "plt.show()"
   ]
  },
  {
   "cell_type": "markdown",
   "metadata": {},
   "source": [
    "#### Popularity\n",
    "We are defining popularity in terms of availibilty, meaning more popular airbnb's have less availability and less popular ones have more"
   ]
  },
  {
   "cell_type": "code",
   "execution_count": 3,
   "metadata": {},
   "outputs": [],
   "source": [
    "#Change t and f to 1 and 0 \n",
    "calendar_detail.available=calendar_detail.available.map(dict(t=1, f=0))"
   ]
  },
  {
   "cell_type": "code",
   "execution_count": 4,
   "metadata": {},
   "outputs": [],
   "source": [
    "#Merge calendar details with listing details by listing_id to get the neighborhood group of each listing\n",
    "cdmergels=pd.merge(calendar_detail, ls, left_on='listing_id', right_index=True, how='left')"
   ]
  },
  {
   "cell_type": "code",
   "execution_count": 71,
   "metadata": {},
   "outputs": [
    {
     "data": {
      "text/plain": [
       "neighbourhood_group\n",
       "Bronx             10981\n",
       "Brooklyn         252356\n",
       "Manhattan        261394\n",
       "Queens            43330\n",
       "Staten Island      7211\n",
       "Name: available, dtype: int64"
      ]
     },
     "execution_count": 71,
     "metadata": {},
     "output_type": "execute_result"
    }
   ],
   "source": [
    "cdmergels['available'].groupby(cdmergels['neighbourhood_group']).sum()\n",
    "#Number of availibilities by neighborhood - higher means less popular"
   ]
  },
  {
   "cell_type": "code",
   "execution_count": 94,
   "metadata": {},
   "outputs": [
    {
     "data": {
      "image/png": "[encoded data removed]",
      "text/plain": [
       "<Figure size 432x432 with 1 Axes>"
      ]
     },
     "metadata": {
      "needs_background": "light"
     },
     "output_type": "display_data"
    }
   ],
   "source": [
    "# Total Availability\n",
    "avail_group = cdmergels[[\"neighbourhood_group\",\"available\"]].groupby([\"neighbourhood_group\"]).available.sum()\n",
    "plt.figure(figsize = (6,6))\n",
    "plt.bar(range(len(avail_group.values)),avail_group.values)\n",
    "plt.xticks(range(len(avail_group.values)),list(avail_group.index))\n",
    "plt.title(\"Total Availability\");"
   ]
  },
  {
   "cell_type": "markdown",
   "metadata": {},
   "source": [
    "This can be misleading since there are way more Airbnbs in general in Manhattan and Brooklyn, so there will therefore be more available rooms. Maybe we can make this relative to the amount of Airbnb's there are so that we get an average available days per Airbnb by neighborhood."
   ]
  },
  {
   "cell_type": "code",
   "execution_count": 95,
   "metadata": {},
   "outputs": [
    {
     "data": {
      "image/png": "[encoded data removed]",
      "text/plain": [
       "<Figure size 432x432 with 1 Axes>"
      ]
     },
     "metadata": {
      "needs_background": "light"
     },
     "output_type": "display_data"
    }
   ],
   "source": [
    "# Average Availability\n",
    "avail_group = (cdmergels[[\"neighbourhood_group\",\"available\"]].groupby([\"neighbourhood_group\"]).available.sum())/(ls['host_id'].groupby(ls['neighbourhood_group']).count())\n",
    "plt.figure(figsize = (6,6))\n",
    "plt.bar(range(len(avail_group.values)),avail_group.values)\n",
    "plt.xticks(range(len(avail_group.values)),list(avail_group.index))\n",
    "plt.title(\"Average Availability per Neighborhood Group\");"
   ]
  },
  {
   "cell_type": "markdown",
   "metadata": {},
   "source": [
    "This plot paints a much different picture which is much more accurate. For the amount of Airbnb's there are in Staten Island, they are on average more available than any other neighbourhood group. This is the availability relative to the amount of Airbnb's in the area. The Bronx, Brooklyn, and Manhattan have VERY similar averages which is interesting. Queens seems to be the more popular since it has the least availability."
   ]
  },
  {
   "cell_type": "markdown",
   "metadata": {},
   "source": [
    "I used the values below to check that the average was calculated properly which it was. It is the amount of available days per neighbourhood group divided by the total number of Airbnbs in each neighborhood group - to get the average amount of available days per Airbnb within each neighborhood group (borough)"
   ]
  },
  {
   "cell_type": "markdown",
   "metadata": {},
   "source": [
    "<b> Don't these values seem low? Only 13 days available per year on average for each Airbnb does not seem right"
   ]
  },
  {
   "cell_type": "code",
   "execution_count": 78,
   "metadata": {},
   "outputs": [
    {
     "data": {
      "text/plain": [
       "neighbourhood_group\n",
       "Bronx            13.882427\n",
       "Brooklyn         13.663021\n",
       "Manhattan        12.832302\n",
       "Queens            9.865665\n",
       "Staten Island    24.527211\n",
       "dtype: float64"
      ]
     },
     "execution_count": 78,
     "metadata": {},
     "output_type": "execute_result"
    }
   ],
   "source": [
    "avail_group #Used this to check that this is the amount of available days for each neighborhood group \n",
    "            #divided by the amount of Airbnbs per ng - it's correct."
   ]
  },
  {
   "cell_type": "markdown",
   "metadata": {},
   "source": [
    "##### Are there times when no Airbnbs are available or extremely limited and on what dates does this occur?"
   ]
  },
  {
   "cell_type": "code",
   "execution_count": 31,
   "metadata": {},
   "outputs": [
    {
     "data": {
      "text/plain": [
       "date\n",
       "2017-10-02    190\n",
       "2017-10-07    309\n",
       "2017-10-06    331\n",
       "2017-10-03    397\n",
       "2017-10-05    401\n",
       "2017-10-04    435\n",
       "2017-10-08    467\n",
       "2017-10-13    559\n",
       "2017-10-14    569\n",
       "2017-10-09    593\n",
       "Name: available, dtype: int64"
      ]
     },
     "execution_count": 31,
     "metadata": {},
     "output_type": "execute_result"
    }
   ],
   "source": [
    "cdmergels.available.groupby(cdmergels.date).sum().sort_values()[:10]"
   ]
  },
  {
   "cell_type": "markdown",
   "metadata": {},
   "source": [
    "There are no times when there are no Airbnbs available but the dates when the fewest are available are October 10, October 7, October 6, October 3, and October 5, 2017 "
   ]
  },
  {
   "cell_type": "code",
   "execution_count": 32,
   "metadata": {},
   "outputs": [
    {
     "data": {
      "text/plain": [
       "date\n",
       "2018-03-20    1849\n",
       "2018-03-22    1846\n",
       "2018-03-21    1845\n",
       "2018-03-19    1843\n",
       "2018-03-23    1843\n",
       "2018-03-17    1839\n",
       "2018-03-18    1838\n",
       "2018-03-25    1834\n",
       "2018-03-24    1832\n",
       "2018-03-15    1831\n",
       "Name: available, dtype: int64"
      ]
     },
     "execution_count": 32,
     "metadata": {},
     "output_type": "execute_result"
    }
   ],
   "source": [
    "cdmergels.available.groupby(cdmergels.date).sum().sort_values(ascending=False)[:10]"
   ]
  },
  {
   "cell_type": "markdown",
   "metadata": {},
   "source": [
    "The dates with the greatest number of Airbnb's available are around March 20th, 2018"
   ]
  },
  {
   "cell_type": "markdown",
   "metadata": {},
   "source": [
    "#### Reviews"
   ]
  },
  {
   "cell_type": "code",
   "execution_count": 21,
   "metadata": {},
   "outputs": [],
   "source": [
    "pd.set_option('display.max_colwidth', -1)"
   ]
  },
  {
   "cell_type": "code",
   "execution_count": 133,
   "metadata": {},
   "outputs": [
    {
     "data": {
      "text/plain": [
       "801784"
      ]
     },
     "execution_count": 133,
     "metadata": {},
     "output_type": "execute_result"
    }
   ],
   "source": [
    "len(reviews.index)"
   ]
  },
  {
   "cell_type": "markdown",
   "metadata": {},
   "source": [
    "There are 801,784 reviews total. First we will try to extract as many positive comments as possible. However, we may not account for all of them since there are so many different positive words that can be included in the comments. Also, some comments have some positive feedback and some negative feeback as well. In these cases, the feedback is overall positive but a few issues or problems are pointed out. Since many that I looked over seem to be mostly postive than negative, we first search for negative comments from ones that are not found as positive. However, then the number of negative comments was extremely small compared to the number of positive ones. Instead, we ended up just defined positive comments as those that included at least one of the positive words in the regular expression below and then negative comments were ones that contained at least one of the negative words. So some comments were counted as both positive and negative if they had both positive and negative words included in the comment."
   ]
  },
  {
   "cell_type": "code",
   "execution_count": 3,
   "metadata": {},
   "outputs": [],
   "source": [
    "reviews['goodcomments'] = reviews['comments'].str.contains('good|great|wonderful|love|nice|loved|prompt|awesome|easy|lovely|accommodating|neat|perfect|would_recommend|terrific|fantastic|responsive|kind|pleasure|pleasant|ideal|convenient|beautiful|clean|enjoy|easily_accesible|friendly|welcoming|quiet|helpful|comf|best|reasonable|priva|communicative|appreciate|modern|value|thank|decent|cool|worth|amazing', case=False)"
   ]
  },
  {
   "cell_type": "code",
   "execution_count": 4,
   "metadata": {},
   "outputs": [
    {
     "data": {
      "text/plain": [
       "696965"
      ]
     },
     "execution_count": 4,
     "metadata": {},
     "output_type": "execute_result"
    }
   ],
   "source": [
    "len(reviews[reviews['goodcomments']==True])"
   ]
  },
  {
   "cell_type": "markdown",
   "metadata": {},
   "source": [
    "683,888 reviews are considered \"positive\" by our definition, meaning it contains at least one of the words above. This is not a perfect approach and it is not guarenteed that all of these comments are positive but that is what we are assuming. Next, we try to find reviews that are considered negative, meaning they contain at least one of the negative words in the regular expression below.It's also important to note  that there are many cases where the review is in a different language or a default review of \"The host canceled this reservation. This is an automated posting.\" We don't want those to be considered negative since they may not be. In these cases, we don't want these comments to be considered positive or negative. I'm not sure how we could delete those comments. "
   ]
  },
  {
   "cell_type": "code",
   "execution_count": 16,
   "metadata": {},
   "outputs": [],
   "source": [
    "reviews['badcomments']=reviews['comments'].str.contains('messy|dirty|expensive|loud|nois|bugs|warning|bad|awful|refund|disappoint|terrible|shame|unhappy|unhelpful|annoy|disgusting|\"not recommend\"|',case=False)"
   ]
  },
  {
   "cell_type": "code",
   "execution_count": 49,
   "metadata": {},
   "outputs": [
    {
     "data": {
      "text/plain": [
       "53358"
      ]
     },
     "execution_count": 49,
     "metadata": {},
     "output_type": "execute_result"
    }
   ],
   "source": [
    "len(reviews[reviews['badcomments']==True])"
   ]
  },
  {
   "cell_type": "code",
   "execution_count": 50,
   "metadata": {},
   "outputs": [
    {
     "data": {
      "text/plain": [
       "750323"
      ]
     },
     "execution_count": 50,
     "metadata": {},
     "output_type": "execute_result"
    }
   ],
   "source": [
    "len(reviews[reviews['goodcomments']==True])+len(reviews[reviews['badcomments']==True])"
   ]
  },
  {
   "cell_type": "markdown",
   "metadata": {},
   "source": [
    "So we've only accounted for _____750323___ (may change) out of the 801784 reviews total. We may still need to try to find out the number of reviews that are automated or in a different language to see how many we have missed. "
   ]
  },
  {
   "cell_type": "code",
   "execution_count": 51,
   "metadata": {},
   "outputs": [],
   "source": [
    "reviewsmergels=pd.merge(reviews, ls, left_index=True, right_index=True, how='left')"
   ]
  },
  {
   "cell_type": "code",
   "execution_count": 33,
   "metadata": {},
   "outputs": [
    {
     "data": {
      "text/plain": [
       "neighbourhood_group\n",
       "Bronx            11747 \n",
       "Brooklyn         282276\n",
       "Manhattan        321962\n",
       "Queens           75699 \n",
       "Staten Island    5281  \n",
       "Name: goodcomments, dtype: int64"
      ]
     },
     "execution_count": 33,
     "metadata": {},
     "output_type": "execute_result"
    }
   ],
   "source": [
    "reviewsmergels['goodcomments'].groupby(reviewsmergels['neighbourhood_group']).sum()"
   ]
  },
  {
   "cell_type": "code",
   "execution_count": 29,
   "metadata": {},
   "outputs": [
    {
     "data": {
      "text/plain": [
       "neighbourhood_group\n",
       "Bronx            753  \n",
       "Brooklyn         19243\n",
       "Manhattan        28237\n",
       "Queens           4768 \n",
       "Staten Island    357  \n",
       "Name: badcomments, dtype: int64"
      ]
     },
     "execution_count": 29,
     "metadata": {},
     "output_type": "execute_result"
    }
   ],
   "source": [
    "reviewsmergels['badcomments'].groupby(reviewsmergels['neighbourhood_group']).sum()"
   ]
  },
  {
   "cell_type": "code",
   "execution_count": 216,
   "metadata": {},
   "outputs": [
    {
     "data": {
      "image/png": "[encoded data removed]",
      "text/plain": [
       "<Figure size 792x432 with 1 Axes>"
      ]
     },
     "metadata": {
      "needs_background": "light"
     },
     "output_type": "display_data"
    }
   ],
   "source": [
    "fig, ax = plt.subplots(figsize=(11,6))\n",
    "\n",
    "x=range(len(y))\n",
    "x1=[0.4,1.4,2.4,3.4,4.4]\n",
    "\n",
    "y=reviewsmergels['goodcomments'].groupby(reviewsmergels['neighbourhood_group']).sum()\n",
    "z=reviewsmergels['badcomments'].groupby(reviewsmergels['neighbourhood_group']).sum()\n",
    "\n",
    "ax=plt.subplot(121)\n",
    "ax.bar(x,y,color='b',width=0.4,align='center')\n",
    "ax.bar(x1,z,color='r',width=0.4,align='center')\n",
    "plt.xlabel('Boroughs')\n",
    "plt.xticks((0,1,2,3,4),['Bronx','Brooklyn','Manhattan','Queens','Staten Island'])\n",
    "plt.ylabel('Number of Reviews')\n",
    "plt.title('Number of Negative and Positive Reviews by Borough')\n",
    "ax.autoscale(tight=True)\n",
    "##Need to add legend if we want to use this graph\n",
    "\n",
    "plt.show()"
   ]
  },
  {
   "cell_type": "markdown",
   "metadata": {},
   "source": [
    "Since there is such a small amount of negative reviews compared to positive, this is a terrible graph to compare the two. However, it does get the point across that there appears to be hardly any negative reviews compared to positive ones. In the next graph we plot the two separately, so we can see the distributions of the negative reviews as well as the positive reviews for each borough. It is important to note that the range of the y-axis scales are very different."
   ]
  },
  {
   "cell_type": "code",
   "execution_count": 47,
   "metadata": {},
   "outputs": [
    {
     "data": {
      "image/png": "[encoded data removed]",
      "text/plain": [
       "<Figure size 864x432 with 2 Axes>"
      ]
     },
     "metadata": {
      "needs_background": "light"
     },
     "output_type": "display_data"
    }
   ],
   "source": [
    "fig, ax = plt.subplots(figsize=(12,6))\n",
    "x=range(len(y))\n",
    "x1=[0.4,1.4,2.4,3.4,4.4]\n",
    "y=reviewsmergels['goodcomments'].groupby(reviewsmergels['neighbourhood_group']).sum()\n",
    "z=reviewsmergels['badcomments'].groupby(reviewsmergels['neighbourhood_group']).sum()\n",
    "ax=plt.subplot(121)\n",
    "ax.bar(x,y,color='b',width=0.4,align='center')\n",
    "plt.xlabel('Boroughs')\n",
    "plt.xticks((0,1,2,3,4),['Bronx','Brooklyn','Manhattan','Queens','Staten Island'])\n",
    "plt.ylabel('Number of Reviews')\n",
    "plt.title('Number of Positive Reviews by Borough')\n",
    "\n",
    "ax=plt.subplot(122)\n",
    "ax.bar(x,z,color='r',width=0.4,align='center')\n",
    "plt.xlabel('Boroughs')\n",
    "plt.xticks((0,1,2,3,4),['Bronx','Brooklyn','Manhattan','Queens','Staten Island'])\n",
    "plt.ylabel('Number of Reviews')\n",
    "plt.title('Number of Negative Reviews by Borough')\n",
    "\n",
    "\n",
    "plt.show()"
   ]
  },
  {
   "cell_type": "markdown",
   "metadata": {},
   "source": [
    "We should probably find the average number of positive/negative reviews per borough like we did before with the availability. Since obviously Manhattan and Brooklyn are likely to have the most reviews since they have the most Airbnbs. "
   ]
  },
  {
   "cell_type": "code",
   "execution_count": 97,
   "metadata": {},
   "outputs": [
    {
     "data": {
      "text/plain": [
       "neighbourhood_group\n",
       "Bronx            14.850822\n",
       "Brooklyn         15.282945\n",
       "Manhattan        15.805695\n",
       "Queens           17.235656\n",
       "Staten Island    17.962585\n",
       "dtype: float64"
      ]
     },
     "execution_count": 97,
     "metadata": {},
     "output_type": "execute_result"
    }
   ],
   "source": [
    "reviewsmergels['goodcomments'].groupby(reviewsmergels['neighbourhood_group']).sum()/(ls['host_id'].groupby(ls['neighbourhood_group']).count())"
   ]
  },
  {
   "cell_type": "code",
   "execution_count": 38,
   "metadata": {},
   "outputs": [
    {
     "data": {
      "text/plain": [
       "neighbourhood_group\n",
       "Bronx            0.951960\n",
       "Brooklyn         1.041852\n",
       "Manhattan        1.386205\n",
       "Queens           1.085610\n",
       "Staten Island    1.214286\n",
       "dtype: float64"
      ]
     },
     "execution_count": 38,
     "metadata": {},
     "output_type": "execute_result"
    }
   ],
   "source": [
    "reviewsmergels['badcomments'].groupby(reviewsmergels['neighbourhood_group']).sum()/(ls['host_id'].groupby(ls['neighbourhood_group']).count())"
   ]
  },
  {
   "cell_type": "code",
   "execution_count": 68,
   "metadata": {},
   "outputs": [
    {
     "data": {
      "image/png": "[encoded data removed]",
      "text/plain": [
       "<Figure size 864x432 with 1 Axes>"
      ]
     },
     "metadata": {
      "needs_background": "light"
     },
     "output_type": "display_data"
    }
   ],
   "source": [
    "fig, ax = plt.subplots(figsize=(12,6))\n",
    "\n",
    "x=[.2,1.2,2.2,3.2,4.2]\n",
    "x1=[0.6,1.6,2.6,3.6,4.6]\n",
    "y=reviewsmergels['goodcomments'].groupby(reviewsmergels['neighbourhood_group']).sum()/(ls['host_id'].groupby(ls['neighbourhood_group']).count())\n",
    "z=reviewsmergels['badcomments'].groupby(reviewsmergels['neighbourhood_group']).sum()/(ls['host_id'].groupby(ls['neighbourhood_group']).count())\n",
    "\n",
    "ax=plt.subplot(121)\n",
    "ax.bar(x,y,color='b',width=0.4,align='center',label='Positive Reviews')\n",
    "ax.bar(x1,z,color='r',width=0.4,align='center',label='Negative Reviews')\n",
    "plt.xlabel('Boroughs')\n",
    "plt.xticks((0.4,1.4,2.4,3.4,4.4),['Bronx','Brooklyn','Manhattan','Queens','Staten Island'])\n",
    "plt.ylabel('Number of Reviews')\n",
    "plt.title('Number of Negative and Positive Reviews by Borough')\n",
    "plt.xlim(-.3,5)\n",
    "##Need to add legend if we want to use this graph\n",
    "leg=ax.legend()\n",
    "plt.show()"
   ]
  },
  {
   "cell_type": "markdown",
   "metadata": {},
   "source": [
    "Or if we want to plot the two separately to get a better sense of the distribution of negative comments:"
   ]
  },
  {
   "cell_type": "code",
   "execution_count": 76,
   "metadata": {},
   "outputs": [
    {
     "data": {
      "image/png": "[encoded data removed]",
      "text/plain": [
       "<Figure size 864x432 with 2 Axes>"
      ]
     },
     "metadata": {
      "needs_background": "light"
     },
     "output_type": "display_data"
    }
   ],
   "source": [
    "fig, ax = plt.subplots(figsize=(12,6))\n",
    "\n",
    "y=reviewsmergels['goodcomments'].groupby(reviewsmergels['neighbourhood_group']).sum()/(ls['host_id'].groupby(ls['neighbourhood_group']).count())\n",
    "z=reviewsmergels['badcomments'].groupby(reviewsmergels['neighbourhood_group']).sum()/(ls['host_id'].groupby(ls['neighbourhood_group']).count())\n",
    "x=range(len(y))\n",
    "\n",
    "ax=plt.subplot(121)\n",
    "ax.bar(x,y,color='b',width=0.4,align='center')\n",
    "plt.xlabel('Boroughs',weight='bold')\n",
    "plt.xticks((0,1,2,3,4),['Bronx','Brooklyn','Manhattan','Queens','Staten Island'])\n",
    "plt.ylabel('Number of Reviews')\n",
    "plt.title('Number of Positive Reviews by Borough')\n",
    "\n",
    "ax=plt.subplot(122)\n",
    "ax.bar(x,z,color='r',width=0.4,align='center')\n",
    "plt.xlabel('Boroughs',weight='bold')\n",
    "plt.xticks((0,1,2,3,4),['Bronx','Brooklyn','Manhattan','Queens','Staten Island'])\n",
    "plt.ylabel('Number of Reviews')\n",
    "plt.title('Number of Negative Reviews by Borough')\n",
    "\n",
    "\n",
    "plt.show()"
   ]
  },
  {
   "cell_type": "code",
   "execution_count": 78,
   "metadata": {},
   "outputs": [],
   "source": [
    "pd.reset_option(\"^display\")"
   ]
  },
  {
   "cell_type": "markdown",
   "metadata": {},
   "source": [
    "<b> Issue: There may be reviews not accounted for. We need to figure out how to filter out the ones in a different language and the automated ones to try to see how many have been left out. However, even still, there are some comments that are counted for as both positive and negative so I'm not sure how we can do this. "
   ]
  },
  {
   "cell_type": "markdown",
   "metadata": {},
   "source": [
    "\n",
    "### Question 2: \n",
    "Do factors such as number of cancellation policy, instant bookable, house rules, amenities, access (entire apartment vs private room), room type (private vs shared), transit, or number of guests significantly impact whether or not an Airbnb is booked?\n",
    "\n"
   ]
  },
  {
   "cell_type": "markdown",
   "metadata": {},
   "source": [
    "#### Cancellation Policy"
   ]
  },
  {
   "cell_type": "markdown",
   "metadata": {},
   "source": [
    "First we need to merge our merged dataset (of calendar details and listings summary) with listing details to get all of the information we need"
   ]
  },
  {
   "cell_type": "code",
   "execution_count": 17,
   "metadata": {},
   "outputs": [],
   "source": [
    "calendar_detail.available=calendar_detail.available.map(dict(t=1, f=0))"
   ]
  },
  {
   "cell_type": "code",
   "execution_count": 19,
   "metadata": {},
   "outputs": [],
   "source": [
    "cdmergeldls['availability']=(cdmergeldls.available.groupby(cdmergeldls.index).sum())/365"
   ]
  },
  {
   "cell_type": "markdown",
   "metadata": {},
   "source": [
    "<b> THIS IS ALREADY A VARIABLE: availabilty_365"
   ]
  },
  {
   "cell_type": "code",
   "execution_count": 3,
   "metadata": {},
   "outputs": [],
   "source": [
    "#Run this cell if kernel is restarted and want all merged data sets so far\n",
    "\n",
    "cdmergels=pd.merge(calendar_detail, ls, left_on='listing_id', right_index=True, how='left')\n",
    "ld=listings_detail[['price','transit','access','house_rules','property_type','room_type','accommodates','beds','bathrooms','bedrooms','instant_bookable','cancellation_policy']]\n",
    "cdmergeldls=pd.merge(cdmergels, ld, left_on='listing_id', right_index=True, how='left')\n"
   ]
  },
  {
   "cell_type": "code",
   "execution_count": 4,
   "metadata": {},
   "outputs": [],
   "source": [
    "#Just get features we are interested in before merge\n",
    "ld=listings_detail[['price','transit','access','house_rules','property_type','room_type','accommodates','beds','bathrooms','bedrooms','instant_bookable','cancellation_policy']]"
   ]
  },
  {
   "cell_type": "code",
   "execution_count": 6,
   "metadata": {},
   "outputs": [],
   "source": [
    "#Need to merge with the dataset that is calendar details merged with listings summary since the listings details \n",
    "#does not have the boroughs (neighbourhood_group)\n",
    "cdmergeldls=pd.merge(cdmergels, ld, left_on='listing_id', right_index=True, how='left')"
   ]
  },
  {
   "cell_type": "code",
   "execution_count": 5,
   "metadata": {},
   "outputs": [
    {
     "data": {
      "text/html": [
       "<div>\n",
       "<style scoped>\n",
       "    .dataframe tbody tr th:only-of-type {\n",
       "        vertical-align: middle;\n",
       "    }\n",
       "\n",
       "    .dataframe tbody tr th {\n",
       "        vertical-align: top;\n",
       "    }\n",
       "\n",
       "    .dataframe thead th {\n",
       "        text-align: right;\n",
       "    }\n",
       "</style>\n",
       "<table border=\"1\" class=\"dataframe\">\n",
       "  <thead>\n",
       "    <tr style=\"text-align: right;\">\n",
       "      <th></th>\n",
       "      <th>price_x</th>\n",
       "      <th>host_id</th>\n",
       "      <th>latitude</th>\n",
       "      <th>longitude</th>\n",
       "      <th>price_y</th>\n",
       "      <th>minimum_nights</th>\n",
       "      <th>number_of_reviews</th>\n",
       "      <th>reviews_per_month</th>\n",
       "      <th>calculated_host_listings_count</th>\n",
       "      <th>availability_365</th>\n",
       "      <th>price</th>\n",
       "      <th>accommodates</th>\n",
       "      <th>beds</th>\n",
       "      <th>bathrooms</th>\n",
       "      <th>bedrooms</th>\n",
       "    </tr>\n",
       "  </thead>\n",
       "  <tbody>\n",
       "    <tr>\n",
       "      <th>price_x</th>\n",
       "      <td>1.000000</td>\n",
       "      <td>-0.047947</td>\n",
       "      <td>0.021366</td>\n",
       "      <td>-0.184137</td>\n",
       "      <td>0.977260</td>\n",
       "      <td>-0.023561</td>\n",
       "      <td>-0.073716</td>\n",
       "      <td>-0.064556</td>\n",
       "      <td>0.067763</td>\n",
       "      <td>0.050314</td>\n",
       "      <td>0.977260</td>\n",
       "      <td>0.427839</td>\n",
       "      <td>0.373016</td>\n",
       "      <td>0.401696</td>\n",
       "      <td>0.412429</td>\n",
       "    </tr>\n",
       "    <tr>\n",
       "      <th>host_id</th>\n",
       "      <td>-0.047947</td>\n",
       "      <td>1.000000</td>\n",
       "      <td>0.016587</td>\n",
       "      <td>0.015717</td>\n",
       "      <td>-0.018396</td>\n",
       "      <td>-0.035071</td>\n",
       "      <td>-0.086915</td>\n",
       "      <td>0.019981</td>\n",
       "      <td>-0.108917</td>\n",
       "      <td>-0.079646</td>\n",
       "      <td>-0.018396</td>\n",
       "      <td>-0.054819</td>\n",
       "      <td>-0.048062</td>\n",
       "      <td>-0.021097</td>\n",
       "      <td>-0.033419</td>\n",
       "    </tr>\n",
       "    <tr>\n",
       "      <th>latitude</th>\n",
       "      <td>0.021366</td>\n",
       "      <td>0.016587</td>\n",
       "      <td>1.000000</td>\n",
       "      <td>0.190047</td>\n",
       "      <td>0.025315</td>\n",
       "      <td>0.008291</td>\n",
       "      <td>0.038317</td>\n",
       "      <td>0.024808</td>\n",
       "      <td>-0.005915</td>\n",
       "      <td>0.011958</td>\n",
       "      <td>0.025315</td>\n",
       "      <td>-0.090468</td>\n",
       "      <td>-0.090678</td>\n",
       "      <td>-0.079148</td>\n",
       "      <td>-0.113937</td>\n",
       "    </tr>\n",
       "    <tr>\n",
       "      <th>longitude</th>\n",
       "      <td>-0.184137</td>\n",
       "      <td>0.015717</td>\n",
       "      <td>0.190047</td>\n",
       "      <td>1.000000</td>\n",
       "      <td>-0.197531</td>\n",
       "      <td>-0.011778</td>\n",
       "      <td>0.003863</td>\n",
       "      <td>0.012526</td>\n",
       "      <td>0.119211</td>\n",
       "      <td>0.098446</td>\n",
       "      <td>-0.197531</td>\n",
       "      <td>0.000513</td>\n",
       "      <td>0.017625</td>\n",
       "      <td>-0.049917</td>\n",
       "      <td>-0.003620</td>\n",
       "    </tr>\n",
       "    <tr>\n",
       "      <th>price_y</th>\n",
       "      <td>0.977260</td>\n",
       "      <td>-0.018396</td>\n",
       "      <td>0.025315</td>\n",
       "      <td>-0.197531</td>\n",
       "      <td>1.000000</td>\n",
       "      <td>-0.017162</td>\n",
       "      <td>-0.080374</td>\n",
       "      <td>-0.066591</td>\n",
       "      <td>0.036160</td>\n",
       "      <td>0.015957</td>\n",
       "      <td>1.000000</td>\n",
       "      <td>0.420488</td>\n",
       "      <td>0.384980</td>\n",
       "      <td>0.400832</td>\n",
       "      <td>0.399427</td>\n",
       "    </tr>\n",
       "    <tr>\n",
       "      <th>minimum_nights</th>\n",
       "      <td>-0.023561</td>\n",
       "      <td>-0.035071</td>\n",
       "      <td>0.008291</td>\n",
       "      <td>-0.011778</td>\n",
       "      <td>-0.017162</td>\n",
       "      <td>1.000000</td>\n",
       "      <td>-0.110471</td>\n",
       "      <td>-0.108307</td>\n",
       "      <td>-0.017046</td>\n",
       "      <td>-0.020619</td>\n",
       "      <td>-0.017162</td>\n",
       "      <td>-0.022869</td>\n",
       "      <td>-0.016431</td>\n",
       "      <td>-0.018531</td>\n",
       "      <td>0.004532</td>\n",
       "    </tr>\n",
       "    <tr>\n",
       "      <th>number_of_reviews</th>\n",
       "      <td>-0.073716</td>\n",
       "      <td>-0.086915</td>\n",
       "      <td>0.038317</td>\n",
       "      <td>0.003863</td>\n",
       "      <td>-0.080374</td>\n",
       "      <td>-0.110471</td>\n",
       "      <td>1.000000</td>\n",
       "      <td>0.843931</td>\n",
       "      <td>-0.019877</td>\n",
       "      <td>0.209516</td>\n",
       "      <td>-0.080374</td>\n",
       "      <td>0.078648</td>\n",
       "      <td>0.046271</td>\n",
       "      <td>-0.047655</td>\n",
       "      <td>-0.029500</td>\n",
       "    </tr>\n",
       "    <tr>\n",
       "      <th>reviews_per_month</th>\n",
       "      <td>-0.064556</td>\n",
       "      <td>0.019981</td>\n",
       "      <td>0.024808</td>\n",
       "      <td>0.012526</td>\n",
       "      <td>-0.066591</td>\n",
       "      <td>-0.108307</td>\n",
       "      <td>0.843931</td>\n",
       "      <td>1.000000</td>\n",
       "      <td>-0.034938</td>\n",
       "      <td>0.155976</td>\n",
       "      <td>-0.066591</td>\n",
       "      <td>0.052057</td>\n",
       "      <td>0.036546</td>\n",
       "      <td>-0.038933</td>\n",
       "      <td>-0.021378</td>\n",
       "    </tr>\n",
       "    <tr>\n",
       "      <th>calculated_host_listings_count</th>\n",
       "      <td>0.067763</td>\n",
       "      <td>-0.108917</td>\n",
       "      <td>-0.005915</td>\n",
       "      <td>0.119211</td>\n",
       "      <td>0.036160</td>\n",
       "      <td>-0.017046</td>\n",
       "      <td>-0.019877</td>\n",
       "      <td>-0.034938</td>\n",
       "      <td>1.000000</td>\n",
       "      <td>0.208076</td>\n",
       "      <td>0.036160</td>\n",
       "      <td>0.073152</td>\n",
       "      <td>0.040518</td>\n",
       "      <td>0.019873</td>\n",
       "      <td>-0.038243</td>\n",
       "    </tr>\n",
       "    <tr>\n",
       "      <th>availability_365</th>\n",
       "      <td>0.050314</td>\n",
       "      <td>-0.079646</td>\n",
       "      <td>0.011958</td>\n",
       "      <td>0.098446</td>\n",
       "      <td>0.015957</td>\n",
       "      <td>-0.020619</td>\n",
       "      <td>0.209516</td>\n",
       "      <td>0.155976</td>\n",
       "      <td>0.208076</td>\n",
       "      <td>1.000000</td>\n",
       "      <td>0.015957</td>\n",
       "      <td>0.069202</td>\n",
       "      <td>0.076760</td>\n",
       "      <td>0.023488</td>\n",
       "      <td>0.027631</td>\n",
       "    </tr>\n",
       "    <tr>\n",
       "      <th>price</th>\n",
       "      <td>0.977260</td>\n",
       "      <td>-0.018396</td>\n",
       "      <td>0.025315</td>\n",
       "      <td>-0.197531</td>\n",
       "      <td>1.000000</td>\n",
       "      <td>-0.017162</td>\n",
       "      <td>-0.080374</td>\n",
       "      <td>-0.066591</td>\n",
       "      <td>0.036160</td>\n",
       "      <td>0.015957</td>\n",
       "      <td>1.000000</td>\n",
       "      <td>0.420488</td>\n",
       "      <td>0.384980</td>\n",
       "      <td>0.400832</td>\n",
       "      <td>0.399427</td>\n",
       "    </tr>\n",
       "    <tr>\n",
       "      <th>accommodates</th>\n",
       "      <td>0.427839</td>\n",
       "      <td>-0.054819</td>\n",
       "      <td>-0.090468</td>\n",
       "      <td>0.000513</td>\n",
       "      <td>0.420488</td>\n",
       "      <td>-0.022869</td>\n",
       "      <td>0.078648</td>\n",
       "      <td>0.052057</td>\n",
       "      <td>0.073152</td>\n",
       "      <td>0.069202</td>\n",
       "      <td>0.420488</td>\n",
       "      <td>1.000000</td>\n",
       "      <td>0.823116</td>\n",
       "      <td>0.461731</td>\n",
       "      <td>0.723892</td>\n",
       "    </tr>\n",
       "    <tr>\n",
       "      <th>beds</th>\n",
       "      <td>0.373016</td>\n",
       "      <td>-0.048062</td>\n",
       "      <td>-0.090678</td>\n",
       "      <td>0.017625</td>\n",
       "      <td>0.384980</td>\n",
       "      <td>-0.016431</td>\n",
       "      <td>0.046271</td>\n",
       "      <td>0.036546</td>\n",
       "      <td>0.040518</td>\n",
       "      <td>0.076760</td>\n",
       "      <td>0.384980</td>\n",
       "      <td>0.823116</td>\n",
       "      <td>1.000000</td>\n",
       "      <td>0.490224</td>\n",
       "      <td>0.731054</td>\n",
       "    </tr>\n",
       "    <tr>\n",
       "      <th>bathrooms</th>\n",
       "      <td>0.401696</td>\n",
       "      <td>-0.021097</td>\n",
       "      <td>-0.079148</td>\n",
       "      <td>-0.049917</td>\n",
       "      <td>0.400832</td>\n",
       "      <td>-0.018531</td>\n",
       "      <td>-0.047655</td>\n",
       "      <td>-0.038933</td>\n",
       "      <td>0.019873</td>\n",
       "      <td>0.023488</td>\n",
       "      <td>0.400832</td>\n",
       "      <td>0.461731</td>\n",
       "      <td>0.490224</td>\n",
       "      <td>1.000000</td>\n",
       "      <td>0.535181</td>\n",
       "    </tr>\n",
       "    <tr>\n",
       "      <th>bedrooms</th>\n",
       "      <td>0.412429</td>\n",
       "      <td>-0.033419</td>\n",
       "      <td>-0.113937</td>\n",
       "      <td>-0.003620</td>\n",
       "      <td>0.399427</td>\n",
       "      <td>0.004532</td>\n",
       "      <td>-0.029500</td>\n",
       "      <td>-0.021378</td>\n",
       "      <td>-0.038243</td>\n",
       "      <td>0.027631</td>\n",
       "      <td>0.399427</td>\n",
       "      <td>0.723892</td>\n",
       "      <td>0.731054</td>\n",
       "      <td>0.535181</td>\n",
       "      <td>1.000000</td>\n",
       "    </tr>\n",
       "  </tbody>\n",
       "</table>\n",
       "</div>"
      ],
      "text/plain": [
       "                                 price_x   host_id  latitude  longitude  \\\n",
       "price_x                         1.000000 -0.047947  0.021366  -0.184137   \n",
       "host_id                        -0.047947  1.000000  0.016587   0.015717   \n",
       "latitude                        0.021366  0.016587  1.000000   0.190047   \n",
       "longitude                      -0.184137  0.015717  0.190047   1.000000   \n",
       "price_y                         0.977260 -0.018396  0.025315  -0.197531   \n",
       "minimum_nights                 -0.023561 -0.035071  0.008291  -0.011778   \n",
       "number_of_reviews              -0.073716 -0.086915  0.038317   0.003863   \n",
       "reviews_per_month              -0.064556  0.019981  0.024808   0.012526   \n",
       "calculated_host_listings_count  0.067763 -0.108917 -0.005915   0.119211   \n",
       "availability_365                0.050314 -0.079646  0.011958   0.098446   \n",
       "price                           0.977260 -0.018396  0.025315  -0.197531   \n",
       "accommodates                    0.427839 -0.054819 -0.090468   0.000513   \n",
       "beds                            0.373016 -0.048062 -0.090678   0.017625   \n",
       "bathrooms                       0.401696 -0.021097 -0.079148  -0.049917   \n",
       "bedrooms                        0.412429 -0.033419 -0.113937  -0.003620   \n",
       "\n",
       "                                 price_y  minimum_nights  number_of_reviews  \\\n",
       "price_x                         0.977260       -0.023561          -0.073716   \n",
       "host_id                        -0.018396       -0.035071          -0.086915   \n",
       "latitude                        0.025315        0.008291           0.038317   \n",
       "longitude                      -0.197531       -0.011778           0.003863   \n",
       "price_y                         1.000000       -0.017162          -0.080374   \n",
       "minimum_nights                 -0.017162        1.000000          -0.110471   \n",
       "number_of_reviews              -0.080374       -0.110471           1.000000   \n",
       "reviews_per_month              -0.066591       -0.108307           0.843931   \n",
       "calculated_host_listings_count  0.036160       -0.017046          -0.019877   \n",
       "availability_365                0.015957       -0.020619           0.209516   \n",
       "price                           1.000000       -0.017162          -0.080374   \n",
       "accommodates                    0.420488       -0.022869           0.078648   \n",
       "beds                            0.384980       -0.016431           0.046271   \n",
       "bathrooms                       0.400832       -0.018531          -0.047655   \n",
       "bedrooms                        0.399427        0.004532          -0.029500   \n",
       "\n",
       "                                reviews_per_month  \\\n",
       "price_x                                 -0.064556   \n",
       "host_id                                  0.019981   \n",
       "latitude                                 0.024808   \n",
       "longitude                                0.012526   \n",
       "price_y                                 -0.066591   \n",
       "minimum_nights                          -0.108307   \n",
       "number_of_reviews                        0.843931   \n",
       "reviews_per_month                        1.000000   \n",
       "calculated_host_listings_count          -0.034938   \n",
       "availability_365                         0.155976   \n",
       "price                                   -0.066591   \n",
       "accommodates                             0.052057   \n",
       "beds                                     0.036546   \n",
       "bathrooms                               -0.038933   \n",
       "bedrooms                                -0.021378   \n",
       "\n",
       "                                calculated_host_listings_count  \\\n",
       "price_x                                               0.067763   \n",
       "host_id                                              -0.108917   \n",
       "latitude                                             -0.005915   \n",
       "longitude                                             0.119211   \n",
       "price_y                                               0.036160   \n",
       "minimum_nights                                       -0.017046   \n",
       "number_of_reviews                                    -0.019877   \n",
       "reviews_per_month                                    -0.034938   \n",
       "calculated_host_listings_count                        1.000000   \n",
       "availability_365                                      0.208076   \n",
       "price                                                 0.036160   \n",
       "accommodates                                          0.073152   \n",
       "beds                                                  0.040518   \n",
       "bathrooms                                             0.019873   \n",
       "bedrooms                                             -0.038243   \n",
       "\n",
       "                                availability_365     price  accommodates  \\\n",
       "price_x                                 0.050314  0.977260      0.427839   \n",
       "host_id                                -0.079646 -0.018396     -0.054819   \n",
       "latitude                                0.011958  0.025315     -0.090468   \n",
       "longitude                               0.098446 -0.197531      0.000513   \n",
       "price_y                                 0.015957  1.000000      0.420488   \n",
       "minimum_nights                         -0.020619 -0.017162     -0.022869   \n",
       "number_of_reviews                       0.209516 -0.080374      0.078648   \n",
       "reviews_per_month                       0.155976 -0.066591      0.052057   \n",
       "calculated_host_listings_count          0.208076  0.036160      0.073152   \n",
       "availability_365                        1.000000  0.015957      0.069202   \n",
       "price                                   0.015957  1.000000      0.420488   \n",
       "accommodates                            0.069202  0.420488      1.000000   \n",
       "beds                                    0.076760  0.384980      0.823116   \n",
       "bathrooms                               0.023488  0.400832      0.461731   \n",
       "bedrooms                                0.027631  0.399427      0.723892   \n",
       "\n",
       "                                    beds  bathrooms  bedrooms  \n",
       "price_x                         0.373016   0.401696  0.412429  \n",
       "host_id                        -0.048062  -0.021097 -0.033419  \n",
       "latitude                       -0.090678  -0.079148 -0.113937  \n",
       "longitude                       0.017625  -0.049917 -0.003620  \n",
       "price_y                         0.384980   0.400832  0.399427  \n",
       "minimum_nights                 -0.016431  -0.018531  0.004532  \n",
       "number_of_reviews               0.046271  -0.047655 -0.029500  \n",
       "reviews_per_month               0.036546  -0.038933 -0.021378  \n",
       "calculated_host_listings_count  0.040518   0.019873 -0.038243  \n",
       "availability_365                0.076760   0.023488  0.027631  \n",
       "price                           0.384980   0.400832  0.399427  \n",
       "accommodates                    0.823116   0.461731  0.723892  \n",
       "beds                            1.000000   0.490224  0.731054  \n",
       "bathrooms                       0.490224   1.000000  0.535181  \n",
       "bedrooms                        0.731054   0.535181  1.000000  "
      ]
     },
     "execution_count": 5,
     "metadata": {},
     "output_type": "execute_result"
    }
   ],
   "source": [
    "cdmergeldls.corr()"
   ]
  },
  {
   "cell_type": "markdown",
   "metadata": {},
   "source": [
    "It might make sense to create an availability variable that is the percentage of the time that an Airbnb is available. A higher value would mean an Airbnb is less popular, since it is more available and vice versa. This way I think we can test the correlation between certain features and availability. "
   ]
  },
  {
   "cell_type": "markdown",
   "metadata": {},
   "source": [
    "<b> Issue: There are some that have 0 availability for over a year and I don't think this is because they are booked I think they are no longer or at least temporarily not offering their Airbnb. "
   ]
  },
  {
   "cell_type": "code",
   "execution_count": 20,
   "metadata": {},
   "outputs": [],
   "source": [
    "cdmergeldls['availability']=(cdmergeldls.available.groupby(cdmergeldls.index).sum())/365"
   ]
  },
  {
   "cell_type": "code",
   "execution_count": 21,
   "metadata": {},
   "outputs": [
    {
     "data": {
      "text/plain": [
       "cancellation_policy  neighbourhood_group\n",
       "flexible             Bronx                    1460\n",
       "                     Brooklyn                36135\n",
       "                     Manhattan               40150\n",
       "                     Queens                   8395\n",
       "                     Staten Island            1095\n",
       "moderate             Bronx                    1825\n",
       "                     Brooklyn               117460\n",
       "                     Manhattan              117530\n",
       "                     Queens                  12410\n",
       "                     Staten Island            1825\n",
       "strict               Bronx                    9125\n",
       "                     Brooklyn               305140\n",
       "                     Manhattan              345290\n",
       "                     Queens                  43435\n",
       "                     Staten Island            5475\n",
       "super_strict_30      Brooklyn                  365\n",
       "                     Manhattan                1460\n",
       "Name: cancellation_policy, dtype: int64"
      ]
     },
     "execution_count": 21,
     "metadata": {},
     "output_type": "execute_result"
    }
   ],
   "source": [
    "cdmergeldls.cancellation_policy.groupby([cdmergeldls['cancellation_policy'],cdmergeldls['neighbourhood_group']]).size()"
   ]
  },
  {
   "cell_type": "code",
   "execution_count": 7,
   "metadata": {},
   "outputs": [
    {
     "data": {
      "text/plain": [
       "<matplotlib.axes._subplots.AxesSubplot at 0x7ff9a77c83c8>"
      ]
     },
     "execution_count": 7,
     "metadata": {},
     "output_type": "execute_result"
    },
    {
     "data": {
      "image/png": "[encoded data removed]",
      "text/plain": [
       "<Figure size 432x288 with 1 Axes>"
      ]
     },
     "metadata": {
      "needs_background": "light"
     },
     "output_type": "display_data"
    }
   ],
   "source": [
    "sns.countplot(cdmergeldls[\"cancellation_policy\"], hue=cdmergeldls['neighbourhood_group'] ) "
   ]
  },
  {
   "cell_type": "markdown",
   "metadata": {},
   "source": [
    "Now we need to see how this may or may not affect availability or price - how???"
   ]
  },
  {
   "cell_type": "markdown",
   "metadata": {},
   "source": [
    "Should we make cancellation policy numeric, with 1 representing flexible, 2 moderate, 3 strict, and 4 very strict?"
   ]
  },
  {
   "cell_type": "code",
   "execution_count": 12,
   "metadata": {},
   "outputs": [
    {
     "data": {
      "image/png": "[encoded data removed]",
      "text/plain": [
       "<Figure size 432x288 with 1 Axes>"
      ]
     },
     "metadata": {},
     "output_type": "display_data"
    }
   ],
   "source": [
    "import seaborn as sns\n",
    "sns.set(style=\"whitegrid\")\n",
    "ax = sns.boxplot(x=\"neighbourhood_group\",y='availability',data=cdmergeldls)"
   ]
  },
  {
   "cell_type": "code",
   "execution_count": 20,
   "metadata": {},
   "outputs": [
    {
     "data": {
      "text/plain": [
       "listing_id\n",
       "2515      0.0\n",
       "2515      0.0\n",
       "2515      0.0\n",
       "2515      0.0\n",
       "2515      0.0\n",
       "2515      0.0\n",
       "2515      0.0\n",
       "2515      0.0\n",
       "2515      0.0\n",
       "2515      0.0\n",
       "2515      0.0\n",
       "2515      0.0\n",
       "2515      0.0\n",
       "2515      0.0\n",
       "2515      0.0\n",
       "2515      0.0\n",
       "2515      0.0\n",
       "2515      0.0\n",
       "2515      0.0\n",
       "2515      0.0\n",
       "2515      0.0\n",
       "2515      0.0\n",
       "2515      0.0\n",
       "2515      0.0\n",
       "2515      0.0\n",
       "2515      0.0\n",
       "2515      0.0\n",
       "2515      0.0\n",
       "2515      0.0\n",
       "2515      0.0\n",
       "         ... \n",
       "933129    0.0\n",
       "933129    0.0\n",
       "933129    0.0\n",
       "933129    0.0\n",
       "933129    0.0\n",
       "933129    0.0\n",
       "933129    0.0\n",
       "933129    0.0\n",
       "933129    0.0\n",
       "933129    0.0\n",
       "933129    0.0\n",
       "933129    0.0\n",
       "933129    0.0\n",
       "933129    0.0\n",
       "933129    0.0\n",
       "933129    0.0\n",
       "933129    0.0\n",
       "933129    0.0\n",
       "933129    0.0\n",
       "933129    0.0\n",
       "933129    0.0\n",
       "933129    0.0\n",
       "933129    0.0\n",
       "933129    0.0\n",
       "933129    0.0\n",
       "933129    0.0\n",
       "933129    0.0\n",
       "933129    0.0\n",
       "933129    0.0\n",
       "933129    0.0\n",
       "Name: availability, Length: 1048575, dtype: float64"
      ]
     },
     "execution_count": 20,
     "metadata": {},
     "output_type": "execute_result"
    }
   ],
   "source": [
    "cdmergeldls.availability"
   ]
  },
  {
   "cell_type": "markdown",
   "metadata": {},
   "source": [
    "### Question 3: \n",
    "How important are reviews and how much do they affect whether or not an Airbnb gets booked?"
   ]
  },
  {
   "cell_type": "markdown",
   "metadata": {},
   "source": [
    "### Question 5:\n",
    "What hosts are busiest? Why?"
   ]
  },
  {
   "cell_type": "markdown",
   "metadata": {},
   "source": [
    "### Visualize Data on Map\n",
    "- What areas are most popular? why?"
   ]
  },
  {
   "cell_type": "markdown",
   "metadata": {},
   "source": [
    "#### Number of Airbnbs by Neighbourhood"
   ]
  },
  {
   "cell_type": "code",
   "execution_count": 89,
   "metadata": {},
   "outputs": [
    {
     "data": {
      "text/plain": [
       "neighbourhood_group\n",
       "Bronx              791\n",
       "Brooklyn         18470\n",
       "Manhattan        20370\n",
       "Queens            4392\n",
       "Staten Island      294\n",
       "Name: host_id, dtype: int64"
      ]
     },
     "execution_count": 89,
     "metadata": {},
     "output_type": "execute_result"
    }
   ],
   "source": [
    "#Use host id since there are no missing - meaning we get every record when counting\n",
    "ls['host_id'].groupby(ls['neighbourhood_group']).count()"
   ]
  },
  {
   "cell_type": "code",
   "execution_count": 88,
   "metadata": {},
   "outputs": [
    {
     "data": {
      "image/png": "[encoded data removed]",
      "text/plain": [
       "<Figure size 432x432 with 1 Axes>"
      ]
     },
     "metadata": {
      "needs_background": "light"
     },
     "output_type": "display_data"
    }
   ],
   "source": [
    "#https://www.kaggle.com/darkrubiks/nyc-airbnb-exploratory-analysis\n",
    "#Amount of Airbnbs by borough\n",
    "plt.figure(figsize=(6,6))\n",
    "ax = sns.countplot(ls[\"neighbourhood_group\"], palette=\"plasma\" ) \n",
    "plt.title('Number of Airbnb\\'s by Borough',color = 'k',fontsize = 15)"
   ]
  },
  {
   "cell_type": "code",
   "execution_count": 122,
   "metadata": {},
   "outputs": [
    {
     "data": {
      "image/png": "[encoded data removed]",
      "text/plain": [
       "<Figure size 432x432 with 1 Axes>"
      ]
     },
     "metadata": {},
     "output_type": "display_data"
    }
   ],
   "source": [
    "labels = ls.neighbourhood_group.value_counts().index\n",
    "colors = ['lime','blue','teal','cyan','green']\n",
    "explode = [0,0,0,0,0]\n",
    "sizes = ls.neighbourhood_group.value_counts().values\n",
    "\n",
    "plt.figure(0,figsize = (6,6))\n",
    "plt.pie(sizes, explode=explode, labels=labels, colors=colors, autopct='%1.1f%%')\n",
    "plt.title('Airbnb According to Neighbourhood Group',color = 'k',fontsize = 15)\n",
    "plt.show()"
   ]
  },
  {
   "cell_type": "code",
   "execution_count": 6,
   "metadata": {},
   "outputs": [
    {
     "ename": "NameError",
     "evalue": "name 'cities' is not defined",
     "output_type": "error",
     "traceback": [
      "\u001b[0;31m---------------------------------------------------------------------------\u001b[0m",
      "\u001b[0;31mNameError\u001b[0m                                 Traceback (most recent call last)",
      "\u001b[0;32m<ipython-input-6-09a5e4b543ea>\u001b[0m in \u001b[0;36m<module>\u001b[0;34m\u001b[0m\n\u001b[1;32m      1\u001b[0m \u001b[0;31m# Extract the data we're interested in\u001b[0m\u001b[0;34m\u001b[0m\u001b[0;34m\u001b[0m\u001b[0;34m\u001b[0m\u001b[0m\n\u001b[0;32m----> 2\u001b[0;31m \u001b[0mlat\u001b[0m \u001b[0;34m=\u001b[0m \u001b[0mcities\u001b[0m\u001b[0;34m[\u001b[0m\u001b[0;34m'latd'\u001b[0m\u001b[0;34m]\u001b[0m\u001b[0;34m.\u001b[0m\u001b[0mvalues\u001b[0m\u001b[0;34m\u001b[0m\u001b[0;34m\u001b[0m\u001b[0m\n\u001b[0m\u001b[1;32m      3\u001b[0m \u001b[0mlon\u001b[0m \u001b[0;34m=\u001b[0m \u001b[0mcities\u001b[0m\u001b[0;34m[\u001b[0m\u001b[0;34m'longd'\u001b[0m\u001b[0;34m]\u001b[0m\u001b[0;34m.\u001b[0m\u001b[0mvalues\u001b[0m\u001b[0;34m\u001b[0m\u001b[0;34m\u001b[0m\u001b[0m\n\u001b[1;32m      4\u001b[0m \u001b[0mpopulation\u001b[0m \u001b[0;34m=\u001b[0m \u001b[0mcities\u001b[0m\u001b[0;34m[\u001b[0m\u001b[0;34m'population_total'\u001b[0m\u001b[0;34m]\u001b[0m\u001b[0;34m.\u001b[0m\u001b[0mvalues\u001b[0m\u001b[0;34m\u001b[0m\u001b[0;34m\u001b[0m\u001b[0m\n\u001b[1;32m      5\u001b[0m \u001b[0marea\u001b[0m \u001b[0;34m=\u001b[0m \u001b[0mcities\u001b[0m\u001b[0;34m[\u001b[0m\u001b[0;34m'area_total_km2'\u001b[0m\u001b[0;34m]\u001b[0m\u001b[0;34m.\u001b[0m\u001b[0mvalues\u001b[0m\u001b[0;34m\u001b[0m\u001b[0;34m\u001b[0m\u001b[0m\n",
      "\u001b[0;31mNameError\u001b[0m: name 'cities' is not defined"
     ]
    }
   ],
   "source": [
    "# Extract the data we're interested in\n",
    "lat = cities['latd'].values\n",
    "lon = cities['longd'].values\n",
    "population = cities['population_total'].values\n",
    "area = cities['area_total_km2'].values"
   ]
  },
  {
   "cell_type": "code",
   "execution_count": 28,
   "metadata": {
    "scrolled": true
   },
   "outputs": [
    {
     "data": {
      "text/plain": [
       "<cartopy.mpl.feature_artist.FeatureArtist at 0x7f72f9698e48>"
      ]
     },
     "execution_count": 28,
     "metadata": {},
     "output_type": "execute_result"
    },
    {
     "data": {
      "image/png": "[encoded data removed]",
      "text/plain": [
       "<Figure size 576x432 with 1 Axes>"
      ]
     },
     "metadata": {
      "needs_background": "light"
     },
     "output_type": "display_data"
    }
   ],
   "source": [
    "import cartopy.crs as ccrs\n",
    "import matplotlib.pyplot as plt\n",
    "from cartopy.feature import NaturalEarthFeature, LAND, COASTLINE, BORDERS\n",
    "from cartopy.mpl.gridliner import LONGITUDE_FORMATTER, LATITUDE_FORMATTER\n",
    "\n",
    "\n",
    "fig, ax = plt.subplots(figsize=(8, 6), subplot_kw=dict(projection=ccrs.PlateCarree()))\n",
    "# 1. Draw the map background\n",
    "# To decide the range of the lat. and long., you can make use of this website:\n",
    "# https://www.latlong.net/\n",
    "\n",
    "#  The four parameters for set_extent are (x0, x1, y0, y1)\n",
    "ax.set_extent([-74.505974, -73.505974,40.212776, 41.212776])\n",
    "\n",
    "# use underlay image to the map\n",
    "#ax.stock_img()\n",
    "    # Create a feature for States/Admin 1 regions at 1:50m from Natural Earth\n",
    "\n",
    "\n",
    "# display land and coastline\n",
    "ax.add_feature(LAND)\n",
    "ax.add_feature(COASTLINE)\n",
    "\n",
    "ax.add_feature(BORDERS)\n",
    "\n",
    "# add grid lines\n",
    "gl = ax.gridlines(draw_labels=True)\n",
    "\n",
    "# Do not show x labels on the top of the graph\n",
    "gl.xlabels_top = False\n",
    "# Do not show y labels on the right side of the graph\n",
    "gl.ylabels_right = False\n",
    "\n",
    "# Apply the lat and long formatter\n",
    "gl.xformatter = LONGITUDE_FORMATTER\n",
    "gl.yformatter = LATITUDE_FORMATTER\n",
    "\n",
    "states = NaturalEarthFeature(category='cultural', scale='50m', facecolor='none',\n",
    "                             name='admin_1_states_provinces_shp')\n",
    "ax.add_feature(states, edgecolor='gray')\n",
    "\n"
   ]
  },
  {
   "cell_type": "code",
   "execution_count": 31,
   "metadata": {},
   "outputs": [
    {
     "data": {
      "image/png": "[encoded data removed]",
      "text/plain": [
       "<Figure size 432x288 with 1 Axes>"
      ]
     },
     "metadata": {
      "needs_background": "light"
     },
     "output_type": "display_data"
    }
   ],
   "source": [
    "import matplotlib.pyplot as plt\n",
    "import cartopy.crs as ccrs\n",
    "import cartopy.feature as cfeature\n",
    "from matplotlib.offsetbox import AnchoredText\n",
    "\n",
    "\n",
    "def main():\n",
    "    fig = plt.figure()\n",
    "    ax = fig.add_subplot(1, 1, 1, projection=ccrs.PlateCarree())\n",
    "    ax.set_extent([-74.505974, -73.505974,40.212776, 41.212776], crs=ccrs.PlateCarree())\n",
    "\n",
    "    # Put a background image on for nice sea rendering.\n",
    "    ax.stock_img()\n",
    "\n",
    "    # Create a feature for States/Admin 1 regions at 1:50m from Natural Earth\n",
    "    states_provinces = cfeature.NaturalEarthFeature(\n",
    "        category='cultural',\n",
    "        name='admin_1_states_provinces_lines',\n",
    "        scale='50m',\n",
    "        facecolor='none')\n",
    "\n",
    "    SOURCE = 'Natural Earth'\n",
    "    LICENSE = 'public domain'\n",
    "\n",
    "    ax.add_feature(cfeature.LAND)\n",
    "    ax.add_feature(cfeature.COASTLINE)\n",
    "    ax.add_feature(states_provinces, edgecolor='gray')\n",
    "\n",
    "    # Add a text annotation for the license information to the\n",
    "    # the bottom right corner.\n",
    "    text = AnchoredText(r'$\\mathcircled{{c}}$ {}; license: {}'\n",
    "                        ''.format(SOURCE, LICENSE),\n",
    "                        loc=4, prop={'size': 12}, frameon=True)\n",
    "    ax.add_artist(text)\n",
    "\n",
    "    plt.show()\n",
    "\n",
    "\n",
    "if __name__ == '__main__':\n",
    "    main()"
   ]
  },
  {
   "cell_type": "markdown",
   "metadata": {},
   "source": [
    "Cartopy does not seem to have the resolution that we need. I think we need to use a different package to create the map we want. Trying geopandas below"
   ]
  },
  {
   "cell_type": "code",
   "execution_count": 108,
   "metadata": {},
   "outputs": [],
   "source": [
    "import geopandas"
   ]
  },
  {
   "cell_type": "code",
   "execution_count": 109,
   "metadata": {},
   "outputs": [
    {
     "data": {
      "image/png": "[encoded data removed]",
      "text/plain": [
       "<Figure size 720x720 with 1 Axes>"
      ]
     },
     "metadata": {
      "needs_background": "light"
     },
     "output_type": "display_data"
    }
   ],
   "source": [
    "df = geopandas.read_file(geopandas.datasets.get_path('nybb'))\n",
    "ax = df.plot(figsize=(10, 10), alpha=0.5, edgecolor='k')"
   ]
  },
  {
   "cell_type": "markdown",
   "metadata": {},
   "source": [
    "Need to figure out how to add basemap succesfully"
   ]
  },
  {
   "cell_type": "code",
   "execution_count": null,
   "metadata": {},
   "outputs": [],
   "source": [
    "import geopandas\n",
    "import contextily as ctx\n",
    "df = geopandas.read_file(geopandas.datasets.get_path('nybb'))\n",
    "ax = df.plot(figsize=(10, 10), alpha=0.5, edgecolor='k')\n",
    "df = df.to_crs(epsg=3857)\n",
    "\n",
    "def add_basemap(ax,zoom,url='http://nycmap360.com/website/var/tmp/image-thumbnails/0/979/thumb__map/nyc-borough-map.pjpeg'):\n",
    "    xmin, xmax, ymin, ymax = ax.axis()\n",
    "    basemap, extent = ctx.bounds2img(xmin, ymin, xmax, ymax,zoom=zoom, url=url)\n",
    "    ax.imshow(basemap, extent=extent, interpolation='bilinear')\n",
    "    # restore original x/y limits\n",
    "    ax.axis((xmin, xmax, ymin, ymax))"
   ]
  },
  {
   "cell_type": "code",
   "execution_count": 110,
   "metadata": {},
   "outputs": [],
   "source": [
    "df = df.to_crs(epsg=3857)"
   ]
  },
  {
   "cell_type": "code",
   "execution_count": 111,
   "metadata": {},
   "outputs": [],
   "source": [
    "import contextily as ctx"
   ]
  },
  {
   "cell_type": "code",
   "execution_count": 135,
   "metadata": {},
   "outputs": [],
   "source": [
    "def add_basemap(ax,zoom, url):\n",
    "    xmin, xmax, ymin, ymax = ax.axis()\n",
    "    basemap, extent = ctx.bounds2img(xmin, ymin, xmax, ymax,zoom=zoom, url=url)\n",
    "    ax.imshow(basemap, extent=extent, interpolation='bilinear')\n",
    "    # restore original x/y limits\n",
    "    ax.axis((xmin, xmax, ymin, ymax))"
   ]
  },
  {
   "cell_type": "markdown",
   "metadata": {},
   "source": [
    "https://blog.dominodatalab.com/creating-interactive-crime-maps-with-folium/"
   ]
  },
  {
   "cell_type": "code",
   "execution_count": null,
   "metadata": {},
   "outputs": [],
   "source": []
  },
  {
   "cell_type": "code",
   "execution_count": null,
   "metadata": {},
   "outputs": [],
   "source": []
  },
  {
   "cell_type": "markdown",
   "metadata": {},
   "source": [
    "Things to explore and fix later"
   ]
  },
  {
   "cell_type": "code",
   "execution_count": 86,
   "metadata": {},
   "outputs": [],
   "source": [
    "ld=listing_details[['guests_included','extra_people','minimum_nights','listing_url','house_rules','cancellation_policy','instant_bookable','amenities','price','weekly_price','monthly_price','room_type','neighbourhood','reviews_per_month','longitude','latitude']]"
   ]
  },
  {
   "cell_type": "code",
   "execution_count": 27,
   "metadata": {},
   "outputs": [],
   "source": [
    "import seaborn as sns\n",
    "import matplotlib.pyplot as plt\n",
    "sns.set(style=\"ticks\", color_codes=True)"
   ]
  },
  {
   "cell_type": "code",
   "execution_count": 42,
   "metadata": {},
   "outputs": [
    {
     "data": {
      "text/plain": [
       "<seaborn.axisgrid.FacetGrid at 0x7f9528e40f60>"
      ]
     },
     "execution_count": 42,
     "metadata": {},
     "output_type": "execute_result"
    },
    {
     "data": {
      "image/png": "[encoded data removed]",
      "text/plain": [
       "<Figure size 360x360 with 1 Axes>"
      ]
     },
     "metadata": {
      "needs_background": "light"
     },
     "output_type": "display_data"
    }
   ],
   "source": [
    "g=sns.catplot(x = \"neighbourhood\", y = \"price\", data=ls)\n",
    "g.set_xticklabels(rotation=30)\n",
    "#sns.set(rc={'figure.figsize':(40,20)})\n"
   ]
  },
  {
   "cell_type": "code",
   "execution_count": null,
   "metadata": {},
   "outputs": [],
   "source": [
    "# Old - may need in future\n",
    "reviews['badcomments']=reviews['comments']\n",
    "reviews.loc[reviews['goodcomments']==True, 'badcomments']=None"
   ]
  }
 ],
 "metadata": {
  "kernelspec": {
   "display_name": "Python 3",
   "language": "python",
   "name": "python3"
  },
  "language_info": {
   "codemirror_mode": {
    "name": "ipython",
    "version": 3
   },
   "file_extension": ".py",
   "mimetype": "text/x-python",
   "name": "python",
   "nbconvert_exporter": "python",
   "pygments_lexer": "ipython3",
   "version": "3.7.3"
  },
  "toc": {
   "base_numbering": 1,
   "nav_menu": {},
   "number_sections": true,
   "sideBar": true,
   "skip_h1_title": true,
   "title_cell": "Table of Contents",
   "title_sidebar": "Contents",
   "toc_cell": false,
   "toc_position": {},
   "toc_section_display": true,
   "toc_window_display": false
  }
 },
 "nbformat": 4,
 "nbformat_minor": 2
}
